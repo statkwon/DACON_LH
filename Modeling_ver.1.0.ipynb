{
 "cells": [
  {
   "cell_type": "markdown",
   "id": "70db0f2e",
   "metadata": {},
   "source": [
    "# Preprocessing"
   ]
  },
  {
   "cell_type": "code",
   "execution_count": 1,
   "id": "3b4f6d25",
   "metadata": {},
   "outputs": [],
   "source": [
    "import numpy as np\n",
    "import pandas as pd\n",
    "import matplotlib as mpl ; mpl.rcParams['axes.unicode_minus'] = False\n",
    "import matplotlib.pyplot as plt ; plt.rcParams['font.family'] = 'AppleGothic'\n",
    "import seaborn as sns"
   ]
  },
  {
   "cell_type": "markdown",
   "id": "0fdeef27",
   "metadata": {},
   "source": [
    "---"
   ]
  },
  {
   "cell_type": "code",
   "execution_count": 2,
   "id": "1fe4aff1",
   "metadata": {},
   "outputs": [
    {
     "name": "stdout",
     "output_type": "stream",
     "text": [
      "(2869, 15)\n"
     ]
    }
   ],
   "source": [
    "# Train Data 불러오기 및 오류 데이터 제거\n",
    "train = pd.read_csv('train.csv')\n",
    "train_error = ['C2085', 'C1397', 'C2431', 'C1649', 'C1036', 'C1095', 'C2051', 'C1218', 'C1894', 'C2483', 'C1502', 'C1988']\n",
    "train = train[~train['단지코드'].isin(train_error)].reset_index(drop=True)\n",
    "print(train.shape)"
   ]
  },
  {
   "cell_type": "code",
   "execution_count": 3,
   "id": "f5532740",
   "metadata": {},
   "outputs": [
    {
     "name": "stdout",
     "output_type": "stream",
     "text": [
      "(1008, 14)\n"
     ]
    }
   ],
   "source": [
    "# Test Data 불러오기 및 오류 데이터 제거\n",
    "test = pd.read_csv('test.csv')\n",
    "test_error = ['C2675', 'C2335', 'C1327']\n",
    "test = test[~test['단지코드'].isin(test_error)].reset_index(drop=True)\n",
    "print(test.shape)"
   ]
  },
  {
   "cell_type": "markdown",
   "id": "ad3e96e6",
   "metadata": {},
   "source": [
    "---"
   ]
  },
  {
   "cell_type": "code",
   "execution_count": 4,
   "id": "a05665a9",
   "metadata": {
    "scrolled": true
   },
   "outputs": [
    {
     "name": "stdout",
     "output_type": "stream",
     "text": [
      "[1]\n"
     ]
    }
   ],
   "source": [
    "print(train.loc[train['임대건물구분'] == '상가', '전용면적별세대수'].unique())"
   ]
  },
  {
   "cell_type": "markdown",
   "id": "94c59bcc",
   "metadata": {},
   "source": [
    "$\\Rightarrow$ 임대건물구분이 '상가'인 경우는 무조건 한 세대"
   ]
  },
  {
   "cell_type": "code",
   "execution_count": 5,
   "id": "edf109cb",
   "metadata": {},
   "outputs": [
    {
     "name": "stdout",
     "output_type": "stream",
     "text": [
      "(2307, 14)\n"
     ]
    }
   ],
   "source": [
    "# Train Data의 '임대건물구분 == 상가' 데이터 제거, '임대건물구분' 변수 제거\n",
    "train = train[train['임대건물구분'] != '상가'].reset_index(drop=True)\n",
    "train.drop(['임대건물구분'], axis=1, inplace=True)\n",
    "print(train.shape)"
   ]
  },
  {
   "cell_type": "code",
   "execution_count": 6,
   "id": "04d1524a",
   "metadata": {},
   "outputs": [
    {
     "name": "stdout",
     "output_type": "stream",
     "text": [
      "(831, 13)\n"
     ]
    }
   ],
   "source": [
    "# Test Data의 '임대건물구분 == 상가' 데이터 제거, '임대건물구분' 변수 제거\n",
    "test = test[test['임대건물구분'] != '상가'].reset_index(drop=True)\n",
    "test.drop(['임대건물구분'], axis=1, inplace=True)\n",
    "print(test.shape)"
   ]
  },
  {
   "cell_type": "markdown",
   "id": "04bb35e7",
   "metadata": {},
   "source": [
    "---"
   ]
  },
  {
   "cell_type": "code",
   "execution_count": 7,
   "id": "cc824e80",
   "metadata": {},
   "outputs": [
    {
     "name": "stdout",
     "output_type": "stream",
     "text": [
      "(2307, 15)\n"
     ]
    }
   ],
   "source": [
    "# Train Data의 '전용면적별세대수합' 변수 생성\n",
    "noh_by_area = train.groupby('단지코드', as_index=False).agg({'전용면적별세대수':'sum'}).rename(columns={'전용면적별세대수':'전용면적별세대수합'})\n",
    "train = pd.merge(left=train, right=noh_by_area, how='left', on='단지코드')\n",
    "print(train.shape)"
   ]
  },
  {
   "cell_type": "code",
   "execution_count": 8,
   "id": "f4dacbdc",
   "metadata": {},
   "outputs": [
    {
     "name": "stdout",
     "output_type": "stream",
     "text": [
      "(831, 14)\n"
     ]
    }
   ],
   "source": [
    "# Test Data의 '전용면적별세대수합' 변수 생성\n",
    "noh_by_area = test.groupby('단지코드', as_index=False).agg({'전용면적별세대수':'sum'}).rename(columns={'전용면적별세대수':'전용면적별세대수합'})\n",
    "test = pd.merge(left=test, right=noh_by_area, how='left', on='단지코드')\n",
    "print(test.shape)"
   ]
  },
  {
   "cell_type": "markdown",
   "id": "2834d481",
   "metadata": {},
   "source": [
    "---"
   ]
  },
  {
   "cell_type": "code",
   "execution_count": 9,
   "id": "a28a6523",
   "metadata": {},
   "outputs": [
    {
     "name": "stdout",
     "output_type": "stream",
     "text": [
      "{'서울특별시'}\n",
      "{'B', 'O', 'F'}\n",
      "{'공공분양', '장기전세', '공공임대(5년)'}\n"
     ]
    }
   ],
   "source": [
    "print(set(train['지역'].unique()) - set(test['지역'].unique()))\n",
    "print(set(train['자격유형'].unique()) - set(test['자격유형'].unique()))\n",
    "print(set(train['공급유형'].unique()) - set(test['공급유형'].unique()))"
   ]
  },
  {
   "cell_type": "code",
   "execution_count": 10,
   "id": "fb94ec7f",
   "metadata": {},
   "outputs": [
    {
     "name": "stdout",
     "output_type": "stream",
     "text": [
      "(2222, 15)\n"
     ]
    }
   ],
   "source": [
    "# Test Data에 없는 카테고리 Train Data에서 제거\n",
    "train = train[train['지역'] != '서울특별시'].reset_index(drop=True)\n",
    "train = train[~train['자격유형'].isin(['F', 'O', 'B'])].reset_index(drop=True)\n",
    "train = train[~train['공급유형'].isin(['공공임대(5년)', '공공분양', '장기전세'])].reset_index(drop=True)\n",
    "print(train.shape)"
   ]
  },
  {
   "cell_type": "markdown",
   "id": "5578239a",
   "metadata": {},
   "source": [
    "---"
   ]
  },
  {
   "cell_type": "code",
   "execution_count": 11,
   "id": "3d710028",
   "metadata": {},
   "outputs": [],
   "source": [
    "# Train Data의 '임대보증금', '임대료'의 '-'를 0으로 변환\n",
    "train['임대보증금'] = train['임대보증금'].replace('-', 0).astype('float64')\n",
    "train['임대료'] = train['임대료'].replace('-', 0).astype('float64')"
   ]
  },
  {
   "cell_type": "code",
   "execution_count": 12,
   "id": "18339e1d",
   "metadata": {},
   "outputs": [],
   "source": [
    "# Test Data의 '임대보증금', '임대료'의 '-'를 0으로 변환\n",
    "test['임대보증금'] = test['임대보증금'].replace('-', 0).astype('float64')\n",
    "test['임대료'] = test['임대료'].replace('-', 0).astype('float64')"
   ]
  },
  {
   "cell_type": "markdown",
   "id": "7a05bbe0",
   "metadata": {},
   "source": [
    "---"
   ]
  },
  {
   "cell_type": "code",
   "execution_count": 13,
   "id": "c0839947",
   "metadata": {},
   "outputs": [],
   "source": [
    "# Train Data의 '도보 10분거리 내 지하철역 수(환승노선 수 반영)' NA 0으로 대체\n",
    "train['도보 10분거리 내 지하철역 수(환승노선 수 반영)'] = train['도보 10분거리 내 지하철역 수(환승노선 수 반영)'].fillna(0)"
   ]
  },
  {
   "cell_type": "code",
   "execution_count": 14,
   "id": "aff2d095",
   "metadata": {},
   "outputs": [],
   "source": [
    "# Test Data의 '도보 10분거리 내 지하철역 수(환승노선 수 반영)' NA 0으로 대체\n",
    "test['도보 10분거리 내 지하철역 수(환승노선 수 반영)'] = test['도보 10분거리 내 지하철역 수(환승노선 수 반영)'].fillna(0)"
   ]
  },
  {
   "cell_type": "markdown",
   "id": "4fc4d5d7",
   "metadata": {},
   "source": [
    "---"
   ]
  },
  {
   "cell_type": "code",
   "execution_count": 15,
   "id": "92c36c9d",
   "metadata": {},
   "outputs": [],
   "source": [
    "# Test Data의 '단지코드' NA 특정값으로 대체\n",
    "test.loc[test['단지코드'] == 'C2411', '자격유형'] = 'A'\n",
    "test.loc[test['단지코드'] == 'C2253', '자격유형'] = 'D'"
   ]
  },
  {
   "cell_type": "markdown",
   "id": "ce87b5a9",
   "metadata": {},
   "source": [
    "---"
   ]
  },
  {
   "cell_type": "code",
   "execution_count": 16,
   "id": "a32b6891",
   "metadata": {},
   "outputs": [],
   "source": [
    "# Test Data의 '임대보증금', '임대료' NA 특정값으로 대체\n",
    "test.loc[test['임대보증금'].isnull(), '임대보증금'] = [5787000.0, 5787000.0, 11574000.0]\n",
    "test.loc[test['임대료'].isnull(), '임대료'] = [79980.0, 79980.0, 159960.0]"
   ]
  },
  {
   "cell_type": "markdown",
   "id": "3975ecf8",
   "metadata": {},
   "source": [
    "---"
   ]
  },
  {
   "cell_type": "code",
   "execution_count": 17,
   "id": "d8137724",
   "metadata": {},
   "outputs": [],
   "source": [
    "# Train Data의 '자격유형' 변수 재생성 (Major Voting)\n",
    "qual_type = train.groupby(['단지코드', '자격유형'], as_index=False).agg({'전용면적별세대수':'sum'}).sort_values('전용면적별세대수', ascending=False).drop_duplicates('단지코드').reset_index(drop=True).drop(['전용면적별세대수'], axis=1)\n",
    "train = pd.merge(train, qual_type, how='left', on='단지코드').drop('자격유형_x', axis=1).rename(columns={'자격유형_y':'자격유형'})"
   ]
  },
  {
   "cell_type": "code",
   "execution_count": 18,
   "id": "cccdec16",
   "metadata": {},
   "outputs": [],
   "source": [
    "# Train Data의 '공급유형' 변수 재생성 (Major Voting)\n",
    "supply_type = train.groupby(['단지코드', '공급유형'], as_index=False).agg({'전용면적별세대수':'sum'}).sort_values('전용면적별세대수', ascending=False).drop_duplicates('단지코드').reset_index(drop=True).drop(['전용면적별세대수'], axis=1)\n",
    "train = pd.merge(train, supply_type, how='left', on='단지코드').drop('공급유형_x', axis=1).rename(columns={'공급유형_y':'공급유형'})"
   ]
  },
  {
   "cell_type": "markdown",
   "id": "e2e26a95",
   "metadata": {},
   "source": [
    "---"
   ]
  },
  {
   "cell_type": "code",
   "execution_count": 19,
   "id": "5eef86d5",
   "metadata": {},
   "outputs": [],
   "source": [
    "# Test Data의 '자격유형' 변수 재생성 (Major Voting)\n",
    "qual_type = test.groupby(['단지코드', '자격유형'], as_index=False).agg({'전용면적별세대수':'sum'}).sort_values('전용면적별세대수', ascending=False).drop_duplicates('단지코드').reset_index(drop=True).drop(['전용면적별세대수'], axis=1)\n",
    "test = pd.merge(test, qual_type, how='left', on='단지코드').drop('자격유형_x', axis=1).rename(columns={'자격유형_y':'자격유형'})"
   ]
  },
  {
   "cell_type": "code",
   "execution_count": 20,
   "id": "346d5390",
   "metadata": {},
   "outputs": [],
   "source": [
    "# Test Data의 '공급유형' 변수 재생성 (Major Voting)\n",
    "supply_type = test.groupby(['단지코드', '공급유형'], as_index=False).agg({'전용면적별세대수':'sum'}).sort_values('전용면적별세대수', ascending=False).drop_duplicates('단지코드').reset_index(drop=True).drop(['전용면적별세대수'], axis=1)\n",
    "test = pd.merge(test, supply_type, how='left', on='단지코드').drop('공급유형_x', axis=1).rename(columns={'공급유형_y':'공급유형'})"
   ]
  },
  {
   "cell_type": "markdown",
   "id": "487334c0",
   "metadata": {},
   "source": [
    "---"
   ]
  },
  {
   "cell_type": "code",
   "execution_count": 21,
   "id": "472e4df8",
   "metadata": {},
   "outputs": [
    {
     "name": "stdout",
     "output_type": "stream",
     "text": [
      "(2222, 14)\n"
     ]
    }
   ],
   "source": [
    "# Train Data의 '실세대수'='총세대수'-'공가수' 변수 생성, '총세대수', '공가수' 변수 제거\n",
    "train['실세대수'] = train['총세대수'] - train['공가수']\n",
    "train.drop(['총세대수', '공가수'], axis=1, inplace=True)\n",
    "print(train.shape)"
   ]
  },
  {
   "cell_type": "code",
   "execution_count": 22,
   "id": "5ae97d82",
   "metadata": {},
   "outputs": [
    {
     "name": "stdout",
     "output_type": "stream",
     "text": [
      "(831, 13)\n"
     ]
    }
   ],
   "source": [
    "# Test Data의 '실세대수'='총세대수'-'공가수' 변수 생성, '총세대수', '공가수' 변수 제거\n",
    "test['실세대수'] = test['총세대수'] - test['공가수']\n",
    "test.drop(['총세대수', '공가수'], axis=1, inplace=True)\n",
    "print(test.shape)"
   ]
  },
  {
   "cell_type": "markdown",
   "id": "9bb34a92",
   "metadata": {},
   "source": [
    "---"
   ]
  },
  {
   "cell_type": "code",
   "execution_count": 23,
   "id": "3c529fe1",
   "metadata": {},
   "outputs": [],
   "source": [
    "# Train Data의 '임대료' 변수 재생성 (전용면적별세대수 가중 평균)\n",
    "train['임대료'] = round(train['임대료'] * train['전용면적별세대수'] / train['전용면적별세대수합'])\n",
    "rental_fee = train.groupby('단지코드', as_index=False).agg({'임대료':'sum'})\n",
    "train = pd.merge(train, rental_fee, how='left', on='단지코드').drop(['임대료_x'], axis=1).rename(columns={'임대료_y':'임대료'})"
   ]
  },
  {
   "cell_type": "code",
   "execution_count": 24,
   "id": "e2ef3be4",
   "metadata": {},
   "outputs": [],
   "source": [
    "# Test Data의 '임대료' 변수 재생성 (전용면적별세대수 가중 평균)\n",
    "test['임대료'] = round(test['임대료'] * test['전용면적별세대수'] / test['전용면적별세대수합'])\n",
    "rental_fee = test.groupby('단지코드', as_index=False).agg({'임대료':'sum'})\n",
    "test = pd.merge(test, rental_fee, how='left', on='단지코드').drop(['임대료_x'], axis=1).rename(columns={'임대료_y':'임대료'})"
   ]
  },
  {
   "cell_type": "markdown",
   "id": "181f6298",
   "metadata": {},
   "source": [
    "---"
   ]
  },
  {
   "cell_type": "code",
   "execution_count": 25,
   "id": "ea6ce674",
   "metadata": {},
   "outputs": [
    {
     "data": {
      "text/html": [
       "<div>\n",
       "<style scoped>\n",
       "    .dataframe tbody tr th:only-of-type {\n",
       "        vertical-align: middle;\n",
       "    }\n",
       "\n",
       "    .dataframe tbody tr th {\n",
       "        vertical-align: top;\n",
       "    }\n",
       "\n",
       "    .dataframe thead th {\n",
       "        text-align: right;\n",
       "    }\n",
       "</style>\n",
       "<table border=\"1\" class=\"dataframe\">\n",
       "  <thead>\n",
       "    <tr style=\"text-align: right;\">\n",
       "      <th></th>\n",
       "      <th>단지코드</th>\n",
       "      <th>지역</th>\n",
       "      <th>전용면적</th>\n",
       "      <th>전용면적별세대수</th>\n",
       "      <th>임대보증금</th>\n",
       "      <th>도보 10분거리 내 지하철역 수(환승노선 수 반영)</th>\n",
       "      <th>도보 10분거리 내 버스정류장 수</th>\n",
       "      <th>단지내주차면수</th>\n",
       "      <th>등록차량수</th>\n",
       "      <th>전용면적별세대수합</th>\n",
       "      <th>자격유형</th>\n",
       "      <th>공급유형</th>\n",
       "      <th>실세대수</th>\n",
       "      <th>임대료</th>\n",
       "    </tr>\n",
       "  </thead>\n",
       "  <tbody>\n",
       "    <tr>\n",
       "      <th>0</th>\n",
       "      <td>C2515</td>\n",
       "      <td>경상남도</td>\n",
       "      <td>33.48</td>\n",
       "      <td>276</td>\n",
       "      <td>9216000.0</td>\n",
       "      <td>0.0</td>\n",
       "      <td>3.0</td>\n",
       "      <td>624.0</td>\n",
       "      <td>205.0</td>\n",
       "      <td>545</td>\n",
       "      <td>A</td>\n",
       "      <td>국민임대</td>\n",
       "      <td>528.0</td>\n",
       "      <td>119432.0</td>\n",
       "    </tr>\n",
       "    <tr>\n",
       "      <th>1</th>\n",
       "      <td>C2515</td>\n",
       "      <td>경상남도</td>\n",
       "      <td>39.60</td>\n",
       "      <td>60</td>\n",
       "      <td>12672000.0</td>\n",
       "      <td>0.0</td>\n",
       "      <td>3.0</td>\n",
       "      <td>624.0</td>\n",
       "      <td>205.0</td>\n",
       "      <td>545</td>\n",
       "      <td>A</td>\n",
       "      <td>국민임대</td>\n",
       "      <td>528.0</td>\n",
       "      <td>119432.0</td>\n",
       "    </tr>\n",
       "    <tr>\n",
       "      <th>2</th>\n",
       "      <td>C2515</td>\n",
       "      <td>경상남도</td>\n",
       "      <td>39.60</td>\n",
       "      <td>20</td>\n",
       "      <td>12672000.0</td>\n",
       "      <td>0.0</td>\n",
       "      <td>3.0</td>\n",
       "      <td>624.0</td>\n",
       "      <td>205.0</td>\n",
       "      <td>545</td>\n",
       "      <td>A</td>\n",
       "      <td>국민임대</td>\n",
       "      <td>528.0</td>\n",
       "      <td>119432.0</td>\n",
       "    </tr>\n",
       "    <tr>\n",
       "      <th>3</th>\n",
       "      <td>C2515</td>\n",
       "      <td>경상남도</td>\n",
       "      <td>46.90</td>\n",
       "      <td>38</td>\n",
       "      <td>18433000.0</td>\n",
       "      <td>0.0</td>\n",
       "      <td>3.0</td>\n",
       "      <td>624.0</td>\n",
       "      <td>205.0</td>\n",
       "      <td>545</td>\n",
       "      <td>A</td>\n",
       "      <td>국민임대</td>\n",
       "      <td>528.0</td>\n",
       "      <td>119432.0</td>\n",
       "    </tr>\n",
       "    <tr>\n",
       "      <th>4</th>\n",
       "      <td>C2515</td>\n",
       "      <td>경상남도</td>\n",
       "      <td>46.90</td>\n",
       "      <td>19</td>\n",
       "      <td>18433000.0</td>\n",
       "      <td>0.0</td>\n",
       "      <td>3.0</td>\n",
       "      <td>624.0</td>\n",
       "      <td>205.0</td>\n",
       "      <td>545</td>\n",
       "      <td>A</td>\n",
       "      <td>국민임대</td>\n",
       "      <td>528.0</td>\n",
       "      <td>119432.0</td>\n",
       "    </tr>\n",
       "  </tbody>\n",
       "</table>\n",
       "</div>"
      ],
      "text/plain": [
       "    단지코드    지역   전용면적  전용면적별세대수       임대보증금  도보 10분거리 내 지하철역 수(환승노선 수 반영)  \\\n",
       "0  C2515  경상남도  33.48       276   9216000.0                           0.0   \n",
       "1  C2515  경상남도  39.60        60  12672000.0                           0.0   \n",
       "2  C2515  경상남도  39.60        20  12672000.0                           0.0   \n",
       "3  C2515  경상남도  46.90        38  18433000.0                           0.0   \n",
       "4  C2515  경상남도  46.90        19  18433000.0                           0.0   \n",
       "\n",
       "   도보 10분거리 내 버스정류장 수  단지내주차면수  등록차량수  전용면적별세대수합 자격유형  공급유형   실세대수       임대료  \n",
       "0                 3.0    624.0  205.0        545    A  국민임대  528.0  119432.0  \n",
       "1                 3.0    624.0  205.0        545    A  국민임대  528.0  119432.0  \n",
       "2                 3.0    624.0  205.0        545    A  국민임대  528.0  119432.0  \n",
       "3                 3.0    624.0  205.0        545    A  국민임대  528.0  119432.0  \n",
       "4                 3.0    624.0  205.0        545    A  국민임대  528.0  119432.0  "
      ]
     },
     "execution_count": 25,
     "metadata": {},
     "output_type": "execute_result"
    }
   ],
   "source": [
    "train.head()"
   ]
  },
  {
   "cell_type": "code",
   "execution_count": 26,
   "id": "4e40119f",
   "metadata": {},
   "outputs": [
    {
     "data": {
      "text/plain": [
       "단지코드                            0\n",
       "지역                              0\n",
       "전용면적                            0\n",
       "전용면적별세대수                        0\n",
       "임대보증금                           0\n",
       "도보 10분거리 내 지하철역 수(환승노선 수 반영)    0\n",
       "도보 10분거리 내 버스정류장 수              0\n",
       "단지내주차면수                         0\n",
       "등록차량수                           0\n",
       "전용면적별세대수합                       0\n",
       "자격유형                            0\n",
       "공급유형                            0\n",
       "실세대수                            0\n",
       "임대료                             0\n",
       "dtype: int64"
      ]
     },
     "execution_count": 26,
     "metadata": {},
     "output_type": "execute_result"
    }
   ],
   "source": [
    "train.isnull().sum()"
   ]
  },
  {
   "cell_type": "code",
   "execution_count": 27,
   "id": "db21e78a",
   "metadata": {},
   "outputs": [
    {
     "data": {
      "text/html": [
       "<div>\n",
       "<style scoped>\n",
       "    .dataframe tbody tr th:only-of-type {\n",
       "        vertical-align: middle;\n",
       "    }\n",
       "\n",
       "    .dataframe tbody tr th {\n",
       "        vertical-align: top;\n",
       "    }\n",
       "\n",
       "    .dataframe thead th {\n",
       "        text-align: right;\n",
       "    }\n",
       "</style>\n",
       "<table border=\"1\" class=\"dataframe\">\n",
       "  <thead>\n",
       "    <tr style=\"text-align: right;\">\n",
       "      <th></th>\n",
       "      <th>단지코드</th>\n",
       "      <th>지역</th>\n",
       "      <th>전용면적</th>\n",
       "      <th>전용면적별세대수</th>\n",
       "      <th>임대보증금</th>\n",
       "      <th>도보 10분거리 내 지하철역 수(환승노선 수 반영)</th>\n",
       "      <th>도보 10분거리 내 버스정류장 수</th>\n",
       "      <th>단지내주차면수</th>\n",
       "      <th>전용면적별세대수합</th>\n",
       "      <th>자격유형</th>\n",
       "      <th>공급유형</th>\n",
       "      <th>실세대수</th>\n",
       "      <th>임대료</th>\n",
       "    </tr>\n",
       "  </thead>\n",
       "  <tbody>\n",
       "    <tr>\n",
       "      <th>0</th>\n",
       "      <td>C1072</td>\n",
       "      <td>경기도</td>\n",
       "      <td>39.79</td>\n",
       "      <td>116</td>\n",
       "      <td>22830000.0</td>\n",
       "      <td>0.0</td>\n",
       "      <td>2.0</td>\n",
       "      <td>683.0</td>\n",
       "      <td>754</td>\n",
       "      <td>H</td>\n",
       "      <td>국민임대</td>\n",
       "      <td>740.0</td>\n",
       "      <td>264048.0</td>\n",
       "    </tr>\n",
       "    <tr>\n",
       "      <th>1</th>\n",
       "      <td>C1072</td>\n",
       "      <td>경기도</td>\n",
       "      <td>46.81</td>\n",
       "      <td>30</td>\n",
       "      <td>36048000.0</td>\n",
       "      <td>0.0</td>\n",
       "      <td>2.0</td>\n",
       "      <td>683.0</td>\n",
       "      <td>754</td>\n",
       "      <td>H</td>\n",
       "      <td>국민임대</td>\n",
       "      <td>740.0</td>\n",
       "      <td>264048.0</td>\n",
       "    </tr>\n",
       "    <tr>\n",
       "      <th>2</th>\n",
       "      <td>C1072</td>\n",
       "      <td>경기도</td>\n",
       "      <td>46.90</td>\n",
       "      <td>112</td>\n",
       "      <td>36048000.0</td>\n",
       "      <td>0.0</td>\n",
       "      <td>2.0</td>\n",
       "      <td>683.0</td>\n",
       "      <td>754</td>\n",
       "      <td>H</td>\n",
       "      <td>국민임대</td>\n",
       "      <td>740.0</td>\n",
       "      <td>264048.0</td>\n",
       "    </tr>\n",
       "    <tr>\n",
       "      <th>3</th>\n",
       "      <td>C1072</td>\n",
       "      <td>경기도</td>\n",
       "      <td>46.90</td>\n",
       "      <td>120</td>\n",
       "      <td>36048000.0</td>\n",
       "      <td>0.0</td>\n",
       "      <td>2.0</td>\n",
       "      <td>683.0</td>\n",
       "      <td>754</td>\n",
       "      <td>H</td>\n",
       "      <td>국민임대</td>\n",
       "      <td>740.0</td>\n",
       "      <td>264048.0</td>\n",
       "    </tr>\n",
       "    <tr>\n",
       "      <th>4</th>\n",
       "      <td>C1072</td>\n",
       "      <td>경기도</td>\n",
       "      <td>51.46</td>\n",
       "      <td>60</td>\n",
       "      <td>43497000.0</td>\n",
       "      <td>0.0</td>\n",
       "      <td>2.0</td>\n",
       "      <td>683.0</td>\n",
       "      <td>754</td>\n",
       "      <td>H</td>\n",
       "      <td>국민임대</td>\n",
       "      <td>740.0</td>\n",
       "      <td>264048.0</td>\n",
       "    </tr>\n",
       "  </tbody>\n",
       "</table>\n",
       "</div>"
      ],
      "text/plain": [
       "    단지코드   지역   전용면적  전용면적별세대수       임대보증금  도보 10분거리 내 지하철역 수(환승노선 수 반영)  \\\n",
       "0  C1072  경기도  39.79       116  22830000.0                           0.0   \n",
       "1  C1072  경기도  46.81        30  36048000.0                           0.0   \n",
       "2  C1072  경기도  46.90       112  36048000.0                           0.0   \n",
       "3  C1072  경기도  46.90       120  36048000.0                           0.0   \n",
       "4  C1072  경기도  51.46        60  43497000.0                           0.0   \n",
       "\n",
       "   도보 10분거리 내 버스정류장 수  단지내주차면수  전용면적별세대수합 자격유형  공급유형   실세대수       임대료  \n",
       "0                 2.0    683.0        754    H  국민임대  740.0  264048.0  \n",
       "1                 2.0    683.0        754    H  국민임대  740.0  264048.0  \n",
       "2                 2.0    683.0        754    H  국민임대  740.0  264048.0  \n",
       "3                 2.0    683.0        754    H  국민임대  740.0  264048.0  \n",
       "4                 2.0    683.0        754    H  국민임대  740.0  264048.0  "
      ]
     },
     "execution_count": 27,
     "metadata": {},
     "output_type": "execute_result"
    }
   ],
   "source": [
    "test.head()"
   ]
  },
  {
   "cell_type": "code",
   "execution_count": 28,
   "id": "dd363f11",
   "metadata": {},
   "outputs": [
    {
     "data": {
      "text/plain": [
       "단지코드                            0\n",
       "지역                              0\n",
       "전용면적                            0\n",
       "전용면적별세대수                        0\n",
       "임대보증금                           0\n",
       "도보 10분거리 내 지하철역 수(환승노선 수 반영)    0\n",
       "도보 10분거리 내 버스정류장 수              0\n",
       "단지내주차면수                         0\n",
       "전용면적별세대수합                       0\n",
       "자격유형                            0\n",
       "공급유형                            0\n",
       "실세대수                            0\n",
       "임대료                             0\n",
       "dtype: int64"
      ]
     },
     "execution_count": 28,
     "metadata": {},
     "output_type": "execute_result"
    }
   ],
   "source": [
    "test.isnull().sum()"
   ]
  },
  {
   "cell_type": "code",
   "execution_count": 29,
   "id": "940c08cc",
   "metadata": {
    "scrolled": false
   },
   "outputs": [
    {
     "name": "stdout",
     "output_type": "stream",
     "text": [
      "(2222, 14) (831, 13)\n"
     ]
    }
   ],
   "source": [
    "print(train.shape, test.shape)"
   ]
  },
  {
   "cell_type": "markdown",
   "id": "4bf4383c",
   "metadata": {},
   "source": [
    "---"
   ]
  },
  {
   "cell_type": "markdown",
   "id": "1a24503f",
   "metadata": {},
   "source": [
    "---"
   ]
  },
  {
   "cell_type": "markdown",
   "id": "36aa22ea",
   "metadata": {},
   "source": [
    "# Modeling"
   ]
  },
  {
   "cell_type": "code",
   "execution_count": 30,
   "id": "faf9139c",
   "metadata": {},
   "outputs": [],
   "source": [
    "tmp = train.drop(['전용면적', '전용면적별세대수', '임대보증금'], axis=1).drop_duplicates().reset_index(drop=True)"
   ]
  },
  {
   "cell_type": "code",
   "execution_count": 31,
   "id": "a64db32f",
   "metadata": {},
   "outputs": [
    {
     "data": {
      "text/html": [
       "<div>\n",
       "<style scoped>\n",
       "    .dataframe tbody tr th:only-of-type {\n",
       "        vertical-align: middle;\n",
       "    }\n",
       "\n",
       "    .dataframe tbody tr th {\n",
       "        vertical-align: top;\n",
       "    }\n",
       "\n",
       "    .dataframe thead th {\n",
       "        text-align: right;\n",
       "    }\n",
       "</style>\n",
       "<table border=\"1\" class=\"dataframe\">\n",
       "  <thead>\n",
       "    <tr style=\"text-align: right;\">\n",
       "      <th>자격유형</th>\n",
       "      <th>A</th>\n",
       "      <th>C</th>\n",
       "      <th>E</th>\n",
       "      <th>G</th>\n",
       "      <th>H</th>\n",
       "      <th>J</th>\n",
       "      <th>K</th>\n",
       "      <th>L</th>\n",
       "      <th>N</th>\n",
       "    </tr>\n",
       "    <tr>\n",
       "      <th>공급유형</th>\n",
       "      <th></th>\n",
       "      <th></th>\n",
       "      <th></th>\n",
       "      <th></th>\n",
       "      <th></th>\n",
       "      <th></th>\n",
       "      <th></th>\n",
       "      <th></th>\n",
       "      <th></th>\n",
       "    </tr>\n",
       "  </thead>\n",
       "  <tbody>\n",
       "    <tr>\n",
       "      <th>공공임대(10년)</th>\n",
       "      <td>31</td>\n",
       "      <td>0</td>\n",
       "      <td>0</td>\n",
       "      <td>0</td>\n",
       "      <td>0</td>\n",
       "      <td>0</td>\n",
       "      <td>0</td>\n",
       "      <td>0</td>\n",
       "      <td>0</td>\n",
       "    </tr>\n",
       "    <tr>\n",
       "      <th>공공임대(50년)</th>\n",
       "      <td>8</td>\n",
       "      <td>0</td>\n",
       "      <td>0</td>\n",
       "      <td>0</td>\n",
       "      <td>0</td>\n",
       "      <td>0</td>\n",
       "      <td>0</td>\n",
       "      <td>0</td>\n",
       "      <td>0</td>\n",
       "    </tr>\n",
       "    <tr>\n",
       "      <th>공공임대(분납)</th>\n",
       "      <td>1</td>\n",
       "      <td>0</td>\n",
       "      <td>0</td>\n",
       "      <td>0</td>\n",
       "      <td>0</td>\n",
       "      <td>0</td>\n",
       "      <td>0</td>\n",
       "      <td>0</td>\n",
       "      <td>0</td>\n",
       "    </tr>\n",
       "    <tr>\n",
       "      <th>국민임대</th>\n",
       "      <td>267</td>\n",
       "      <td>0</td>\n",
       "      <td>6</td>\n",
       "      <td>1</td>\n",
       "      <td>26</td>\n",
       "      <td>0</td>\n",
       "      <td>0</td>\n",
       "      <td>0</td>\n",
       "      <td>0</td>\n",
       "    </tr>\n",
       "    <tr>\n",
       "      <th>영구임대</th>\n",
       "      <td>0</td>\n",
       "      <td>33</td>\n",
       "      <td>0</td>\n",
       "      <td>0</td>\n",
       "      <td>0</td>\n",
       "      <td>0</td>\n",
       "      <td>0</td>\n",
       "      <td>0</td>\n",
       "      <td>0</td>\n",
       "    </tr>\n",
       "    <tr>\n",
       "      <th>행복주택</th>\n",
       "      <td>0</td>\n",
       "      <td>0</td>\n",
       "      <td>0</td>\n",
       "      <td>0</td>\n",
       "      <td>0</td>\n",
       "      <td>15</td>\n",
       "      <td>5</td>\n",
       "      <td>5</td>\n",
       "      <td>3</td>\n",
       "    </tr>\n",
       "  </tbody>\n",
       "</table>\n",
       "</div>"
      ],
      "text/plain": [
       "자격유형         A   C  E  G   H   J  K  L  N\n",
       "공급유형                                     \n",
       "공공임대(10년)   31   0  0  0   0   0  0  0  0\n",
       "공공임대(50년)    8   0  0  0   0   0  0  0  0\n",
       "공공임대(분납)     1   0  0  0   0   0  0  0  0\n",
       "국민임대       267   0  6  1  26   0  0  0  0\n",
       "영구임대         0  33  0  0   0   0  0  0  0\n",
       "행복주택         0   0  0  0   0  15  5  5  3"
      ]
     },
     "execution_count": 31,
     "metadata": {},
     "output_type": "execute_result"
    }
   ],
   "source": [
    "pd.crosstab(tmp['공급유형'], tmp['자격유형'])"
   ]
  },
  {
   "cell_type": "code",
   "execution_count": 32,
   "id": "52bfaa17",
   "metadata": {},
   "outputs": [],
   "source": [
    "tmp['등록차량수/실세대수'] = tmp['등록차량수'] / tmp['실세대수']"
   ]
  },
  {
   "cell_type": "code",
   "execution_count": 33,
   "id": "c3f9d7b6",
   "metadata": {},
   "outputs": [],
   "source": [
    "tmp['유형'] = tmp['공급유형'] + tmp['자격유형']\n",
    "tmp.drop(['공급유형', '자격유형'], axis=1, inplace=True)"
   ]
  },
  {
   "cell_type": "code",
   "execution_count": 34,
   "id": "d3576a98",
   "metadata": {},
   "outputs": [
    {
     "data": {
      "image/png": "[encoded data removed]",
      "text/plain": [
       "<Figure size 432x288 with 1 Axes>"
      ]
     },
     "metadata": {
      "needs_background": "light"
     },
     "output_type": "display_data"
    }
   ],
   "source": [
    "fig, ax = plt.subplots()\n",
    "sns.boxplot(x='등록차량수/실세대수', y='유형', data=tmp, orient='h')\n",
    "plt.show()"
   ]
  },
  {
   "cell_type": "code",
   "execution_count": 35,
   "id": "9e4cd6c1",
   "metadata": {},
   "outputs": [],
   "source": [
    "tmp['오차'] = tmp['등록차량수'] - tmp['단지내주차면수']\n",
    "tmp['오차_절댓값'] = abs(tmp['오차'])\n",
    "tmp['오차_부호'] = np.sign(tmp['오차'])"
   ]
  },
  {
   "cell_type": "code",
   "execution_count": 36,
   "id": "77a9eca8",
   "metadata": {},
   "outputs": [
    {
     "data": {
      "image/png": "[encoded data removed]",
      "text/plain": [
       "<Figure size 432x288 with 1 Axes>"
      ]
     },
     "metadata": {
      "needs_background": "light"
     },
     "output_type": "display_data"
    }
   ],
   "source": [
    "fig, ax = plt.subplots()\n",
    "ax.scatter(x='실세대수', y='오차', data=tmp)\n",
    "plt.show()"
   ]
  },
  {
   "cell_type": "code",
   "execution_count": 37,
   "id": "ca2b9ed6",
   "metadata": {},
   "outputs": [
    {
     "data": {
      "image/png": "[encoded data removed]",
      "text/plain": [
       "<Figure size 432x288 with 1 Axes>"
      ]
     },
     "metadata": {
      "needs_background": "light"
     },
     "output_type": "display_data"
    }
   ],
   "source": [
    "fig, ax = plt.subplots()\n",
    "ax.scatter(x='실세대수', y='오차_절댓값', data=tmp)\n",
    "plt.show()"
   ]
  },
  {
   "cell_type": "markdown",
   "id": "3933224f",
   "metadata": {},
   "source": [
    "$\\Rightarrow$ 오차의 방향을 맞추면서 동시에 크기를 줄여야함"
   ]
  },
  {
   "cell_type": "markdown",
   "id": "846501d6",
   "metadata": {},
   "source": [
    "---"
   ]
  },
  {
   "cell_type": "code",
   "execution_count": 38,
   "id": "19a01dc6",
   "metadata": {},
   "outputs": [],
   "source": [
    "tmp1 = tmp[tmp['유형'] != '영구임대C']\n",
    "tmp2 = tmp[tmp['유형'] == '영구임대C']"
   ]
  },
  {
   "cell_type": "code",
   "execution_count": 39,
   "id": "6fe0c3a9",
   "metadata": {},
   "outputs": [],
   "source": [
    "tmp1 = pd.get_dummies(tmp1, columns=['지역', '유형'], drop_first=True)"
   ]
  },
  {
   "cell_type": "code",
   "execution_count": 40,
   "id": "3c0a63a2",
   "metadata": {},
   "outputs": [],
   "source": [
    "tmp1['유형_영구임대D'] = 0"
   ]
  },
  {
   "cell_type": "code",
   "execution_count": 41,
   "id": "922dd760",
   "metadata": {},
   "outputs": [],
   "source": [
    "tmp2 = pd.get_dummies(tmp2, columns=['지역'], drop_first=True)"
   ]
  },
  {
   "cell_type": "markdown",
   "id": "5ecad8a9",
   "metadata": {},
   "source": [
    "## 부호 맞추기"
   ]
  },
  {
   "cell_type": "code",
   "execution_count": 42,
   "id": "b6d4cb44",
   "metadata": {},
   "outputs": [],
   "source": [
    "X = tmp1.drop(['단지코드', '단지내주차면수', '등록차량수', '전용면적별세대수합', '등록차량수/실세대수', '오차', '오차_절댓값', '오차_부호'], axis=1)\n",
    "y = tmp1['오차_부호']"
   ]
  },
  {
   "cell_type": "code",
   "execution_count": 43,
   "id": "e7fbdc0d",
   "metadata": {},
   "outputs": [],
   "source": [
    "from sklearn.model_selection import train_test_split"
   ]
  },
  {
   "cell_type": "code",
   "execution_count": 44,
   "id": "8d74ad68",
   "metadata": {},
   "outputs": [],
   "source": [
    "X_train, X_test, y_train, y_test = train_test_split(X, y, test_size=0.3, random_state=0)"
   ]
  },
  {
   "cell_type": "code",
   "execution_count": 45,
   "id": "568c7464",
   "metadata": {},
   "outputs": [],
   "source": [
    "from sklearn.ensemble import RandomForestClassifier"
   ]
  },
  {
   "cell_type": "code",
   "execution_count": 46,
   "id": "a6242a32",
   "metadata": {},
   "outputs": [],
   "source": [
    "rf1 = RandomForestClassifier(random_state=0)"
   ]
  },
  {
   "cell_type": "code",
   "execution_count": 47,
   "id": "94c0bc74",
   "metadata": {},
   "outputs": [
    {
     "data": {
      "text/plain": [
       "RandomForestClassifier(random_state=0)"
      ]
     },
     "execution_count": 47,
     "metadata": {},
     "output_type": "execute_result"
    }
   ],
   "source": [
    "rf1.fit(X_train, y_train)"
   ]
  },
  {
   "cell_type": "code",
   "execution_count": 48,
   "id": "9f230f86",
   "metadata": {},
   "outputs": [
    {
     "data": {
      "text/plain": [
       "0.5855855855855856"
      ]
     },
     "execution_count": 48,
     "metadata": {},
     "output_type": "execute_result"
    }
   ],
   "source": [
    "rf1.score(X_test, y_test)"
   ]
  },
  {
   "cell_type": "code",
   "execution_count": 49,
   "id": "faedf6b1",
   "metadata": {},
   "outputs": [],
   "source": [
    "X = tmp2.drop(['단지코드', '단지내주차면수', '등록차량수', '전용면적별세대수합', '오차', '오차_절댓값', '오차_부호', '유형'], axis=1)\n",
    "y = tmp2['오차_부호']"
   ]
  },
  {
   "cell_type": "code",
   "execution_count": 50,
   "id": "0da5289d",
   "metadata": {},
   "outputs": [],
   "source": [
    "X_train, X_test, y_train, y_test = train_test_split(X, y, test_size=0.3, random_state=0)"
   ]
  },
  {
   "cell_type": "code",
   "execution_count": 51,
   "id": "3d90addb",
   "metadata": {},
   "outputs": [],
   "source": [
    "rf2 = RandomForestClassifier(random_state=0)"
   ]
  },
  {
   "cell_type": "code",
   "execution_count": 52,
   "id": "28205d54",
   "metadata": {},
   "outputs": [
    {
     "data": {
      "text/plain": [
       "RandomForestClassifier(random_state=0)"
      ]
     },
     "execution_count": 52,
     "metadata": {},
     "output_type": "execute_result"
    }
   ],
   "source": [
    "rf2.fit(X_train, y_train)"
   ]
  },
  {
   "cell_type": "code",
   "execution_count": 53,
   "id": "a596659d",
   "metadata": {},
   "outputs": [
    {
     "data": {
      "text/plain": [
       "0.9"
      ]
     },
     "execution_count": 53,
     "metadata": {},
     "output_type": "execute_result"
    }
   ],
   "source": [
    "rf2.score(X_test, y_test)"
   ]
  },
  {
   "cell_type": "markdown",
   "id": "088f65fd",
   "metadata": {},
   "source": [
    "## 오차 절댓값 맞추기"
   ]
  },
  {
   "cell_type": "code",
   "execution_count": 54,
   "id": "0d875653",
   "metadata": {},
   "outputs": [],
   "source": [
    "X = tmp1.drop(['단지코드', '단지내주차면수', '등록차량수', '전용면적별세대수합', '등록차량수/실세대수', '오차', '오차_절댓값', '오차_부호'], axis=1)\n",
    "y = tmp1['오차_절댓값']"
   ]
  },
  {
   "cell_type": "code",
   "execution_count": 55,
   "id": "1bebe03e",
   "metadata": {},
   "outputs": [],
   "source": [
    "X_train, X_test, y_train, y_test = train_test_split(X, y, test_size=0.3, random_state=0)"
   ]
  },
  {
   "cell_type": "code",
   "execution_count": 56,
   "id": "595596a6",
   "metadata": {},
   "outputs": [],
   "source": [
    "from sklearn.ensemble import RandomForestRegressor"
   ]
  },
  {
   "cell_type": "code",
   "execution_count": 57,
   "id": "1744b769",
   "metadata": {},
   "outputs": [],
   "source": [
    "rf3 = RandomForestRegressor(random_state=0)"
   ]
  },
  {
   "cell_type": "code",
   "execution_count": 58,
   "id": "6c445700",
   "metadata": {},
   "outputs": [
    {
     "data": {
      "text/plain": [
       "RandomForestRegressor(random_state=0)"
      ]
     },
     "execution_count": 58,
     "metadata": {},
     "output_type": "execute_result"
    }
   ],
   "source": [
    "rf3.fit(X_train, y_train)"
   ]
  },
  {
   "cell_type": "code",
   "execution_count": 59,
   "id": "b8742ff8",
   "metadata": {},
   "outputs": [],
   "source": [
    "from sklearn.metrics import mean_absolute_error as mae"
   ]
  },
  {
   "cell_type": "code",
   "execution_count": 60,
   "id": "9066ca93",
   "metadata": {
    "scrolled": true
   },
   "outputs": [
    {
     "data": {
      "text/plain": [
       "89.32837837837839"
      ]
     },
     "execution_count": 60,
     "metadata": {},
     "output_type": "execute_result"
    }
   ],
   "source": [
    "mae(y_test, rf3.predict(X_test))"
   ]
  },
  {
   "cell_type": "markdown",
   "id": "18aa03e6",
   "metadata": {},
   "source": [
    "---"
   ]
  },
  {
   "cell_type": "code",
   "execution_count": 61,
   "id": "d89fd5a5",
   "metadata": {},
   "outputs": [],
   "source": [
    "X = tmp2.drop(['단지코드', '단지내주차면수', '등록차량수', '전용면적별세대수합', '오차', '오차_절댓값', '오차_부호', '유형'], axis=1)\n",
    "y = tmp2['오차_절댓값']"
   ]
  },
  {
   "cell_type": "code",
   "execution_count": 62,
   "id": "d1f0582b",
   "metadata": {},
   "outputs": [],
   "source": [
    "X_train, X_test, y_train, y_test = train_test_split(X, y, test_size=0.3, random_state=0)"
   ]
  },
  {
   "cell_type": "code",
   "execution_count": 63,
   "id": "d893f6ab",
   "metadata": {},
   "outputs": [],
   "source": [
    "rf4 = RandomForestRegressor(random_state=0)"
   ]
  },
  {
   "cell_type": "code",
   "execution_count": 64,
   "id": "c84655ae",
   "metadata": {},
   "outputs": [
    {
     "data": {
      "text/plain": [
       "RandomForestRegressor(random_state=0)"
      ]
     },
     "execution_count": 64,
     "metadata": {},
     "output_type": "execute_result"
    }
   ],
   "source": [
    "rf4.fit(X_train, y_train)"
   ]
  },
  {
   "cell_type": "code",
   "execution_count": 65,
   "id": "e84dc5c7",
   "metadata": {
    "scrolled": true
   },
   "outputs": [
    {
     "data": {
      "text/plain": [
       "44.242000000000004"
      ]
     },
     "execution_count": 65,
     "metadata": {},
     "output_type": "execute_result"
    }
   ],
   "source": [
    "mae(y_test, rf4.predict(X_test))"
   ]
  },
  {
   "cell_type": "markdown",
   "id": "ec74a9d9",
   "metadata": {},
   "source": [
    "---"
   ]
  },
  {
   "cell_type": "markdown",
   "id": "d12258b0",
   "metadata": {},
   "source": [
    "# Test Data에 적용"
   ]
  },
  {
   "cell_type": "code",
   "execution_count": 66,
   "id": "0cc6fdcd",
   "metadata": {},
   "outputs": [],
   "source": [
    "tmp_test = test.drop(['전용면적', '전용면적별세대수', '임대보증금'], axis=1).drop_duplicates().reset_index(drop=True)"
   ]
  },
  {
   "cell_type": "code",
   "execution_count": 67,
   "id": "9c486bbd",
   "metadata": {},
   "outputs": [],
   "source": [
    "tmp_test['유형'] = tmp_test['공급유형'] + tmp_test['자격유형']\n",
    "tmp_test.drop(['공급유형', '자격유형'], axis=1, inplace=True)"
   ]
  },
  {
   "cell_type": "code",
   "execution_count": 68,
   "id": "68a29eb2",
   "metadata": {},
   "outputs": [
    {
     "data": {
      "text/plain": [
       "array(['국민임대H', '국민임대A', '국민임대E', '영구임대C', '공공임대(50년)A', '영구임대D', '국민임대G',\n",
       "       '공공임대(분납)A', '공공임대(10년)A', '행복주택J', '행복주택K', '행복주택N', '행복주택L'],\n",
       "      dtype=object)"
      ]
     },
     "execution_count": 68,
     "metadata": {},
     "output_type": "execute_result"
    }
   ],
   "source": [
    "tmp_test['유형'].unique()"
   ]
  },
  {
   "cell_type": "code",
   "execution_count": 69,
   "id": "7191c31a",
   "metadata": {},
   "outputs": [],
   "source": [
    "tmp_test1 = tmp_test[tmp_test['유형'] != '영구임대C']\n",
    "tmp_test2 = tmp_test[tmp_test['유형'] == '영구임대C']"
   ]
  },
  {
   "cell_type": "code",
   "execution_count": 70,
   "id": "b973ee0f",
   "metadata": {},
   "outputs": [],
   "source": [
    "tmp_test1 = pd.get_dummies(tmp_test1, columns=['지역', '유형'], drop_first=True)"
   ]
  },
  {
   "cell_type": "code",
   "execution_count": 71,
   "id": "f3eac105",
   "metadata": {},
   "outputs": [],
   "source": [
    "tmp_test2 = pd.get_dummies(tmp_test2, columns=['지역'], drop_first=True)"
   ]
  },
  {
   "cell_type": "code",
   "execution_count": 72,
   "id": "abc783e6",
   "metadata": {},
   "outputs": [],
   "source": [
    "tmp_test2['지역_경상남도'] = 0\n",
    "tmp_test2['지역_제주특별자치도'] = 0\n",
    "tmp_test2['지역_충청북도'] = 0"
   ]
  },
  {
   "cell_type": "code",
   "execution_count": 73,
   "id": "2cad9d24",
   "metadata": {},
   "outputs": [],
   "source": [
    "X1 = tmp_test1.drop(['단지코드', '전용면적별세대수합', '단지내주차면수'], axis=1)"
   ]
  },
  {
   "cell_type": "code",
   "execution_count": 74,
   "id": "6c34dbc1",
   "metadata": {},
   "outputs": [],
   "source": [
    "sign1 = rf1.predict(X1)"
   ]
  },
  {
   "cell_type": "code",
   "execution_count": 75,
   "id": "c8ebb384",
   "metadata": {},
   "outputs": [],
   "source": [
    "abs1 = rf3.predict(X1)"
   ]
  },
  {
   "cell_type": "code",
   "execution_count": 76,
   "id": "237f723d",
   "metadata": {},
   "outputs": [],
   "source": [
    "y_pred1 = sign1*abs1"
   ]
  },
  {
   "cell_type": "code",
   "execution_count": 77,
   "id": "4c9cf090",
   "metadata": {},
   "outputs": [],
   "source": [
    "X2 = tmp_test2.drop(['단지코드', '전용면적별세대수합', '단지내주차면수', '유형'], axis=1)"
   ]
  },
  {
   "cell_type": "code",
   "execution_count": 78,
   "id": "b0981409",
   "metadata": {},
   "outputs": [],
   "source": [
    "sign2 = rf2.predict(X2)"
   ]
  },
  {
   "cell_type": "code",
   "execution_count": 79,
   "id": "a88f4008",
   "metadata": {},
   "outputs": [],
   "source": [
    "abs2 = rf4.predict(X2)"
   ]
  },
  {
   "cell_type": "code",
   "execution_count": 80,
   "id": "6c028ed8",
   "metadata": {},
   "outputs": [],
   "source": [
    "y_pred2 = sign2*abs2"
   ]
  },
  {
   "cell_type": "code",
   "execution_count": 81,
   "id": "546e493b",
   "metadata": {},
   "outputs": [],
   "source": [
    "tmp_test1['등록차량수'] = tmp_test1['단지내주차면수'] + y_pred1\n",
    "tmp_test2['등록차량수'] = tmp_test2['단지내주차면수'] + y_pred2"
   ]
  },
  {
   "cell_type": "code",
   "execution_count": 82,
   "id": "7c9a7fd2",
   "metadata": {},
   "outputs": [],
   "source": [
    "submission = pd.concat([tmp_test1[['단지코드', '등록차량수']], tmp_test2[['단지코드', '등록차량수']]]).rename(columns={'단지코드':'code', '등록차량수':'num'})"
   ]
  },
  {
   "cell_type": "code",
   "execution_count": 83,
   "id": "c9ed1abb",
   "metadata": {},
   "outputs": [],
   "source": [
    "error = pd.DataFrame(np.array([['C2675', 0], ['C2335', 0], ['C1327', 0]]), columns=['code', 'num'])"
   ]
  },
  {
   "cell_type": "code",
   "execution_count": 84,
   "id": "61763de6",
   "metadata": {},
   "outputs": [],
   "source": [
    "submission = pd.concat([submission, error]).reset_index(drop=True)"
   ]
  },
  {
   "cell_type": "code",
   "execution_count": 85,
   "id": "9cd108e8",
   "metadata": {},
   "outputs": [],
   "source": [
    "submission.to_csv('submission.csv', index=False)"
   ]
  }
 ],
 "metadata": {
  "kernelspec": {
   "display_name": "Python 3",
   "language": "python",
   "name": "python3"
  },
  "language_info": {
   "codemirror_mode": {
    "name": "ipython",
    "version": 3
   },
   "file_extension": ".py",
   "mimetype": "text/x-python",
   "name": "python",
   "nbconvert_exporter": "python",
   "pygments_lexer": "ipython3",
   "version": "3.9.5"
  }
 },
 "nbformat": 4,
 "nbformat_minor": 5
}
