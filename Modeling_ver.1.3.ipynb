{
 "cells": [
  {
   "cell_type": "markdown",
   "id": "70db0f2e",
   "metadata": {},
   "source": [
    "# Preprocessing"
   ]
  },
  {
   "cell_type": "code",
   "execution_count": 1,
   "id": "3b4f6d25",
   "metadata": {},
   "outputs": [],
   "source": [
    "import numpy as np\n",
    "import pandas as pd\n",
    "import matplotlib as mpl ; mpl.rcParams['axes.unicode_minus'] = False\n",
    "import matplotlib.pyplot as plt ; plt.rcParams['font.family'] = 'AppleGothic'\n",
    "import seaborn as sns"
   ]
  },
  {
   "cell_type": "markdown",
   "id": "0fdeef27",
   "metadata": {},
   "source": [
    "---"
   ]
  },
  {
   "cell_type": "code",
   "execution_count": 2,
   "id": "1fe4aff1",
   "metadata": {},
   "outputs": [
    {
     "name": "stdout",
     "output_type": "stream",
     "text": [
      "(2869, 15)\n"
     ]
    }
   ],
   "source": [
    "# Train Data 불러오기 및 오류 데이터 제거\n",
    "train = pd.read_csv('train.csv')\n",
    "train_error = ['C2085', 'C1397', 'C2431', 'C1649', 'C1036', 'C1095', 'C2051', 'C1218', 'C1894', 'C2483', 'C1502', 'C1988']\n",
    "train = train[~train['단지코드'].isin(train_error)].reset_index(drop=True)\n",
    "print(train.shape)"
   ]
  },
  {
   "cell_type": "code",
   "execution_count": 3,
   "id": "f5532740",
   "metadata": {},
   "outputs": [
    {
     "name": "stdout",
     "output_type": "stream",
     "text": [
      "(1008, 14)\n"
     ]
    }
   ],
   "source": [
    "# Test Data 불러오기 및 오류 데이터 제거\n",
    "test = pd.read_csv('test.csv')\n",
    "test_error = ['C2675', 'C2335', 'C1327']\n",
    "test = test[~test['단지코드'].isin(test_error)].reset_index(drop=True)\n",
    "print(test.shape)"
   ]
  },
  {
   "cell_type": "markdown",
   "id": "ad3e96e6",
   "metadata": {},
   "source": [
    "---"
   ]
  },
  {
   "cell_type": "code",
   "execution_count": 4,
   "id": "a05665a9",
   "metadata": {
    "scrolled": true
   },
   "outputs": [
    {
     "name": "stdout",
     "output_type": "stream",
     "text": [
      "[1]\n"
     ]
    }
   ],
   "source": [
    "print(train.loc[train['임대건물구분'] == '상가', '전용면적별세대수'].unique())"
   ]
  },
  {
   "cell_type": "markdown",
   "id": "94c59bcc",
   "metadata": {},
   "source": [
    "$\\Rightarrow$ 임대건물구분이 '상가'인 경우는 무조건 한 세대"
   ]
  },
  {
   "cell_type": "code",
   "execution_count": 5,
   "id": "edf109cb",
   "metadata": {},
   "outputs": [
    {
     "name": "stdout",
     "output_type": "stream",
     "text": [
      "(2307, 14)\n"
     ]
    }
   ],
   "source": [
    "# Train Data의 '임대건물구분 == 상가' 데이터 제거, '임대건물구분' 변수 제거\n",
    "train = train[train['임대건물구분'] != '상가'].reset_index(drop=True)\n",
    "train.drop(['임대건물구분'], axis=1, inplace=True)\n",
    "print(train.shape)"
   ]
  },
  {
   "cell_type": "code",
   "execution_count": 6,
   "id": "04d1524a",
   "metadata": {},
   "outputs": [
    {
     "name": "stdout",
     "output_type": "stream",
     "text": [
      "(831, 13)\n"
     ]
    }
   ],
   "source": [
    "# Test Data의 '임대건물구분 == 상가' 데이터 제거, '임대건물구분' 변수 제거\n",
    "test = test[test['임대건물구분'] != '상가'].reset_index(drop=True)\n",
    "test.drop(['임대건물구분'], axis=1, inplace=True)\n",
    "print(test.shape)"
   ]
  },
  {
   "cell_type": "markdown",
   "id": "04bb35e7",
   "metadata": {},
   "source": [
    "---"
   ]
  },
  {
   "cell_type": "code",
   "execution_count": 7,
   "id": "cc824e80",
   "metadata": {},
   "outputs": [
    {
     "name": "stdout",
     "output_type": "stream",
     "text": [
      "(2307, 15)\n"
     ]
    }
   ],
   "source": [
    "# Train Data의 '전용면적별세대수합' 변수 생성\n",
    "noh_by_area = train.groupby('단지코드', as_index=False).agg({'전용면적별세대수':'sum'}).rename(columns={'전용면적별세대수':'전용면적별세대수합'})\n",
    "train = pd.merge(left=train, right=noh_by_area, how='left', on='단지코드')\n",
    "print(train.shape)"
   ]
  },
  {
   "cell_type": "code",
   "execution_count": 8,
   "id": "f4dacbdc",
   "metadata": {},
   "outputs": [
    {
     "name": "stdout",
     "output_type": "stream",
     "text": [
      "(831, 14)\n"
     ]
    }
   ],
   "source": [
    "# Test Data의 '전용면적별세대수합' 변수 생성\n",
    "noh_by_area = test.groupby('단지코드', as_index=False).agg({'전용면적별세대수':'sum'}).rename(columns={'전용면적별세대수':'전용면적별세대수합'})\n",
    "test = pd.merge(left=test, right=noh_by_area, how='left', on='단지코드')\n",
    "print(test.shape)"
   ]
  },
  {
   "cell_type": "markdown",
   "id": "2834d481",
   "metadata": {},
   "source": [
    "---"
   ]
  },
  {
   "cell_type": "code",
   "execution_count": 9,
   "id": "a28a6523",
   "metadata": {},
   "outputs": [
    {
     "name": "stdout",
     "output_type": "stream",
     "text": [
      "{'서울특별시'}\n",
      "{'O', 'B', 'F'}\n",
      "{'공공분양', '장기전세', '공공임대(5년)'}\n"
     ]
    }
   ],
   "source": [
    "print(set(train['지역'].unique()) - set(test['지역'].unique()))\n",
    "print(set(train['자격유형'].unique()) - set(test['자격유형'].unique()))\n",
    "print(set(train['공급유형'].unique()) - set(test['공급유형'].unique()))"
   ]
  },
  {
   "cell_type": "code",
   "execution_count": 10,
   "id": "fb94ec7f",
   "metadata": {},
   "outputs": [
    {
     "name": "stdout",
     "output_type": "stream",
     "text": [
      "(2222, 15)\n"
     ]
    }
   ],
   "source": [
    "# Test Data에 없는 카테고리 Train Data에서 제거\n",
    "train = train[train['지역'] != '서울특별시'].reset_index(drop=True)\n",
    "train = train[~train['자격유형'].isin(['F', 'O', 'B'])].reset_index(drop=True)\n",
    "train = train[~train['공급유형'].isin(['공공임대(5년)', '공공분양', '장기전세'])].reset_index(drop=True)\n",
    "print(train.shape)"
   ]
  },
  {
   "cell_type": "markdown",
   "id": "5578239a",
   "metadata": {},
   "source": [
    "---"
   ]
  },
  {
   "cell_type": "code",
   "execution_count": 11,
   "id": "3d710028",
   "metadata": {},
   "outputs": [],
   "source": [
    "# Train Data의 '임대보증금', '임대료'의 '-'를 0으로 변환\n",
    "train['임대보증금'] = train['임대보증금'].replace('-', 0).astype('float64')\n",
    "train['임대료'] = train['임대료'].replace('-', 0).astype('float64')"
   ]
  },
  {
   "cell_type": "code",
   "execution_count": 12,
   "id": "18339e1d",
   "metadata": {},
   "outputs": [],
   "source": [
    "# Test Data의 '임대보증금', '임대료'의 '-'를 0으로 변환\n",
    "test['임대보증금'] = test['임대보증금'].replace('-', 0).astype('float64')\n",
    "test['임대료'] = test['임대료'].replace('-', 0).astype('float64')"
   ]
  },
  {
   "cell_type": "markdown",
   "id": "7a05bbe0",
   "metadata": {},
   "source": [
    "---"
   ]
  },
  {
   "cell_type": "code",
   "execution_count": 13,
   "id": "c0839947",
   "metadata": {},
   "outputs": [],
   "source": [
    "# Train Data의 '도보 10분거리 내 지하철역 수(환승노선 수 반영)' NA 0으로 대체\n",
    "train['도보 10분거리 내 지하철역 수(환승노선 수 반영)'] = train['도보 10분거리 내 지하철역 수(환승노선 수 반영)'].fillna(0)"
   ]
  },
  {
   "cell_type": "code",
   "execution_count": 14,
   "id": "aff2d095",
   "metadata": {},
   "outputs": [],
   "source": [
    "# Test Data의 '도보 10분거리 내 지하철역 수(환승노선 수 반영)' NA 0으로 대체\n",
    "test['도보 10분거리 내 지하철역 수(환승노선 수 반영)'] = test['도보 10분거리 내 지하철역 수(환승노선 수 반영)'].fillna(0)"
   ]
  },
  {
   "cell_type": "markdown",
   "id": "4fc4d5d7",
   "metadata": {},
   "source": [
    "---"
   ]
  },
  {
   "cell_type": "code",
   "execution_count": 15,
   "id": "92c36c9d",
   "metadata": {},
   "outputs": [],
   "source": [
    "# Test Data의 '단지코드' NA 특정값으로 대체\n",
    "test.loc[test['단지코드'] == 'C2411', '자격유형'] = 'A'\n",
    "test.loc[test['단지코드'] == 'C2253', '자격유형'] = 'D'"
   ]
  },
  {
   "cell_type": "markdown",
   "id": "ce87b5a9",
   "metadata": {},
   "source": [
    "---"
   ]
  },
  {
   "cell_type": "code",
   "execution_count": 16,
   "id": "a32b6891",
   "metadata": {},
   "outputs": [],
   "source": [
    "# Test Data의 '임대보증금', '임대료' NA 특정값으로 대체\n",
    "test.loc[test['임대보증금'].isnull(), '임대보증금'] = [5787000.0, 5787000.0, 11574000.0]\n",
    "test.loc[test['임대료'].isnull(), '임대료'] = [79980.0, 79980.0, 159960.0]"
   ]
  },
  {
   "cell_type": "markdown",
   "id": "3975ecf8",
   "metadata": {},
   "source": [
    "---"
   ]
  },
  {
   "cell_type": "code",
   "execution_count": 17,
   "id": "d8137724",
   "metadata": {},
   "outputs": [],
   "source": [
    "# Train Data의 '자격유형' 변수 재생성 (Major Voting)\n",
    "qual_type = train.groupby(['단지코드', '자격유형'], as_index=False).agg({'전용면적별세대수':'sum'}).sort_values('전용면적별세대수', ascending=False).drop_duplicates('단지코드').reset_index(drop=True).drop(['전용면적별세대수'], axis=1)\n",
    "train = pd.merge(train, qual_type, how='left', on='단지코드').drop('자격유형_x', axis=1).rename(columns={'자격유형_y':'자격유형'})"
   ]
  },
  {
   "cell_type": "code",
   "execution_count": 18,
   "id": "cccdec16",
   "metadata": {},
   "outputs": [],
   "source": [
    "# Train Data의 '공급유형' 변수 재생성 (Major Voting)\n",
    "supply_type = train.groupby(['단지코드', '공급유형'], as_index=False).agg({'전용면적별세대수':'sum'}).sort_values('전용면적별세대수', ascending=False).drop_duplicates('단지코드').reset_index(drop=True).drop(['전용면적별세대수'], axis=1)\n",
    "train = pd.merge(train, supply_type, how='left', on='단지코드').drop('공급유형_x', axis=1).rename(columns={'공급유형_y':'공급유형'})"
   ]
  },
  {
   "cell_type": "markdown",
   "id": "e2e26a95",
   "metadata": {},
   "source": [
    "---"
   ]
  },
  {
   "cell_type": "code",
   "execution_count": 19,
   "id": "5eef86d5",
   "metadata": {},
   "outputs": [],
   "source": [
    "# Test Data의 '자격유형' 변수 재생성 (Major Voting)\n",
    "qual_type = test.groupby(['단지코드', '자격유형'], as_index=False).agg({'전용면적별세대수':'sum'}).sort_values('전용면적별세대수', ascending=False).drop_duplicates('단지코드').reset_index(drop=True).drop(['전용면적별세대수'], axis=1)\n",
    "test = pd.merge(test, qual_type, how='left', on='단지코드').drop('자격유형_x', axis=1).rename(columns={'자격유형_y':'자격유형'})"
   ]
  },
  {
   "cell_type": "code",
   "execution_count": 20,
   "id": "346d5390",
   "metadata": {},
   "outputs": [],
   "source": [
    "# Test Data의 '공급유형' 변수 재생성 (Major Voting)\n",
    "supply_type = test.groupby(['단지코드', '공급유형'], as_index=False).agg({'전용면적별세대수':'sum'}).sort_values('전용면적별세대수', ascending=False).drop_duplicates('단지코드').reset_index(drop=True).drop(['전용면적별세대수'], axis=1)\n",
    "test = pd.merge(test, supply_type, how='left', on='단지코드').drop('공급유형_x', axis=1).rename(columns={'공급유형_y':'공급유형'})"
   ]
  },
  {
   "cell_type": "markdown",
   "id": "487334c0",
   "metadata": {},
   "source": [
    "---"
   ]
  },
  {
   "cell_type": "code",
   "execution_count": 21,
   "id": "472e4df8",
   "metadata": {},
   "outputs": [
    {
     "name": "stdout",
     "output_type": "stream",
     "text": [
      "(2222, 14)\n"
     ]
    }
   ],
   "source": [
    "# Train Data의 '실세대수'='총세대수'-'공가수' 변수 생성, '총세대수', '공가수' 변수 제거\n",
    "train['실세대수'] = train['총세대수'] - train['공가수']\n",
    "train.drop(['총세대수', '공가수'], axis=1, inplace=True)\n",
    "print(train.shape)"
   ]
  },
  {
   "cell_type": "code",
   "execution_count": 22,
   "id": "5ae97d82",
   "metadata": {},
   "outputs": [
    {
     "name": "stdout",
     "output_type": "stream",
     "text": [
      "(831, 13)\n"
     ]
    }
   ],
   "source": [
    "# Test Data의 '실세대수'='총세대수'-'공가수' 변수 생성, '총세대수', '공가수' 변수 제거\n",
    "test['실세대수'] = test['총세대수'] - test['공가수']\n",
    "test.drop(['총세대수', '공가수'], axis=1, inplace=True)\n",
    "print(test.shape)"
   ]
  },
  {
   "cell_type": "markdown",
   "id": "9bb34a92",
   "metadata": {},
   "source": [
    "---"
   ]
  },
  {
   "cell_type": "code",
   "execution_count": 23,
   "id": "3c529fe1",
   "metadata": {},
   "outputs": [],
   "source": [
    "# Train Data의 '임대료' 변수 재생성 (전용면적별세대수 가중 평균)\n",
    "train['임대료'] = round(train['임대료'] * train['전용면적별세대수'] / train['전용면적별세대수합'])\n",
    "rental_fee = train.groupby('단지코드', as_index=False).agg({'임대료':'sum'})\n",
    "train = pd.merge(train, rental_fee, how='left', on='단지코드').drop(['임대료_x'], axis=1).rename(columns={'임대료_y':'임대료'})"
   ]
  },
  {
   "cell_type": "code",
   "execution_count": 24,
   "id": "e2ef3be4",
   "metadata": {},
   "outputs": [],
   "source": [
    "# Test Data의 '임대료' 변수 재생성 (전용면적별세대수 가중 평균)\n",
    "test['임대료'] = round(test['임대료'] * test['전용면적별세대수'] / test['전용면적별세대수합'])\n",
    "rental_fee = test.groupby('단지코드', as_index=False).agg({'임대료':'sum'})\n",
    "test = pd.merge(test, rental_fee, how='left', on='단지코드').drop(['임대료_x'], axis=1).rename(columns={'임대료_y':'임대료'})"
   ]
  },
  {
   "cell_type": "markdown",
   "id": "181f6298",
   "metadata": {},
   "source": [
    "---"
   ]
  },
  {
   "cell_type": "code",
   "execution_count": 25,
   "id": "dc5c793f",
   "metadata": {},
   "outputs": [],
   "source": [
    "# Train Data의 '전용면적' 변수 재생성 (전용면적별세대수 가중 평균)\n",
    "train['전용면적'] = round(train['전용면적'] * train['전용면적별세대수'] / train['전용면적별세대수합'])\n",
    "rental_fee = train.groupby('단지코드', as_index=False).agg({'전용면적':'sum'})\n",
    "train = pd.merge(train, rental_fee, how='left', on='단지코드').drop(['전용면적_x'], axis=1).rename(columns={'전용면적_y':'전용면적'})"
   ]
  },
  {
   "cell_type": "code",
   "execution_count": 26,
   "id": "23693094",
   "metadata": {},
   "outputs": [],
   "source": [
    "# Test Data의 '전용면적' 변수 재생성 (전용면적별세대수 가중 평균)\n",
    "test['전용면적'] = round(test['전용면적'] * test['전용면적별세대수'] / test['전용면적별세대수합'])\n",
    "rental_fee = test.groupby('단지코드', as_index=False).agg({'전용면적':'sum'})\n",
    "test = pd.merge(test, rental_fee, how='left', on='단지코드').drop(['전용면적_x'], axis=1).rename(columns={'전용면적_y':'전용면적'})"
   ]
  },
  {
   "cell_type": "markdown",
   "id": "a5cf0e14",
   "metadata": {},
   "source": [
    "---"
   ]
  },
  {
   "cell_type": "code",
   "execution_count": 27,
   "id": "ea6ce674",
   "metadata": {},
   "outputs": [
    {
     "data": {
      "text/html": [
       "<div>\n",
       "<style scoped>\n",
       "    .dataframe tbody tr th:only-of-type {\n",
       "        vertical-align: middle;\n",
       "    }\n",
       "\n",
       "    .dataframe tbody tr th {\n",
       "        vertical-align: top;\n",
       "    }\n",
       "\n",
       "    .dataframe thead th {\n",
       "        text-align: right;\n",
       "    }\n",
       "</style>\n",
       "<table border=\"1\" class=\"dataframe\">\n",
       "  <thead>\n",
       "    <tr style=\"text-align: right;\">\n",
       "      <th></th>\n",
       "      <th>단지코드</th>\n",
       "      <th>지역</th>\n",
       "      <th>전용면적별세대수</th>\n",
       "      <th>임대보증금</th>\n",
       "      <th>도보 10분거리 내 지하철역 수(환승노선 수 반영)</th>\n",
       "      <th>도보 10분거리 내 버스정류장 수</th>\n",
       "      <th>단지내주차면수</th>\n",
       "      <th>등록차량수</th>\n",
       "      <th>전용면적별세대수합</th>\n",
       "      <th>자격유형</th>\n",
       "      <th>공급유형</th>\n",
       "      <th>실세대수</th>\n",
       "      <th>임대료</th>\n",
       "      <th>전용면적</th>\n",
       "    </tr>\n",
       "  </thead>\n",
       "  <tbody>\n",
       "    <tr>\n",
       "      <th>0</th>\n",
       "      <td>C2515</td>\n",
       "      <td>경상남도</td>\n",
       "      <td>276</td>\n",
       "      <td>9216000.0</td>\n",
       "      <td>0.0</td>\n",
       "      <td>3.0</td>\n",
       "      <td>624.0</td>\n",
       "      <td>205.0</td>\n",
       "      <td>545</td>\n",
       "      <td>A</td>\n",
       "      <td>국민임대</td>\n",
       "      <td>528.0</td>\n",
       "      <td>119432.0</td>\n",
       "      <td>39.0</td>\n",
       "    </tr>\n",
       "    <tr>\n",
       "      <th>1</th>\n",
       "      <td>C2515</td>\n",
       "      <td>경상남도</td>\n",
       "      <td>60</td>\n",
       "      <td>12672000.0</td>\n",
       "      <td>0.0</td>\n",
       "      <td>3.0</td>\n",
       "      <td>624.0</td>\n",
       "      <td>205.0</td>\n",
       "      <td>545</td>\n",
       "      <td>A</td>\n",
       "      <td>국민임대</td>\n",
       "      <td>528.0</td>\n",
       "      <td>119432.0</td>\n",
       "      <td>39.0</td>\n",
       "    </tr>\n",
       "    <tr>\n",
       "      <th>2</th>\n",
       "      <td>C2515</td>\n",
       "      <td>경상남도</td>\n",
       "      <td>20</td>\n",
       "      <td>12672000.0</td>\n",
       "      <td>0.0</td>\n",
       "      <td>3.0</td>\n",
       "      <td>624.0</td>\n",
       "      <td>205.0</td>\n",
       "      <td>545</td>\n",
       "      <td>A</td>\n",
       "      <td>국민임대</td>\n",
       "      <td>528.0</td>\n",
       "      <td>119432.0</td>\n",
       "      <td>39.0</td>\n",
       "    </tr>\n",
       "    <tr>\n",
       "      <th>3</th>\n",
       "      <td>C2515</td>\n",
       "      <td>경상남도</td>\n",
       "      <td>38</td>\n",
       "      <td>18433000.0</td>\n",
       "      <td>0.0</td>\n",
       "      <td>3.0</td>\n",
       "      <td>624.0</td>\n",
       "      <td>205.0</td>\n",
       "      <td>545</td>\n",
       "      <td>A</td>\n",
       "      <td>국민임대</td>\n",
       "      <td>528.0</td>\n",
       "      <td>119432.0</td>\n",
       "      <td>39.0</td>\n",
       "    </tr>\n",
       "    <tr>\n",
       "      <th>4</th>\n",
       "      <td>C2515</td>\n",
       "      <td>경상남도</td>\n",
       "      <td>19</td>\n",
       "      <td>18433000.0</td>\n",
       "      <td>0.0</td>\n",
       "      <td>3.0</td>\n",
       "      <td>624.0</td>\n",
       "      <td>205.0</td>\n",
       "      <td>545</td>\n",
       "      <td>A</td>\n",
       "      <td>국민임대</td>\n",
       "      <td>528.0</td>\n",
       "      <td>119432.0</td>\n",
       "      <td>39.0</td>\n",
       "    </tr>\n",
       "  </tbody>\n",
       "</table>\n",
       "</div>"
      ],
      "text/plain": [
       "    단지코드    지역  전용면적별세대수       임대보증금  도보 10분거리 내 지하철역 수(환승노선 수 반영)  \\\n",
       "0  C2515  경상남도       276   9216000.0                           0.0   \n",
       "1  C2515  경상남도        60  12672000.0                           0.0   \n",
       "2  C2515  경상남도        20  12672000.0                           0.0   \n",
       "3  C2515  경상남도        38  18433000.0                           0.0   \n",
       "4  C2515  경상남도        19  18433000.0                           0.0   \n",
       "\n",
       "   도보 10분거리 내 버스정류장 수  단지내주차면수  등록차량수  전용면적별세대수합 자격유형  공급유형   실세대수       임대료  \\\n",
       "0                 3.0    624.0  205.0        545    A  국민임대  528.0  119432.0   \n",
       "1                 3.0    624.0  205.0        545    A  국민임대  528.0  119432.0   \n",
       "2                 3.0    624.0  205.0        545    A  국민임대  528.0  119432.0   \n",
       "3                 3.0    624.0  205.0        545    A  국민임대  528.0  119432.0   \n",
       "4                 3.0    624.0  205.0        545    A  국민임대  528.0  119432.0   \n",
       "\n",
       "   전용면적  \n",
       "0  39.0  \n",
       "1  39.0  \n",
       "2  39.0  \n",
       "3  39.0  \n",
       "4  39.0  "
      ]
     },
     "execution_count": 27,
     "metadata": {},
     "output_type": "execute_result"
    }
   ],
   "source": [
    "train.head()"
   ]
  },
  {
   "cell_type": "code",
   "execution_count": 28,
   "id": "4e40119f",
   "metadata": {},
   "outputs": [
    {
     "data": {
      "text/plain": [
       "단지코드                            0\n",
       "지역                              0\n",
       "전용면적별세대수                        0\n",
       "임대보증금                           0\n",
       "도보 10분거리 내 지하철역 수(환승노선 수 반영)    0\n",
       "도보 10분거리 내 버스정류장 수              0\n",
       "단지내주차면수                         0\n",
       "등록차량수                           0\n",
       "전용면적별세대수합                       0\n",
       "자격유형                            0\n",
       "공급유형                            0\n",
       "실세대수                            0\n",
       "임대료                             0\n",
       "전용면적                            0\n",
       "dtype: int64"
      ]
     },
     "execution_count": 28,
     "metadata": {},
     "output_type": "execute_result"
    }
   ],
   "source": [
    "train.isnull().sum()"
   ]
  },
  {
   "cell_type": "code",
   "execution_count": 29,
   "id": "db21e78a",
   "metadata": {
    "scrolled": true
   },
   "outputs": [
    {
     "data": {
      "text/html": [
       "<div>\n",
       "<style scoped>\n",
       "    .dataframe tbody tr th:only-of-type {\n",
       "        vertical-align: middle;\n",
       "    }\n",
       "\n",
       "    .dataframe tbody tr th {\n",
       "        vertical-align: top;\n",
       "    }\n",
       "\n",
       "    .dataframe thead th {\n",
       "        text-align: right;\n",
       "    }\n",
       "</style>\n",
       "<table border=\"1\" class=\"dataframe\">\n",
       "  <thead>\n",
       "    <tr style=\"text-align: right;\">\n",
       "      <th></th>\n",
       "      <th>단지코드</th>\n",
       "      <th>지역</th>\n",
       "      <th>전용면적별세대수</th>\n",
       "      <th>임대보증금</th>\n",
       "      <th>도보 10분거리 내 지하철역 수(환승노선 수 반영)</th>\n",
       "      <th>도보 10분거리 내 버스정류장 수</th>\n",
       "      <th>단지내주차면수</th>\n",
       "      <th>전용면적별세대수합</th>\n",
       "      <th>자격유형</th>\n",
       "      <th>공급유형</th>\n",
       "      <th>실세대수</th>\n",
       "      <th>임대료</th>\n",
       "      <th>전용면적</th>\n",
       "    </tr>\n",
       "  </thead>\n",
       "  <tbody>\n",
       "    <tr>\n",
       "      <th>0</th>\n",
       "      <td>C1072</td>\n",
       "      <td>경기도</td>\n",
       "      <td>116</td>\n",
       "      <td>22830000.0</td>\n",
       "      <td>0.0</td>\n",
       "      <td>2.0</td>\n",
       "      <td>683.0</td>\n",
       "      <td>754</td>\n",
       "      <td>H</td>\n",
       "      <td>국민임대</td>\n",
       "      <td>740.0</td>\n",
       "      <td>264048.0</td>\n",
       "      <td>48.0</td>\n",
       "    </tr>\n",
       "    <tr>\n",
       "      <th>1</th>\n",
       "      <td>C1072</td>\n",
       "      <td>경기도</td>\n",
       "      <td>30</td>\n",
       "      <td>36048000.0</td>\n",
       "      <td>0.0</td>\n",
       "      <td>2.0</td>\n",
       "      <td>683.0</td>\n",
       "      <td>754</td>\n",
       "      <td>H</td>\n",
       "      <td>국민임대</td>\n",
       "      <td>740.0</td>\n",
       "      <td>264048.0</td>\n",
       "      <td>48.0</td>\n",
       "    </tr>\n",
       "    <tr>\n",
       "      <th>2</th>\n",
       "      <td>C1072</td>\n",
       "      <td>경기도</td>\n",
       "      <td>112</td>\n",
       "      <td>36048000.0</td>\n",
       "      <td>0.0</td>\n",
       "      <td>2.0</td>\n",
       "      <td>683.0</td>\n",
       "      <td>754</td>\n",
       "      <td>H</td>\n",
       "      <td>국민임대</td>\n",
       "      <td>740.0</td>\n",
       "      <td>264048.0</td>\n",
       "      <td>48.0</td>\n",
       "    </tr>\n",
       "    <tr>\n",
       "      <th>3</th>\n",
       "      <td>C1072</td>\n",
       "      <td>경기도</td>\n",
       "      <td>120</td>\n",
       "      <td>36048000.0</td>\n",
       "      <td>0.0</td>\n",
       "      <td>2.0</td>\n",
       "      <td>683.0</td>\n",
       "      <td>754</td>\n",
       "      <td>H</td>\n",
       "      <td>국민임대</td>\n",
       "      <td>740.0</td>\n",
       "      <td>264048.0</td>\n",
       "      <td>48.0</td>\n",
       "    </tr>\n",
       "    <tr>\n",
       "      <th>4</th>\n",
       "      <td>C1072</td>\n",
       "      <td>경기도</td>\n",
       "      <td>60</td>\n",
       "      <td>43497000.0</td>\n",
       "      <td>0.0</td>\n",
       "      <td>2.0</td>\n",
       "      <td>683.0</td>\n",
       "      <td>754</td>\n",
       "      <td>H</td>\n",
       "      <td>국민임대</td>\n",
       "      <td>740.0</td>\n",
       "      <td>264048.0</td>\n",
       "      <td>48.0</td>\n",
       "    </tr>\n",
       "  </tbody>\n",
       "</table>\n",
       "</div>"
      ],
      "text/plain": [
       "    단지코드   지역  전용면적별세대수       임대보증금  도보 10분거리 내 지하철역 수(환승노선 수 반영)  \\\n",
       "0  C1072  경기도       116  22830000.0                           0.0   \n",
       "1  C1072  경기도        30  36048000.0                           0.0   \n",
       "2  C1072  경기도       112  36048000.0                           0.0   \n",
       "3  C1072  경기도       120  36048000.0                           0.0   \n",
       "4  C1072  경기도        60  43497000.0                           0.0   \n",
       "\n",
       "   도보 10분거리 내 버스정류장 수  단지내주차면수  전용면적별세대수합 자격유형  공급유형   실세대수       임대료  전용면적  \n",
       "0                 2.0    683.0        754    H  국민임대  740.0  264048.0  48.0  \n",
       "1                 2.0    683.0        754    H  국민임대  740.0  264048.0  48.0  \n",
       "2                 2.0    683.0        754    H  국민임대  740.0  264048.0  48.0  \n",
       "3                 2.0    683.0        754    H  국민임대  740.0  264048.0  48.0  \n",
       "4                 2.0    683.0        754    H  국민임대  740.0  264048.0  48.0  "
      ]
     },
     "execution_count": 29,
     "metadata": {},
     "output_type": "execute_result"
    }
   ],
   "source": [
    "test.head()"
   ]
  },
  {
   "cell_type": "code",
   "execution_count": 30,
   "id": "dd363f11",
   "metadata": {},
   "outputs": [
    {
     "data": {
      "text/plain": [
       "단지코드                            0\n",
       "지역                              0\n",
       "전용면적별세대수                        0\n",
       "임대보증금                           0\n",
       "도보 10분거리 내 지하철역 수(환승노선 수 반영)    0\n",
       "도보 10분거리 내 버스정류장 수              0\n",
       "단지내주차면수                         0\n",
       "전용면적별세대수합                       0\n",
       "자격유형                            0\n",
       "공급유형                            0\n",
       "실세대수                            0\n",
       "임대료                             0\n",
       "전용면적                            0\n",
       "dtype: int64"
      ]
     },
     "execution_count": 30,
     "metadata": {},
     "output_type": "execute_result"
    }
   ],
   "source": [
    "test.isnull().sum()"
   ]
  },
  {
   "cell_type": "code",
   "execution_count": 31,
   "id": "940c08cc",
   "metadata": {
    "scrolled": false
   },
   "outputs": [
    {
     "name": "stdout",
     "output_type": "stream",
     "text": [
      "(2222, 14) (831, 13)\n"
     ]
    }
   ],
   "source": [
    "print(train.shape, test.shape)"
   ]
  },
  {
   "cell_type": "markdown",
   "id": "1a24503f",
   "metadata": {},
   "source": [
    "---"
   ]
  },
  {
   "cell_type": "code",
   "execution_count": 32,
   "id": "68507051",
   "metadata": {},
   "outputs": [
    {
     "name": "stdout",
     "output_type": "stream",
     "text": [
      "(2222, 15)\n"
     ]
    }
   ],
   "source": [
    "# Train Data의 '차량보유인구비율' 변수 생성\n",
    "age_gender_info = pd.read_csv('age_gender_info.csv')\n",
    "cars = pd.DataFrame(age_gender_info.iloc[:, [7, 8, 9, 10, 12, 14]].sum(axis=1), columns=['차량보유인구비율'])\n",
    "cars['지역'] = age_gender_info['지역']\n",
    "train = pd.merge(train, cars, how='left', on='지역')\n",
    "print(train.shape)"
   ]
  },
  {
   "cell_type": "code",
   "execution_count": 33,
   "id": "20c90903",
   "metadata": {},
   "outputs": [
    {
     "name": "stdout",
     "output_type": "stream",
     "text": [
      "(831, 14)\n"
     ]
    }
   ],
   "source": [
    "# Test Data의 '차량보유인구비율' 변수 생성\n",
    "test = pd.merge(test, cars, how='left', on='지역')\n",
    "print(test.shape)"
   ]
  },
  {
   "cell_type": "markdown",
   "id": "1cf5b936",
   "metadata": {},
   "source": [
    "---"
   ]
  },
  {
   "cell_type": "markdown",
   "id": "36aa22ea",
   "metadata": {},
   "source": [
    "# Modeling(Linear Regression)"
   ]
  },
  {
   "cell_type": "code",
   "execution_count": 34,
   "id": "da0987fc",
   "metadata": {},
   "outputs": [],
   "source": [
    "tmp = train.drop(['전용면적별세대수', '임대보증금'], axis=1).drop_duplicates().reset_index(drop=True)"
   ]
  },
  {
   "cell_type": "code",
   "execution_count": 35,
   "id": "bd1e7155",
   "metadata": {},
   "outputs": [],
   "source": [
    "import plotly.express as px"
   ]
  },
  {
   "cell_type": "code",
   "execution_count": 36,
   "id": "ed0e4da1",
   "metadata": {},
   "outputs": [],
   "source": [
    "# fig = px.scatter_3d(tmp, x='단지내주차면수', y='전용면적', z='등록차량수', opacity=0.7)\n",
    "# fig.update_traces(marker={'size':2})\n",
    "# fig.show()"
   ]
  },
  {
   "cell_type": "code",
   "execution_count": 37,
   "id": "21c4ce5f",
   "metadata": {},
   "outputs": [],
   "source": [
    "X_train = tmp[['단지내주차면수', '전용면적', '차량보유인구비율']]\n",
    "y_train = tmp['등록차량수']"
   ]
  },
  {
   "cell_type": "code",
   "execution_count": 38,
   "id": "a26c0acf",
   "metadata": {
    "scrolled": true
   },
   "outputs": [
    {
     "data": {
      "text/html": [
       "<div>\n",
       "<style scoped>\n",
       "    .dataframe tbody tr th:only-of-type {\n",
       "        vertical-align: middle;\n",
       "    }\n",
       "\n",
       "    .dataframe tbody tr th {\n",
       "        vertical-align: top;\n",
       "    }\n",
       "\n",
       "    .dataframe thead th {\n",
       "        text-align: right;\n",
       "    }\n",
       "</style>\n",
       "<table border=\"1\" class=\"dataframe\">\n",
       "  <thead>\n",
       "    <tr style=\"text-align: right;\">\n",
       "      <th></th>\n",
       "      <th>단지내주차면수</th>\n",
       "      <th>전용면적</th>\n",
       "      <th>차량보유인구비율</th>\n",
       "    </tr>\n",
       "  </thead>\n",
       "  <tbody>\n",
       "    <tr>\n",
       "      <th>단지내주차면수</th>\n",
       "      <td>1.000000</td>\n",
       "      <td>0.190977</td>\n",
       "      <td>0.254526</td>\n",
       "    </tr>\n",
       "    <tr>\n",
       "      <th>전용면적</th>\n",
       "      <td>0.190977</td>\n",
       "      <td>1.000000</td>\n",
       "      <td>0.113178</td>\n",
       "    </tr>\n",
       "    <tr>\n",
       "      <th>차량보유인구비율</th>\n",
       "      <td>0.254526</td>\n",
       "      <td>0.113178</td>\n",
       "      <td>1.000000</td>\n",
       "    </tr>\n",
       "  </tbody>\n",
       "</table>\n",
       "</div>"
      ],
      "text/plain": [
       "           단지내주차면수      전용면적  차량보유인구비율\n",
       "단지내주차면수   1.000000  0.190977  0.254526\n",
       "전용면적      0.190977  1.000000  0.113178\n",
       "차량보유인구비율  0.254526  0.113178  1.000000"
      ]
     },
     "execution_count": 38,
     "metadata": {},
     "output_type": "execute_result"
    }
   ],
   "source": [
    "X_train.corr()"
   ]
  },
  {
   "cell_type": "code",
   "execution_count": 39,
   "id": "16defc43",
   "metadata": {},
   "outputs": [],
   "source": [
    "from sklearn.preprocessing import PolynomialFeatures"
   ]
  },
  {
   "cell_type": "code",
   "execution_count": 40,
   "id": "2bfaa68d",
   "metadata": {},
   "outputs": [],
   "source": [
    "poly = PolynomialFeatures(2, interaction_only=True)"
   ]
  },
  {
   "cell_type": "code",
   "execution_count": 41,
   "id": "215c4364",
   "metadata": {},
   "outputs": [],
   "source": [
    "X_train = poly.fit_transform(X_train)"
   ]
  },
  {
   "cell_type": "code",
   "execution_count": 42,
   "id": "b22f24a3",
   "metadata": {},
   "outputs": [],
   "source": [
    "from sklearn.preprocessing import StandardScaler"
   ]
  },
  {
   "cell_type": "code",
   "execution_count": 43,
   "id": "44f39da3",
   "metadata": {},
   "outputs": [
    {
     "data": {
      "text/plain": [
       "StandardScaler()"
      ]
     },
     "execution_count": 43,
     "metadata": {},
     "output_type": "execute_result"
    }
   ],
   "source": [
    "scaler = StandardScaler()\n",
    "scaler.fit(X_train)"
   ]
  },
  {
   "cell_type": "code",
   "execution_count": 44,
   "id": "2bc2c64a",
   "metadata": {},
   "outputs": [],
   "source": [
    "X_train = scaler.transform(X_train)"
   ]
  },
  {
   "cell_type": "code",
   "execution_count": 45,
   "id": "07776e30",
   "metadata": {},
   "outputs": [],
   "source": [
    "from sklearn.linear_model import LinearRegression"
   ]
  },
  {
   "cell_type": "code",
   "execution_count": 46,
   "id": "bc30e2b3",
   "metadata": {},
   "outputs": [],
   "source": [
    "lr = LinearRegression()"
   ]
  },
  {
   "cell_type": "code",
   "execution_count": 47,
   "id": "a65ac01d",
   "metadata": {},
   "outputs": [],
   "source": [
    "from sklearn.model_selection import cross_val_score"
   ]
  },
  {
   "cell_type": "code",
   "execution_count": 48,
   "id": "a7296534",
   "metadata": {},
   "outputs": [],
   "source": [
    "score = cross_val_score(lr, X_train, y_train, cv=10, scoring='neg_mean_absolute_error')"
   ]
  },
  {
   "cell_type": "code",
   "execution_count": 49,
   "id": "6707073b",
   "metadata": {},
   "outputs": [
    {
     "name": "stdout",
     "output_type": "stream",
     "text": [
      "평균: 120.96399930938374 | 표준편차: 28.37882998782142\n"
     ]
    }
   ],
   "source": [
    "print(f'평균: {-score.mean()} | 표준편차: {score.std()}')"
   ]
  },
  {
   "cell_type": "code",
   "execution_count": 50,
   "id": "bdae6f40",
   "metadata": {
    "scrolled": true
   },
   "outputs": [
    {
     "data": {
      "text/plain": [
       "LinearRegression()"
      ]
     },
     "execution_count": 50,
     "metadata": {},
     "output_type": "execute_result"
    }
   ],
   "source": [
    "lr.fit(X_train, y_train)"
   ]
  },
  {
   "cell_type": "markdown",
   "id": "e918ae90",
   "metadata": {},
   "source": [
    "---"
   ]
  },
  {
   "cell_type": "markdown",
   "id": "f8265407",
   "metadata": {},
   "source": [
    "# Test Data에 적용"
   ]
  },
  {
   "cell_type": "code",
   "execution_count": 51,
   "id": "e0107e97",
   "metadata": {},
   "outputs": [],
   "source": [
    "tmp_test = test.drop(['전용면적별세대수', '임대보증금'], axis=1).drop_duplicates().reset_index(drop=True)"
   ]
  },
  {
   "cell_type": "code",
   "execution_count": 52,
   "id": "2a405912",
   "metadata": {},
   "outputs": [],
   "source": [
    "tmp_test['유형'] = tmp_test['공급유형'] + tmp_test['자격유형']\n",
    "tmp_test.drop(['공급유형', '자격유형'], axis=1, inplace=True)"
   ]
  },
  {
   "cell_type": "code",
   "execution_count": 53,
   "id": "609c28f2",
   "metadata": {},
   "outputs": [],
   "source": [
    "X_test = tmp_test[['단지내주차면수', '전용면적', '차량보유인구비율']]"
   ]
  },
  {
   "cell_type": "code",
   "execution_count": 54,
   "id": "b404f962",
   "metadata": {},
   "outputs": [],
   "source": [
    "poly = PolynomialFeatures(2, interaction_only=True)"
   ]
  },
  {
   "cell_type": "code",
   "execution_count": 55,
   "id": "67150255",
   "metadata": {},
   "outputs": [],
   "source": [
    "X_test = poly.fit_transform(X_test)"
   ]
  },
  {
   "cell_type": "code",
   "execution_count": 56,
   "id": "9b049465",
   "metadata": {},
   "outputs": [],
   "source": [
    "X_test = scaler.transform(X_test)"
   ]
  },
  {
   "cell_type": "code",
   "execution_count": 57,
   "id": "9a8e7bc3",
   "metadata": {},
   "outputs": [],
   "source": [
    "tmp_test['등록차량수'] = lr.predict(X_test)"
   ]
  },
  {
   "cell_type": "code",
   "execution_count": 58,
   "id": "558c4d2d",
   "metadata": {},
   "outputs": [],
   "source": [
    "submission = tmp_test[['단지코드', '등록차량수']].rename(columns={'단지코드':'code', '등록차량수':'num'})"
   ]
  },
  {
   "cell_type": "code",
   "execution_count": 59,
   "id": "baa1f735",
   "metadata": {},
   "outputs": [],
   "source": [
    "error = pd.DataFrame(np.array([['C2675', 0], ['C2335', 0], ['C1327', 0]]), columns=['code', 'num'])"
   ]
  },
  {
   "cell_type": "code",
   "execution_count": 60,
   "id": "1f857972",
   "metadata": {},
   "outputs": [],
   "source": [
    "submission = pd.concat([submission, error]).reset_index(drop=True)"
   ]
  },
  {
   "cell_type": "code",
   "execution_count": 61,
   "id": "3c5087a2",
   "metadata": {},
   "outputs": [],
   "source": [
    "submission.to_csv('submission.csv', index=False)"
   ]
  },
  {
   "cell_type": "markdown",
   "id": "b263b72e",
   "metadata": {},
   "source": [
    "**Test MAE: 110.8061340659**"
   ]
  }
 ],
 "metadata": {
  "kernelspec": {
   "display_name": "Python 3",
   "language": "python",
   "name": "python3"
  },
  "language_info": {
   "codemirror_mode": {
    "name": "ipython",
    "version": 3
   },
   "file_extension": ".py",
   "mimetype": "text/x-python",
   "name": "python",
   "nbconvert_exporter": "python",
   "pygments_lexer": "ipython3",
   "version": "3.9.5"
  }
 },
 "nbformat": 4,
 "nbformat_minor": 5
}
