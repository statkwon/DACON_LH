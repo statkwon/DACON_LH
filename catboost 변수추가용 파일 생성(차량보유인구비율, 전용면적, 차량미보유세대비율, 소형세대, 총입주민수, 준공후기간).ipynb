{
 "cells": [
  {
   "cell_type": "markdown",
   "metadata": {},
   "source": [
    "# Preprocessing"
   ]
  },
  {
   "cell_type": "code",
   "execution_count": 1,
   "metadata": {},
   "outputs": [],
   "source": [
    "import numpy as np\n",
    "import pandas as pd\n",
    "import matplotlib as mpl ; mpl.rcParams['axes.unicode_minus'] = False\n",
    "import matplotlib.pyplot as plt ; plt.rcParams['font.family'] = 'HYGothic-Medium'\n",
    "import seaborn as sns\n",
    "\n",
    "import variable as var"
   ]
  },
  {
   "cell_type": "markdown",
   "metadata": {},
   "source": [
    "---"
   ]
  },
  {
   "cell_type": "code",
   "execution_count": 2,
   "metadata": {},
   "outputs": [
    {
     "name": "stdout",
     "output_type": "stream",
     "text": [
      "(2869, 15)\n"
     ]
    }
   ],
   "source": [
    "# Train Data 불러오기 및 오류 데이터 제거\n",
    "train = pd.read_csv('train.csv')\n",
    "train_error = ['C2085', 'C1397', 'C2431', 'C1649', 'C1036', 'C1095', 'C2051', 'C1218', 'C1894', 'C2483', 'C1502', 'C1988']\n",
    "train = train[~train['단지코드'].isin(train_error)].reset_index(drop=True)\n",
    "print(train.shape)"
   ]
  },
  {
   "cell_type": "code",
   "execution_count": 3,
   "metadata": {},
   "outputs": [
    {
     "name": "stdout",
     "output_type": "stream",
     "text": [
      "(1008, 14)\n"
     ]
    }
   ],
   "source": [
    "# Test Data 불러오기 및 오류 데이터 제거\n",
    "test = pd.read_csv('test.csv')\n",
    "test_error = ['C2675', 'C2335', 'C1327']\n",
    "test = test[~test['단지코드'].isin(test_error)].reset_index(drop=True)\n",
    "print(test.shape)"
   ]
  },
  {
   "cell_type": "markdown",
   "metadata": {},
   "source": [
    "---"
   ]
  },
  {
   "cell_type": "code",
   "execution_count": 4,
   "metadata": {},
   "outputs": [],
   "source": [
    "# Train Data의 '상가수' 변수 생성\n",
    "store = train[train['임대건물구분'] == '상가'].groupby('단지코드', as_index=False).agg({'임대건물구분':'count'}).rename(columns={'임대건물구분':'상가수'})\n",
    "train = pd.merge(train, store, how='left')\n",
    "train['상가수'] = train['상가수'].fillna(0)"
   ]
  },
  {
   "cell_type": "code",
   "execution_count": 5,
   "metadata": {},
   "outputs": [],
   "source": [
    "# Test Data의 '상가수' 변수 생성\n",
    "store = test[test['임대건물구분'] == '상가'].groupby('단지코드', as_index=False).agg({'임대건물구분':'count'}).rename(columns={'임대건물구분':'상가수'})\n",
    "test = pd.merge(test, store, how='left')\n",
    "test['상가수'] = test['상가수'].fillna(0)"
   ]
  },
  {
   "cell_type": "code",
   "execution_count": 6,
   "metadata": {},
   "outputs": [
    {
     "name": "stdout",
     "output_type": "stream",
     "text": [
      "(2307, 15)\n"
     ]
    }
   ],
   "source": [
    "# Train Data의 '임대건물구분 == 상가' 데이터 제거, '임대건물구분' 변수 제거\n",
    "train = train[train['임대건물구분'] != '상가'].reset_index(drop=True)\n",
    "train.drop(['임대건물구분'], axis=1, inplace=True)\n",
    "print(train.shape)"
   ]
  },
  {
   "cell_type": "code",
   "execution_count": 7,
   "metadata": {},
   "outputs": [
    {
     "name": "stdout",
     "output_type": "stream",
     "text": [
      "(831, 14)\n"
     ]
    }
   ],
   "source": [
    "# Test Data의 '임대건물구분 == 상가' 데이터 제거, '임대건물구분' 변수 제거\n",
    "test = test[test['임대건물구분'] != '상가'].reset_index(drop=True)\n",
    "test.drop(['임대건물구분'], axis=1, inplace=True)\n",
    "print(test.shape)"
   ]
  },
  {
   "cell_type": "markdown",
   "metadata": {},
   "source": [
    "---"
   ]
  },
  {
   "cell_type": "code",
   "execution_count": 8,
   "metadata": {},
   "outputs": [],
   "source": [
    "train2 = train.copy()\n",
    "train2 = var.major_voting(train2, '자격유형')\n",
    "train2 = var.major_voting(train2, '공급유형')\n",
    "train2 = train2[['단지코드', '자격유형_major', '공급유형_major']].drop_duplicates().reset_index(drop=True)\n",
    "train = pd.merge(train, train2, on='단지코드', how='left')"
   ]
  },
  {
   "cell_type": "code",
   "execution_count": 9,
   "metadata": {},
   "outputs": [],
   "source": [
    "test2 = test.copy()\n",
    "test2 = var.major_voting(test2, '자격유형')\n",
    "test2 = var.major_voting(test2, '공급유형')\n",
    "test2 = test2[['단지코드', '자격유형_major', '공급유형_major']].drop_duplicates().reset_index(drop=True)\n",
    "test = pd.merge(test, test2, on='단지코드', how='left')"
   ]
  },
  {
   "cell_type": "markdown",
   "metadata": {},
   "source": [
    "---"
   ]
  },
  {
   "cell_type": "code",
   "execution_count": 10,
   "metadata": {
    "scrolled": true
   },
   "outputs": [
    {
     "name": "stdout",
     "output_type": "stream",
     "text": [
      "(2307, 18)\n"
     ]
    }
   ],
   "source": [
    "# Train Data의 '전용면적별세대수합' 변수 생성\n",
    "noh_by_area = train.groupby('단지코드', as_index=False).agg({'전용면적별세대수':'sum'}).rename(columns={'전용면적별세대수':'전용면적별세대수합'})\n",
    "train = pd.merge(left=train, right=noh_by_area, how='left', on='단지코드')\n",
    "print(train.shape)"
   ]
  },
  {
   "cell_type": "code",
   "execution_count": 11,
   "metadata": {},
   "outputs": [
    {
     "name": "stdout",
     "output_type": "stream",
     "text": [
      "(831, 17)\n"
     ]
    }
   ],
   "source": [
    "# Test Data의 '전용면적별세대수합' 변수 생성\n",
    "noh_by_area = test.groupby('단지코드', as_index=False).agg({'전용면적별세대수':'sum'}).rename(columns={'전용면적별세대수':'전용면적별세대수합'})\n",
    "test = pd.merge(left=test, right=noh_by_area, how='left', on='단지코드')\n",
    "print(test.shape)"
   ]
  },
  {
   "cell_type": "markdown",
   "metadata": {},
   "source": [
    "#### 단지명, 주소 추가하기 위해 전용면적별세대수_myhome추가"
   ]
  },
  {
   "cell_type": "code",
   "execution_count": 12,
   "metadata": {},
   "outputs": [],
   "source": [
    "train_myhome = train[train['공급유형']!='공공분양']\n",
    "noh_by_area = train_myhome.groupby('단지코드', as_index=False).agg({'전용면적별세대수':'sum'}).rename(columns={'전용면적별세대수':'전용면적별세대수합_myhome'})\n",
    "train = pd.merge(left=train, right=noh_by_area, how='left', on='단지코드')"
   ]
  },
  {
   "cell_type": "code",
   "execution_count": 13,
   "metadata": {},
   "outputs": [],
   "source": [
    "test_myhome = test[test['공급유형']!='공공분양']\n",
    "noh_by_area = test_myhome.groupby('단지코드', as_index=False).agg({'전용면적별세대수':'sum'}).rename(columns={'전용면적별세대수':'전용면적별세대수합_myhome'})\n",
    "test = pd.merge(left=test, right=noh_by_area, how='left', on='단지코드')"
   ]
  },
  {
   "cell_type": "markdown",
   "metadata": {},
   "source": [
    "---"
   ]
  },
  {
   "cell_type": "code",
   "execution_count": 14,
   "metadata": {},
   "outputs": [],
   "source": [
    "# print(set(train['지역'].unique()) - set(test['지역'].unique()))\n",
    "# print(set(train['자격유형'].unique()) - set(test['자격유형'].unique()))\n",
    "# print(set(train['공급유형'].unique()) - set(test['공급유형'].unique()))"
   ]
  },
  {
   "cell_type": "code",
   "execution_count": 15,
   "metadata": {},
   "outputs": [],
   "source": [
    "# # Test Data에 없는 카테고리 Train Data에서 제거\n",
    "# train = train[train['지역'] != '서울특별시'].reset_index(drop=True)\n",
    "# train = train[~train['자격유형'].isin(['F', 'O', 'B'])].reset_index(drop=True)\n",
    "# train = train[~train['공급유형'].isin(['공공분양', '공공임대(5년)', '장기전세'])].reset_index(drop=True)\n",
    "# print(train.shape)"
   ]
  },
  {
   "cell_type": "markdown",
   "metadata": {},
   "source": [
    "---"
   ]
  },
  {
   "cell_type": "code",
   "execution_count": 16,
   "metadata": {},
   "outputs": [],
   "source": [
    "# Train Data의 '임대보증금', '임대료'의 '-'를 0으로 변환\n",
    "train['임대보증금'] = train['임대보증금'].replace('-', 0).astype('float64')\n",
    "train['임대료'] = train['임대료'].replace('-', 0).astype('float64')"
   ]
  },
  {
   "cell_type": "code",
   "execution_count": 17,
   "metadata": {},
   "outputs": [],
   "source": [
    "# Test Data의 '임대보증금', '임대료'의 '-'를 0으로 변환\n",
    "test['임대보증금'] = test['임대보증금'].replace('-', 0).astype('float64')\n",
    "test['임대료'] = test['임대료'].replace('-', 0).astype('float64')"
   ]
  },
  {
   "cell_type": "markdown",
   "metadata": {},
   "source": [
    "---"
   ]
  },
  {
   "cell_type": "code",
   "execution_count": 18,
   "metadata": {},
   "outputs": [],
   "source": [
    "# Train Data의 '도보 10분거리 내 지하철역 수(환승노선 수 반영)' NA 0으로 대체\n",
    "train['도보 10분거리 내 지하철역 수(환승노선 수 반영)'] = train['도보 10분거리 내 지하철역 수(환승노선 수 반영)'].fillna(0)"
   ]
  },
  {
   "cell_type": "code",
   "execution_count": 19,
   "metadata": {},
   "outputs": [],
   "source": [
    "# Test Data의 '도보 10분거리 내 지하철역 수(환승노선 수 반영)' NA 0으로 대체\n",
    "test['도보 10분거리 내 지하철역 수(환승노선 수 반영)'] = test['도보 10분거리 내 지하철역 수(환승노선 수 반영)'].fillna(0)"
   ]
  },
  {
   "cell_type": "markdown",
   "metadata": {},
   "source": [
    "---"
   ]
  },
  {
   "cell_type": "code",
   "execution_count": 20,
   "metadata": {},
   "outputs": [],
   "source": [
    "# Test Data의 '단지코드' NA 특정값으로 대체\n",
    "test.loc[test['단지코드'] == 'C2411', '자격유형'] = 'A'\n",
    "test.loc[test['단지코드'] == 'C2253', '자격유형'] = 'D'"
   ]
  },
  {
   "cell_type": "markdown",
   "metadata": {},
   "source": [
    "---"
   ]
  },
  {
   "cell_type": "code",
   "execution_count": 21,
   "metadata": {},
   "outputs": [],
   "source": [
    "# Test Data의 '임대보증금', '임대료' NA 특정값으로 대체\n",
    "test.loc[test['임대보증금'].isnull(), '임대보증금'] = [5787000.0, 5787000.0, 11574000.0]\n",
    "test.loc[test['임대료'].isnull(), '임대료'] = [79980.0, 79980.0, 159960.0]"
   ]
  },
  {
   "cell_type": "markdown",
   "metadata": {},
   "source": [
    "---"
   ]
  },
  {
   "cell_type": "code",
   "execution_count": 22,
   "metadata": {},
   "outputs": [],
   "source": [
    "train2 = train.copy()\n",
    "test2 = test.copy()"
   ]
  },
  {
   "cell_type": "code",
   "execution_count": 23,
   "metadata": {},
   "outputs": [
    {
     "name": "stdout",
     "output_type": "stream",
     "text": [
      "10.0\n"
     ]
    }
   ],
   "source": [
    "# '단지명' 변수 생성\n",
    "data = pd.read_csv('임대주택_단지_조회.csv')\n",
    "data.drop(['순번', '전체건수', '최초입주년월'], axis=1, inplace=True)\n",
    "data['전용면적'] = np.round(data['전용면적'], 2)\n",
    "data['지역'] = ['세종특별자치시' if i[0] == '세종시' else i[0] for i in data['지역'].str.split()]\n",
    "\n",
    "noh_by_area = data.groupby('단지명', as_index=False).agg({'전용면적별세대수':'sum'})\n",
    "noh_by_area.columns = ['단지명', '전용면적별세대수합']\n",
    "data = pd.merge(left=data, right=noh_by_area, how='left', on='단지명')\n",
    "data.drop(['총세대수'], axis=1, inplace=True)\n",
    "\n",
    "train2_wo_dup = train2.drop_duplicates(subset=['단지코드'])[['단지코드', '지역', '전용면적별세대수합']].reset_index(drop=True)\n",
    "idx = np.column_stack([train2.drop_duplicates(subset=['단지코드'])[['지역', '전용면적별세대수합']].reset_index(drop=True), range(len(train2_wo_dup))])\n",
    "\n",
    "train2_wo_dup['단지명'] = None\n",
    "for i, j, k in idx:\n",
    "    if data.loc[(data['지역'] == i) & (data['전용면적별세대수합'] == j), '단지명'].nunique() == 1:\n",
    "        train2_wo_dup.iloc[k, train2_wo_dup.columns.get_loc('단지명')] = data.loc[(data['지역'] == i) & (data['전용면적별세대수합'] == j), '단지명'].unique()[0]\n",
    "        \n",
    "null = train2_wo_dup[train2_wo_dup['단지명'].isnull()].reset_index(drop=True)\n",
    "data_hhset = data[['단지명', '전용면적']].groupby(['단지명'])['전용면적'].apply(list)\n",
    "data_hhset = pd.DataFrame(data_hhset)\n",
    "data_hhset = pd.merge(data_hhset, data[['단지명', '지역', '전용면적별세대수합']], on='단지명')\n",
    "data_hhset = data_hhset[['단지명', '지역', '전용면적별세대수합', '전용면적']]\n",
    "data_hhset = data_hhset.drop_duplicates(['단지명']).reset_index(drop=True)\n",
    "\n",
    "idx = null['단지코드'].unique()\n",
    "for i in range(len(idx)):\n",
    "    areaset_train2 = set(train2.loc[train2['단지코드'] == idx[i], '전용면적'])\n",
    "    region = null.loc[i, '지역']\n",
    "    total_hh2 = null.loc[i,'전용면적별세대수합']\n",
    "    same = data_hhset.loc[(data_hhset['지역'] == region) & (data_hhset['전용면적별세대수합'] == total_hh2)].reset_index(drop=True)\n",
    "    diff = []\n",
    "    if len(same.index) != 0:\n",
    "        for j in range(len(same)):\n",
    "            areaset_data = set(same.loc[j, '전용면적'])\n",
    "            diff.append(len(areaset_train2 - areaset_data))\n",
    "        null.loc[i, '단지명'] = same.loc[np.argmin(diff), '단지명']\n",
    "\n",
    "\n",
    "for i in range(len(train2_wo_dup)):\n",
    "    if train2_wo_dup.iloc[i, train2_wo_dup.columns.get_loc('단지명')] == None:\n",
    "        train2_wo_dup.iloc[i, train2_wo_dup.columns.get_loc('단지명')] = null.loc[null['단지코드'] == train2_wo_dup.iloc[i, train2_wo_dup.columns.get_loc('단지코드')], '단지명']\n",
    "    else:\n",
    "        pass\n",
    "\n",
    "train2 = pd.merge(train2, train2_wo_dup[['단지코드', '단지명']], how='left', on='단지코드')\n",
    "\n",
    "code_name = train2['단지코드'].unique()\n",
    "for i in range(len(code_name)):\n",
    "    dat = train2.loc[train2['단지코드'] == code_name[i],:]\n",
    "    if (dat.shape[0] != dat.단지명.isnull().sum()) & (dat.shape[0] != dat.단지명.notnull().sum()):\n",
    "        train2.loc[train2['단지코드'] == code_name[i],'단지명'] = dat.loc[dat['단지명'].notnull(),'단지명']\n",
    "    else:\n",
    "        pass\n",
    "\n",
    "train2.reset_index(drop=True, inplace=True)\n",
    "print(round(train2.loc[train2['단지명'].isnull(), '단지코드'].nunique()/train2['단지코드'].nunique(), 2)*100)"
   ]
  },
  {
   "cell_type": "code",
   "execution_count": 24,
   "metadata": {},
   "outputs": [
    {
     "name": "stdout",
     "output_type": "stream",
     "text": [
      "7.000000000000001\n"
     ]
    }
   ],
   "source": [
    "# '단지명' 변수 생성\n",
    "data = pd.read_csv('임대주택_단지_조회.csv')\n",
    "data.drop(['순번', '전체건수', '최초입주년월'], axis=1, inplace=True)\n",
    "data['전용면적'] = np.round(data['전용면적'], 2)\n",
    "data['지역'] = ['세종특별자치시' if i[0] == '세종시' else i[0] for i in data['지역'].str.split()]\n",
    "\n",
    "noh_by_area = data.groupby('단지명', as_index=False).agg({'전용면적별세대수':'sum'})\n",
    "noh_by_area.columns = ['단지명', '전용면적별세대수합']\n",
    "data = pd.merge(left=data, right=noh_by_area, how='left', on='단지명')\n",
    "data.drop(['총세대수'], axis=1, inplace=True)\n",
    "\n",
    "test2_wo_dup = test2.drop_duplicates(subset=['단지코드'])[['단지코드', '지역', '전용면적별세대수합']].reset_index(drop=True)\n",
    "idx = np.column_stack([test2.drop_duplicates(subset=['단지코드'])[['지역', '전용면적별세대수합']].reset_index(drop=True), range(len(test2_wo_dup))])\n",
    "\n",
    "test2_wo_dup['단지명'] = None\n",
    "for i, j, k in idx:\n",
    "    if data.loc[(data['지역'] == i) & (data['전용면적별세대수합'] == j), '단지명'].nunique() == 1:\n",
    "        test2_wo_dup.iloc[k, test2_wo_dup.columns.get_loc('단지명')] = data.loc[(data['지역'] == i) & (data['전용면적별세대수합'] == j), '단지명'].unique()[0]\n",
    "        \n",
    "null = test2_wo_dup[test2_wo_dup['단지명'].isnull()].reset_index(drop=True)\n",
    "data_hhset = data[['단지명', '전용면적']].groupby(['단지명'])['전용면적'].apply(list)\n",
    "data_hhset = pd.DataFrame(data_hhset)\n",
    "data_hhset = pd.merge(data_hhset, data[['단지명', '지역', '전용면적별세대수합']], on='단지명')\n",
    "data_hhset = data_hhset[['단지명', '지역', '전용면적별세대수합', '전용면적']]\n",
    "data_hhset = data_hhset.drop_duplicates(['단지명']).reset_index(drop=True)\n",
    "\n",
    "idx = null['단지코드'].unique()\n",
    "for i in range(len(idx)):\n",
    "    areaset_test2 = set(test2.loc[test2['단지코드'] == idx[i], '전용면적'])\n",
    "    region = null.loc[i, '지역']\n",
    "    total_hh2 = null.loc[i,'전용면적별세대수합']\n",
    "    same = data_hhset.loc[(data_hhset['지역'] == region) & (data_hhset['전용면적별세대수합'] == total_hh2)].reset_index(drop=True)\n",
    "    diff = []\n",
    "    if len(same.index) != 0:\n",
    "        for j in range(len(same)):\n",
    "            areaset_data = set(same.loc[j, '전용면적'])\n",
    "            diff.append(len(areaset_test2 - areaset_data))\n",
    "        null.loc[i, '단지명'] = same.loc[np.argmin(diff), '단지명']\n",
    "\n",
    "\n",
    "for i in range(len(test2_wo_dup)):\n",
    "    if test2_wo_dup.iloc[i, test2_wo_dup.columns.get_loc('단지명')] == None:\n",
    "        test2_wo_dup.iloc[i, test2_wo_dup.columns.get_loc('단지명')] = null.loc[null['단지코드'] == test2_wo_dup.iloc[i, test2_wo_dup.columns.get_loc('단지코드')], '단지명']\n",
    "    else:\n",
    "        pass\n",
    "\n",
    "test2 = pd.merge(test2, test2_wo_dup[['단지코드', '단지명']], how='left', on='단지코드')\n",
    "\n",
    "code_name = test2['단지코드'].unique()\n",
    "for i in range(len(code_name)):\n",
    "    dat = test2.loc[test2['단지코드'] == code_name[i],:]\n",
    "    if (dat.shape[0] != dat.단지명.isnull().sum()) & (dat.shape[0] != dat.단지명.notnull().sum()):\n",
    "        test2.loc[test2['단지코드'] == code_name[i],'단지명'] = dat.loc[dat['단지명'].notnull(),'단지명']\n",
    "    else:\n",
    "        pass\n",
    "\n",
    "test2.reset_index(drop=True, inplace=True)\n",
    "print(round(test2.loc[test2['단지명'].isnull(), '단지코드'].nunique()/test2['단지코드'].nunique(), 2)*100)"
   ]
  },
  {
   "cell_type": "code",
   "execution_count": 25,
   "metadata": {},
   "outputs": [],
   "source": [
    "# 입주후기간(월) 변수추가 위해 in_date 데이터 생성\n",
    "data = pd.read_csv('임대주택_단지_조회.csv')\n",
    "data.drop(['순번', '전체건수'], axis=1, inplace=True)\n",
    "data['전용면적'] = np.round(data['전용면적'], 2)\n",
    "data['지역'] = ['세종특별자치시' if i[0] == '세종시' else i[0] for i in data['지역'].str.split()]\n",
    "\n",
    "# '단지명'과 함께 최초입주월 현재까지의 시간상 차이를 월단위로 나타내는 '입주후기간(월)'변수 생성\n",
    "in_date = data[['단지명', '최초입주년월']].drop_duplicates().reset_index(drop=True)\n",
    "in_date.loc[(in_date['최초입주년월']<198001)|(in_date['최초입주년월']>202501),'최초입주년월']=np.nan\n",
    "in_date.loc[in_date['최초입주년월'].notnull(), '년'] = in_date.loc[in_date['최초입주년월'].notnull(), '최초입주년월'] //100\n",
    "in_date.loc[in_date['최초입주년월'].notnull(), '월'] = in_date.loc[in_date['최초입주년월'].notnull(), '최초입주년월'] % 100\n",
    "#입주후기간: 현재(2021.07)와 각 단지의 최초입주년월의 차이를 개월수로 표현\n",
    "now = 2021*12+ 7 \n",
    "in_date.loc[in_date['최초입주년월'].notnull(), '입주후기간(월)'] = now - (in_date.loc[in_date['최초입주년월'].notnull(), '년']*12 + in_date.loc[in_date['최초입주년월'].notnull(), '월'])\n",
    "in_date = in_date.drop(['최초입주년월','년', '월'], axis=1)\n",
    "in_date.loc[in_date['입주후기간(월)']<=0,'입주후기간(월)']=np.nan"
   ]
  },
  {
   "cell_type": "code",
   "execution_count": 26,
   "metadata": {},
   "outputs": [],
   "source": [
    "# 입주후기간(월) 변수추가 \n",
    "train2 = pd.merge(train2, in_date, on ='단지명', how='left')\n",
    "train2 = train2.drop('단지명', axis=1)\n",
    "test2 = pd.merge(test2, in_date, on = '단지명', how='left')\n",
    "test2 = test2.drop('단지명', axis=1)\n",
    "train2 = train2[['단지코드', '입주후기간(월)']].drop_duplicates().reset_index(drop=True)\n",
    "test2 = test2[['단지코드', '입주후기간(월)']].drop_duplicates().reset_index(drop=True)"
   ]
  },
  {
   "cell_type": "code",
   "execution_count": 27,
   "metadata": {},
   "outputs": [
    {
     "name": "stdout",
     "output_type": "stream",
     "text": [
      "(2307, 20)\n",
      "(831, 19)\n"
     ]
    }
   ],
   "source": [
    "train = pd.merge(train, train2, on='단지코드', how='left')\n",
    "test = pd.merge(test, test2, on='단지코드', how='left')\n",
    "\n",
    "print(train.shape); print(test.shape)"
   ]
  },
  {
   "cell_type": "markdown",
   "metadata": {},
   "source": [
    "---\n",
    "\n",
    "#### 단지명, 주소, 총입주민수, 준공후기간 추가"
   ]
  },
  {
   "cell_type": "code",
   "execution_count": 28,
   "metadata": {},
   "outputs": [],
   "source": [
    "def total_member(df):\n",
    "    age_gender = pd.read_csv('한국토지주택공사_임대주택 단지별 연령대별 성별정보_20210511.csv', encoding='CP949')\n",
    "    age_gender_info = pd.read_csv('age_gender_info.csv')\n",
    "    age_gender = age_gender[age_gender['주택유형']=='아파트']\n",
    "    age_gender = age_gender.iloc[:,5:].groupby(['도로명주소']).sum().reset_index().merge(age_gender[['주택명','도로명주소']].drop_duplicates().groupby(['도로명주소']).first().reset_index(), on='도로명주소', how='left')\n",
    "    age_gender.rename(columns={'도로명주소':'주소', '주택명':'단지명'}, inplace=True)\n",
    "    age_gender = age_gender[age_gender.주소.notnull()]\n",
    "    age_gender = age_gender.drop_duplicates().reset_index(drop=True) #총세대수0인거 왜날림?\n",
    "    age_gender = age_gender.drop(['총세대수'], axis=1)\n",
    "    age_gender['총입주민수'] = age_gender.set_index(['단지명','주소']).apply(sum,axis=1).values\n",
    "    age_gender = age_gender.drop(['단지명'], axis=1)\n",
    "    age_gender.loc[:,age_gender.columns.str.contains('대')] = age_gender.loc[:,age_gender.columns.str.contains('대')].mul(1/age_gender['총입주민수'], axis=0)\n",
    "    df = pd.merge(df, age_gender, on=['주소'], how='left')\n",
    "    na_not_df = df[df[df.columns[df.columns.str.contains('0대')]].notnull().all(axis=1)]\n",
    "    na_df = df[df[df.columns[df.columns.str.contains('0대')]].isnull().any(axis=1)].loc[:,~df.columns.str.contains('0대')]\n",
    "    na_df = na_df.reset_index().merge(age_gender_info, on='지역').set_index('index')\n",
    "    na_df = na_df.drop(['총입주민수'], axis=1)\n",
    "    na_df['총입주민수'] = na_df['총세대수'] * 1.8\n",
    "    df = pd.concat([na_df, na_not_df],axis=0).sort_index().reset_index(drop=True)\n",
    "    return(df)"
   ]
  },
  {
   "cell_type": "code",
   "execution_count": 29,
   "metadata": {},
   "outputs": [],
   "source": [
    "# 준공공사일 후 시간 흐름 추가\n",
    "def add_build_date(df):\n",
    "    df.loc[df['단지명']=='가재마을 1단지', '준공일자']='2016-11-10'\n",
    "    #준공일자 글자길이 7이면 '-01' 추가해주기\n",
    "    df.loc[df['준공일자'].str.len()==7, '준공일자'] = df.loc[df['준공일자'].str.len()==7, '준공일자']+str('-01')\n",
    "    #준공일자 글자길이 5이면 ''-01-01'추가해주기\n",
    "    df.loc[df['준공일자'].str.len()==5, '준공일자'] = df.loc[df['준공일자'].str.len()==5, '준공일자']+str('01-01')\n",
    "    \n",
    "    df.loc[df['준공일자'].notnull(),'준공일자'] = df.loc[df['준공일자'].notnull(),'준공일자'].str.replace('-','').astype('int64')\n",
    "    #준공일자 지나치게 오래된것은 오류라고 판단, NA로 대체해주기.\n",
    "    df.loc[df['준공일자']<=19700101, '준공일자'] = np.nan\n",
    "    \n",
    "    df.loc[df['준공일자'].notnull(),'년'] = df.loc[df['준공일자'].notnull(),'준공일자']//10000\n",
    "    df.loc[df['준공일자'].notnull(),'월'] = df.loc[df['준공일자'].notnull(),'준공일자']//100 - df.loc[df['준공일자'].notnull(),'년']*100\n",
    "    df.loc[df['준공일자'].notnull(),'준공후기간(월)'] = 2021*12 + 7 - (df.loc[df['준공일자'].notnull(),'년']*12 + df.loc[df['준공일자'].notnull(),'월'])\n",
    "    df = df.drop(['준공일자', '년', '월'], axis=1)\n",
    "    return(df)"
   ]
  },
  {
   "cell_type": "code",
   "execution_count": 30,
   "metadata": {},
   "outputs": [
    {
     "name": "stdout",
     "output_type": "stream",
     "text": [
      "(2307, 24)\n",
      "(831, 23)\n"
     ]
    }
   ],
   "source": [
    "train2 = train.copy()\n",
    "train2 = var.code_name(train2)\n",
    "train2 = total_member(train2)\n",
    "train2 = add_build_date(train2)\n",
    "train2 = train2[['단지코드', '단지명', '주소', '총입주민수', '준공후기간(월)']].drop_duplicates().reset_index(drop=True)\n",
    "train = pd.merge(train, train2, on='단지코드', how='left')\n",
    "\n",
    "test2 = test.copy()\n",
    "test2 = var.code_name(test2)\n",
    "test2 = total_member(test2)\n",
    "test2 = add_build_date(test2)\n",
    "test2 = test2[['단지코드', '단지명', '주소', '총입주민수','준공후기간(월)' ]].drop_duplicates().reset_index(drop=True)\n",
    "test = pd.merge(test, test2, on='단지코드', how='left')\n",
    "\n",
    "print(train.shape)\n",
    "print(test.shape)"
   ]
  },
  {
   "cell_type": "code",
   "execution_count": 31,
   "metadata": {},
   "outputs": [],
   "source": [
    "train.loc[(train['준공후기간(월)'].isnull())&(train['입주후기간(월)'].notnull()), '준공후기간(월)']= train.loc[(train['준공후기간(월)'].isnull())&(train['입주후기간(월)'].notnull()), '입주후기간(월)']\n",
    "test.loc[(test['준공후기간(월)'].isnull())&(test['입주후기간(월)'].notnull()), '준공후기간(월)']= test.loc[(test['준공후기간(월)'].isnull())&(test['입주후기간(월)'].notnull()), '입주후기간(월)']"
   ]
  },
  {
   "cell_type": "markdown",
   "metadata": {},
   "source": [
    "---"
   ]
  },
  {
   "cell_type": "code",
   "execution_count": 32,
   "metadata": {
    "scrolled": true
   },
   "outputs": [],
   "source": [
    "# Train Data의 '차량미보유세대수' 변수 생성\n",
    "noh_wo_cars = train[train['공급유형'].isin(['영구임대', '행복주택'])].groupby('단지코드', as_index=False).agg({'전용면적별세대수':'sum'}).rename(columns={'전용면적별세대수':'차량미보유세대수'})\n",
    "train = pd.merge(train, noh_wo_cars, how='left')\n",
    "train['차량미보유세대수'] = train['차량미보유세대수'].fillna(0)\n",
    "train.drop(['공급유형', '자격유형'], axis=1, inplace=True)"
   ]
  },
  {
   "cell_type": "code",
   "execution_count": 33,
   "metadata": {
    "scrolled": true
   },
   "outputs": [],
   "source": [
    "# Test Data의 '차량미보유세대수' 변수 생성\n",
    "noh_wo_cars = test[test['공급유형'].isin(['영구임대', '행복주택'])].groupby('단지코드', as_index=False).agg({'전용면적별세대수':'sum'}).rename(columns={'전용면적별세대수':'차량미보유세대수'})\n",
    "test = pd.merge(test, noh_wo_cars, how='left')\n",
    "test['차량미보유세대수'] = test['차량미보유세대수'].fillna(0)\n",
    "test.drop(['공급유형', '자격유형'], axis=1, inplace=True)"
   ]
  },
  {
   "cell_type": "markdown",
   "metadata": {},
   "source": [
    "---"
   ]
  },
  {
   "cell_type": "code",
   "execution_count": 34,
   "metadata": {},
   "outputs": [],
   "source": [
    "# Train Data의 '임대료' 변수 재생성 (전용면적별세대수 가중 평균)\n",
    "train['임대료'] = round(train['임대료'] * train['전용면적별세대수'] / train['전용면적별세대수합'])\n",
    "rental_fee = train.groupby('단지코드', as_index=False).agg({'임대료':'sum'})\n",
    "train = pd.merge(train, rental_fee, how='left', on='단지코드').drop(['임대료_x'], axis=1).rename(columns={'임대료_y':'임대료'})"
   ]
  },
  {
   "cell_type": "code",
   "execution_count": 35,
   "metadata": {},
   "outputs": [],
   "source": [
    "# Test Data의 '임대료' 변수 재생성 (전용면적별세대수 가중 평균)\n",
    "test['임대료'] = round(test['임대료'] * test['전용면적별세대수'] / test['전용면적별세대수합'])\n",
    "rental_fee = test.groupby('단지코드', as_index=False).agg({'임대료':'sum'})\n",
    "test = pd.merge(test, rental_fee, how='left', on='단지코드').drop(['임대료_x'], axis=1).rename(columns={'임대료_y':'임대료'})"
   ]
  },
  {
   "cell_type": "code",
   "execution_count": 36,
   "metadata": {},
   "outputs": [],
   "source": [
    "# Train Data의 '임대보증금' 변수 재생성 (전용면적별세대수 가중 평균)\n",
    "train['임대보증금'] = round(train['임대보증금'] * train['전용면적별세대수'] / train['전용면적별세대수합'])\n",
    "rental_fee = train.groupby('단지코드', as_index=False).agg({'임대보증금':'sum'})\n",
    "train = pd.merge(train, rental_fee, how='left', on='단지코드').drop(['임대보증금_x'], axis=1).rename(columns={'임대보증금_y':'임대보증금'})"
   ]
  },
  {
   "cell_type": "code",
   "execution_count": 37,
   "metadata": {},
   "outputs": [],
   "source": [
    "# Test Data의 '임대보증금' 변수 재생성 (전용면적별세대수 가중 평균)\n",
    "test['임대보증금'] = round(test['임대보증금'] * test['전용면적별세대수'] / test['전용면적별세대수합'])\n",
    "rental_fee = test.groupby('단지코드', as_index=False).agg({'임대보증금':'sum'})\n",
    "test = pd.merge(test, rental_fee, how='left', on='단지코드').drop(['임대보증금_x'], axis=1).rename(columns={'임대보증금_y':'임대보증금'})"
   ]
  },
  {
   "cell_type": "markdown",
   "metadata": {},
   "source": [
    "---\n",
    "#### 소형세대 변수추가"
   ]
  },
  {
   "cell_type": "code",
   "execution_count": 38,
   "metadata": {},
   "outputs": [],
   "source": [
    "# 소형세대, 중형세대, 대형세대 변수 생성\n",
    "size= pd.DataFrame(columns=['단지코드','소형세대', '중형세대','대형세대'])\n",
    "size['단지코드'] = train.단지코드.unique()\n",
    "code=size['단지코드']\n",
    "\n",
    "for i in range(len(code)):\n",
    "    house = train[train['단지코드']==code[i]]\n",
    "    size.loc[i, '소형세대'] = sum(house.loc[house['전용면적']<40,'전용면적별세대수'])\n",
    "    size.loc[i, '중형세대'] = sum(house.loc[(house['전용면적']>=40)&(house['전용면적']<80) ,'전용면적별세대수'])\n",
    "    size.loc[i, '대형세대'] = sum(house.loc[house['전용면적']>=80,'전용면적별세대수'])\n",
    "\n",
    "size['소형세대'] = size['소형세대'].astype('int64')\n",
    "size['중형세대'] = size['중형세대'].astype('int64')\n",
    "size['대형세대'] = size['대형세대'].astype('int64')\n",
    "\n",
    "train = pd.merge(train, size, on='단지코드', how='left')\n",
    "train['소형세대'] = train['소형세대']/train['총세대수']\n",
    "train['중형세대'] = train['중형세대']/train['총세대수']\n",
    "train['대형세대'] = train['대형세대']/train['총세대수']\n",
    "\n",
    "# 소형세대, 중형세대, 대형세대 변수 생성\n",
    "size= pd.DataFrame(columns=['단지코드','소형세대', '중형세대','대형세대'])\n",
    "size['단지코드'] = test.단지코드.unique()\n",
    "code=size['단지코드']\n",
    "\n",
    "for i in range(len(code)):\n",
    "    house = test[test['단지코드']==code[i]]\n",
    "    size.loc[i, '소형세대'] = sum(house.loc[house['전용면적']<40,'전용면적별세대수'])\n",
    "    size.loc[i, '중형세대'] = sum(house.loc[(house['전용면적']>=40)&(house['전용면적']<80) ,'전용면적별세대수'])\n",
    "    size.loc[i, '대형세대'] = sum(house.loc[house['전용면적']>=80,'전용면적별세대수'])\n",
    "\n",
    "size['소형세대'] = size['소형세대'].astype('int64')\n",
    "size['중형세대'] = size['중형세대'].astype('int64')\n",
    "size['대형세대'] = size['대형세대'].astype('int64')\n",
    "\n",
    "test = pd.merge(test, size, on='단지코드', how='left')\n",
    "test['소형세대'] = test['소형세대']/test['총세대수']\n",
    "test['중형세대'] = test['중형세대']/test['총세대수']\n",
    "test['대형세대'] = test['대형세대']/test['총세대수']"
   ]
  },
  {
   "cell_type": "markdown",
   "metadata": {},
   "source": [
    "---"
   ]
  },
  {
   "cell_type": "code",
   "execution_count": 39,
   "metadata": {},
   "outputs": [],
   "source": [
    "# Train Data의 '전용면적' 변수 재생성 (전용면적별세대수 가중 평균)\n",
    "train['전용면적'] = round(train['전용면적'] * train['전용면적별세대수'] / train['전용면적별세대수합'])\n",
    "rental_fee = train.groupby('단지코드', as_index=False).agg({'전용면적':'sum'})\n",
    "train = pd.merge(train, rental_fee, how='left', on='단지코드').drop(['전용면적_x'], axis=1).rename(columns={'전용면적_y':'전용면적'})"
   ]
  },
  {
   "cell_type": "code",
   "execution_count": 40,
   "metadata": {},
   "outputs": [],
   "source": [
    "# Test Data의 '전용면적' 변수 재생성 (전용면적별세대수 가중 평균)\n",
    "test['전용면적'] = round(test['전용면적'] * test['전용면적별세대수'] / test['전용면적별세대수합'])\n",
    "rental_fee = test.groupby('단지코드', as_index=False).agg({'전용면적':'sum'})\n",
    "test = pd.merge(test, rental_fee, how='left', on='단지코드').drop(['전용면적_x'], axis=1).rename(columns={'전용면적_y':'전용면적'})"
   ]
  },
  {
   "cell_type": "markdown",
   "metadata": {},
   "source": [
    "---"
   ]
  },
  {
   "cell_type": "code",
   "execution_count": 41,
   "metadata": {},
   "outputs": [
    {
     "name": "stdout",
     "output_type": "stream",
     "text": [
      "(2307, 27)\n"
     ]
    }
   ],
   "source": [
    "# Train Data의 '아파트수' 변수 생성\n",
    "num_of_apt = pd.DataFrame(train['단지코드'].value_counts()).reset_index().rename(columns={'index':'단지코드', '단지코드':'아파트수'})\n",
    "train = pd.merge(train, num_of_apt, how='left', on='단지코드')\n",
    "print(train.shape)"
   ]
  },
  {
   "cell_type": "code",
   "execution_count": 42,
   "metadata": {},
   "outputs": [
    {
     "name": "stdout",
     "output_type": "stream",
     "text": [
      "(831, 26)\n"
     ]
    }
   ],
   "source": [
    "# Test Data의 '아파트수' 변수 생성\n",
    "num_of_apt = pd.DataFrame(test['단지코드'].value_counts()).reset_index().rename(columns={'index':'단지코드', '단지코드':'아파트수'})\n",
    "test = pd.merge(test, num_of_apt, how='left', on='단지코드')\n",
    "print(test.shape)"
   ]
  },
  {
   "cell_type": "markdown",
   "metadata": {},
   "source": [
    "---"
   ]
  },
  {
   "cell_type": "code",
   "execution_count": 43,
   "metadata": {
    "scrolled": true
   },
   "outputs": [
    {
     "name": "stdout",
     "output_type": "stream",
     "text": [
      "(2307, 28)\n"
     ]
    }
   ],
   "source": [
    "# Train Data의 '차량보유인구비율' 변수 생성\n",
    "age_gender_info = pd.read_csv('age_gender_info.csv')\n",
    "cars = pd.DataFrame(age_gender_info.iloc[:, [7, 8, 9, 10, 12, 14]].sum(axis=1), columns=['차량보유인구비율'])\n",
    "cars['지역'] = age_gender_info['지역']\n",
    "train = pd.merge(train, cars, how='left', on='지역')\n",
    "print(train.shape)"
   ]
  },
  {
   "cell_type": "code",
   "execution_count": 44,
   "metadata": {},
   "outputs": [
    {
     "name": "stdout",
     "output_type": "stream",
     "text": [
      "(831, 27)\n"
     ]
    }
   ],
   "source": [
    "# Test Data의 '차량보유인구비율' 변수 생성\n",
    "test = pd.merge(test, cars, how='left', on='지역')\n",
    "print(test.shape)"
   ]
  },
  {
   "cell_type": "markdown",
   "metadata": {},
   "source": [
    "---"
   ]
  },
  {
   "cell_type": "code",
   "execution_count": 45,
   "metadata": {},
   "outputs": [],
   "source": [
    "train = train.drop(['전용면적별세대수'], axis=1).drop_duplicates().reset_index(drop=True)\n",
    "train['차량미보유세대비율'] = train['차량미보유세대수'] / train['총세대수']"
   ]
  },
  {
   "cell_type": "code",
   "execution_count": 46,
   "metadata": {},
   "outputs": [],
   "source": [
    "test = test.drop(['전용면적별세대수'], axis=1).drop_duplicates().reset_index(drop=True)\n",
    "test['차량미보유세대비율'] = test['차량미보유세대수'] / test['총세대수']"
   ]
  },
  {
   "cell_type": "code",
   "execution_count": 47,
   "metadata": {},
   "outputs": [],
   "source": [
    "# train = train.drop('총입주민수', axis=1).drop_duplicates().reset_index(drop=True)\n",
    "# test = test.drop('총입주민수', axis=1).drop_duplicates().reset_index(drop=True)"
   ]
  },
  {
   "cell_type": "code",
   "execution_count": 48,
   "metadata": {},
   "outputs": [
    {
     "data": {
      "text/plain": [
       "Index(['단지코드', '총세대수', '지역', '공가수', '도보 10분거리 내 지하철역 수(환승노선 수 반영)',\n",
       "       '도보 10분거리 내 버스정류장 수', '단지내주차면수', '등록차량수', '상가수', '자격유형_major',\n",
       "       '공급유형_major', '전용면적별세대수합', '전용면적별세대수합_myhome', '입주후기간(월)', '단지명', '주소',\n",
       "       '총입주민수', '준공후기간(월)', '차량미보유세대수', '임대료', '임대보증금', '소형세대', '중형세대', '대형세대',\n",
       "       '전용면적', '아파트수', '차량보유인구비율', '차량미보유세대비율'],\n",
       "      dtype='object')"
      ]
     },
     "execution_count": 48,
     "metadata": {},
     "output_type": "execute_result"
    }
   ],
   "source": [
    "train.columns"
   ]
  },
  {
   "cell_type": "code",
   "execution_count": 49,
   "metadata": {},
   "outputs": [],
   "source": [
    "# '입주후기간(월)' Imputation\n",
    "from impyute.imputation.cs import mice\n",
    "train['준공후기간(월)']=train['준공후기간(월)'].astype('float64')\n",
    "train_num = train.loc[:,train.dtypes!=object]\n",
    "train_imp = mice(train_num.values)\n",
    "train_imp = pd.DataFrame(train_imp)\n",
    "train_imp.columns = train_num.columns\n",
    "train['준공후기간(월)'] = train_imp['준공후기간(월)']"
   ]
  },
  {
   "cell_type": "code",
   "execution_count": 50,
   "metadata": {},
   "outputs": [],
   "source": [
    "# '입주후기간(월)' Imputation\n",
    "from impyute.imputation.cs import mice\n",
    "test['준공후기간(월)']=test['준공후기간(월)'].astype('float64')\n",
    "test_num = test.loc[:,test.dtypes!=object]\n",
    "test_imp = mice(test_num.values)\n",
    "test_imp = pd.DataFrame(test_imp)\n",
    "test_imp.columns = test_num.columns\n",
    "test['준공후기간(월)'] = test_imp['준공후기간(월)']"
   ]
  },
  {
   "cell_type": "code",
   "execution_count": 51,
   "metadata": {},
   "outputs": [
    {
     "data": {
      "text/plain": [
       "(411, 28)"
      ]
     },
     "execution_count": 51,
     "metadata": {},
     "output_type": "execute_result"
    }
   ],
   "source": [
    "train.shape"
   ]
  },
  {
   "cell_type": "code",
   "execution_count": 52,
   "metadata": {},
   "outputs": [
    {
     "data": {
      "text/plain": [
       "(147, 27)"
      ]
     },
     "execution_count": 52,
     "metadata": {},
     "output_type": "execute_result"
    }
   ],
   "source": [
    "test.shape"
   ]
  },
  {
   "cell_type": "code",
   "execution_count": 53,
   "metadata": {},
   "outputs": [
    {
     "data": {
      "text/plain": [
       "Index(['단지코드', '총세대수', '지역', '공가수', '도보 10분거리 내 지하철역 수(환승노선 수 반영)',\n",
       "       '도보 10분거리 내 버스정류장 수', '단지내주차면수', '등록차량수', '상가수', '자격유형_major',\n",
       "       '공급유형_major', '전용면적별세대수합', '전용면적별세대수합_myhome', '입주후기간(월)', '단지명', '주소',\n",
       "       '총입주민수', '준공후기간(월)', '차량미보유세대수', '임대료', '임대보증금', '소형세대', '중형세대', '대형세대',\n",
       "       '전용면적', '아파트수', '차량보유인구비율', '차량미보유세대비율'],\n",
       "      dtype='object')"
      ]
     },
     "execution_count": 53,
     "metadata": {},
     "output_type": "execute_result"
    }
   ],
   "source": [
    "train.columns"
   ]
  },
  {
   "cell_type": "code",
   "execution_count": 54,
   "metadata": {},
   "outputs": [],
   "source": [
    "train.to_csv('new_train3.csv', index=False)\n",
    "test.to_csv('new_test3.csv', index=False)"
   ]
  },
  {
   "cell_type": "code",
   "execution_count": 55,
   "metadata": {},
   "outputs": [
    {
     "data": {
      "text/plain": [
       "단지코드                             0\n",
       "총세대수                             0\n",
       "지역                               0\n",
       "공가수                              0\n",
       "도보 10분거리 내 지하철역 수(환승노선 수 반영)     0\n",
       "도보 10분거리 내 버스정류장 수               0\n",
       "단지내주차면수                          0\n",
       "상가수                              0\n",
       "자격유형_major                       0\n",
       "공급유형_major                       0\n",
       "전용면적별세대수합                        0\n",
       "전용면적별세대수합_myhome                 0\n",
       "입주후기간(월)                        47\n",
       "단지명                              0\n",
       "주소                               0\n",
       "총입주민수                            0\n",
       "준공후기간(월)                         0\n",
       "차량미보유세대수                         0\n",
       "임대료                              0\n",
       "임대보증금                            0\n",
       "소형세대                             0\n",
       "중형세대                             0\n",
       "대형세대                             0\n",
       "전용면적                             0\n",
       "아파트수                             0\n",
       "차량보유인구비율                         0\n",
       "차량미보유세대비율                        0\n",
       "dtype: int64"
      ]
     },
     "execution_count": 55,
     "metadata": {},
     "output_type": "execute_result"
    }
   ],
   "source": [
    "train.isnull().sum()\n",
    "test.isnull().sum()"
   ]
  },
  {
   "cell_type": "markdown",
   "metadata": {},
   "source": [
    "---"
   ]
  }
 ],
 "metadata": {
  "kernelspec": {
   "display_name": "Python 3",
   "language": "python",
   "name": "python3"
  },
  "language_info": {
   "codemirror_mode": {
    "name": "ipython",
    "version": 3
   },
   "file_extension": ".py",
   "mimetype": "text/x-python",
   "name": "python",
   "nbconvert_exporter": "python",
   "pygments_lexer": "ipython3",
   "version": "3.8.5"
  }
 },
 "nbformat": 4,
 "nbformat_minor": 5
}
