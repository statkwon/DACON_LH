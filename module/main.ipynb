{
 "metadata": {
  "language_info": {
   "codemirror_mode": {
    "name": "ipython",
    "version": 3
   },
   "file_extension": ".py",
   "mimetype": "text/x-python",
   "name": "python",
   "nbconvert_exporter": "python",
   "pygments_lexer": "ipython3",
   "version": "3.9.4"
  },
  "orig_nbformat": 2,
  "kernelspec": {
   "name": "python394jvsc74a57bd0aee8b7b246df8f9039afb4144a1f6fd8d2ca17a180786b69acc140d282b71a49",
   "display_name": "Python 3.9.4 64-bit"
  },
  "metadata": {
   "interpreter": {
    "hash": "aee8b7b246df8f9039afb4144a1f6fd8d2ca17a180786b69acc140d282b71a49"
   }
  }
 },
 "nbformat": 4,
 "nbformat_minor": 2,
 "cells": [
  {
   "cell_type": "code",
   "execution_count": 27,
   "metadata": {},
   "outputs": [],
   "source": [
    "import pandas as pd\n",
    "import numpy as np\n",
    "from sklearn.preprocessing import OneHotEncoder\n",
    "import matplotlib as mpl ; mpl.rcParams['axes.unicode_minus'] = False\n",
    "import matplotlib.pyplot as plt ; plt.rcParams['font.family'] = 'AppleGothic'\n",
    "# ----- Our own modules\n",
    "import variable as var\n",
    "import Preprocessing as pre\n",
    "import modeling as md"
   ]
  },
  {
   "cell_type": "code",
   "execution_count": 28,
   "metadata": {},
   "outputs": [],
   "source": [
    "train = pd.read_csv('train.csv')\n",
    "test = pd.read_csv('test.csv')\n",
    "# --------------- Train Set [전처리], [변수추가] ---------------\n",
    "train = pre.Preprocessing(train, return_train=True) # [전처리]\n",
    "train = var.gen_size(train) # [변수추가] 소형세대, 중형세대, 대형세대\n",
    "train = var.code_name(train) # [변수추가] 단지명, 주소 (위도, 경도는 결측값 대체전까지 보류)\n",
    "train = var.major_voting(train, '자격유형') # [변수추가] 자격유형_major\n",
    "train = var.major_voting(train, '공급유형') # [변수추가] 공급유형_major\n",
    "train = var.weigted_fee(train) # [변수추가] 가중평균임대료\n",
    "train = var.total_member(train) # [변수추가] 총입주민수\n",
    "train = train.drop(['자격유형','공급유형'], axis=1)\n",
    "train = train.drop(['임대료', '임대보증금'],axis=1)\n",
    "train = train.drop(['전용면적','전용면적별세대수'],axis=1)\n",
    "\n",
    "# train = pre.dummy_train(train,'자격유형_major') # 자격유형_major OneHotEncoding(Test에 없어도 자동변환)\n",
    "#train = train.loc[:,~train.columns.str.contains('|'.join(['(남자)','(여자)']),regex=True)] #Warning(str.contains)\n",
    "\n",
    "# --------------- Test Set [전처리], [변수추가] ---------------\n",
    "test = pre.Preprocessing(test, return_train=False)\n",
    "test = var.gen_size(test) # [변수추가] 소형세대, 중형세대, 대형세대\n",
    "test = var.code_name(test) # [변수추가] 단지명, 주소 (위도, 경도는 결측값 대체전까지 보류)\n",
    "test = var.major_voting(test, '자격유형') # [변수추가] 자격유형_major\n",
    "test = var.major_voting(test, '공급유형') # [변수추가] 공급유형_major\n",
    "test = var.weigted_fee(test) # [변수추가] 가중평균임대료\n",
    "test = var.total_member(test) # [변수추가] 총입주민수\n",
    "test = test.drop(['자격유형','공급유형'], axis=1)\n",
    "test = test.drop(['임대료', '임대보증금'],axis=1)\n",
    "test = test.drop(['전용면적','전용면적별세대수'],axis=1)\n",
    "\n",
    "train,test = pre.dummy(train,test,'자격유형_major') # 자격유형_major OneHotEncoding(Test에 없어도 자동변환)"
   ]
  },
  {
   "cell_type": "code",
   "execution_count": 29,
   "metadata": {},
   "outputs": [
    {
     "output_type": "stream",
     "name": "stderr",
     "text": [
      "/Library/Frameworks/Python.framework/Versions/3.9/lib/python3.9/site-packages/pandas/core/strings/accessor.py:101: UserWarning: This pattern has match groups. To actually get the groups, use str.extract.\n  return func(self, *args, **kwargs)\n"
     ]
    }
   ],
   "source": [
    "train['고령인구비율'] = train[['70대(여자)','70대(남자)','80대(여자)','80대(남자)','90대(여자)','90대(남자)','100대(여자)','100대(남자)']].apply(np.sum, axis=1)\n",
    "train = train.loc[:,~train.columns.str.contains('|'.join(['(남자)','(여자)']),regex=True)] #Warning(str.contains)\n",
    "train['세대당가구원'] = train['총입주민수']/train['총세대수']\n",
    "train = train.drop(['중형세대','대형세대'], axis=1)\n",
    "test['고령인구비율'] = test[['70대(여자)','70대(남자)','80대(여자)','80대(남자)','90대(여자)','90대(남자)','100대(여자)','100대(남자)']].apply(np.sum, axis=1)\n",
    "test = test.loc[:,~test.columns.str.contains('|'.join(['(남자)','(여자)']),regex=True)] #Warning(str.contains)\n",
    "test['세대당가구원'] = test['총입주민수']/test['총세대수']\n",
    "test = test.drop(['중형세대','대형세대'], axis=1)\n",
    "test = test.fillna(1.5) # 총입주민수 NA 존재!\n",
    "train = train.fillna(1.5)"
   ]
  },
  {
   "cell_type": "code",
   "execution_count": 30,
   "metadata": {},
   "outputs": [
    {
     "output_type": "execute_result",
     "data": {
      "text/plain": [
       "122.38528925619833"
      ]
     },
     "metadata": {},
     "execution_count": 30
    }
   ],
   "source": [
    "md.modeling(train, 'RF')"
   ]
  },
  {
   "cell_type": "code",
   "execution_count": 34,
   "metadata": {},
   "outputs": [
    {
     "output_type": "execute_result",
     "data": {
      "text/plain": [
       "      code      num\n",
       "0    C1003   256.70\n",
       "1    C1006   186.91\n",
       "2    C1016   682.97\n",
       "3    C1019   288.08\n",
       "4    C1030    46.74\n",
       "..     ...      ...\n",
       "145  C2688    90.29\n",
       "146  C2691  1062.37\n",
       "147  C2675     0.00\n",
       "148  C2335     0.00\n",
       "149  C1327     0.00\n",
       "\n",
       "[150 rows x 2 columns]"
      ],
      "text/html": "<div>\n<style scoped>\n    .dataframe tbody tr th:only-of-type {\n        vertical-align: middle;\n    }\n\n    .dataframe tbody tr th {\n        vertical-align: top;\n    }\n\n    .dataframe thead th {\n        text-align: right;\n    }\n</style>\n<table border=\"1\" class=\"dataframe\">\n  <thead>\n    <tr style=\"text-align: right;\">\n      <th></th>\n      <th>code</th>\n      <th>num</th>\n    </tr>\n  </thead>\n  <tbody>\n    <tr>\n      <th>0</th>\n      <td>C1003</td>\n      <td>256.70</td>\n    </tr>\n    <tr>\n      <th>1</th>\n      <td>C1006</td>\n      <td>186.91</td>\n    </tr>\n    <tr>\n      <th>2</th>\n      <td>C1016</td>\n      <td>682.97</td>\n    </tr>\n    <tr>\n      <th>3</th>\n      <td>C1019</td>\n      <td>288.08</td>\n    </tr>\n    <tr>\n      <th>4</th>\n      <td>C1030</td>\n      <td>46.74</td>\n    </tr>\n    <tr>\n      <th>...</th>\n      <td>...</td>\n      <td>...</td>\n    </tr>\n    <tr>\n      <th>145</th>\n      <td>C2688</td>\n      <td>90.29</td>\n    </tr>\n    <tr>\n      <th>146</th>\n      <td>C2691</td>\n      <td>1062.37</td>\n    </tr>\n    <tr>\n      <th>147</th>\n      <td>C2675</td>\n      <td>0.00</td>\n    </tr>\n    <tr>\n      <th>148</th>\n      <td>C2335</td>\n      <td>0.00</td>\n    </tr>\n    <tr>\n      <th>149</th>\n      <td>C1327</td>\n      <td>0.00</td>\n    </tr>\n  </tbody>\n</table>\n<p>150 rows × 2 columns</p>\n</div>"
     },
     "metadata": {},
     "execution_count": 34
    }
   ],
   "source": [
    "md.submit(train,test)"
   ]
  }
 ]
}