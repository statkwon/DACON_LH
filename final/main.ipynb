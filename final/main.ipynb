{
 "cells": [
  {
   "cell_type": "markdown",
   "source": [
    "# Preprocessing"
   ],
   "metadata": {}
  },
  {
   "cell_type": "code",
   "execution_count": 1,
   "source": [
    "import numpy as np\n",
    "import seaborn as sns\n",
    "from impyute.imputation.cs import mice\n",
    "import pandas as pd ; pd.options.display.max_rows = 150\n",
    "import matplotlib as mpl ; mpl.rcParams['axes.unicode_minus'] = False\n",
    "import matplotlib.pyplot as plt ; plt.rcParams['font.family'] = 'AppleGothic'\n",
    "import variable as var"
   ],
   "outputs": [],
   "metadata": {}
  },
  {
   "cell_type": "markdown",
   "source": [
    "## 공공데이터 출처\n",
    "**myhome_xyfill**: https://www.myhome.go.kr/hws/portal/sch/selectRentalHouseInfoListView.do  \n",
    "크롤링코드: https://github.com/statkwon/DACON_LH/blob/master/crawling/MyHome.ipynb  \n",
    "마이홈포털의 데이터를 이용해 현재 보유하고 있는 데이터에 단지명과 주소 변수를 추가하였습니다.\n",
    "\n",
    "**code_age_gender**: https://www.data.go.kr/data/15059813/fileData.do  \n",
    "주소 변수를 활용하여 단지코드별로 실제 연령/성별대 입주민수 및 총입주민수를 계산했습니다.\n",
    "\n",
    "아래는 공공데이터를 활용하기 위한 코드입니다."
   ],
   "metadata": {}
  },
  {
   "cell_type": "code",
   "execution_count": 2,
   "source": [
    "code_age_gender = pd.read_csv('한국토지주택공사_임대주택 단지별 연령대별 성별정보_20210511.csv', encoding='CP949')\n",
    "myhome_xyfill = pd.read_csv('myhome_xyfill.csv').drop_duplicates()\n",
    "age_gender_info = pd.read_csv('age_gender_info.csv')"
   ],
   "outputs": [],
   "metadata": {}
  },
  {
   "cell_type": "code",
   "execution_count": 3,
   "source": [
    "# Train/test data 불러오기 및 오류 데이터 제거\n",
    "train = pd.read_csv('train.csv')\n",
    "train_error = ['C2085', 'C1397', 'C2431', 'C1649', 'C1036', 'C1095', 'C2051', 'C1218', 'C1894', 'C2483', 'C1502', 'C1988']\n",
    "train = train[~train['단지코드'].isin(train_error)].reset_index(drop=True)\n",
    "test = pd.read_csv('test.csv')\n",
    "test_error = ['C2675', 'C2335', 'C1327']\n",
    "test = test[~test['단지코드'].isin(test_error)].reset_index(drop=True)\n",
    "print(f'Train Set: {train.shape} | Test Set: {test.shape}')"
   ],
   "outputs": [
    {
     "output_type": "stream",
     "name": "stdout",
     "text": [
      "Train Set: (2869, 15) | Test Set: (1008, 14)\n"
     ]
    }
   ],
   "metadata": {
    "scrolled": true
   }
  },
  {
   "cell_type": "code",
   "execution_count": 4,
   "source": [
    "# '임대보증금', '임대료'의 '-'를 0으로 변환\n",
    "train['임대보증금'] = train['임대보증금'].replace('-', 0).astype('float64')\n",
    "train['임대료'] = train['임대료'].replace('-', 0).astype('float64')\n",
    "test['임대보증금'] = test['임대보증금'].replace('-', 0).astype('float64')\n",
    "test['임대료'] = test['임대료'].replace('-', 0).astype('float64')\n",
    "print(f'Train Set: {train.shape} | Test Set: {test.shape}')"
   ],
   "outputs": [
    {
     "output_type": "stream",
     "name": "stdout",
     "text": [
      "Train Set: (2869, 15) | Test Set: (1008, 14)\n"
     ]
    }
   ],
   "metadata": {}
  },
  {
   "cell_type": "code",
   "execution_count": 5,
   "source": [
    "# '임대보증금', '임대료' NA를 0으로 대체\n",
    "train.loc[(train['임대건물구분'] == '상가') & (train['임대보증금'].isnull()), '임대보증금'] = 0\n",
    "train.loc[(train['임대건물구분'] == '상가') & (train['임대료'].isnull()), '임대료'] = 0\n",
    "test.loc[(test['임대건물구분'] == '상가') & (test['임대보증금'].isnull()), '임대보증금'] = 0\n",
    "test.loc[(test['임대건물구분'] == '상가') & (test['임대료'].isnull()), '임대료'] = 0\n",
    "print(f'Train Set: {train.shape} | Test Set: {test.shape}')"
   ],
   "outputs": [
    {
     "output_type": "stream",
     "name": "stdout",
     "text": [
      "Train Set: (2869, 15) | Test Set: (1008, 14)\n"
     ]
    }
   ],
   "metadata": {}
  },
  {
   "cell_type": "code",
   "execution_count": 6,
   "source": [
    "# Test Data의 '임대보증금', '임대료' NA 특정값으로 대체\n",
    "test.loc[test['임대보증금'].isnull(), '임대보증금'] = [5787000.0, 5787000.0, 11574000.0]\n",
    "test.loc[test['임대료'].isnull(), '임대료'] = [79980.0, 79980.0, 159960.0]\n",
    "print(f'Train Set: {train.shape} | Test Set: {test.shape}')"
   ],
   "outputs": [
    {
     "output_type": "stream",
     "name": "stdout",
     "text": [
      "Train Set: (2869, 15) | Test Set: (1008, 14)\n"
     ]
    }
   ],
   "metadata": {}
  },
  {
   "cell_type": "code",
   "execution_count": 7,
   "source": [
    "# NA를 0으로 변환\n",
    "train.replace(np.nan, 0, inplace=True)\n",
    "test['도보 10분거리 내 지하철역 수(환승노선 수 반영)'] = test['도보 10분거리 내 지하철역 수(환승노선 수 반영)'].fillna(0)\n",
    "print(f'Train Set: {train.shape} | Test Set: {test.shape}')"
   ],
   "outputs": [
    {
     "output_type": "stream",
     "name": "stdout",
     "text": [
      "Train Set: (2869, 15) | Test Set: (1008, 14)\n"
     ]
    }
   ],
   "metadata": {}
  },
  {
   "cell_type": "code",
   "execution_count": 8,
   "source": [
    "# '임대건물구분 == 상가' 데이터를 지우고 Train_age/test_age 생성(공공데이터 병합을 위해 생성)\n",
    "train_age = train[train['임대건물구분'] != '상가'].reset_index(drop=True)\n",
    "train_age.drop(['임대건물구분'], axis=1, inplace=True)\n",
    "\n",
    "test_age = test[test['임대건물구분'] != '상가'].reset_index(drop=True)\n",
    "test_age.drop(['임대건물구분'], axis=1, inplace=True)"
   ],
   "outputs": [],
   "metadata": {}
  },
  {
   "cell_type": "code",
   "execution_count": 9,
   "source": [
    "# '전용면적별세대수합' 변수 생성\n",
    "noh_by_area = train.groupby('단지코드', as_index=False).agg({'전용면적별세대수':'sum'}).rename(columns={'전용면적별세대수':'전용면적별세대수합'})\n",
    "train = pd.merge(left=train, right=noh_by_area, how='left', on='단지코드')\n",
    "noh_by_area = test.groupby('단지코드', as_index=False).agg({'전용면적별세대수':'sum'}).rename(columns={'전용면적별세대수':'전용면적별세대수합'})\n",
    "test = pd.merge(left=test, right=noh_by_area, how='left', on='단지코드')\n",
    "print(f'Train Set: {train.shape} | Test Set: {test.shape}')\n",
    "\n",
    "# '전용면적별세대수합' 변수 생성(공공데이터병합용)\n",
    "noh_by_area = train_age.groupby('단지코드', as_index=False).agg({'전용면적별세대수':'sum'}).rename(columns={'전용면적별세대수':'전용면적별세대수합'})\n",
    "train_age = pd.merge(left=train_age, right=noh_by_area, how='left', on='단지코드')\n",
    "noh_by_area = test_age.groupby('단지코드', as_index=False).agg({'전용면적별세대수':'sum'}).rename(columns={'전용면적별세대수':'전용면적별세대수합'})\n",
    "test_age = pd.merge(left=test_age, right=noh_by_area, how='left', on='단지코드')\n",
    "print(f'Train Set: {train.shape} | Test Set: {test.shape}')\n",
    "\n",
    "## '전용면적별세대수합_myhome' 변수 생성\n",
    "train_myhome = train[train['공급유형']!='공공분양']\n",
    "noh_by_area = train_myhome.groupby('단지코드',as_index=False).agg({'전용면적별세대수':'sum'}).rename(columns={'전용면적별세대수':'전용면적별세대수합_myhome'})\n",
    "train = pd.merge(left=train, right=noh_by_area, how='left', on='단지코드')\n",
    "\n",
    "test_myhome = test[test['공급유형']!='공공분양']\n",
    "noh_by_area = test_myhome.groupby('단지코드', as_index=False).agg({'전용면적별세대수':'sum'}).rename(columns={'전용면적별세대수':'전용면적별세대수합_myhome'})\n",
    "test = pd.merge(left=test, right=noh_by_area, how='left', on='단지코드')\n",
    "print(f'Train Set: {train.shape} | Test Set: {test.shape}')\n",
    "\n",
    "## '전용면적별세대수합_myhome' 변수 생성(공공데이터병합용)\n",
    "train_age_myhome = train_age[train_age['공급유형']!='공공분양']\n",
    "noh_by_area = train_age_myhome.groupby('단지코드',as_index=False).agg({'전용면적별세대수':'sum'}).rename(columns={'전용면적별세대수':'전용면적별세대수합_myhome'})\n",
    "train_age = pd.merge(left=train_age, right=noh_by_area, how='left', on='단지코드')\n",
    "\n",
    "test_age_myhome = test_age[test_age['공급유형']!='공공분양']\n",
    "noh_by_area = test_age_myhome.groupby('단지코드', as_index=False).agg({'전용면적별세대수':'sum'}).rename(columns={'전용면적별세대수':'전용면적별세대수합_myhome'})\n",
    "test_age = pd.merge(left=test_age, right=noh_by_area, how='left', on='단지코드')\n",
    "print(f'Train Set: {train.shape} | Test Set: {test.shape}')"
   ],
   "outputs": [
    {
     "output_type": "stream",
     "name": "stdout",
     "text": [
      "Train Set: (2869, 16) | Test Set: (1008, 15)\n",
      "Train Set: (2869, 16) | Test Set: (1008, 15)\n",
      "Train Set: (2869, 17) | Test Set: (1008, 16)\n",
      "Train Set: (2869, 17) | Test Set: (1008, 16)\n"
     ]
    }
   ],
   "metadata": {
    "scrolled": false
   }
  },
  {
   "cell_type": "markdown",
   "source": [
    "## '차량보유입주민수' 변수 생성\n",
    "\n",
    "**총입주민수**  \n",
    "myhome_xyfill과 code_age_gender를 이용하여 단지코드별로 총입주민수를 계산하였습니다.\n",
    "\n",
    "**차량보유입주민수**  \n",
    "202106_202106_연령별인구현황_월간.csv : https://jumin.mois.go.kr/ageStatMonth.do  \n",
    "2021년_06월_자동차_등록자료_통계.xlsx : http://stat.molit.go.kr/portal/cate/statFileView.do?hRsId=58&hFormId=5\n",
    "\n",
    "위 두 자료에 근거하여 남성의 경우 3-60대에서, 여성의 경우 4-50대에서 일인당 차량 보유 비율이 상대적으로 높게 나타났습니다.  \n",
    "이에 해당 연령/성별대의 입주민수만 더하여 '차량보유입주민수' 변수를 생성했습니다.\n"
   ],
   "metadata": {}
  },
  {
   "cell_type": "code",
   "execution_count": 10,
   "source": [
    "# '차량보유입주민수' 변수 생성\n",
    "member1, member2 = var.code_name(train_age), var.code_name(test_age)\n",
    "member1, member2 = var.total_member(member1), var.total_member(member2)\n",
    "\n",
    "age_col = ['단지코드','10대미만(여자)', '10대미만(남자)', '10대(여자)', '10대(남자)',\n",
    "       '20대(여자)', '20대(남자)', '30대(여자)', '30대(남자)', '40대(여자)', '40대(남자)',\n",
    "       '50대(여자)', '50대(남자)', '60대(여자)', '60대(남자)', '70대(여자)', '70대(남자)',\n",
    "       '80대(여자)', '80대(남자)', '90대(여자)', '90대(남자)', '100대(여자)', '100대(남자)',\n",
    "       '총입주민수']\n",
    "\n",
    "member = pd.concat([member1[age_col], member2[age_col]])\n",
    "member = member.drop_duplicates()\n",
    "member.iloc[:,1:-1]=member.iloc[:,1:-1].mul(member['총입주민수'],axis=0)\n",
    "member['차량보유입주민수'] = np.sum(member.iloc[:, [8, 9, 10, 11, 12, 14]], axis=1)\n",
    "member = member[['단지코드', '차량보유입주민수', '총입주민수']]\n",
    "train = pd.merge(train, member, how='left')\n",
    "test = pd.merge(test, member, how='left')\n",
    "print(f'Train Set: {train.shape} | Test Set: {test.shape}')"
   ],
   "outputs": [
    {
     "output_type": "stream",
     "name": "stderr",
     "text": [
      "/Library/Frameworks/Python.framework/Versions/3.8/lib/python3.8/site-packages/pandas/core/indexing.py:1817: SettingWithCopyWarning: \n",
      "A value is trying to be set on a copy of a slice from a DataFrame.\n",
      "Try using .loc[row_indexer,col_indexer] = value instead\n",
      "\n",
      "See the caveats in the documentation: https://pandas.pydata.org/pandas-docs/stable/user_guide/indexing.html#returning-a-view-versus-a-copy\n",
      "  self._setitem_single_column(loc, value, pi)\n",
      "/Users/duckdeok/Desktop/parking/final/variable.py:18: SettingWithCopyWarning: \n",
      "A value is trying to be set on a copy of a slice from a DataFrame.\n",
      "Try using .loc[row_indexer,col_indexer] = value instead\n",
      "\n",
      "See the caveats in the documentation: https://pandas.pydata.org/pandas-docs/stable/user_guide/indexing.html#returning-a-view-versus-a-copy\n",
      "  myhome['지역'] = myhome['주소'].str.split(' ').str[0]\n",
      "/Users/duckdeok/Desktop/parking/final/variable.py:105: SettingWithCopyWarning: \n",
      "A value is trying to be set on a copy of a slice from a DataFrame\n",
      "\n",
      "See the caveats in the documentation: https://pandas.pydata.org/pandas-docs/stable/user_guide/indexing.html#returning-a-view-versus-a-copy\n",
      "  df_address['총입주민수'][i] = df_address['총세대수'][i] * 1.8\n"
     ]
    },
    {
     "output_type": "stream",
     "name": "stdout",
     "text": [
      "Train Set: (2869, 19) | Test Set: (1008, 18)\n"
     ]
    }
   ],
   "metadata": {}
  },
  {
   "cell_type": "markdown",
   "source": [
    "## '임대보증금', '임대료' 변수 재생성\n",
    "각 아파트별 전용면적별세대수합 대비 전용면적별세대수로 아파트별 임대보증금/임대료를 가중평균하여 해당 변수를 재생산하였습니다."
   ],
   "metadata": {}
  },
  {
   "cell_type": "code",
   "execution_count": 11,
   "source": [
    "# '임대보증금', '임대료' 변수 재생성 (전용면적별세대수 가중 평균)\n",
    "train['임대보증금'] = round(train['임대보증금'] * train['전용면적별세대수'] / train['전용면적별세대수합'])\n",
    "rental_fee = train.groupby('단지코드', as_index=False).agg({'임대보증금':'sum'})\n",
    "train = pd.merge(train, rental_fee, how='left', on='단지코드').drop(['임대보증금_x'], axis=1).rename(columns={'임대보증금_y':'임대보증금'})\n",
    "train['임대료'] = round(train['임대료'] * train['전용면적별세대수'] / train['전용면적별세대수합'])\n",
    "rental_fee = train.groupby('단지코드', as_index=False).agg({'임대료':'sum'})\n",
    "train = pd.merge(train, rental_fee, how='left', on='단지코드').drop(['임대료_x'], axis=1).rename(columns={'임대료_y':'임대료'})\n",
    "test['임대보증금'] = round(test['임대보증금'] * test['전용면적별세대수'] / test['전용면적별세대수합'])\n",
    "rental_fee = test.groupby('단지코드', as_index=False).agg({'임대보증금':'sum'})\n",
    "test = pd.merge(test, rental_fee, how='left', on='단지코드').drop(['임대보증금_x'], axis=1).rename(columns={'임대보증금_y':'임대보증금'})\n",
    "test['임대료'] = round(test['임대료'] * test['전용면적별세대수'] / test['전용면적별세대수합'])\n",
    "rental_fee = test.groupby('단지코드', as_index=False).agg({'임대료':'sum'})\n",
    "test = pd.merge(test, rental_fee, how='left', on='단지코드').drop(['임대료_x'], axis=1).rename(columns={'임대료_y':'임대료'})\n",
    "print(f'Train Set: {train.shape} | Test Set: {test.shape}')"
   ],
   "outputs": [
    {
     "output_type": "stream",
     "name": "stdout",
     "text": [
      "Train Set: (2869, 19) | Test Set: (1008, 18)\n"
     ]
    }
   ],
   "metadata": {
    "scrolled": true
   }
  },
  {
   "cell_type": "markdown",
   "source": [
    "## '소형세대' 변수 생성\n",
    "전용면적이 40제곱미터보다 작은 경우에는 소형세대로 분리하여 해당 단지 내 소형세대의 단지수를 비율로 나타냈습니다."
   ],
   "metadata": {}
  },
  {
   "cell_type": "code",
   "execution_count": 12,
   "source": [
    "# '소형세대' 변수 생성\n",
    "train['세대구분'] = ['소형세대' if i < 40 else '기타세대' for i in train['전용면적']]\n",
    "household = train.groupby(['단지코드', '세대구분'],\n",
    "            as_index=False).agg({'전용면적별세대수':'sum'}).pivot('단지코드','세대구분', '전용면적별세대수').fillna(0).reset_index().drop(['기타세대'], axis=1)\n",
    "train = pd.merge(train, household, how='left').drop(['세대구분'], axis=1)\n",
    "train['소형세대'] = train['소형세대'] / train['전용면적별세대수합']\n",
    "\n",
    "test['세대구분'] = ['소형세대' if i < 40 else '기타세대' for i in test['전용면적']]\n",
    "household = test.groupby(['단지코드', '세대구분'],\n",
    "            as_index=False).agg({'전용면적별세대수':'sum'}).pivot('단지코드', '세대구분', '전용면적별세대수').fillna(0).reset_index().drop(['기타세대'], axis=1)\n",
    "test = pd.merge(test, household, how='left').drop(['세대구분'], axis=1)\n",
    "test['소형세대'] = test['소형세대'] / test['전용면적별세대수합']\n",
    "print(f'Train Set: {train.shape} | Test Set: {test.shape}')"
   ],
   "outputs": [
    {
     "output_type": "stream",
     "name": "stdout",
     "text": [
      "Train Set: (2869, 20) | Test Set: (1008, 19)\n"
     ]
    }
   ],
   "metadata": {}
  },
  {
   "cell_type": "markdown",
   "source": [
    "## '전용면적' 변수 재생성\n",
    "각 아파트별 전용면적별세대수합 대비 전용면적별세대수로 아파트별 전용면적을 가중평균하여 단지별 전용면적을 계산했습니다."
   ],
   "metadata": {}
  },
  {
   "cell_type": "code",
   "execution_count": 13,
   "source": [
    "# '전용면적' 변수 재생성 (전용면적별세대수 가중 평균)\n",
    "train['전용면적'] = round(train['전용면적'] * train['전용면적별세대수'] / train['전용면적별세대수합'])\n",
    "rental_fee = train.groupby('단지코드', as_index=False).agg({'전용면적':'sum'})\n",
    "train = pd.merge(train, rental_fee, how='left', on='단지코드').drop(['전용면적_x'], axis=1).rename(columns={'전용면적_y':'전용면적'})\n",
    "test['전용면적'] = round(test['전용면적'] * test['전용면적별세대수'] / test['전용면적별세대수합'])\n",
    "rental_fee = test.groupby('단지코드', as_index=False).agg({'전용면적':'sum'})\n",
    "test = pd.merge(test, rental_fee, how='left', on='단지코드').drop(['전용면적_x'], axis=1).rename(columns={'전용면적_y':'전용면적'})\n",
    "print(f'Train Set: {train.shape} | Test Set: {test.shape}')"
   ],
   "outputs": [
    {
     "output_type": "stream",
     "name": "stdout",
     "text": [
      "Train Set: (2869, 20) | Test Set: (1008, 19)\n"
     ]
    }
   ],
   "metadata": {}
  },
  {
   "cell_type": "markdown",
   "source": [
    "## '차량보유인구비율' 변수 생성"
   ],
   "metadata": {}
  },
  {
   "cell_type": "code",
   "execution_count": 14,
   "source": [
    "# '차량보유인구비율' 변수 생성\n",
    "cars = pd.DataFrame(age_gender_info.iloc[:, [7, 8, 9, 10, 12, 14]].sum(axis=1), columns=['차량보유인구비율'])\n",
    "cars['지역'] = age_gender_info['지역']\n",
    "train = pd.merge(train, cars, how='left', on='지역')\n",
    "test = pd.merge(test, cars, how='left', on='지역')\n",
    "print(f'Train Set: {train.shape} | Test Set: {test.shape}')"
   ],
   "outputs": [
    {
     "output_type": "stream",
     "name": "stdout",
     "text": [
      "Train Set: (2869, 21) | Test Set: (1008, 20)\n"
     ]
    }
   ],
   "metadata": {
    "scrolled": true
   }
  },
  {
   "cell_type": "markdown",
   "source": [
    "## '공급유형' 변수 재생성\n",
    "\n",
    "단지별로 데이터를 통합하기 위하여 해당 단지의 특정 공급유형 포함 여부(0/1)로 더미 인코딩을 진행하였습니다."
   ],
   "metadata": {}
  },
  {
   "cell_type": "code",
   "execution_count": 15,
   "source": [
    "# '공공임대(10년)', '공공임대(50년)', '공공임대(분납)', '국민임대', '영구임대', '행복주택', '임대상가' 변수 생성\n",
    "supply_type = train.groupby(['단지코드', '공급유형'], as_index=False).size()\n",
    "type1 = [1 if '행복주택' in np.array(supply_type.loc[supply_type['단지코드'] == i, '공급유형']) else 0 for i in train['단지코드'].unique()]\n",
    "type2 = [1 if '영구임대' in np.array(supply_type.loc[supply_type['단지코드'] == i, '공급유형']) else 0 for i in train['단지코드'].unique()]\n",
    "type3 = [1 if '임대상가' in np.array(supply_type.loc[supply_type['단지코드'] == i, '공급유형']) else 0 for i in train['단지코드'].unique()]\n",
    "type4 = [1 if '공공임대(10년)' in np.array(supply_type.loc[supply_type['단지코드'] == i, '공급유형']) else 0 for i in train['단지코드'].unique()]\n",
    "type5 = [1 if '공공임대(50년)' in np.array(supply_type.loc[supply_type['단지코드'] == i, '공급유형']) else 0 for i in train['단지코드'].unique()]\n",
    "type6 = [1 if '공공임대(분납)' in np.array(supply_type.loc[supply_type['단지코드'] == i, '공급유형']) else 0 for i in train['단지코드'].unique()]\n",
    "type7 = [1 if '국민임대' in np.array(supply_type.loc[supply_type['단지코드'] == i, '공급유형']) else 0 for i in train['단지코드'].unique()]\n",
    "supply_type = pd.DataFrame(np.column_stack([train['단지코드'].unique(), type1, type2, type3, type4, type5, type6, type7]),\n",
    "            columns=['단지코드','행복주택', '영구임대', '임대상가', '공공임대(10년)', '공공임대(50년)', '공공임대(분납)', '국민임대'])\n",
    "train = pd.merge(train, supply_type, how='left')\n",
    "supply_type = test.groupby(['단지코드', '공급유형'], as_index=False).size()\n",
    "type1 = [1 if '행복주택' in np.array(supply_type.loc[supply_type['단지코드'] == i, '공급유형']) else 0 for i in test['단지코드'].unique()]\n",
    "type2 = [1 if '영구임대' in np.array(supply_type.loc[supply_type['단지코드'] == i, '공급유형']) else 0 for i in test['단지코드'].unique()]\n",
    "type3 = [1 if '임대상가' in np.array(supply_type.loc[supply_type['단지코드'] == i, '공급유형']) else 0 for i in test['단지코드'].unique()]\n",
    "type4 = [1 if '공공임대(10년)' in np.array(supply_type.loc[supply_type['단지코드'] == i, '공급유형']) else 0 for i in test['단지코드'].unique()]\n",
    "type5 = [1 if '공공임대(50년)' in np.array(supply_type.loc[supply_type['단지코드'] == i, '공급유형']) else 0 for i in test['단지코드'].unique()]\n",
    "type6 = [1 if '공공임대(분납)' in np.array(supply_type.loc[supply_type['단지코드'] == i, '공급유형']) else 0 for i in test['단지코드'].unique()]\n",
    "type7 = [1 if '국민임대' in np.array(supply_type.loc[supply_type['단지코드'] == i, '공급유형']) else 0 for i in test['단지코드'].unique()]\n",
    "supply_type = pd.DataFrame(np.column_stack([test['단지코드'].unique(), type1, type2, type3, type4, type5, type6, type7]),\n",
    "            columns=['단지코드', '행복주택', '영구임대', '임대상가', '공공임대(10년)', '공공임대(50년)', '공공임대(분납)', '국민임대'])\n",
    "test = pd.merge(test, supply_type, how='left')\n",
    "print(f'Train Set: {train.shape} | Test Set: {test.shape}')"
   ],
   "outputs": [
    {
     "output_type": "stream",
     "name": "stdout",
     "text": [
      "Train Set: (2869, 28) | Test Set: (1008, 27)\n"
     ]
    }
   ],
   "metadata": {}
  },
  {
   "cell_type": "markdown",
   "source": [
    "## 불필요한 변수 제거\n",
    "\n",
    "공급유형과 자격유형에 대해 교차표를 만들었을 때, 공급유형이 대부분의 자격유형 데이터를 설명하고 있어 자격유형 변수를 제거하였습니다."
   ],
   "metadata": {}
  },
  {
   "cell_type": "code",
   "execution_count": 16,
   "source": [
    "# 불필요한 변수 제거\n",
    "train.drop(['임대건물구분', '공급유형', '전용면적별세대수', '자격유형', '전용면적별세대수합'], axis=1, inplace=True)\n",
    "test.drop(['임대건물구분', '공급유형', '전용면적별세대수', '자격유형', '전용면적별세대수합'], axis=1, inplace=True)\n",
    "print(f'Train Set: {train.shape} | Test Set: {test.shape}')"
   ],
   "outputs": [
    {
     "output_type": "stream",
     "name": "stdout",
     "text": [
      "Train Set: (2869, 23) | Test Set: (1008, 22)\n"
     ]
    }
   ],
   "metadata": {}
  },
  {
   "cell_type": "markdown",
   "source": [
    "## 데이터 단지단위 변환\n",
    "단지단위로 데이터를 통합하였습니다."
   ],
   "metadata": {}
  },
  {
   "cell_type": "markdown",
   "source": [
    "---"
   ],
   "metadata": {}
  },
  {
   "cell_type": "code",
   "execution_count": 17,
   "source": [
    "train_ = train.drop_duplicates().reset_index(drop=True)\n",
    "test_ = test.drop_duplicates().reset_index(drop=True)\n",
    "print(f'Train Set: {train_.shape} | Test Set: {test_.shape}')"
   ],
   "outputs": [
    {
     "output_type": "stream",
     "name": "stdout",
     "text": [
      "Train Set: (411, 23) | Test Set: (147, 22)\n"
     ]
    }
   ],
   "metadata": {
    "scrolled": false
   }
  },
  {
   "cell_type": "markdown",
   "source": [
    "## 최종사용변수\n",
    "|종류|변수명|\n",
    "|:---:|:----:|\n",
    "|기존변수(변형)|단지내주차면수|\n",
    "|기존변수(변형)|전용면적|\n",
    "|기존변수(변형)|총세대수|\n",
    "|기존변수(변형)|공가수|\n",
    "|추가변수|소형세대|\n",
    "|추가변수|차량보유인구비율|\n",
    "|추가변수|차량보유입주민수|\n",
    "|공급유형변수|행복주택|\n",
    "|공급유형변수|영구임대|\n",
    "|공급유형변수|임대상가|\n",
    "|공급유형변수|공공임대(10년)|\n",
    "|공급유형변수|국민임대|\n",
    "  \n",
    "  \n"
   ],
   "metadata": {}
  },
  {
   "cell_type": "code",
   "execution_count": 18,
   "source": [
    "X_train = train_[['단지내주차면수', '전용면적', '차량보유인구비율', '총세대수', '공가수', '소형세대', '차량보유입주민수',\n",
    "                  '행복주택', '영구임대', '임대상가', '공공임대(10년)', '국민임대']]\n",
    "y_train = train_['등록차량수']"
   ],
   "outputs": [],
   "metadata": {
    "scrolled": true
   }
  },
  {
   "cell_type": "markdown",
   "source": [
    "# Modeling"
   ],
   "metadata": {}
  },
  {
   "cell_type": "code",
   "execution_count": 19,
   "source": [
    "from sklearn.preprocessing import PolynomialFeatures\n",
    "from sklearn.preprocessing import StandardScaler"
   ],
   "outputs": [],
   "metadata": {}
  },
  {
   "cell_type": "code",
   "execution_count": 20,
   "source": [
    "# 피쳐에 2차항 및 상호작용항 추가\n",
    "poly = PolynomialFeatures(2, include_bias=False)\n",
    "X_train = poly.fit_transform(X_train)\n",
    "print(X_train.shape)"
   ],
   "outputs": [
    {
     "output_type": "stream",
     "name": "stdout",
     "text": [
      "(411, 90)\n"
     ]
    }
   ],
   "metadata": {}
  },
  {
   "cell_type": "code",
   "execution_count": 21,
   "source": [
    "# StandardScaler 적용\n",
    "scaler = StandardScaler()\n",
    "scaler.fit(X_train)\n",
    "X_train = scaler.transform(X_train)"
   ],
   "outputs": [],
   "metadata": {
    "scrolled": true
   }
  },
  {
   "cell_type": "markdown",
   "source": [
    "---"
   ],
   "metadata": {}
  },
  {
   "cell_type": "code",
   "execution_count": 22,
   "source": [
    "from sklearn.model_selection import cross_val_score, KFold\n",
    "from sklearn.linear_model import LinearRegression, Ridge, Lasso"
   ],
   "outputs": [],
   "metadata": {}
  },
  {
   "cell_type": "markdown",
   "source": [
    "**Linear Regression**"
   ],
   "metadata": {}
  },
  {
   "cell_type": "code",
   "execution_count": 23,
   "source": [
    "lr = LinearRegression()\n",
    "kfold = KFold(n_splits=10, shuffle=True, random_state=11)\n",
    "score = cross_val_score(lr, X_train, y_train, cv=kfold, scoring='neg_mean_absolute_error')\n",
    "print(f'평균: {-score.mean()} | 표준편차: {score.std()}')"
   ],
   "outputs": [
    {
     "output_type": "stream",
     "name": "stdout",
     "text": [
      "평균: 92017312376.44437 | 표준편차: 236107957851.66116\n"
     ]
    }
   ],
   "metadata": {}
  },
  {
   "cell_type": "markdown",
   "source": [
    "**Ridge Regression**"
   ],
   "metadata": {}
  },
  {
   "cell_type": "code",
   "execution_count": 24,
   "source": [
    "best_alpha = []\n",
    "for i in range(50):\n",
    "    rg = Ridge(alpha=i)\n",
    "    kfold = KFold(n_splits=10, shuffle=True, random_state=11)\n",
    "    score = cross_val_score(rg, X_train, y_train, cv=kfold, scoring='neg_mean_absolute_error')\n",
    "    best_alpha.append(-score.mean())\n",
    "print(f'Best alpha is {np.argmin(best_alpha)}.')"
   ],
   "outputs": [
    {
     "output_type": "stream",
     "name": "stdout",
     "text": [
      "Best alpha is 17.\n"
     ]
    }
   ],
   "metadata": {
    "scrolled": true
   }
  },
  {
   "cell_type": "code",
   "execution_count": 25,
   "source": [
    "rg = Ridge(alpha=np.argmin(best_alpha))\n",
    "kfold = KFold(n_splits=10, shuffle=True, random_state=11)\n",
    "score = cross_val_score(rg, X_train, y_train, cv=kfold, scoring='neg_mean_absolute_error')\n",
    "print(f'평균: {-score.mean()} | 표준편차: {score.std()}')"
   ],
   "outputs": [
    {
     "output_type": "stream",
     "name": "stdout",
     "text": [
      "평균: 106.63969241987543 | 표준편차: 10.512571328786798\n"
     ]
    }
   ],
   "metadata": {}
  },
  {
   "cell_type": "markdown",
   "source": [
    "**Lasso Regression**"
   ],
   "metadata": {}
  },
  {
   "cell_type": "code",
   "execution_count": 26,
   "source": [
    "best_alpha = []\n",
    "for i in range(1, 10):\n",
    "    ls = Lasso(alpha=i)\n",
    "    kfold = KFold(n_splits=10, shuffle=True, random_state=11)\n",
    "    score = cross_val_score(ls, X_train, y_train, cv=kfold, scoring='neg_mean_absolute_error')\n",
    "    best_alpha.append(-score.mean())\n",
    "print(f'Best alpha is {np.argmin(best_alpha)}.')"
   ],
   "outputs": [
    {
     "output_type": "stream",
     "name": "stdout",
     "text": [
      "Best alpha is 2.\n"
     ]
    }
   ],
   "metadata": {
    "scrolled": true
   }
  },
  {
   "cell_type": "code",
   "execution_count": 27,
   "source": [
    "ls = Lasso(np.argmin(best_alpha))\n",
    "kfold = KFold(n_splits=10, shuffle=True, random_state=11)\n",
    "score = cross_val_score(ls, X_train, y_train, cv=kfold, scoring='neg_mean_absolute_error')"
   ],
   "outputs": [],
   "metadata": {}
  },
  {
   "cell_type": "code",
   "execution_count": 28,
   "source": [
    "print(f'평균: {-score.mean()} | 표준편차: {score.std()}')"
   ],
   "outputs": [
    {
     "output_type": "stream",
     "name": "stdout",
     "text": [
      "평균: 105.54305623701052 | 표준편차: 10.896002954365605\n"
     ]
    }
   ],
   "metadata": {
    "scrolled": false
   }
  },
  {
   "cell_type": "code",
   "execution_count": 29,
   "source": [
    "-score"
   ],
   "outputs": [
    {
     "output_type": "execute_result",
     "data": {
      "text/plain": [
       "array([ 98.09705968, 108.77315993, 108.41004912, 114.75440486,\n",
       "       113.72097469, 109.76228991,  84.79259996, 122.31022195,\n",
       "       104.455613  ,  90.35418926])"
      ]
     },
     "metadata": {},
     "execution_count": 29
    }
   ],
   "metadata": {}
  },
  {
   "cell_type": "code",
   "execution_count": 30,
   "source": [
    "ls.fit(X_train, y_train)"
   ],
   "outputs": [
    {
     "output_type": "execute_result",
     "data": {
      "text/plain": [
       "Lasso(alpha=2)"
      ]
     },
     "metadata": {},
     "execution_count": 30
    }
   ],
   "metadata": {
    "scrolled": false
   }
  },
  {
   "cell_type": "markdown",
   "source": [
    "---"
   ],
   "metadata": {}
  },
  {
   "cell_type": "code",
   "execution_count": 31,
   "source": [
    "X_test = test_[['단지내주차면수', '전용면적', '차량보유인구비율', '총세대수', '공가수', '소형세대', '차량보유입주민수',\n",
    "                  '행복주택', '영구임대', '임대상가', '공공임대(10년)', '국민임대']]"
   ],
   "outputs": [],
   "metadata": {}
  },
  {
   "cell_type": "code",
   "execution_count": 32,
   "source": [
    "poly = PolynomialFeatures(2, include_bias=False)\n",
    "X_test = poly.fit_transform(X_test)"
   ],
   "outputs": [],
   "metadata": {}
  },
  {
   "cell_type": "code",
   "execution_count": 33,
   "source": [
    "X_test = scaler.transform(X_test)"
   ],
   "outputs": [],
   "metadata": {}
  },
  {
   "cell_type": "code",
   "execution_count": 34,
   "source": [
    "test_['등록차량수'] = ls.predict(X_test)"
   ],
   "outputs": [],
   "metadata": {}
  },
  {
   "cell_type": "code",
   "execution_count": 35,
   "source": [
    "submission = test_[['단지코드', '등록차량수']].rename(columns={'단지코드':'code', '등록차량수':'num'})\n",
    "error = pd.DataFrame(np.array([['C2675', 0], ['C2335', 0], ['C1327', 0]]), columns=['code', 'num'])\n",
    "submission = pd.concat([submission, error]).reset_index(drop=True)\n",
    "submission.to_csv('submission.csv', index=False)"
   ],
   "outputs": [],
   "metadata": {}
  },
  {
   "cell_type": "code",
   "execution_count": 36,
   "source": [
    "submission"
   ],
   "outputs": [
    {
     "output_type": "execute_result",
     "data": {
      "text/plain": [
       "      code          num\n",
       "0    C1072   750.756051\n",
       "1    C1128  1227.407026\n",
       "2    C1456   450.151102\n",
       "3    C1840   484.580579\n",
       "4    C1332  1202.382281\n",
       "5    C1563  1769.010567\n",
       "6    C1794   864.589862\n",
       "7    C1640   474.566283\n",
       "8    C1377   368.481917\n",
       "9    C2072   310.876784\n",
       "10   C1472   493.717008\n",
       "11   C1006   227.905003\n",
       "12   C1083   477.350493\n",
       "13   C1311   225.701634\n",
       "14   C2676   292.524645\n",
       "15   C2318   232.705068\n",
       "16   C1603   481.394123\n",
       "17   C2523   343.099728\n",
       "18   C2177   151.640355\n",
       "19   C2411   684.814072\n",
       "20   C2033   212.623967\n",
       "21   C1604   462.911757\n",
       "22   C2535   486.979825\n",
       "23   C1040   427.253525\n",
       "24   C2417   441.765882\n",
       "25   C1812   107.662503\n",
       "26   C2253   162.686627\n",
       "27   C1294   566.907653\n",
       "28   C1772   517.252121\n",
       "29   C2646   516.667713\n",
       "30   C1152   983.668662\n",
       "31   C2423   200.278383\n",
       "32   C1844   439.777409\n",
       "33   C1318   256.891375\n",
       "34   C1729   145.256328\n",
       "35   C1602   330.958375\n",
       "36   C1239   415.047654\n",
       "37   C1721   602.136302\n",
       "38   C1902   800.005517\n",
       "39   C1855   331.574162\n",
       "40   C2600   402.345742\n",
       "41   C1071    461.76711\n",
       "42   C2295   403.992214\n",
       "43   C1621   578.213447\n",
       "44   C1852   841.921405\n",
       "45   C2555  1153.175153\n",
       "46   C1297   453.571797\n",
       "47   C2323    579.85039\n",
       "48   C2215    377.44928\n",
       "49   C2112   319.104592\n",
       "50   C1830   807.209909\n",
       "51   C2602   270.586473\n",
       "52   C2608  1063.836095\n",
       "53   C1215   680.898027\n",
       "54   C2369   651.120281\n",
       "55   C1158   297.875506\n",
       "56   C1887   461.990524\n",
       "57   C1189   290.615351\n",
       "58   C1637   496.650899\n",
       "59   C1225   230.603442\n",
       "60   C2374   357.270173\n",
       "61   C2397    550.47614\n",
       "62   C1105   891.836954\n",
       "63   C1782    461.41867\n",
       "64   C1629   215.501068\n",
       "65   C1708   276.665681\n",
       "66   C2144   460.971395\n",
       "67   C1617   933.954902\n",
       "68   C1149   570.897007\n",
       "69   C1323    465.81973\n",
       "70   C1064   688.303348\n",
       "71   C1019   266.585472\n",
       "72   C2269   571.594207\n",
       "73   C1416   874.965015\n",
       "74   C1250   989.388449\n",
       "75   C1741   447.016301\n",
       "76   C1016   653.254285\n",
       "77   C2436   685.256651\n",
       "78   C2039   855.973323\n",
       "79   C1253   732.435493\n",
       "80   C2028  1214.153391\n",
       "81   C1166   373.553008\n",
       "82   C1135   248.645774\n",
       "83   C1216   309.422662\n",
       "84   C1593   252.368667\n",
       "85   C1826   240.709506\n",
       "86   C1827   419.431285\n",
       "87   C1564   301.546354\n",
       "88   C1495   869.381765\n",
       "89   C2653   854.559515\n",
       "90   C1392   608.327109\n",
       "91   C2128   269.610372\n",
       "92   C1282   594.695094\n",
       "93   C1521  1076.961354\n",
       "94   C2076   834.926518\n",
       "95   C1060   574.665426\n",
       "96   C2473   964.595514\n",
       "97   C2557   663.521218\n",
       "98   C1835   707.368244\n",
       "99   C2224   748.192018\n",
       "100  C2222   326.968758\n",
       "101  C2430   957.985789\n",
       "102  C2497    620.88187\n",
       "103  C1494   1044.53889\n",
       "104  C1457   502.923137\n",
       "105  C1525  1111.999624\n",
       "106  C1712   566.693839\n",
       "107  C2267   839.197177\n",
       "108  C1623   289.584808\n",
       "109  C2131   671.726618\n",
       "110  C2691  1080.600645\n",
       "111  C1147   863.220828\n",
       "112  C1692   915.326953\n",
       "113  C1570   766.286419\n",
       "114  C1474    144.16731\n",
       "115  C1633   170.418873\n",
       "116  C2113   558.641627\n",
       "117  C2175   913.038177\n",
       "118  C2303  1544.171654\n",
       "119  C2547   487.227048\n",
       "120  C2292   687.146555\n",
       "121  C1496   817.958344\n",
       "122  C1289   293.680838\n",
       "123  C1849    680.61945\n",
       "124  C1003   227.890143\n",
       "125  C2268   323.291576\n",
       "126  C2551   530.100258\n",
       "127  C2688   105.302136\n",
       "128  C1030     89.13714\n",
       "129  C2451   611.333634\n",
       "130  C1749   400.141849\n",
       "131  C1349   232.851428\n",
       "132  C2043   228.171089\n",
       "133  C1229    269.00651\n",
       "134  C2363   305.045159\n",
       "135  C1414    392.04977\n",
       "136  C2174   298.469909\n",
       "137  C2091   128.977869\n",
       "138  C1841    87.492211\n",
       "139  C2404   142.724457\n",
       "140  C1683   201.166408\n",
       "141  C1038   281.932437\n",
       "142  C2456   221.852118\n",
       "143  C1266   397.771886\n",
       "144  C2152    66.947199\n",
       "145  C1267   423.445779\n",
       "146  C2189   150.558584\n",
       "147  C2675            0\n",
       "148  C2335            0\n",
       "149  C1327            0"
      ],
      "text/html": [
       "<div>\n",
       "<style scoped>\n",
       "    .dataframe tbody tr th:only-of-type {\n",
       "        vertical-align: middle;\n",
       "    }\n",
       "\n",
       "    .dataframe tbody tr th {\n",
       "        vertical-align: top;\n",
       "    }\n",
       "\n",
       "    .dataframe thead th {\n",
       "        text-align: right;\n",
       "    }\n",
       "</style>\n",
       "<table border=\"1\" class=\"dataframe\">\n",
       "  <thead>\n",
       "    <tr style=\"text-align: right;\">\n",
       "      <th></th>\n",
       "      <th>code</th>\n",
       "      <th>num</th>\n",
       "    </tr>\n",
       "  </thead>\n",
       "  <tbody>\n",
       "    <tr>\n",
       "      <th>0</th>\n",
       "      <td>C1072</td>\n",
       "      <td>750.756051</td>\n",
       "    </tr>\n",
       "    <tr>\n",
       "      <th>1</th>\n",
       "      <td>C1128</td>\n",
       "      <td>1227.407026</td>\n",
       "    </tr>\n",
       "    <tr>\n",
       "      <th>2</th>\n",
       "      <td>C1456</td>\n",
       "      <td>450.151102</td>\n",
       "    </tr>\n",
       "    <tr>\n",
       "      <th>3</th>\n",
       "      <td>C1840</td>\n",
       "      <td>484.580579</td>\n",
       "    </tr>\n",
       "    <tr>\n",
       "      <th>4</th>\n",
       "      <td>C1332</td>\n",
       "      <td>1202.382281</td>\n",
       "    </tr>\n",
       "    <tr>\n",
       "      <th>5</th>\n",
       "      <td>C1563</td>\n",
       "      <td>1769.010567</td>\n",
       "    </tr>\n",
       "    <tr>\n",
       "      <th>6</th>\n",
       "      <td>C1794</td>\n",
       "      <td>864.589862</td>\n",
       "    </tr>\n",
       "    <tr>\n",
       "      <th>7</th>\n",
       "      <td>C1640</td>\n",
       "      <td>474.566283</td>\n",
       "    </tr>\n",
       "    <tr>\n",
       "      <th>8</th>\n",
       "      <td>C1377</td>\n",
       "      <td>368.481917</td>\n",
       "    </tr>\n",
       "    <tr>\n",
       "      <th>9</th>\n",
       "      <td>C2072</td>\n",
       "      <td>310.876784</td>\n",
       "    </tr>\n",
       "    <tr>\n",
       "      <th>10</th>\n",
       "      <td>C1472</td>\n",
       "      <td>493.717008</td>\n",
       "    </tr>\n",
       "    <tr>\n",
       "      <th>11</th>\n",
       "      <td>C1006</td>\n",
       "      <td>227.905003</td>\n",
       "    </tr>\n",
       "    <tr>\n",
       "      <th>12</th>\n",
       "      <td>C1083</td>\n",
       "      <td>477.350493</td>\n",
       "    </tr>\n",
       "    <tr>\n",
       "      <th>13</th>\n",
       "      <td>C1311</td>\n",
       "      <td>225.701634</td>\n",
       "    </tr>\n",
       "    <tr>\n",
       "      <th>14</th>\n",
       "      <td>C2676</td>\n",
       "      <td>292.524645</td>\n",
       "    </tr>\n",
       "    <tr>\n",
       "      <th>15</th>\n",
       "      <td>C2318</td>\n",
       "      <td>232.705068</td>\n",
       "    </tr>\n",
       "    <tr>\n",
       "      <th>16</th>\n",
       "      <td>C1603</td>\n",
       "      <td>481.394123</td>\n",
       "    </tr>\n",
       "    <tr>\n",
       "      <th>17</th>\n",
       "      <td>C2523</td>\n",
       "      <td>343.099728</td>\n",
       "    </tr>\n",
       "    <tr>\n",
       "      <th>18</th>\n",
       "      <td>C2177</td>\n",
       "      <td>151.640355</td>\n",
       "    </tr>\n",
       "    <tr>\n",
       "      <th>19</th>\n",
       "      <td>C2411</td>\n",
       "      <td>684.814072</td>\n",
       "    </tr>\n",
       "    <tr>\n",
       "      <th>20</th>\n",
       "      <td>C2033</td>\n",
       "      <td>212.623967</td>\n",
       "    </tr>\n",
       "    <tr>\n",
       "      <th>21</th>\n",
       "      <td>C1604</td>\n",
       "      <td>462.911757</td>\n",
       "    </tr>\n",
       "    <tr>\n",
       "      <th>22</th>\n",
       "      <td>C2535</td>\n",
       "      <td>486.979825</td>\n",
       "    </tr>\n",
       "    <tr>\n",
       "      <th>23</th>\n",
       "      <td>C1040</td>\n",
       "      <td>427.253525</td>\n",
       "    </tr>\n",
       "    <tr>\n",
       "      <th>24</th>\n",
       "      <td>C2417</td>\n",
       "      <td>441.765882</td>\n",
       "    </tr>\n",
       "    <tr>\n",
       "      <th>25</th>\n",
       "      <td>C1812</td>\n",
       "      <td>107.662503</td>\n",
       "    </tr>\n",
       "    <tr>\n",
       "      <th>26</th>\n",
       "      <td>C2253</td>\n",
       "      <td>162.686627</td>\n",
       "    </tr>\n",
       "    <tr>\n",
       "      <th>27</th>\n",
       "      <td>C1294</td>\n",
       "      <td>566.907653</td>\n",
       "    </tr>\n",
       "    <tr>\n",
       "      <th>28</th>\n",
       "      <td>C1772</td>\n",
       "      <td>517.252121</td>\n",
       "    </tr>\n",
       "    <tr>\n",
       "      <th>29</th>\n",
       "      <td>C2646</td>\n",
       "      <td>516.667713</td>\n",
       "    </tr>\n",
       "    <tr>\n",
       "      <th>30</th>\n",
       "      <td>C1152</td>\n",
       "      <td>983.668662</td>\n",
       "    </tr>\n",
       "    <tr>\n",
       "      <th>31</th>\n",
       "      <td>C2423</td>\n",
       "      <td>200.278383</td>\n",
       "    </tr>\n",
       "    <tr>\n",
       "      <th>32</th>\n",
       "      <td>C1844</td>\n",
       "      <td>439.777409</td>\n",
       "    </tr>\n",
       "    <tr>\n",
       "      <th>33</th>\n",
       "      <td>C1318</td>\n",
       "      <td>256.891375</td>\n",
       "    </tr>\n",
       "    <tr>\n",
       "      <th>34</th>\n",
       "      <td>C1729</td>\n",
       "      <td>145.256328</td>\n",
       "    </tr>\n",
       "    <tr>\n",
       "      <th>35</th>\n",
       "      <td>C1602</td>\n",
       "      <td>330.958375</td>\n",
       "    </tr>\n",
       "    <tr>\n",
       "      <th>36</th>\n",
       "      <td>C1239</td>\n",
       "      <td>415.047654</td>\n",
       "    </tr>\n",
       "    <tr>\n",
       "      <th>37</th>\n",
       "      <td>C1721</td>\n",
       "      <td>602.136302</td>\n",
       "    </tr>\n",
       "    <tr>\n",
       "      <th>38</th>\n",
       "      <td>C1902</td>\n",
       "      <td>800.005517</td>\n",
       "    </tr>\n",
       "    <tr>\n",
       "      <th>39</th>\n",
       "      <td>C1855</td>\n",
       "      <td>331.574162</td>\n",
       "    </tr>\n",
       "    <tr>\n",
       "      <th>40</th>\n",
       "      <td>C2600</td>\n",
       "      <td>402.345742</td>\n",
       "    </tr>\n",
       "    <tr>\n",
       "      <th>41</th>\n",
       "      <td>C1071</td>\n",
       "      <td>461.76711</td>\n",
       "    </tr>\n",
       "    <tr>\n",
       "      <th>42</th>\n",
       "      <td>C2295</td>\n",
       "      <td>403.992214</td>\n",
       "    </tr>\n",
       "    <tr>\n",
       "      <th>43</th>\n",
       "      <td>C1621</td>\n",
       "      <td>578.213447</td>\n",
       "    </tr>\n",
       "    <tr>\n",
       "      <th>44</th>\n",
       "      <td>C1852</td>\n",
       "      <td>841.921405</td>\n",
       "    </tr>\n",
       "    <tr>\n",
       "      <th>45</th>\n",
       "      <td>C2555</td>\n",
       "      <td>1153.175153</td>\n",
       "    </tr>\n",
       "    <tr>\n",
       "      <th>46</th>\n",
       "      <td>C1297</td>\n",
       "      <td>453.571797</td>\n",
       "    </tr>\n",
       "    <tr>\n",
       "      <th>47</th>\n",
       "      <td>C2323</td>\n",
       "      <td>579.85039</td>\n",
       "    </tr>\n",
       "    <tr>\n",
       "      <th>48</th>\n",
       "      <td>C2215</td>\n",
       "      <td>377.44928</td>\n",
       "    </tr>\n",
       "    <tr>\n",
       "      <th>49</th>\n",
       "      <td>C2112</td>\n",
       "      <td>319.104592</td>\n",
       "    </tr>\n",
       "    <tr>\n",
       "      <th>50</th>\n",
       "      <td>C1830</td>\n",
       "      <td>807.209909</td>\n",
       "    </tr>\n",
       "    <tr>\n",
       "      <th>51</th>\n",
       "      <td>C2602</td>\n",
       "      <td>270.586473</td>\n",
       "    </tr>\n",
       "    <tr>\n",
       "      <th>52</th>\n",
       "      <td>C2608</td>\n",
       "      <td>1063.836095</td>\n",
       "    </tr>\n",
       "    <tr>\n",
       "      <th>53</th>\n",
       "      <td>C1215</td>\n",
       "      <td>680.898027</td>\n",
       "    </tr>\n",
       "    <tr>\n",
       "      <th>54</th>\n",
       "      <td>C2369</td>\n",
       "      <td>651.120281</td>\n",
       "    </tr>\n",
       "    <tr>\n",
       "      <th>55</th>\n",
       "      <td>C1158</td>\n",
       "      <td>297.875506</td>\n",
       "    </tr>\n",
       "    <tr>\n",
       "      <th>56</th>\n",
       "      <td>C1887</td>\n",
       "      <td>461.990524</td>\n",
       "    </tr>\n",
       "    <tr>\n",
       "      <th>57</th>\n",
       "      <td>C1189</td>\n",
       "      <td>290.615351</td>\n",
       "    </tr>\n",
       "    <tr>\n",
       "      <th>58</th>\n",
       "      <td>C1637</td>\n",
       "      <td>496.650899</td>\n",
       "    </tr>\n",
       "    <tr>\n",
       "      <th>59</th>\n",
       "      <td>C1225</td>\n",
       "      <td>230.603442</td>\n",
       "    </tr>\n",
       "    <tr>\n",
       "      <th>60</th>\n",
       "      <td>C2374</td>\n",
       "      <td>357.270173</td>\n",
       "    </tr>\n",
       "    <tr>\n",
       "      <th>61</th>\n",
       "      <td>C2397</td>\n",
       "      <td>550.47614</td>\n",
       "    </tr>\n",
       "    <tr>\n",
       "      <th>62</th>\n",
       "      <td>C1105</td>\n",
       "      <td>891.836954</td>\n",
       "    </tr>\n",
       "    <tr>\n",
       "      <th>63</th>\n",
       "      <td>C1782</td>\n",
       "      <td>461.41867</td>\n",
       "    </tr>\n",
       "    <tr>\n",
       "      <th>64</th>\n",
       "      <td>C1629</td>\n",
       "      <td>215.501068</td>\n",
       "    </tr>\n",
       "    <tr>\n",
       "      <th>65</th>\n",
       "      <td>C1708</td>\n",
       "      <td>276.665681</td>\n",
       "    </tr>\n",
       "    <tr>\n",
       "      <th>66</th>\n",
       "      <td>C2144</td>\n",
       "      <td>460.971395</td>\n",
       "    </tr>\n",
       "    <tr>\n",
       "      <th>67</th>\n",
       "      <td>C1617</td>\n",
       "      <td>933.954902</td>\n",
       "    </tr>\n",
       "    <tr>\n",
       "      <th>68</th>\n",
       "      <td>C1149</td>\n",
       "      <td>570.897007</td>\n",
       "    </tr>\n",
       "    <tr>\n",
       "      <th>69</th>\n",
       "      <td>C1323</td>\n",
       "      <td>465.81973</td>\n",
       "    </tr>\n",
       "    <tr>\n",
       "      <th>70</th>\n",
       "      <td>C1064</td>\n",
       "      <td>688.303348</td>\n",
       "    </tr>\n",
       "    <tr>\n",
       "      <th>71</th>\n",
       "      <td>C1019</td>\n",
       "      <td>266.585472</td>\n",
       "    </tr>\n",
       "    <tr>\n",
       "      <th>72</th>\n",
       "      <td>C2269</td>\n",
       "      <td>571.594207</td>\n",
       "    </tr>\n",
       "    <tr>\n",
       "      <th>73</th>\n",
       "      <td>C1416</td>\n",
       "      <td>874.965015</td>\n",
       "    </tr>\n",
       "    <tr>\n",
       "      <th>74</th>\n",
       "      <td>C1250</td>\n",
       "      <td>989.388449</td>\n",
       "    </tr>\n",
       "    <tr>\n",
       "      <th>75</th>\n",
       "      <td>C1741</td>\n",
       "      <td>447.016301</td>\n",
       "    </tr>\n",
       "    <tr>\n",
       "      <th>76</th>\n",
       "      <td>C1016</td>\n",
       "      <td>653.254285</td>\n",
       "    </tr>\n",
       "    <tr>\n",
       "      <th>77</th>\n",
       "      <td>C2436</td>\n",
       "      <td>685.256651</td>\n",
       "    </tr>\n",
       "    <tr>\n",
       "      <th>78</th>\n",
       "      <td>C2039</td>\n",
       "      <td>855.973323</td>\n",
       "    </tr>\n",
       "    <tr>\n",
       "      <th>79</th>\n",
       "      <td>C1253</td>\n",
       "      <td>732.435493</td>\n",
       "    </tr>\n",
       "    <tr>\n",
       "      <th>80</th>\n",
       "      <td>C2028</td>\n",
       "      <td>1214.153391</td>\n",
       "    </tr>\n",
       "    <tr>\n",
       "      <th>81</th>\n",
       "      <td>C1166</td>\n",
       "      <td>373.553008</td>\n",
       "    </tr>\n",
       "    <tr>\n",
       "      <th>82</th>\n",
       "      <td>C1135</td>\n",
       "      <td>248.645774</td>\n",
       "    </tr>\n",
       "    <tr>\n",
       "      <th>83</th>\n",
       "      <td>C1216</td>\n",
       "      <td>309.422662</td>\n",
       "    </tr>\n",
       "    <tr>\n",
       "      <th>84</th>\n",
       "      <td>C1593</td>\n",
       "      <td>252.368667</td>\n",
       "    </tr>\n",
       "    <tr>\n",
       "      <th>85</th>\n",
       "      <td>C1826</td>\n",
       "      <td>240.709506</td>\n",
       "    </tr>\n",
       "    <tr>\n",
       "      <th>86</th>\n",
       "      <td>C1827</td>\n",
       "      <td>419.431285</td>\n",
       "    </tr>\n",
       "    <tr>\n",
       "      <th>87</th>\n",
       "      <td>C1564</td>\n",
       "      <td>301.546354</td>\n",
       "    </tr>\n",
       "    <tr>\n",
       "      <th>88</th>\n",
       "      <td>C1495</td>\n",
       "      <td>869.381765</td>\n",
       "    </tr>\n",
       "    <tr>\n",
       "      <th>89</th>\n",
       "      <td>C2653</td>\n",
       "      <td>854.559515</td>\n",
       "    </tr>\n",
       "    <tr>\n",
       "      <th>90</th>\n",
       "      <td>C1392</td>\n",
       "      <td>608.327109</td>\n",
       "    </tr>\n",
       "    <tr>\n",
       "      <th>91</th>\n",
       "      <td>C2128</td>\n",
       "      <td>269.610372</td>\n",
       "    </tr>\n",
       "    <tr>\n",
       "      <th>92</th>\n",
       "      <td>C1282</td>\n",
       "      <td>594.695094</td>\n",
       "    </tr>\n",
       "    <tr>\n",
       "      <th>93</th>\n",
       "      <td>C1521</td>\n",
       "      <td>1076.961354</td>\n",
       "    </tr>\n",
       "    <tr>\n",
       "      <th>94</th>\n",
       "      <td>C2076</td>\n",
       "      <td>834.926518</td>\n",
       "    </tr>\n",
       "    <tr>\n",
       "      <th>95</th>\n",
       "      <td>C1060</td>\n",
       "      <td>574.665426</td>\n",
       "    </tr>\n",
       "    <tr>\n",
       "      <th>96</th>\n",
       "      <td>C2473</td>\n",
       "      <td>964.595514</td>\n",
       "    </tr>\n",
       "    <tr>\n",
       "      <th>97</th>\n",
       "      <td>C2557</td>\n",
       "      <td>663.521218</td>\n",
       "    </tr>\n",
       "    <tr>\n",
       "      <th>98</th>\n",
       "      <td>C1835</td>\n",
       "      <td>707.368244</td>\n",
       "    </tr>\n",
       "    <tr>\n",
       "      <th>99</th>\n",
       "      <td>C2224</td>\n",
       "      <td>748.192018</td>\n",
       "    </tr>\n",
       "    <tr>\n",
       "      <th>100</th>\n",
       "      <td>C2222</td>\n",
       "      <td>326.968758</td>\n",
       "    </tr>\n",
       "    <tr>\n",
       "      <th>101</th>\n",
       "      <td>C2430</td>\n",
       "      <td>957.985789</td>\n",
       "    </tr>\n",
       "    <tr>\n",
       "      <th>102</th>\n",
       "      <td>C2497</td>\n",
       "      <td>620.88187</td>\n",
       "    </tr>\n",
       "    <tr>\n",
       "      <th>103</th>\n",
       "      <td>C1494</td>\n",
       "      <td>1044.53889</td>\n",
       "    </tr>\n",
       "    <tr>\n",
       "      <th>104</th>\n",
       "      <td>C1457</td>\n",
       "      <td>502.923137</td>\n",
       "    </tr>\n",
       "    <tr>\n",
       "      <th>105</th>\n",
       "      <td>C1525</td>\n",
       "      <td>1111.999624</td>\n",
       "    </tr>\n",
       "    <tr>\n",
       "      <th>106</th>\n",
       "      <td>C1712</td>\n",
       "      <td>566.693839</td>\n",
       "    </tr>\n",
       "    <tr>\n",
       "      <th>107</th>\n",
       "      <td>C2267</td>\n",
       "      <td>839.197177</td>\n",
       "    </tr>\n",
       "    <tr>\n",
       "      <th>108</th>\n",
       "      <td>C1623</td>\n",
       "      <td>289.584808</td>\n",
       "    </tr>\n",
       "    <tr>\n",
       "      <th>109</th>\n",
       "      <td>C2131</td>\n",
       "      <td>671.726618</td>\n",
       "    </tr>\n",
       "    <tr>\n",
       "      <th>110</th>\n",
       "      <td>C2691</td>\n",
       "      <td>1080.600645</td>\n",
       "    </tr>\n",
       "    <tr>\n",
       "      <th>111</th>\n",
       "      <td>C1147</td>\n",
       "      <td>863.220828</td>\n",
       "    </tr>\n",
       "    <tr>\n",
       "      <th>112</th>\n",
       "      <td>C1692</td>\n",
       "      <td>915.326953</td>\n",
       "    </tr>\n",
       "    <tr>\n",
       "      <th>113</th>\n",
       "      <td>C1570</td>\n",
       "      <td>766.286419</td>\n",
       "    </tr>\n",
       "    <tr>\n",
       "      <th>114</th>\n",
       "      <td>C1474</td>\n",
       "      <td>144.16731</td>\n",
       "    </tr>\n",
       "    <tr>\n",
       "      <th>115</th>\n",
       "      <td>C1633</td>\n",
       "      <td>170.418873</td>\n",
       "    </tr>\n",
       "    <tr>\n",
       "      <th>116</th>\n",
       "      <td>C2113</td>\n",
       "      <td>558.641627</td>\n",
       "    </tr>\n",
       "    <tr>\n",
       "      <th>117</th>\n",
       "      <td>C2175</td>\n",
       "      <td>913.038177</td>\n",
       "    </tr>\n",
       "    <tr>\n",
       "      <th>118</th>\n",
       "      <td>C2303</td>\n",
       "      <td>1544.171654</td>\n",
       "    </tr>\n",
       "    <tr>\n",
       "      <th>119</th>\n",
       "      <td>C2547</td>\n",
       "      <td>487.227048</td>\n",
       "    </tr>\n",
       "    <tr>\n",
       "      <th>120</th>\n",
       "      <td>C2292</td>\n",
       "      <td>687.146555</td>\n",
       "    </tr>\n",
       "    <tr>\n",
       "      <th>121</th>\n",
       "      <td>C1496</td>\n",
       "      <td>817.958344</td>\n",
       "    </tr>\n",
       "    <tr>\n",
       "      <th>122</th>\n",
       "      <td>C1289</td>\n",
       "      <td>293.680838</td>\n",
       "    </tr>\n",
       "    <tr>\n",
       "      <th>123</th>\n",
       "      <td>C1849</td>\n",
       "      <td>680.61945</td>\n",
       "    </tr>\n",
       "    <tr>\n",
       "      <th>124</th>\n",
       "      <td>C1003</td>\n",
       "      <td>227.890143</td>\n",
       "    </tr>\n",
       "    <tr>\n",
       "      <th>125</th>\n",
       "      <td>C2268</td>\n",
       "      <td>323.291576</td>\n",
       "    </tr>\n",
       "    <tr>\n",
       "      <th>126</th>\n",
       "      <td>C2551</td>\n",
       "      <td>530.100258</td>\n",
       "    </tr>\n",
       "    <tr>\n",
       "      <th>127</th>\n",
       "      <td>C2688</td>\n",
       "      <td>105.302136</td>\n",
       "    </tr>\n",
       "    <tr>\n",
       "      <th>128</th>\n",
       "      <td>C1030</td>\n",
       "      <td>89.13714</td>\n",
       "    </tr>\n",
       "    <tr>\n",
       "      <th>129</th>\n",
       "      <td>C2451</td>\n",
       "      <td>611.333634</td>\n",
       "    </tr>\n",
       "    <tr>\n",
       "      <th>130</th>\n",
       "      <td>C1749</td>\n",
       "      <td>400.141849</td>\n",
       "    </tr>\n",
       "    <tr>\n",
       "      <th>131</th>\n",
       "      <td>C1349</td>\n",
       "      <td>232.851428</td>\n",
       "    </tr>\n",
       "    <tr>\n",
       "      <th>132</th>\n",
       "      <td>C2043</td>\n",
       "      <td>228.171089</td>\n",
       "    </tr>\n",
       "    <tr>\n",
       "      <th>133</th>\n",
       "      <td>C1229</td>\n",
       "      <td>269.00651</td>\n",
       "    </tr>\n",
       "    <tr>\n",
       "      <th>134</th>\n",
       "      <td>C2363</td>\n",
       "      <td>305.045159</td>\n",
       "    </tr>\n",
       "    <tr>\n",
       "      <th>135</th>\n",
       "      <td>C1414</td>\n",
       "      <td>392.04977</td>\n",
       "    </tr>\n",
       "    <tr>\n",
       "      <th>136</th>\n",
       "      <td>C2174</td>\n",
       "      <td>298.469909</td>\n",
       "    </tr>\n",
       "    <tr>\n",
       "      <th>137</th>\n",
       "      <td>C2091</td>\n",
       "      <td>128.977869</td>\n",
       "    </tr>\n",
       "    <tr>\n",
       "      <th>138</th>\n",
       "      <td>C1841</td>\n",
       "      <td>87.492211</td>\n",
       "    </tr>\n",
       "    <tr>\n",
       "      <th>139</th>\n",
       "      <td>C2404</td>\n",
       "      <td>142.724457</td>\n",
       "    </tr>\n",
       "    <tr>\n",
       "      <th>140</th>\n",
       "      <td>C1683</td>\n",
       "      <td>201.166408</td>\n",
       "    </tr>\n",
       "    <tr>\n",
       "      <th>141</th>\n",
       "      <td>C1038</td>\n",
       "      <td>281.932437</td>\n",
       "    </tr>\n",
       "    <tr>\n",
       "      <th>142</th>\n",
       "      <td>C2456</td>\n",
       "      <td>221.852118</td>\n",
       "    </tr>\n",
       "    <tr>\n",
       "      <th>143</th>\n",
       "      <td>C1266</td>\n",
       "      <td>397.771886</td>\n",
       "    </tr>\n",
       "    <tr>\n",
       "      <th>144</th>\n",
       "      <td>C2152</td>\n",
       "      <td>66.947199</td>\n",
       "    </tr>\n",
       "    <tr>\n",
       "      <th>145</th>\n",
       "      <td>C1267</td>\n",
       "      <td>423.445779</td>\n",
       "    </tr>\n",
       "    <tr>\n",
       "      <th>146</th>\n",
       "      <td>C2189</td>\n",
       "      <td>150.558584</td>\n",
       "    </tr>\n",
       "    <tr>\n",
       "      <th>147</th>\n",
       "      <td>C2675</td>\n",
       "      <td>0</td>\n",
       "    </tr>\n",
       "    <tr>\n",
       "      <th>148</th>\n",
       "      <td>C2335</td>\n",
       "      <td>0</td>\n",
       "    </tr>\n",
       "    <tr>\n",
       "      <th>149</th>\n",
       "      <td>C1327</td>\n",
       "      <td>0</td>\n",
       "    </tr>\n",
       "  </tbody>\n",
       "</table>\n",
       "</div>"
      ]
     },
     "metadata": {},
     "execution_count": 36
    }
   ],
   "metadata": {}
  },
  {
   "cell_type": "markdown",
   "source": [
    "|종류|Test MAE|\n",
    "|:--:|:--:|\n",
    "|Public|105.4968492188|\n",
    "|Private|105.5256734854|"
   ],
   "metadata": {}
  }
 ],
 "metadata": {
  "kernelspec": {
   "name": "python3",
   "display_name": "Python 3.8.8 64-bit"
  },
  "language_info": {
   "codemirror_mode": {
    "name": "ipython",
    "version": 3
   },
   "file_extension": ".py",
   "mimetype": "text/x-python",
   "name": "python",
   "nbconvert_exporter": "python",
   "pygments_lexer": "ipython3",
   "version": "3.8.8"
  },
  "interpreter": {
   "hash": "082e9a3bcad0a290d0001e938aa60b99250c6c2ef33a923c00b70f9826caf4b7"
  }
 },
 "nbformat": 4,
 "nbformat_minor": 5
}