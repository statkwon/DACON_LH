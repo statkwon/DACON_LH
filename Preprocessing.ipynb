{
 "cells": [
  {
   "cell_type": "markdown",
   "id": "1d47028a",
   "metadata": {},
   "source": [
    "1. '임대보증금', '임대료'의 '-'를 0으로 변환\n",
    "2. '지역 == 서울특별시' 데이터 제거\n",
    "3. '공급유형 == 공공임대(5년) or 공공임대(10년)' 데이터 제거\n",
    "4. '상가수' 변수 생성\n",
    "5. '단지내주차면수', '등록차량수'에서 '상가수'만큼 제외\n",
    "6. '임대건물구분 == 상가' 데이터 제거\n",
    "7. '총세대수 = SUM(전용면적별세대수)' 변수 재생성\n",
    "8. '단지명' 변수 생성\n",
    "9. '등록차량수/총세대수' 기준 Outlier 제거\n",
    "10. '임대료' Imputation"
   ]
  },
  {
   "cell_type": "markdown",
   "id": "6346f84c",
   "metadata": {},
   "source": [
    "# Load Data"
   ]
  },
  {
   "cell_type": "code",
   "execution_count": 1,
   "id": "47c28b63",
   "metadata": {},
   "outputs": [],
   "source": [
    "import numpy as np\n",
    "import pandas as pd\n",
    "import matplotlib as mpl ; mpl.rcParams['axes.unicode_minus'] = False\n",
    "import matplotlib.pyplot as plt ; plt.rcParams['font.family'] = 'AppleGothic'\n",
    "import seaborn as sns"
   ]
  },
  {
   "cell_type": "code",
   "execution_count": 2,
   "id": "206909ba",
   "metadata": {},
   "outputs": [],
   "source": [
    "train = pd.read_csv('train.csv')"
   ]
  },
  {
   "cell_type": "markdown",
   "id": "d8c5d012",
   "metadata": {},
   "source": [
    "# Preprocessing"
   ]
  },
  {
   "cell_type": "code",
   "execution_count": 3,
   "id": "ccaadc5d",
   "metadata": {},
   "outputs": [],
   "source": [
    "# '임대보증금', '임대료'의 '-'를 0으로 변환\n",
    "train['임대보증금'].replace([np.nan, '-'], 0, inplace=True)\n",
    "train['임대보증금'] = train['임대보증금'].astype('int64')\n",
    "train['임대보증금'].replace(0, np.nan, inplace=True)\n",
    "train['임대료'].replace([np.nan, '-'], 0, inplace=True)\n",
    "train['임대료'] = train['임대료'].astype('int64')\n",
    "train['임대료'].replace(0, np.nan, inplace=True)"
   ]
  },
  {
   "cell_type": "code",
   "execution_count": 4,
   "id": "6c949762",
   "metadata": {},
   "outputs": [],
   "source": [
    "# '지역 == 서울특별시' 데이터 제거\n",
    "train = train[train['지역'] != '서울특별시'].reset_index(drop=True)"
   ]
  },
  {
   "cell_type": "code",
   "execution_count": 5,
   "id": "e7a18fb3",
   "metadata": {},
   "outputs": [],
   "source": [
    "# '공급유형 == 공공임대(5년) or 공공임대(10년)' 데이터 제거\n",
    "train = train[(train['공급유형'] != '공공임대(5년)') & (train['공급유형'] != '공공임대(10년)') & (train['공급유형'] != '장기전세')].reset_index(drop=True)"
   ]
  },
  {
   "cell_type": "code",
   "execution_count": 6,
   "id": "6a55d9e8",
   "metadata": {},
   "outputs": [],
   "source": [
    "# '상가수' 변수 생성\n",
    "store = train[train['임대건물구분'] == '상가'].groupby(['단지코드'], as_index=False).agg({'임대건물구분':'count'})\n",
    "store.columns = ['단지코드', '상가수']\n",
    "train = pd.merge(train, store, how='left', on='단지코드')\n",
    "train['상가수'] = train['상가수'].fillna(0)"
   ]
  },
  {
   "cell_type": "code",
   "execution_count": 7,
   "id": "6c0a1089",
   "metadata": {},
   "outputs": [],
   "source": [
    "# '단지내주차면수', '등록차량수'에서 '상가수'만큼 제외\n",
    "train['단지내주차면수'] = train['단지내주차면수'] - train['상가수']\n",
    "train['등록차량수'] = train['등록차량수'] - train['상가수']"
   ]
  },
  {
   "cell_type": "code",
   "execution_count": 8,
   "id": "c5801f1c",
   "metadata": {},
   "outputs": [],
   "source": [
    "# '임대건물구분 == 상가' 데이터 제거\n",
    "train = train[train['임대건물구분'] != '상가'].reset_index(drop=True)"
   ]
  },
  {
   "cell_type": "code",
   "execution_count": 9,
   "id": "f8bfd08d",
   "metadata": {},
   "outputs": [],
   "source": [
    "# '총세대수 = SUM(전용면적별세대수)' 변수 재생성\n",
    "noh_by_area = train.groupby('단지코드', as_index=False).agg({'전용면적별세대수':'sum'})\n",
    "noh_by_area.columns = ['단지코드', '총세대수']\n",
    "train = pd.merge(left=train, right=noh_by_area, how='left', on='단지코드')\n",
    "train.drop(['총세대수_x'], axis=1, inplace=True)\n",
    "train.rename(columns={'총세대수_y':'총세대수'}, inplace=True)"
   ]
  },
  {
   "cell_type": "code",
   "execution_count": 10,
   "id": "5829e914",
   "metadata": {},
   "outputs": [
    {
     "name": "stdout",
     "output_type": "stream",
     "text": [
      "5.0\n"
     ]
    }
   ],
   "source": [
    "# '단지명' 변수 생성\n",
    "data = pd.read_csv('임대주택_단지_조회.csv')\n",
    "data.drop(['순번', '전체건수', '최초입주년월'], axis=1, inplace=True)\n",
    "data['전용면적'] = np.round(data['전용면적'], 2)\n",
    "data['지역'] = ['세종특별자치시' if i[0] == '세종시' else i[0] for i in data['지역'].str.split()]\n",
    "\n",
    "noh_by_area = data.groupby('단지명', as_index=False).agg({'전용면적별세대수':'sum'})\n",
    "noh_by_area.columns = ['단지명', '총세대수']\n",
    "data = pd.merge(left=data, right=noh_by_area, how='left', on='단지명')\n",
    "data.drop(['총세대수_x'], axis=1, inplace=True)\n",
    "data.rename(columns={'총세대수_y':'총세대수'}, inplace=True)\n",
    "\n",
    "train_wo_dup = train.drop_duplicates(subset=['단지코드'])[['단지코드', '지역', '총세대수']].reset_index(drop=True)\n",
    "idx = np.column_stack([train.drop_duplicates(subset=['단지코드'])[['지역', '총세대수']].reset_index(drop=True), range(len(train_wo_dup))])\n",
    "\n",
    "train_wo_dup['단지명'] = None\n",
    "for i, j, k in idx:\n",
    "    if data.loc[(data['지역'] == i) & (data['총세대수'] == j), '단지명'].nunique() == 1:\n",
    "        train_wo_dup.iloc[k, train_wo_dup.columns.get_loc('단지명')] = data.loc[(data['지역'] == i) & (data['총세대수'] == j), '단지명'].unique()[0]\n",
    "\n",
    "null = train_wo_dup[train_wo_dup['단지명'].isnull()].reset_index(drop=True)\n",
    "data_hhset = data[['단지명', '전용면적']].groupby(['단지명'])['전용면적'].apply(list)\n",
    "data_hhset = pd.DataFrame(data_hhset)\n",
    "data_hhset = pd.merge(data_hhset, data[['단지명', '지역', '총세대수']], on='단지명')\n",
    "data_hhset = data_hhset[['단지명', '지역', '총세대수', '전용면적']]\n",
    "data_hhset = data_hhset.drop_duplicates(['단지명']).reset_index(drop=True)\n",
    "\n",
    "idx = null['단지코드'].unique()\n",
    "for i in range(len(idx)):\n",
    "    areaset_train = set(train.loc[train['단지코드'] == idx[i], '전용면적'])\n",
    "    region = null.loc[i, '지역']\n",
    "    total_hh2 = null.loc[i,'총세대수']\n",
    "    same = data_hhset.loc[(data_hhset['지역'] == region) & (data_hhset['총세대수'] == total_hh2)].reset_index(drop=True)\n",
    "    diff = []\n",
    "    if len(same.index) != 0:\n",
    "        for j in range(len(same)):\n",
    "            areaset_data = set(same.loc[j, '전용면적'])\n",
    "            diff.append(len(areaset_train - areaset_data))\n",
    "        null.loc[i, '단지명'] = same.loc[np.argmin(diff), '단지명']\n",
    "\n",
    "\n",
    "for i in range(len(train_wo_dup)):\n",
    "    if train_wo_dup.iloc[i, train_wo_dup.columns.get_loc('단지명')] == None:\n",
    "        train_wo_dup.iloc[i, train_wo_dup.columns.get_loc('단지명')] = null.loc[null['단지코드'] == train_wo_dup.iloc[i, train_wo_dup.columns.get_loc('단지코드')], '단지명']\n",
    "    else:\n",
    "        pass\n",
    "\n",
    "train = pd.merge(train, train_wo_dup[['단지코드', '단지명']], how='left', on='단지코드')\n",
    "\n",
    "code_name = train['단지코드'].unique()\n",
    "for i in range(len(code_name)):\n",
    "    dat = train.loc[train['단지코드'] == code_name[i],:]\n",
    "    if (dat.shape[0] != dat.단지명.isnull().sum()) & (dat.shape[0] != dat.단지명.notnull().sum()):\n",
    "        train.loc[train['단지코드'] == code_name[i],'단지명'] = dat.loc[dat['단지명'].notnull(),'단지명']\n",
    "    else:\n",
    "        pass\n",
    "\n",
    "train.reset_index(drop=True, inplace=True)\n",
    "\n",
    "print(round(train.loc[train['단지명'].isnull(), '단지코드'].nunique()/train['단지코드'].nunique(), 2)*100)"
   ]
  },
  {
   "cell_type": "code",
   "execution_count": 11,
   "id": "b0af931a",
   "metadata": {},
   "outputs": [],
   "source": [
    "# '자격유형', '공급유형' 변수 재생성 (Major Voting)\n",
    "max_code = train[['단지코드', '전용면적별세대수']].groupby(['단지코드']).max()\n",
    "max_code = pd.merge(max_code, train, on=['단지코드', '전용면적별세대수'])\n",
    "\n",
    "code_name = train['단지코드'].unique()\n",
    "qualify = train['자격유형'].unique()\n",
    "result_qualify = pd.DataFrame(columns=['단지코드', '자격유형'])\n",
    "result_qualify['단지코드'] = train['단지코드'].unique()\n",
    "\n",
    "for i in range(len(code_name)):\n",
    "    dat= train[train['단지코드']==code_name[i]]\n",
    "    num_qualified=[0,0,0,0,0, 0,0,0,0,0, 0,0,0,0,0]\n",
    "    \n",
    "    for j in range(len(qualify)):\n",
    "        num_qualified[j]=sum(dat.loc[dat['자격유형']==qualify[j],'전용면적별세대수'])\n",
    "    \n",
    "    result_qualify.loc[result_qualify['단지코드']== code_name[i],'자격유형']=qualify[num_qualified.index(max(num_qualified))]\n",
    "\n",
    "code_name= train.단지코드.unique()\n",
    "supply= train.공급유형.unique()\n",
    "result_supply = pd.DataFrame( columns=['단지코드', '공급유형'])\n",
    "result_supply['단지코드']=train.단지코드.unique()\n",
    "\n",
    "for i in range(len(code_name)):\n",
    "    dat= train[train['단지코드']==code_name[i]]\n",
    "    num_supplied=[0,0,0,0,0, 0,0,0,0,0]\n",
    "    \n",
    "    for j in range(len(supply)):\n",
    "        num_supplied[j]=sum(dat.loc[dat['공급유형']==supply[j],'전용면적별세대수'])\n",
    "\n",
    "    result_supply.loc[result_supply['단지코드']== code_name[i],'공급유형']=supply[num_supplied.index(max(num_supplied))]\n",
    "\n",
    "result = pd.merge(result_supply, result_qualify, on='단지코드')\n",
    "train = pd.merge(train, result, on='단지코드')\n",
    "train.drop(['공급유형_x', '자격유형_x'], axis=1, inplace=True)\n",
    "train.rename(columns={'공급유형_y':'공급유형', '자격유형_y':'자격유형'}, inplace=True)"
   ]
  },
  {
   "cell_type": "code",
   "execution_count": 12,
   "id": "35a24517",
   "metadata": {},
   "outputs": [],
   "source": [
    "# '등록차량수/총세대수' 기준 Outlier 제거\n",
    "train['세대별차량'] = train['등록차량수'] / train['총세대수']\n",
    "\n",
    "def det_out(lower, upper):\n",
    "    return(set(train['단지코드'][train['세대별차량'] < lower]).union(set(train['단지코드'][train['세대별차량'] > upper])))\n",
    "\n",
    "train = train[~train['단지코드'].isin(det_out(0.1,3))] # lower=0.1, upper=3 가정\n",
    "train.drop(['세대별차량'], axis=1, inplace=True)"
   ]
  },
  {
   "cell_type": "code",
   "execution_count": 13,
   "id": "da5c44cf",
   "metadata": {},
   "outputs": [],
   "source": [
    "# '임대료' Imputation\n",
    "from impyute.imputation.cs import mice\n",
    "train['임대료']=train['임대료'].astype('float64')\n",
    "train_num = train.loc[:,train.dtypes!=object]\n",
    "train_imp = mice(train_num.values)\n",
    "train_imp = pd.DataFrame(train_imp)\n",
    "train_imp.columns = train_num.columns\n",
    "train['임대료'] = train_imp['임대료']"
   ]
  }
 ],
 "metadata": {
  "kernelspec": {
   "display_name": "Python 3",
   "language": "python",
   "name": "python3"
  },
  "language_info": {
   "codemirror_mode": {
    "name": "ipython",
    "version": 3
   },
   "file_extension": ".py",
   "mimetype": "text/x-python",
   "name": "python",
   "nbconvert_exporter": "python",
   "pygments_lexer": "ipython3",
   "version": "3.9.5"
  }
 },
 "nbformat": 4,
 "nbformat_minor": 5
}
