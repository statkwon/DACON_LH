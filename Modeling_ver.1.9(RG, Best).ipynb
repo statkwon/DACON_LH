{
 "cells": [
  {
   "cell_type": "markdown",
   "id": "70db0f2e",
   "metadata": {},
   "source": [
    "# Preprocessing"
   ]
  },
  {
   "cell_type": "code",
   "execution_count": 1,
   "id": "3b4f6d25",
   "metadata": {},
   "outputs": [],
   "source": [
    "import numpy as np\n",
    "import pandas as pd\n",
    "import matplotlib as mpl ; mpl.rcParams['axes.unicode_minus'] = False\n",
    "import matplotlib.pyplot as plt ; plt.rcParams['font.family'] = 'AppleGothic'\n",
    "import seaborn as sns"
   ]
  },
  {
   "cell_type": "markdown",
   "id": "0fdeef27",
   "metadata": {},
   "source": [
    "---"
   ]
  },
  {
   "cell_type": "code",
   "execution_count": 2,
   "id": "1fe4aff1",
   "metadata": {},
   "outputs": [
    {
     "name": "stdout",
     "output_type": "stream",
     "text": [
      "(2869, 15)\n"
     ]
    }
   ],
   "source": [
    "# Train Data 불러오기 및 오류 데이터 제거\n",
    "train = pd.read_csv('train.csv')\n",
    "train_error = ['C2085', 'C1397', 'C2431', 'C1649', 'C1036', 'C1095', 'C2051', 'C1218', 'C1894', 'C2483', 'C1502', 'C1988']\n",
    "train = train[~train['단지코드'].isin(train_error)].reset_index(drop=True)\n",
    "print(train.shape)"
   ]
  },
  {
   "cell_type": "code",
   "execution_count": 3,
   "id": "f5532740",
   "metadata": {},
   "outputs": [
    {
     "name": "stdout",
     "output_type": "stream",
     "text": [
      "(1008, 14)\n"
     ]
    }
   ],
   "source": [
    "# Test Data 불러오기 및 오류 데이터 제거\n",
    "test = pd.read_csv('test.csv')\n",
    "test_error = ['C2675', 'C2335', 'C1327']\n",
    "test = test[~test['단지코드'].isin(test_error)].reset_index(drop=True)\n",
    "print(test.shape)"
   ]
  },
  {
   "cell_type": "markdown",
   "id": "ad3e96e6",
   "metadata": {},
   "source": [
    "---"
   ]
  },
  {
   "cell_type": "code",
   "execution_count": 4,
   "id": "9093e5e8",
   "metadata": {},
   "outputs": [],
   "source": [
    "# Train Data의 '상가수' 변수 생성\n",
    "store = train[train['임대건물구분'] == '상가'].groupby('단지코드', as_index=False).agg({'임대건물구분':'count'}).rename(columns={'임대건물구분':'상가수'})\n",
    "train = pd.merge(train, store, how='left')\n",
    "train['상가수'] = train['상가수'].fillna(0)"
   ]
  },
  {
   "cell_type": "code",
   "execution_count": 5,
   "id": "c4dcc7c9",
   "metadata": {},
   "outputs": [],
   "source": [
    "# Test Data의 '상가수' 변수 생성\n",
    "store = test[test['임대건물구분'] == '상가'].groupby('단지코드', as_index=False).agg({'임대건물구분':'count'}).rename(columns={'임대건물구분':'상가수'})\n",
    "test = pd.merge(test, store, how='left')\n",
    "test['상가수'] = test['상가수'].fillna(0)"
   ]
  },
  {
   "cell_type": "code",
   "execution_count": 6,
   "id": "edf109cb",
   "metadata": {},
   "outputs": [
    {
     "name": "stdout",
     "output_type": "stream",
     "text": [
      "(2307, 15)\n"
     ]
    }
   ],
   "source": [
    "# Train Data의 '임대건물구분 == 상가' 데이터 제거, '임대건물구분' 변수 제거\n",
    "train = train[train['임대건물구분'] != '상가'].reset_index(drop=True)\n",
    "train.drop(['임대건물구분'], axis=1, inplace=True)\n",
    "print(train.shape)"
   ]
  },
  {
   "cell_type": "code",
   "execution_count": 7,
   "id": "04d1524a",
   "metadata": {},
   "outputs": [
    {
     "name": "stdout",
     "output_type": "stream",
     "text": [
      "(831, 14)\n"
     ]
    }
   ],
   "source": [
    "# Test Data의 '임대건물구분 == 상가' 데이터 제거, '임대건물구분' 변수 제거\n",
    "test = test[test['임대건물구분'] != '상가'].reset_index(drop=True)\n",
    "test.drop(['임대건물구분'], axis=1, inplace=True)\n",
    "print(test.shape)"
   ]
  },
  {
   "cell_type": "markdown",
   "id": "bd55e5e5",
   "metadata": {},
   "source": [
    "---"
   ]
  },
  {
   "cell_type": "code",
   "execution_count": 8,
   "id": "cc824e80",
   "metadata": {
    "scrolled": true
   },
   "outputs": [
    {
     "name": "stdout",
     "output_type": "stream",
     "text": [
      "(2307, 16)\n"
     ]
    }
   ],
   "source": [
    "# Train Data의 '전용면적별세대수합' 변수 생성\n",
    "noh_by_area = train.groupby('단지코드', as_index=False).agg({'전용면적별세대수':'sum'}).rename(columns={'전용면적별세대수':'전용면적별세대수합'})\n",
    "train = pd.merge(left=train, right=noh_by_area, how='left', on='단지코드')\n",
    "print(train.shape)"
   ]
  },
  {
   "cell_type": "code",
   "execution_count": 9,
   "id": "f4dacbdc",
   "metadata": {},
   "outputs": [
    {
     "name": "stdout",
     "output_type": "stream",
     "text": [
      "(831, 15)\n"
     ]
    }
   ],
   "source": [
    "# Test Data의 '전용면적별세대수합' 변수 생성\n",
    "noh_by_area = test.groupby('단지코드', as_index=False).agg({'전용면적별세대수':'sum'}).rename(columns={'전용면적별세대수':'전용면적별세대수합'})\n",
    "test = pd.merge(left=test, right=noh_by_area, how='left', on='단지코드')\n",
    "print(test.shape)"
   ]
  },
  {
   "cell_type": "markdown",
   "id": "04bb35e7",
   "metadata": {},
   "source": [
    "---"
   ]
  },
  {
   "cell_type": "code",
   "execution_count": 10,
   "id": "2a4314aa",
   "metadata": {},
   "outputs": [
    {
     "name": "stdout",
     "output_type": "stream",
     "text": [
      "{'서울특별시'}\n",
      "{'B', 'F', 'O'}\n",
      "{'장기전세', '공공임대(5년)', '공공분양'}\n"
     ]
    }
   ],
   "source": [
    "print(set(train['지역'].unique()) - set(test['지역'].unique()))\n",
    "print(set(train['자격유형'].unique()) - set(test['자격유형'].unique()))\n",
    "print(set(train['공급유형'].unique()) - set(test['공급유형'].unique()))"
   ]
  },
  {
   "cell_type": "code",
   "execution_count": 11,
   "id": "35feb69c",
   "metadata": {},
   "outputs": [
    {
     "name": "stdout",
     "output_type": "stream",
     "text": [
      "(2222, 16)\n"
     ]
    }
   ],
   "source": [
    "# Test Data에 없는 카테고리 Train Data에서 제거\n",
    "train = train[train['지역'] != '서울특별시'].reset_index(drop=True)\n",
    "train = train[~train['자격유형'].isin(['F', 'O', 'B'])].reset_index(drop=True)\n",
    "train = train[~train['공급유형'].isin(['공공분양', '공공임대(5년)', '장기전세'])].reset_index(drop=True)\n",
    "print(train.shape)"
   ]
  },
  {
   "cell_type": "markdown",
   "id": "a65334c0",
   "metadata": {},
   "source": [
    "---"
   ]
  },
  {
   "cell_type": "code",
   "execution_count": 12,
   "id": "3d710028",
   "metadata": {},
   "outputs": [],
   "source": [
    "# Train Data의 '임대보증금', '임대료'의 '-'를 0으로 변환\n",
    "train['임대보증금'] = train['임대보증금'].replace('-', 0).astype('float64')\n",
    "train['임대료'] = train['임대료'].replace('-', 0).astype('float64')"
   ]
  },
  {
   "cell_type": "code",
   "execution_count": 13,
   "id": "18339e1d",
   "metadata": {},
   "outputs": [],
   "source": [
    "# Test Data의 '임대보증금', '임대료'의 '-'를 0으로 변환\n",
    "test['임대보증금'] = test['임대보증금'].replace('-', 0).astype('float64')\n",
    "test['임대료'] = test['임대료'].replace('-', 0).astype('float64')"
   ]
  },
  {
   "cell_type": "markdown",
   "id": "7a05bbe0",
   "metadata": {},
   "source": [
    "---"
   ]
  },
  {
   "cell_type": "code",
   "execution_count": 14,
   "id": "c0839947",
   "metadata": {},
   "outputs": [],
   "source": [
    "# Train Data의 '도보 10분거리 내 지하철역 수(환승노선 수 반영)' NA 0으로 대체\n",
    "train['도보 10분거리 내 지하철역 수(환승노선 수 반영)'] = train['도보 10분거리 내 지하철역 수(환승노선 수 반영)'].fillna(0)"
   ]
  },
  {
   "cell_type": "code",
   "execution_count": 15,
   "id": "aff2d095",
   "metadata": {},
   "outputs": [],
   "source": [
    "# Test Data의 '도보 10분거리 내 지하철역 수(환승노선 수 반영)' NA 0으로 대체\n",
    "test['도보 10분거리 내 지하철역 수(환승노선 수 반영)'] = test['도보 10분거리 내 지하철역 수(환승노선 수 반영)'].fillna(0)"
   ]
  },
  {
   "cell_type": "markdown",
   "id": "4fc4d5d7",
   "metadata": {},
   "source": [
    "---"
   ]
  },
  {
   "cell_type": "code",
   "execution_count": 16,
   "id": "92c36c9d",
   "metadata": {},
   "outputs": [],
   "source": [
    "# Test Data의 '단지코드' NA 특정값으로 대체\n",
    "test.loc[test['단지코드'] == 'C2411', '자격유형'] = 'A'\n",
    "test.loc[test['단지코드'] == 'C2253', '자격유형'] = 'D'"
   ]
  },
  {
   "cell_type": "markdown",
   "id": "ce87b5a9",
   "metadata": {},
   "source": [
    "---"
   ]
  },
  {
   "cell_type": "code",
   "execution_count": 17,
   "id": "a32b6891",
   "metadata": {},
   "outputs": [],
   "source": [
    "# Test Data의 '임대보증금', '임대료' NA 특정값으로 대체\n",
    "test.loc[test['임대보증금'].isnull(), '임대보증금'] = [5787000.0, 5787000.0, 11574000.0]\n",
    "test.loc[test['임대료'].isnull(), '임대료'] = [79980.0, 79980.0, 159960.0]"
   ]
  },
  {
   "cell_type": "markdown",
   "id": "ff197060",
   "metadata": {},
   "source": [
    "---"
   ]
  },
  {
   "cell_type": "code",
   "execution_count": 18,
   "id": "2b433c64",
   "metadata": {
    "scrolled": true
   },
   "outputs": [],
   "source": [
    "# Train Data의 '차량미보유세대수' 변수 생성\n",
    "noh_wo_cars = train[train['공급유형'].isin(['영구임대', '행복주택'])].groupby('단지코드', as_index=False).agg({'전용면적별세대수':'sum'}).rename(columns={'전용면적별세대수':'차량미보유세대수'})\n",
    "train = pd.merge(train, noh_wo_cars, how='left')\n",
    "train['차량미보유세대수'] = train['차량미보유세대수'].fillna(0)\n",
    "train.drop(['공급유형', '자격유형'], axis=1, inplace=True)"
   ]
  },
  {
   "cell_type": "code",
   "execution_count": 19,
   "id": "9e45f8c2",
   "metadata": {
    "scrolled": true
   },
   "outputs": [],
   "source": [
    "# Test Data의 '차량미보유세대수' 변수 생성\n",
    "noh_wo_cars = test[test['공급유형'].isin(['영구임대', '행복주택'])].groupby('단지코드', as_index=False).agg({'전용면적별세대수':'sum'}).rename(columns={'전용면적별세대수':'차량미보유세대수'})\n",
    "test = pd.merge(test, noh_wo_cars, how='left')\n",
    "test['차량미보유세대수'] = test['차량미보유세대수'].fillna(0)\n",
    "test.drop(['공급유형', '자격유형'], axis=1, inplace=True)"
   ]
  },
  {
   "cell_type": "markdown",
   "id": "9bb34a92",
   "metadata": {},
   "source": [
    "---"
   ]
  },
  {
   "cell_type": "code",
   "execution_count": 20,
   "id": "3c529fe1",
   "metadata": {},
   "outputs": [],
   "source": [
    "# Train Data의 '임대료' 변수 재생성 (전용면적별세대수 가중 평균)\n",
    "train['임대료'] = round(train['임대료'] * train['전용면적별세대수'] / train['전용면적별세대수합'])\n",
    "rental_fee = train.groupby('단지코드', as_index=False).agg({'임대료':'sum'})\n",
    "train = pd.merge(train, rental_fee, how='left', on='단지코드').drop(['임대료_x'], axis=1).rename(columns={'임대료_y':'임대료'})"
   ]
  },
  {
   "cell_type": "code",
   "execution_count": 21,
   "id": "e2ef3be4",
   "metadata": {},
   "outputs": [],
   "source": [
    "# Test Data의 '임대료' 변수 재생성 (전용면적별세대수 가중 평균)\n",
    "test['임대료'] = round(test['임대료'] * test['전용면적별세대수'] / test['전용면적별세대수합'])\n",
    "rental_fee = test.groupby('단지코드', as_index=False).agg({'임대료':'sum'})\n",
    "test = pd.merge(test, rental_fee, how='left', on='단지코드').drop(['임대료_x'], axis=1).rename(columns={'임대료_y':'임대료'})"
   ]
  },
  {
   "cell_type": "code",
   "execution_count": 22,
   "id": "675ffb94",
   "metadata": {},
   "outputs": [],
   "source": [
    "# Train Data의 '임대보증금' 변수 재생성 (전용면적별세대수 가중 평균)\n",
    "train['임대보증금'] = round(train['임대보증금'] * train['전용면적별세대수'] / train['전용면적별세대수합'])\n",
    "rental_fee = train.groupby('단지코드', as_index=False).agg({'임대보증금':'sum'})\n",
    "train = pd.merge(train, rental_fee, how='left', on='단지코드').drop(['임대보증금_x'], axis=1).rename(columns={'임대보증금_y':'임대보증금'})"
   ]
  },
  {
   "cell_type": "code",
   "execution_count": 23,
   "id": "990522b1",
   "metadata": {},
   "outputs": [],
   "source": [
    "# Test Data의 '임대보증금' 변수 재생성 (전용면적별세대수 가중 평균)\n",
    "test['임대보증금'] = round(test['임대보증금'] * test['전용면적별세대수'] / test['전용면적별세대수합'])\n",
    "rental_fee = test.groupby('단지코드', as_index=False).agg({'임대보증금':'sum'})\n",
    "test = pd.merge(test, rental_fee, how='left', on='단지코드').drop(['임대보증금_x'], axis=1).rename(columns={'임대보증금_y':'임대보증금'})"
   ]
  },
  {
   "cell_type": "markdown",
   "id": "181f6298",
   "metadata": {},
   "source": [
    "---"
   ]
  },
  {
   "cell_type": "code",
   "execution_count": 24,
   "id": "dc5c793f",
   "metadata": {},
   "outputs": [],
   "source": [
    "# Train Data의 '전용면적' 변수 재생성 (전용면적별세대수 가중 평균)\n",
    "train['전용면적'] = round(train['전용면적'] * train['전용면적별세대수'] / train['전용면적별세대수합'])\n",
    "rental_fee = train.groupby('단지코드', as_index=False).agg({'전용면적':'sum'})\n",
    "train = pd.merge(train, rental_fee, how='left', on='단지코드').drop(['전용면적_x'], axis=1).rename(columns={'전용면적_y':'전용면적'})"
   ]
  },
  {
   "cell_type": "code",
   "execution_count": 25,
   "id": "23693094",
   "metadata": {},
   "outputs": [],
   "source": [
    "# Test Data의 '전용면적' 변수 재생성 (전용면적별세대수 가중 평균)\n",
    "test['전용면적'] = round(test['전용면적'] * test['전용면적별세대수'] / test['전용면적별세대수합'])\n",
    "rental_fee = test.groupby('단지코드', as_index=False).agg({'전용면적':'sum'})\n",
    "test = pd.merge(test, rental_fee, how='left', on='단지코드').drop(['전용면적_x'], axis=1).rename(columns={'전용면적_y':'전용면적'})"
   ]
  },
  {
   "cell_type": "markdown",
   "id": "0ec7161f",
   "metadata": {},
   "source": [
    "---"
   ]
  },
  {
   "cell_type": "code",
   "execution_count": 26,
   "id": "a4717b8d",
   "metadata": {},
   "outputs": [
    {
     "name": "stdout",
     "output_type": "stream",
     "text": [
      "(2222, 16)\n"
     ]
    }
   ],
   "source": [
    "# Train Data의 '아파트수' 변수 생성\n",
    "num_of_apt = pd.DataFrame(train['단지코드'].value_counts()).reset_index().rename(columns={'index':'단지코드', '단지코드':'아파트수'})\n",
    "train = pd.merge(train, num_of_apt, how='left', on='단지코드')\n",
    "print(train.shape)"
   ]
  },
  {
   "cell_type": "code",
   "execution_count": 27,
   "id": "6fda7417",
   "metadata": {},
   "outputs": [
    {
     "name": "stdout",
     "output_type": "stream",
     "text": [
      "(831, 15)\n"
     ]
    }
   ],
   "source": [
    "# Test Data의 '아파트수' 변수 생성\n",
    "num_of_apt = pd.DataFrame(test['단지코드'].value_counts()).reset_index().rename(columns={'index':'단지코드', '단지코드':'아파트수'})\n",
    "test = pd.merge(test, num_of_apt, how='left', on='단지코드')\n",
    "print(test.shape)"
   ]
  },
  {
   "cell_type": "markdown",
   "id": "6932bcea",
   "metadata": {},
   "source": [
    "---"
   ]
  },
  {
   "cell_type": "code",
   "execution_count": 28,
   "id": "68507051",
   "metadata": {
    "scrolled": true
   },
   "outputs": [
    {
     "name": "stdout",
     "output_type": "stream",
     "text": [
      "(2222, 17)\n"
     ]
    }
   ],
   "source": [
    "# Train Data의 '차량보유인구비율' 변수 생성\n",
    "age_gender_info = pd.read_csv('age_gender_info.csv')\n",
    "cars = pd.DataFrame(age_gender_info.iloc[:, [7, 8, 9, 10, 12, 14]].sum(axis=1), columns=['차량보유인구비율'])\n",
    "cars['지역'] = age_gender_info['지역']\n",
    "train = pd.merge(train, cars, how='left', on='지역')\n",
    "print(train.shape)"
   ]
  },
  {
   "cell_type": "code",
   "execution_count": 29,
   "id": "20c90903",
   "metadata": {},
   "outputs": [
    {
     "name": "stdout",
     "output_type": "stream",
     "text": [
      "(831, 16)\n"
     ]
    }
   ],
   "source": [
    "# Test Data의 '차량보유인구비율' 변수 생성\n",
    "test = pd.merge(test, cars, how='left', on='지역')\n",
    "print(test.shape)"
   ]
  },
  {
   "cell_type": "markdown",
   "id": "817f8115",
   "metadata": {},
   "source": [
    "---"
   ]
  },
  {
   "cell_type": "code",
   "execution_count": 30,
   "id": "e5d39f32",
   "metadata": {},
   "outputs": [],
   "source": [
    "tmp = train.drop(['전용면적별세대수'], axis=1).drop_duplicates().reset_index(drop=True)"
   ]
  },
  {
   "cell_type": "code",
   "execution_count": 31,
   "id": "b7da4be9",
   "metadata": {},
   "outputs": [],
   "source": [
    "tmp['차량미보유세대비율'] = tmp['차량미보유세대수'] / tmp['총세대수']"
   ]
  },
  {
   "cell_type": "code",
   "execution_count": 32,
   "id": "e1c7f467",
   "metadata": {},
   "outputs": [
    {
     "data": {
      "image/png": "[encoded data removed]",
      "text/plain": [
       "<Figure size 432x288 with 1 Axes>"
      ]
     },
     "metadata": {
      "needs_background": "light"
     },
     "output_type": "display_data"
    }
   ],
   "source": [
    "fig, ax = plt.subplots()\n",
    "sns.scatterplot(x='단지내주차면수', y='등록차량수', data=tmp, hue='차량미보유세대비율')\n",
    "plt.show()"
   ]
  },
  {
   "cell_type": "code",
   "execution_count": 33,
   "id": "0caa1252",
   "metadata": {},
   "outputs": [],
   "source": [
    "X_train = tmp[['단지내주차면수', '차량미보유세대비율', '전용면적', '차량보유인구비율', '공가수']]\n",
    "y_train = tmp['등록차량수']"
   ]
  },
  {
   "cell_type": "code",
   "execution_count": 34,
   "id": "16defc43",
   "metadata": {},
   "outputs": [],
   "source": [
    "from sklearn.preprocessing import PolynomialFeatures"
   ]
  },
  {
   "cell_type": "code",
   "execution_count": 35,
   "id": "2bfaa68d",
   "metadata": {},
   "outputs": [],
   "source": [
    "poly = PolynomialFeatures(2, interaction_only=True)"
   ]
  },
  {
   "cell_type": "code",
   "execution_count": 36,
   "id": "215c4364",
   "metadata": {},
   "outputs": [],
   "source": [
    "X_train = poly.fit_transform(X_train)"
   ]
  },
  {
   "cell_type": "code",
   "execution_count": 37,
   "id": "b22f24a3",
   "metadata": {},
   "outputs": [],
   "source": [
    "from sklearn.preprocessing import StandardScaler"
   ]
  },
  {
   "cell_type": "code",
   "execution_count": 38,
   "id": "44f39da3",
   "metadata": {},
   "outputs": [
    {
     "data": {
      "text/plain": [
       "StandardScaler()"
      ]
     },
     "execution_count": 38,
     "metadata": {},
     "output_type": "execute_result"
    }
   ],
   "source": [
    "scaler = StandardScaler()\n",
    "scaler.fit(X_train)"
   ]
  },
  {
   "cell_type": "code",
   "execution_count": 39,
   "id": "2bc2c64a",
   "metadata": {},
   "outputs": [],
   "source": [
    "X_train = scaler.transform(X_train)"
   ]
  },
  {
   "cell_type": "code",
   "execution_count": 40,
   "id": "50cf6c74",
   "metadata": {},
   "outputs": [],
   "source": [
    "from sklearn.linear_model import LinearRegression\n",
    "from sklearn.model_selection import cross_val_score"
   ]
  },
  {
   "cell_type": "code",
   "execution_count": 41,
   "id": "1adb2ef8",
   "metadata": {},
   "outputs": [],
   "source": [
    "lr = LinearRegression()"
   ]
  },
  {
   "cell_type": "code",
   "execution_count": 42,
   "id": "90ef372a",
   "metadata": {},
   "outputs": [],
   "source": [
    "score = cross_val_score(lr, X_train, y_train, cv=10, scoring='neg_mean_absolute_error')"
   ]
  },
  {
   "cell_type": "code",
   "execution_count": 43,
   "id": "e3391202",
   "metadata": {
    "scrolled": true
   },
   "outputs": [
    {
     "name": "stdout",
     "output_type": "stream",
     "text": [
      "평균: 118.88391097533801 | 표준편차: 29.188948212581263\n"
     ]
    }
   ],
   "source": [
    "print(f'평균: {-score.mean()} | 표준편차: {score.std()}')"
   ]
  },
  {
   "cell_type": "code",
   "execution_count": 44,
   "id": "9776d76f",
   "metadata": {},
   "outputs": [],
   "source": [
    "from sklearn.linear_model import Ridge"
   ]
  },
  {
   "cell_type": "code",
   "execution_count": 45,
   "id": "53545148",
   "metadata": {
    "scrolled": true
   },
   "outputs": [
    {
     "name": "stdout",
     "output_type": "stream",
     "text": [
      "Best alpha is 11.\n"
     ]
    }
   ],
   "source": [
    "best_alpha = []\n",
    "for i in range(30):\n",
    "    rg = Ridge(alpha=i)\n",
    "    score = cross_val_score(rg, X_train, y_train, cv=10, scoring='neg_mean_absolute_error')\n",
    "    best_alpha.append(-score.mean())\n",
    "print(f'Best alpha is {np.argmin(best_alpha)}.')"
   ]
  },
  {
   "cell_type": "code",
   "execution_count": 46,
   "id": "39418dfd",
   "metadata": {},
   "outputs": [],
   "source": [
    "rg = Ridge(alpha=11)"
   ]
  },
  {
   "cell_type": "code",
   "execution_count": 47,
   "id": "df117b2c",
   "metadata": {},
   "outputs": [],
   "source": [
    "score = cross_val_score(rg, X_train, y_train, cv=10, scoring='neg_mean_absolute_error')"
   ]
  },
  {
   "cell_type": "code",
   "execution_count": 48,
   "id": "55fe629c",
   "metadata": {},
   "outputs": [
    {
     "name": "stdout",
     "output_type": "stream",
     "text": [
      "평균: 118.21936658088836 | 표준편차: 31.62583487452536\n"
     ]
    }
   ],
   "source": [
    "print(f'평균: {-score.mean()} | 표준편차: {score.std()}')"
   ]
  },
  {
   "cell_type": "code",
   "execution_count": 49,
   "id": "3686426d",
   "metadata": {
    "scrolled": false
   },
   "outputs": [
    {
     "data": {
      "text/plain": [
       "Ridge(alpha=11)"
      ]
     },
     "execution_count": 49,
     "metadata": {},
     "output_type": "execute_result"
    }
   ],
   "source": [
    "rg.fit(X_train, y_train)"
   ]
  },
  {
   "cell_type": "markdown",
   "id": "0b998ce7",
   "metadata": {},
   "source": [
    "---"
   ]
  },
  {
   "cell_type": "code",
   "execution_count": 50,
   "id": "e0107e97",
   "metadata": {},
   "outputs": [],
   "source": [
    "tmp_test = test.drop(['전용면적별세대수'], axis=1).drop_duplicates().reset_index(drop=True)"
   ]
  },
  {
   "cell_type": "code",
   "execution_count": 51,
   "id": "a325b75b",
   "metadata": {},
   "outputs": [],
   "source": [
    "tmp_test['차량미보유세대비율'] = tmp_test['차량미보유세대수'] / tmp_test['총세대수']"
   ]
  },
  {
   "cell_type": "code",
   "execution_count": 52,
   "id": "935ba883",
   "metadata": {},
   "outputs": [],
   "source": [
    "X_test = tmp_test[['단지내주차면수', '차량미보유세대비율', '전용면적', '차량보유인구비율', '공가수']]"
   ]
  },
  {
   "cell_type": "code",
   "execution_count": 53,
   "id": "b404f962",
   "metadata": {},
   "outputs": [],
   "source": [
    "poly = PolynomialFeatures(2, interaction_only=True)"
   ]
  },
  {
   "cell_type": "code",
   "execution_count": 54,
   "id": "70dd6c7b",
   "metadata": {},
   "outputs": [],
   "source": [
    "X_test = poly.fit_transform(X_test)"
   ]
  },
  {
   "cell_type": "code",
   "execution_count": 55,
   "id": "9b049465",
   "metadata": {},
   "outputs": [],
   "source": [
    "X_test = scaler.transform(X_test)"
   ]
  },
  {
   "cell_type": "code",
   "execution_count": 56,
   "id": "9a8e7bc3",
   "metadata": {},
   "outputs": [],
   "source": [
    "tmp_test['등록차량수'] = rg.predict(X_test)"
   ]
  },
  {
   "cell_type": "code",
   "execution_count": 57,
   "id": "558c4d2d",
   "metadata": {},
   "outputs": [],
   "source": [
    "submission = tmp_test[['단지코드', '등록차량수']].rename(columns={'단지코드':'code', '등록차량수':'num'})"
   ]
  },
  {
   "cell_type": "code",
   "execution_count": 58,
   "id": "baa1f735",
   "metadata": {},
   "outputs": [],
   "source": [
    "error = pd.DataFrame(np.array([['C2675', 0], ['C2335', 0], ['C1327', 0]]), columns=['code', 'num'])"
   ]
  },
  {
   "cell_type": "code",
   "execution_count": 59,
   "id": "1f857972",
   "metadata": {},
   "outputs": [],
   "source": [
    "submission = pd.concat([submission, error]).reset_index(drop=True)"
   ]
  },
  {
   "cell_type": "code",
   "execution_count": 60,
   "id": "3c5087a2",
   "metadata": {},
   "outputs": [],
   "source": [
    "submission.to_csv('submission.csv', index=False)"
   ]
  }
 ],
 "metadata": {
  "kernelspec": {
   "display_name": "Python 3",
   "language": "python",
   "name": "python3"
  },
  "language_info": {
   "codemirror_mode": {
    "name": "ipython",
    "version": 3
   },
   "file_extension": ".py",
   "mimetype": "text/x-python",
   "name": "python",
   "nbconvert_exporter": "python",
   "pygments_lexer": "ipython3",
   "version": "3.9.5"
  }
 },
 "nbformat": 4,
 "nbformat_minor": 5
}
