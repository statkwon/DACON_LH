{
 "cells": [
  {
   "cell_type": "markdown",
   "id": "70db0f2e",
   "metadata": {},
   "source": [
    "# Preprocessing"
   ]
  },
  {
   "cell_type": "code",
   "execution_count": 1,
   "id": "3b4f6d25",
   "metadata": {},
   "outputs": [],
   "source": [
    "import numpy as np\n",
    "import pandas as pd\n",
    "import matplotlib as mpl ; mpl.rcParams['axes.unicode_minus'] = False\n",
    "import matplotlib.pyplot as plt ; plt.rcParams['font.family'] = 'AppleGothic'\n",
    "import seaborn as sns"
   ]
  },
  {
   "cell_type": "markdown",
   "id": "0fdeef27",
   "metadata": {},
   "source": [
    "---"
   ]
  },
  {
   "cell_type": "code",
   "execution_count": 2,
   "id": "1fe4aff1",
   "metadata": {},
   "outputs": [
    {
     "name": "stdout",
     "output_type": "stream",
     "text": [
      "(2869, 15)\n"
     ]
    }
   ],
   "source": [
    "# Train Data 불러오기 및 오류 데이터 제거\n",
    "train = pd.read_csv('train.csv')\n",
    "train_error = ['C2085', 'C1397', 'C2431', 'C1649', 'C1036', 'C1095', 'C2051', 'C1218', 'C1894', 'C2483', 'C1502', 'C1988']\n",
    "train = train[~train['단지코드'].isin(train_error)].reset_index(drop=True)\n",
    "print(train.shape)"
   ]
  },
  {
   "cell_type": "code",
   "execution_count": 3,
   "id": "f5532740",
   "metadata": {},
   "outputs": [
    {
     "name": "stdout",
     "output_type": "stream",
     "text": [
      "(1008, 14)\n"
     ]
    }
   ],
   "source": [
    "# Test Data 불러오기 및 오류 데이터 제거\n",
    "test = pd.read_csv('test.csv')\n",
    "test_error = ['C2675', 'C2335', 'C1327']\n",
    "test = test[~test['단지코드'].isin(test_error)].reset_index(drop=True)\n",
    "print(test.shape)"
   ]
  },
  {
   "cell_type": "markdown",
   "id": "ad3e96e6",
   "metadata": {},
   "source": [
    "---"
   ]
  },
  {
   "cell_type": "code",
   "execution_count": 4,
   "id": "a05665a9",
   "metadata": {
    "scrolled": true
   },
   "outputs": [
    {
     "name": "stdout",
     "output_type": "stream",
     "text": [
      "[1]\n"
     ]
    }
   ],
   "source": [
    "print(train.loc[train['임대건물구분'] == '상가', '전용면적별세대수'].unique())"
   ]
  },
  {
   "cell_type": "markdown",
   "id": "94c59bcc",
   "metadata": {},
   "source": [
    "$\\Rightarrow$ 임대건물구분이 '상가'인 경우는 무조건 한 세대"
   ]
  },
  {
   "cell_type": "code",
   "execution_count": 5,
   "id": "299682fa",
   "metadata": {},
   "outputs": [],
   "source": [
    "# Train Data의 '상가' 변수 생성\n",
    "train['상가'] = train['단지코드'].isin(train.loc[train['임대건물구분'] == '상가', '단지코드'].unique()).astype('int64')"
   ]
  },
  {
   "cell_type": "code",
   "execution_count": 6,
   "id": "5dbc27a5",
   "metadata": {},
   "outputs": [],
   "source": [
    "# Test Data의 '상가' 변수 생성\n",
    "test['상가'] = test['단지코드'].isin(test.loc[train['임대건물구분'] == '상가', '단지코드'].unique()).astype('int64')"
   ]
  },
  {
   "cell_type": "code",
   "execution_count": 7,
   "id": "edf109cb",
   "metadata": {},
   "outputs": [
    {
     "name": "stdout",
     "output_type": "stream",
     "text": [
      "(2307, 15)\n"
     ]
    }
   ],
   "source": [
    "# Train Data의 '임대건물구분 == 상가' 데이터 제거, '임대건물구분' 변수 제거\n",
    "train = train[train['임대건물구분'] != '상가'].reset_index(drop=True)\n",
    "train.drop(['임대건물구분'], axis=1, inplace=True)\n",
    "print(train.shape)"
   ]
  },
  {
   "cell_type": "code",
   "execution_count": 8,
   "id": "04d1524a",
   "metadata": {},
   "outputs": [
    {
     "name": "stdout",
     "output_type": "stream",
     "text": [
      "(831, 14)\n"
     ]
    }
   ],
   "source": [
    "# Test Data의 '임대건물구분 == 상가' 데이터 제거, '임대건물구분' 변수 제거\n",
    "test = test[test['임대건물구분'] != '상가'].reset_index(drop=True)\n",
    "test.drop(['임대건물구분'], axis=1, inplace=True)\n",
    "print(test.shape)"
   ]
  },
  {
   "cell_type": "markdown",
   "id": "5e919772",
   "metadata": {},
   "source": [
    "---"
   ]
  },
  {
   "cell_type": "code",
   "execution_count": 9,
   "id": "cc824e80",
   "metadata": {},
   "outputs": [
    {
     "name": "stdout",
     "output_type": "stream",
     "text": [
      "(2307, 16)\n"
     ]
    }
   ],
   "source": [
    "# Train Data의 '전용면적별세대수합' 변수 생성\n",
    "noh_by_area = train.groupby('단지코드', as_index=False).agg({'전용면적별세대수':'sum'}).rename(columns={'전용면적별세대수':'전용면적별세대수합'})\n",
    "train = pd.merge(left=train, right=noh_by_area, how='left', on='단지코드')\n",
    "print(train.shape)"
   ]
  },
  {
   "cell_type": "code",
   "execution_count": 10,
   "id": "f4dacbdc",
   "metadata": {},
   "outputs": [
    {
     "name": "stdout",
     "output_type": "stream",
     "text": [
      "(831, 15)\n"
     ]
    }
   ],
   "source": [
    "# Test Data의 '전용면적별세대수합' 변수 생성\n",
    "noh_by_area = test.groupby('단지코드', as_index=False).agg({'전용면적별세대수':'sum'}).rename(columns={'전용면적별세대수':'전용면적별세대수합'})\n",
    "test = pd.merge(left=test, right=noh_by_area, how='left', on='단지코드')\n",
    "print(test.shape)"
   ]
  },
  {
   "cell_type": "markdown",
   "id": "04bb35e7",
   "metadata": {},
   "source": [
    "---"
   ]
  },
  {
   "cell_type": "code",
   "execution_count": 11,
   "id": "2a4314aa",
   "metadata": {},
   "outputs": [
    {
     "name": "stdout",
     "output_type": "stream",
     "text": [
      "{'서울특별시'}\n",
      "{'B', 'O', 'F'}\n",
      "{'장기전세', '공공임대(5년)', '공공분양'}\n"
     ]
    }
   ],
   "source": [
    "print(set(train['지역'].unique()) - set(test['지역'].unique()))\n",
    "print(set(train['자격유형'].unique()) - set(test['자격유형'].unique()))\n",
    "print(set(train['공급유형'].unique()) - set(test['공급유형'].unique()))"
   ]
  },
  {
   "cell_type": "code",
   "execution_count": 12,
   "id": "35feb69c",
   "metadata": {},
   "outputs": [
    {
     "name": "stdout",
     "output_type": "stream",
     "text": [
      "(2222, 16)\n"
     ]
    }
   ],
   "source": [
    "# Test Data에 없는 카테고리 Train Data에서 제거\n",
    "train = train[train['지역'] != '서울특별시'].reset_index(drop=True)\n",
    "train = train[~train['자격유형'].isin(['F', 'O', 'B'])].reset_index(drop=True)\n",
    "train = train[~train['공급유형'].isin(['공공임대(5년)', '장기전세', '공공분양'])].reset_index(drop=True)\n",
    "print(train.shape)"
   ]
  },
  {
   "cell_type": "markdown",
   "id": "a65334c0",
   "metadata": {},
   "source": [
    "---"
   ]
  },
  {
   "cell_type": "code",
   "execution_count": 13,
   "id": "3d710028",
   "metadata": {},
   "outputs": [],
   "source": [
    "# Train Data의 '임대보증금', '임대료'의 '-'를 0으로 변환\n",
    "train['임대보증금'] = train['임대보증금'].replace('-', 0).astype('float64')\n",
    "train['임대료'] = train['임대료'].replace('-', 0).astype('float64')"
   ]
  },
  {
   "cell_type": "code",
   "execution_count": 14,
   "id": "18339e1d",
   "metadata": {},
   "outputs": [],
   "source": [
    "# Test Data의 '임대보증금', '임대료'의 '-'를 0으로 변환\n",
    "test['임대보증금'] = test['임대보증금'].replace('-', 0).astype('float64')\n",
    "test['임대료'] = test['임대료'].replace('-', 0).astype('float64')"
   ]
  },
  {
   "cell_type": "markdown",
   "id": "7a05bbe0",
   "metadata": {},
   "source": [
    "---"
   ]
  },
  {
   "cell_type": "code",
   "execution_count": 15,
   "id": "c0839947",
   "metadata": {},
   "outputs": [],
   "source": [
    "# Train Data의 '도보 10분거리 내 지하철역 수(환승노선 수 반영)' NA 0으로 대체\n",
    "train['도보 10분거리 내 지하철역 수(환승노선 수 반영)'] = train['도보 10분거리 내 지하철역 수(환승노선 수 반영)'].fillna(0)"
   ]
  },
  {
   "cell_type": "code",
   "execution_count": 16,
   "id": "aff2d095",
   "metadata": {},
   "outputs": [],
   "source": [
    "# Test Data의 '도보 10분거리 내 지하철역 수(환승노선 수 반영)' NA 0으로 대체\n",
    "test['도보 10분거리 내 지하철역 수(환승노선 수 반영)'] = test['도보 10분거리 내 지하철역 수(환승노선 수 반영)'].fillna(0)"
   ]
  },
  {
   "cell_type": "markdown",
   "id": "4fc4d5d7",
   "metadata": {},
   "source": [
    "---"
   ]
  },
  {
   "cell_type": "code",
   "execution_count": 17,
   "id": "92c36c9d",
   "metadata": {},
   "outputs": [],
   "source": [
    "# Test Data의 '단지코드' NA 특정값으로 대체\n",
    "test.loc[test['단지코드'] == 'C2411', '자격유형'] = 'A'\n",
    "test.loc[test['단지코드'] == 'C2253', '자격유형'] = 'D'"
   ]
  },
  {
   "cell_type": "markdown",
   "id": "ce87b5a9",
   "metadata": {},
   "source": [
    "---"
   ]
  },
  {
   "cell_type": "code",
   "execution_count": 18,
   "id": "a32b6891",
   "metadata": {},
   "outputs": [],
   "source": [
    "# Test Data의 '임대보증금', '임대료' NA 특정값으로 대체\n",
    "test.loc[test['임대보증금'].isnull(), '임대보증금'] = [5787000.0, 5787000.0, 11574000.0]\n",
    "test.loc[test['임대료'].isnull(), '임대료'] = [79980.0, 79980.0, 159960.0]"
   ]
  },
  {
   "cell_type": "markdown",
   "id": "ea8d8b03",
   "metadata": {},
   "source": [
    "---"
   ]
  },
  {
   "cell_type": "code",
   "execution_count": 19,
   "id": "d8137724",
   "metadata": {},
   "outputs": [],
   "source": [
    "# Train Data의 '자격유형' 변수 재생성 (Major Voting)\n",
    "qual_type = train.groupby(['단지코드', '자격유형'], as_index=False).agg({'전용면적별세대수':'sum'}).sort_values('전용면적별세대수', ascending=False).drop_duplicates('단지코드').reset_index(drop=True).drop(['전용면적별세대수'], axis=1)\n",
    "train = pd.merge(train, qual_type, how='left', on='단지코드').drop('자격유형_x', axis=1).rename(columns={'자격유형_y':'자격유형'})"
   ]
  },
  {
   "cell_type": "code",
   "execution_count": 20,
   "id": "cccdec16",
   "metadata": {},
   "outputs": [],
   "source": [
    "# Train Data의 '공급유형' 변수 재생성 (Major Voting)\n",
    "supply_type = train.groupby(['단지코드', '공급유형'], as_index=False).agg({'전용면적별세대수':'sum'}).sort_values('전용면적별세대수', ascending=False).drop_duplicates('단지코드').reset_index(drop=True).drop(['전용면적별세대수'], axis=1)\n",
    "train = pd.merge(train, supply_type, how='left', on='단지코드').drop('공급유형_x', axis=1).rename(columns={'공급유형_y':'공급유형'})"
   ]
  },
  {
   "cell_type": "markdown",
   "id": "e2e26a95",
   "metadata": {},
   "source": [
    "---"
   ]
  },
  {
   "cell_type": "code",
   "execution_count": 21,
   "id": "5eef86d5",
   "metadata": {},
   "outputs": [],
   "source": [
    "# Test Data의 '자격유형' 변수 재생성 (Major Voting)\n",
    "qual_type = test.groupby(['단지코드', '자격유형'], as_index=False).agg({'전용면적별세대수':'sum'}).sort_values('전용면적별세대수', ascending=False).drop_duplicates('단지코드').reset_index(drop=True).drop(['전용면적별세대수'], axis=1)\n",
    "test = pd.merge(test, qual_type, how='left', on='단지코드').drop('자격유형_x', axis=1).rename(columns={'자격유형_y':'자격유형'})"
   ]
  },
  {
   "cell_type": "code",
   "execution_count": 22,
   "id": "346d5390",
   "metadata": {},
   "outputs": [],
   "source": [
    "# Test Data의 '공급유형' 변수 재생성 (Major Voting)\n",
    "supply_type = test.groupby(['단지코드', '공급유형'], as_index=False).agg({'전용면적별세대수':'sum'}).sort_values('전용면적별세대수', ascending=False).drop_duplicates('단지코드').reset_index(drop=True).drop(['전용면적별세대수'], axis=1)\n",
    "test = pd.merge(test, supply_type, how='left', on='단지코드').drop('공급유형_x', axis=1).rename(columns={'공급유형_y':'공급유형'})"
   ]
  },
  {
   "cell_type": "markdown",
   "id": "487334c0",
   "metadata": {},
   "source": [
    "---"
   ]
  },
  {
   "cell_type": "code",
   "execution_count": 23,
   "id": "472e4df8",
   "metadata": {},
   "outputs": [
    {
     "name": "stdout",
     "output_type": "stream",
     "text": [
      "(2222, 15)\n"
     ]
    }
   ],
   "source": [
    "# Train Data의 '실세대수'='총세대수'-'공가수' 변수 생성, '총세대수', '공가수' 변수 제거\n",
    "train['실세대수'] = train['총세대수'] - train['공가수']\n",
    "train.drop(['총세대수', '공가수'], axis=1, inplace=True)\n",
    "print(train.shape)"
   ]
  },
  {
   "cell_type": "code",
   "execution_count": 24,
   "id": "5ae97d82",
   "metadata": {},
   "outputs": [
    {
     "name": "stdout",
     "output_type": "stream",
     "text": [
      "(831, 14)\n"
     ]
    }
   ],
   "source": [
    "# Test Data의 '실세대수'='총세대수'-'공가수' 변수 생성, '총세대수', '공가수' 변수 제거\n",
    "test['실세대수'] = test['총세대수'] - test['공가수']\n",
    "test.drop(['총세대수', '공가수'], axis=1, inplace=True)\n",
    "print(test.shape)"
   ]
  },
  {
   "cell_type": "markdown",
   "id": "9bb34a92",
   "metadata": {},
   "source": [
    "---"
   ]
  },
  {
   "cell_type": "code",
   "execution_count": 25,
   "id": "3c529fe1",
   "metadata": {},
   "outputs": [],
   "source": [
    "# Train Data의 '임대료' 변수 재생성 (전용면적별세대수 가중 평균)\n",
    "train['임대료'] = round(train['임대료'] * train['전용면적별세대수'] / train['전용면적별세대수합'])\n",
    "rental_fee = train.groupby('단지코드', as_index=False).agg({'임대료':'sum'})\n",
    "train = pd.merge(train, rental_fee, how='left', on='단지코드').drop(['임대료_x'], axis=1).rename(columns={'임대료_y':'임대료'})"
   ]
  },
  {
   "cell_type": "code",
   "execution_count": 26,
   "id": "e2ef3be4",
   "metadata": {},
   "outputs": [],
   "source": [
    "# Test Data의 '임대료' 변수 재생성 (전용면적별세대수 가중 평균)\n",
    "test['임대료'] = round(test['임대료'] * test['전용면적별세대수'] / test['전용면적별세대수합'])\n",
    "rental_fee = test.groupby('단지코드', as_index=False).agg({'임대료':'sum'})\n",
    "test = pd.merge(test, rental_fee, how='left', on='단지코드').drop(['임대료_x'], axis=1).rename(columns={'임대료_y':'임대료'})"
   ]
  },
  {
   "cell_type": "code",
   "execution_count": 27,
   "id": "5ad3fd1e",
   "metadata": {},
   "outputs": [],
   "source": [
    "# Train Data의 '임대보증금' 변수 재생성 (전용면적별세대수 가중 평균)\n",
    "train['임대보증금'] = round(train['임대보증금'] * train['전용면적별세대수'] / train['전용면적별세대수합'])\n",
    "rental_fee = train.groupby('단지코드', as_index=False).agg({'임대보증금':'sum'})\n",
    "train = pd.merge(train, rental_fee, how='left', on='단지코드').drop(['임대보증금_x'], axis=1).rename(columns={'임대보증금_y':'임대보증금'})"
   ]
  },
  {
   "cell_type": "code",
   "execution_count": 28,
   "id": "d121425d",
   "metadata": {},
   "outputs": [],
   "source": [
    "# Test Data의 '임대보증금' 변수 재생성 (전용면적별세대수 가중 평균)\n",
    "test['임대보증금'] = round(test['임대보증금'] * test['전용면적별세대수'] / test['전용면적별세대수합'])\n",
    "rental_fee = test.groupby('단지코드', as_index=False).agg({'임대보증금':'sum'})\n",
    "test = pd.merge(test, rental_fee, how='left', on='단지코드').drop(['임대보증금_x'], axis=1).rename(columns={'임대보증금_y':'임대보증금'})"
   ]
  },
  {
   "cell_type": "markdown",
   "id": "181f6298",
   "metadata": {},
   "source": [
    "---"
   ]
  },
  {
   "cell_type": "code",
   "execution_count": 29,
   "id": "dc5c793f",
   "metadata": {},
   "outputs": [],
   "source": [
    "# Train Data의 '전용면적' 변수 재생성 (전용면적별세대수 가중 평균)\n",
    "train['전용면적'] = round(train['전용면적'] * train['전용면적별세대수'] / train['전용면적별세대수합'])\n",
    "rental_fee = train.groupby('단지코드', as_index=False).agg({'전용면적':'sum'})\n",
    "train = pd.merge(train, rental_fee, how='left', on='단지코드').drop(['전용면적_x'], axis=1).rename(columns={'전용면적_y':'전용면적'})"
   ]
  },
  {
   "cell_type": "code",
   "execution_count": 30,
   "id": "23693094",
   "metadata": {},
   "outputs": [],
   "source": [
    "# Test Data의 '전용면적' 변수 재생성 (전용면적별세대수 가중 평균)\n",
    "test['전용면적'] = round(test['전용면적'] * test['전용면적별세대수'] / test['전용면적별세대수합'])\n",
    "rental_fee = test.groupby('단지코드', as_index=False).agg({'전용면적':'sum'})\n",
    "test = pd.merge(test, rental_fee, how='left', on='단지코드').drop(['전용면적_x'], axis=1).rename(columns={'전용면적_y':'전용면적'})"
   ]
  },
  {
   "cell_type": "markdown",
   "id": "497ec01a",
   "metadata": {},
   "source": [
    "---"
   ]
  },
  {
   "cell_type": "code",
   "execution_count": 31,
   "id": "c87b09f4",
   "metadata": {},
   "outputs": [
    {
     "name": "stdout",
     "output_type": "stream",
     "text": [
      "(2222, 16)\n"
     ]
    }
   ],
   "source": [
    "# Train Data의 '아파트수' 변수 생성\n",
    "num_of_apt = pd.DataFrame(train['단지코드'].value_counts()).reset_index().rename(columns={'index':'단지코드', '단지코드':'아파트수'})\n",
    "train = pd.merge(train, num_of_apt, how='left', on='단지코드')\n",
    "print(train.shape)"
   ]
  },
  {
   "cell_type": "code",
   "execution_count": 32,
   "id": "4fb7d29c",
   "metadata": {},
   "outputs": [
    {
     "name": "stdout",
     "output_type": "stream",
     "text": [
      "(831, 15)\n"
     ]
    }
   ],
   "source": [
    "# Test Data의 '아파트수' 변수 생성\n",
    "num_of_apt = pd.DataFrame(test['단지코드'].value_counts()).reset_index().rename(columns={'index':'단지코드', '단지코드':'아파트수'})\n",
    "test = pd.merge(test, num_of_apt, how='left', on='단지코드')\n",
    "print(test.shape)"
   ]
  },
  {
   "cell_type": "markdown",
   "id": "5efe53d0",
   "metadata": {},
   "source": [
    "---"
   ]
  },
  {
   "cell_type": "code",
   "execution_count": 33,
   "id": "68507051",
   "metadata": {
    "scrolled": true
   },
   "outputs": [
    {
     "name": "stdout",
     "output_type": "stream",
     "text": [
      "(2222, 17)\n"
     ]
    }
   ],
   "source": [
    "# Train Data의 '차량보유인구비율' 변수 생성\n",
    "age_gender_info = pd.read_csv('age_gender_info.csv')\n",
    "cars = pd.DataFrame(age_gender_info.iloc[:, [7, 8, 9, 10, 12, 14]].sum(axis=1), columns=['차량보유인구비율'])\n",
    "cars['지역'] = age_gender_info['지역']\n",
    "train = pd.merge(train, cars, how='left', on='지역')\n",
    "print(train.shape)"
   ]
  },
  {
   "cell_type": "code",
   "execution_count": 34,
   "id": "20c90903",
   "metadata": {},
   "outputs": [
    {
     "name": "stdout",
     "output_type": "stream",
     "text": [
      "(831, 16)\n"
     ]
    }
   ],
   "source": [
    "# Test Data의 '차량보유인구비율' 변수 생성\n",
    "test = pd.merge(test, cars, how='left', on='지역')\n",
    "print(test.shape)"
   ]
  },
  {
   "cell_type": "markdown",
   "id": "fbffc25c",
   "metadata": {},
   "source": [
    "---"
   ]
  },
  {
   "cell_type": "code",
   "execution_count": 35,
   "id": "b2b6e22e",
   "metadata": {},
   "outputs": [],
   "source": [
    "tmp = train.drop(['전용면적별세대수'], axis=1).drop_duplicates().reset_index(drop=True)"
   ]
  },
  {
   "cell_type": "code",
   "execution_count": 36,
   "id": "be4ce76d",
   "metadata": {},
   "outputs": [],
   "source": [
    "tmp['공급유형'] = [1 if (i == '행복주택') | (i == '영구임대') else 0 for i in tmp['공급유형']]"
   ]
  },
  {
   "cell_type": "code",
   "execution_count": 37,
   "id": "47dc8267",
   "metadata": {},
   "outputs": [],
   "source": [
    "tmp1 = tmp[tmp['공급유형'] == 1].drop(['공급유형'], axis=1)\n",
    "tmp2 = tmp[tmp['공급유형'] == 0].drop(['공급유형'], axis=1)"
   ]
  },
  {
   "cell_type": "code",
   "execution_count": 38,
   "id": "3f40d91a",
   "metadata": {},
   "outputs": [],
   "source": [
    "X_train1 = tmp1[['단지내주차면수']]\n",
    "y_train1 = tmp1['등록차량수']\n",
    "X_train2 = tmp2[['단지내주차면수', '전용면적', '차량보유인구비율', '실세대수']]\n",
    "y_train2 = tmp2['등록차량수']"
   ]
  },
  {
   "cell_type": "code",
   "execution_count": 39,
   "id": "16defc43",
   "metadata": {},
   "outputs": [],
   "source": [
    "from sklearn.preprocessing import PolynomialFeatures"
   ]
  },
  {
   "cell_type": "code",
   "execution_count": 40,
   "id": "2bfaa68d",
   "metadata": {},
   "outputs": [],
   "source": [
    "poly = PolynomialFeatures(2, interaction_only=True)"
   ]
  },
  {
   "cell_type": "code",
   "execution_count": 41,
   "id": "215c4364",
   "metadata": {},
   "outputs": [],
   "source": [
    "X_train2 = poly.fit_transform(X_train2)[:, [0, 1, 2, 3, 4, 5, 6, 8, 10]]"
   ]
  },
  {
   "cell_type": "code",
   "execution_count": 42,
   "id": "1393788f",
   "metadata": {
    "scrolled": true
   },
   "outputs": [
    {
     "name": "stdout",
     "output_type": "stream",
     "text": [
      "(61, 1) (340, 9)\n"
     ]
    }
   ],
   "source": [
    "print(X_train1.shape, X_train2.shape)"
   ]
  },
  {
   "cell_type": "code",
   "execution_count": 43,
   "id": "b22f24a3",
   "metadata": {},
   "outputs": [],
   "source": [
    "from sklearn.preprocessing import StandardScaler"
   ]
  },
  {
   "cell_type": "code",
   "execution_count": 44,
   "id": "44f39da3",
   "metadata": {},
   "outputs": [
    {
     "data": {
      "text/plain": [
       "StandardScaler()"
      ]
     },
     "execution_count": 44,
     "metadata": {},
     "output_type": "execute_result"
    }
   ],
   "source": [
    "scaler1 = StandardScaler()\n",
    "scaler1.fit(X_train1)\n",
    "scaler2 = StandardScaler()\n",
    "scaler2.fit(X_train2)"
   ]
  },
  {
   "cell_type": "code",
   "execution_count": 45,
   "id": "2bc2c64a",
   "metadata": {},
   "outputs": [],
   "source": [
    "X_train1 = scaler1.transform(X_train1)\n",
    "X_train2 = scaler2.transform(X_train2)"
   ]
  },
  {
   "cell_type": "code",
   "execution_count": 46,
   "id": "11d35156",
   "metadata": {},
   "outputs": [],
   "source": [
    "from sklearn.linear_model import LinearRegression\n",
    "from sklearn.model_selection import cross_val_score"
   ]
  },
  {
   "cell_type": "code",
   "execution_count": 47,
   "id": "56be7442",
   "metadata": {},
   "outputs": [],
   "source": [
    "lr1 = LinearRegression()\n",
    "lr2 = LinearRegression()"
   ]
  },
  {
   "cell_type": "code",
   "execution_count": 48,
   "id": "eed37970",
   "metadata": {},
   "outputs": [],
   "source": [
    "score1 = cross_val_score(lr1, X_train1, y_train1, cv=10, scoring='neg_mean_absolute_error')\n",
    "score2 = cross_val_score(lr2, X_train2, y_train2, cv=10, scoring='neg_mean_absolute_error')"
   ]
  },
  {
   "cell_type": "code",
   "execution_count": 49,
   "id": "9fcb2aaa",
   "metadata": {
    "scrolled": true
   },
   "outputs": [
    {
     "name": "stdout",
     "output_type": "stream",
     "text": [
      "평균: 77.40938954037743 | 표준편차: 27.984961935188633\n",
      "평균: 123.44197702990289 | 표준편차: 42.13279739181187\n"
     ]
    }
   ],
   "source": [
    "print(f'평균: {-score1.mean()} | 표준편차: {score1.std()}')\n",
    "print(f'평균: {-score2.mean()} | 표준편차: {score2.std()}')"
   ]
  },
  {
   "cell_type": "code",
   "execution_count": 50,
   "id": "86c4448c",
   "metadata": {
    "scrolled": true
   },
   "outputs": [
    {
     "name": "stdout",
     "output_type": "stream",
     "text": [
      "평균 가중평균: 116.43951359633417\n",
      "표준편차 가중평균: 39.980632895916564\n"
     ]
    }
   ],
   "source": [
    "print('평균 가중평균:', (-score1.mean()*len(X_train1)+-score2.mean()*len(X_train2))/(len(X_train1)+len(X_train2)))\n",
    "print('표준편차 가중평균:', (score1.std()*len(X_train1)+score2.std()*len(X_train2))/(len(X_train1)+len(X_train2)))"
   ]
  },
  {
   "cell_type": "code",
   "execution_count": 51,
   "id": "5a799bd4",
   "metadata": {
    "scrolled": false
   },
   "outputs": [
    {
     "data": {
      "text/plain": [
       "LinearRegression()"
      ]
     },
     "execution_count": 51,
     "metadata": {},
     "output_type": "execute_result"
    }
   ],
   "source": [
    "lr1.fit(X_train1, y_train1)\n",
    "lr2.fit(X_train2, y_train2)"
   ]
  },
  {
   "cell_type": "markdown",
   "id": "5caa0177",
   "metadata": {},
   "source": [
    "---"
   ]
  },
  {
   "cell_type": "code",
   "execution_count": 52,
   "id": "e0107e97",
   "metadata": {},
   "outputs": [],
   "source": [
    "tmp_test = test.drop(['전용면적별세대수', '임대보증금'], axis=1).drop_duplicates().reset_index(drop=True)"
   ]
  },
  {
   "cell_type": "code",
   "execution_count": 53,
   "id": "0707eadb",
   "metadata": {},
   "outputs": [],
   "source": [
    "tmp_test['공급유형'] = [1 if (i == '행복주택') | (i == '영구임대') else 0 for i in tmp_test['공급유형']]"
   ]
  },
  {
   "cell_type": "code",
   "execution_count": 54,
   "id": "22845de1",
   "metadata": {},
   "outputs": [],
   "source": [
    "tmp_test1 = tmp_test[tmp_test['공급유형'] == 1].drop(['공급유형'], axis=1)\n",
    "tmp_test2 = tmp_test[tmp_test['공급유형'] == 0].drop(['공급유형'], axis=1)"
   ]
  },
  {
   "cell_type": "code",
   "execution_count": 55,
   "id": "0f77c2d5",
   "metadata": {},
   "outputs": [],
   "source": [
    "X_test1 = tmp_test1[['단지내주차면수']]\n",
    "X_test2 = tmp_test2[['단지내주차면수', '전용면적', '차량보유인구비율', '실세대수']]"
   ]
  },
  {
   "cell_type": "code",
   "execution_count": 56,
   "id": "b404f962",
   "metadata": {},
   "outputs": [],
   "source": [
    "poly = PolynomialFeatures(2, interaction_only=True)"
   ]
  },
  {
   "cell_type": "code",
   "execution_count": 57,
   "id": "136f053b",
   "metadata": {},
   "outputs": [],
   "source": [
    "X_test2 = poly.fit_transform(X_test2)[:, [0, 1, 2, 3, 4, 5, 6, 8, 10]]"
   ]
  },
  {
   "cell_type": "code",
   "execution_count": 58,
   "id": "9b049465",
   "metadata": {},
   "outputs": [],
   "source": [
    "X_test1 = scaler1.transform(X_test1)\n",
    "X_test2 = scaler2.transform(X_test2)"
   ]
  },
  {
   "cell_type": "code",
   "execution_count": 59,
   "id": "9a8e7bc3",
   "metadata": {},
   "outputs": [],
   "source": [
    "tmp_test1['등록차량수'] = lr1.predict(X_test1)\n",
    "tmp_test2['등록차량수'] = lr2.predict(X_test2)"
   ]
  },
  {
   "cell_type": "code",
   "execution_count": 60,
   "id": "9931af24",
   "metadata": {},
   "outputs": [],
   "source": [
    "tmp_test = pd.concat([tmp_test1, tmp_test2])"
   ]
  },
  {
   "cell_type": "code",
   "execution_count": 61,
   "id": "558c4d2d",
   "metadata": {},
   "outputs": [],
   "source": [
    "submission = tmp_test[['단지코드', '등록차량수']].rename(columns={'단지코드':'code', '등록차량수':'num'})"
   ]
  },
  {
   "cell_type": "code",
   "execution_count": 62,
   "id": "baa1f735",
   "metadata": {},
   "outputs": [],
   "source": [
    "error = pd.DataFrame(np.array([['C2675', 0], ['C2335', 0], ['C1327', 0]]), columns=['code', 'num'])"
   ]
  },
  {
   "cell_type": "code",
   "execution_count": 63,
   "id": "1f857972",
   "metadata": {},
   "outputs": [],
   "source": [
    "submission = pd.concat([submission, error]).reset_index(drop=True)"
   ]
  },
  {
   "cell_type": "code",
   "execution_count": 64,
   "id": "3c5087a2",
   "metadata": {},
   "outputs": [],
   "source": [
    "submission.to_csv('submission.csv', index=False)"
   ]
  }
 ],
 "metadata": {
  "kernelspec": {
   "display_name": "Python 3",
   "language": "python",
   "name": "python3"
  },
  "language_info": {
   "codemirror_mode": {
    "name": "ipython",
    "version": 3
   },
   "file_extension": ".py",
   "mimetype": "text/x-python",
   "name": "python",
   "nbconvert_exporter": "python",
   "pygments_lexer": "ipython3",
   "version": "3.9.5"
  }
 },
 "nbformat": 4,
 "nbformat_minor": 5
}
