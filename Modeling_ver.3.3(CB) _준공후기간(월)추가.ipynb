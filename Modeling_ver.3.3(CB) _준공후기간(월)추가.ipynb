{
 "cells": [
  {
   "cell_type": "markdown",
   "metadata": {},
   "source": [
    "# Preprocessing"
   ]
  },
  {
   "cell_type": "code",
   "execution_count": 1,
   "metadata": {},
   "outputs": [],
   "source": [
    "import matplotlib as mpl ; mpl.rcParams['axes.unicode_minus'] = False\n",
    "# import matplotlib.pyplot as plt ; plt.rcParams['font.family'] = 'AppleGothic'\n",
    "import matplotlib.pyplot as plt ; plt.rcParams['font.family'] = 'HYGothic-Medium'\n",
    "import seaborn as sns\n",
    "import pandas as pd\n",
    "import numpy as np\n",
    "import matplotlib.pyplot as plt\n",
    "%matplotlib inline\n",
    "from sklearn.preprocessing import RobustScaler, StandardScaler\n",
    "from pycaret.regression import *\n",
    "from catboost import CatBoostRegressor\n",
    "import optuna\n",
    "from optuna import Trial\n",
    "from optuna.samplers import TPESampler\n",
    "from sklearn.metrics import mean_absolute_error\n",
    "from sklearn.model_selection import train_test_split, StratifiedKFold\n",
    "\n",
    "### Public Data\n",
    "code_age_gender = pd.read_csv('한국토지주택공사_임대주택 단지별 연령대별 성별정보_20210511.csv', encoding='CP949')\n",
    "age_gender_info = pd.read_csv('age_gender_info.csv')\n",
    "myhome_xyfill = pd.read_csv('myhome_xyfill.csv').drop_duplicates() #Crawling"
   ]
  },
  {
   "cell_type": "code",
   "execution_count": 2,
   "metadata": {},
   "outputs": [],
   "source": [
    "### Function Needed\n",
    "\n",
    "def code_name(df):\n",
    "    #myhome 데이터의 필요한 부분만 긁어오기\n",
    "    myhome = myhome_xyfill[['rnAdres','hsmpNm','hshldCo','suplyTyNm', '공급면적(전용)','임대보증금','임대료', 'x','y','준공일자']]\n",
    "    myhome.columns= ['주소', '단지명', '총세대수', '공급유형', '전용면적','임대보증금','임대료','경도','위도','준공일자']\n",
    "    #공급유형 및 지역 변수 설정\n",
    "    myhome.loc[myhome['공급유형']=='50년임대', '공급유형'] = '공공임대(50년)'\n",
    "    myhome.loc[myhome['공급유형']=='10년임대', '공급유형'] = '공공임대(10년)'\n",
    "    myhome.loc[myhome['공급유형']=='5년임대', '공급유형'] = '공공임대(5년)'\n",
    "    myhome['지역'] = myhome['주소'].str.split(' ').str[0]\n",
    "    # 총세대수 -> 전용면적별세대수합 생성\n",
    "    myhome_grouped = myhome[['주소','단지명','총세대수']].drop_duplicates()\n",
    "    myhome_grouped = myhome_grouped.groupby(['단지명','주소'], as_index=False).sum()[['단지명','주소','총세대수']]\n",
    "    myhome = pd.merge(myhome, myhome_grouped, on=['단지명','주소'], how='left')\n",
    "    myhome.drop(['총세대수_x'], axis=1, inplace=True)\n",
    "    myhome.rename(columns={'총세대수_y':'전용면적별세대수합'}, inplace=True)\n",
    "    # First Match: 지역, 전용면적별세대수합, 공급유형, 전용면적 겹치는 것 중 유니크 382단지\n",
    "    df = df.drop(['전용면적별세대수합'],axis=1)\n",
    "    df = df.rename(columns={'전용면적별세대수합_myhome':'전용면적별세대수합'})\n",
    "    home_merged = pd.merge(df, myhome, on=['지역', '전용면적별세대수합', '공급유형', '전용면적'])\n",
    "    home_unq = home_merged.groupby(['단지코드']).nunique()\n",
    "    code_unq = home_unq.index[np.where(home_unq['단지명']==1)]\n",
    "    name_unq = home_merged[home_merged['단지코드'].isin(code_unq)]['단지명'].unique()\n",
    "    home_unq.reset_index(drop=True, inplace=True)\n",
    "    #Second Match: 지역, 공급유형, 전용면적, 임대보증금, 임대료 겹치는 것 중 전용면적별세대수 차이가 적은것\n",
    "    home_unk = pd.merge(df, myhome, on=['지역','공급유형','전용면적','임대보증금','임대료'])\n",
    "    home_unk = home_unk[~home_unk['단지코드'].isin(code_unq)]\n",
    "    home_unk = home_unk[~home_unk['단지명'].isin(name_unq)]\n",
    "    home_unk['전용면적별세대수차']=abs(home_unk['전용면적별세대수합_x']-home_unk['전용면적별세대수합_y'])\n",
    "    home_unk = home_unk.groupby(['단지코드','단지명','주소','위도','경도','준공일자','전용면적별세대수차']).nunique('전용면적')['전용면적'].reset_index()\n",
    "    home_unk = home_unk.loc[home_unk.groupby('단지코드').전용면적별세대수차.idxmin()]\n",
    "\n",
    "    first_match = home_merged[home_merged['단지코드'].isin(code_unq)][['단지명','단지코드','주소','위도','경도','준공일자']].drop_duplicates()\n",
    "    second_match = home_unk[['단지명','단지코드','주소','위도','경도','준공일자']].drop_duplicates()\n",
    "    match = pd.concat([first_match, second_match],axis=0).reset_index(drop=True)\n",
    "\n",
    "    # Final Match: 남은 것중에 지역과 공급유형이 동일하고 전용면적별세대수합 차이가 가장 적은것\n",
    "    for_match = df[~df['단지코드'].isin(match['단지코드'])][['단지코드','지역','공급유형','전용면적별세대수합']].drop_duplicates()\n",
    "    list_match =[]\n",
    "  \n",
    "    for code in for_match['단지코드'].unique():\n",
    "        for_dict = for_match[for_match['단지코드']==code]\n",
    "        rg = list(for_dict['지역'].values)\n",
    "        sp = list(for_dict['공급유형'].values)\n",
    "        if (sp[0]=='공공임대(분납)'):\n",
    "            sp = ['공공임대(10년)'] # Myhome에는 공공임대(분납)이 없으므로\n",
    "        nh = list(for_dict['전용면적별세대수합'].values)[0]\n",
    "        myhome_match = myhome[(myhome['지역'].isin(rg))&(myhome['공급유형'].isin(sp))]\n",
    "        myhome_match = list(myhome_match.loc[abs(myhome_match['전용면적별세대수합']-nh).idxmin()][['단지명','주소','위도','경도','준공일자']])\n",
    "        list_match.append([code]+myhome_match)\n",
    "\n",
    "    final_match = pd.DataFrame(list_match, columns=['단지코드','단지명','주소','위도','경도','준공일자'])\n",
    "    match = pd.concat([match, final_match],axis=0).reset_index(drop=True)\n",
    "    df = pd.merge(df, match, on=['단지코드'])\n",
    "    df = df.fillna('0')\n",
    "    return(df)\n",
    "\n",
    "def total_member(df):\n",
    "    age_gender = code_age_gender[code_age_gender['주택유형']=='아파트']\n",
    "    age_gender = age_gender.iloc[:,5:].groupby(['도로명주소']).sum().reset_index().merge(age_gender[['주택명','도로명주소']].drop_duplicates().groupby(['도로명주소']).first().reset_index(), on='도로명주소', how='left')\n",
    "    age_gender.rename(columns={'도로명주소':'주소', '주택명':'단지명'}, inplace=True)\n",
    "    age_gender = age_gender[age_gender.주소.notnull()]\n",
    "    age_gender = age_gender.drop_duplicates().reset_index(drop=True)\n",
    "    age_gender = age_gender.drop(['총세대수'], axis=1)\n",
    "    age_gender['총입주민수'] = age_gender.set_index(['단지명','주소']).apply(sum,axis=1).values\n",
    "    age_gender = age_gender.drop(['단지명'], axis=1)\n",
    "    age_gender.loc[:,age_gender.columns.str.contains('대')] = age_gender.loc[:,age_gender.columns.str.contains('대')].mul(1/age_gender['총입주민수'], axis=0)\n",
    "    df = pd.merge(df, age_gender, on=['주소'], how='left')\n",
    "    na_not_df = df[df.notnull().all(axis=1)]\n",
    "    na_df = df[df.isnull().any(axis=1)].loc[:,~df.columns.str.contains('0대')]\n",
    "    na_df = na_df.reset_index().merge(age_gender_info, on='지역').set_index('index')\n",
    "    na_df = na_df.drop(['총입주민수'], axis=1)\n",
    "    mult = np.mean(na_not_df['총입주민수'] / na_not_df['총세대수'])\n",
    "    na_df['총입주민수'] = na_df['총세대수'] * mult\n",
    "    df = pd.concat([na_df, na_not_df],axis=0).sort_index().reset_index(drop=True)\n",
    "    return(df)"
   ]
  },
  {
   "cell_type": "code",
   "execution_count": 3,
   "metadata": {},
   "outputs": [
    {
     "name": "stdout",
     "output_type": "stream",
     "text": [
      "Train Set: (2869, 15) | Test Set: (1008, 14)\n"
     ]
    }
   ],
   "source": [
    "# Train Data 불러오기 및 오류 데이터 제거\n",
    "train = pd.read_csv('train.csv')\n",
    "train_error = ['C2085', 'C1397', 'C2431', 'C1649', 'C1036', 'C1095', 'C2051', 'C1218', 'C1894', 'C2483', 'C1502', 'C1988']\n",
    "train = train[~train['단지코드'].isin(train_error)].reset_index(drop=True)\n",
    "test = pd.read_csv('test.csv')\n",
    "test_error = ['C2675', 'C2335', 'C1327']\n",
    "test = test[~test['단지코드'].isin(test_error)].reset_index(drop=True)\n",
    "print(f'Train Set: {train.shape} | Test Set: {test.shape}')"
   ]
  },
  {
   "cell_type": "code",
   "execution_count": 4,
   "metadata": {},
   "outputs": [
    {
     "name": "stdout",
     "output_type": "stream",
     "text": [
      "Train Set: (2869, 15) | Test Set: (1008, 14)\n"
     ]
    }
   ],
   "source": [
    "# '임대보증금', '임대료'의 '-'를 0으로 변환\n",
    "train['임대보증금'] = train['임대보증금'].replace('-', 0).astype('float64')\n",
    "train['임대료'] = train['임대료'].replace('-', 0).astype('float64')\n",
    "test['임대보증금'] = test['임대보증금'].replace('-', 0).astype('float64')\n",
    "test['임대료'] = test['임대료'].replace('-', 0).astype('float64')\n",
    "print(f'Train Set: {train.shape} | Test Set: {test.shape}')"
   ]
  },
  {
   "cell_type": "code",
   "execution_count": 5,
   "metadata": {},
   "outputs": [
    {
     "name": "stdout",
     "output_type": "stream",
     "text": [
      "Train Set: (2869, 15)\n"
     ]
    }
   ],
   "source": [
    "# Train Data의 '임대보증금', '임대료' NA를 0으로 대체\n",
    "train[['임대보증금', '임대료']] = train[['임대보증금', '임대료']].fillna(0)\n",
    "print(f'Train Set: {train.shape}')"
   ]
  },
  {
   "cell_type": "code",
   "execution_count": 6,
   "metadata": {},
   "outputs": [
    {
     "name": "stdout",
     "output_type": "stream",
     "text": [
      "Test Set: (1008, 14)\n"
     ]
    }
   ],
   "source": [
    "# Test Data의 '임대보증금', '임대료' NA를 특정값으로 대체\n",
    "test.loc[test['임대건물구분'] == '상가', ['임대보증금', '임대료']] = test.loc[test['임대건물구분'] == '상가', ['임대보증금', '임대료']].fillna(0)\n",
    "test.loc[test['임대보증금'].isnull(), '임대보증금'] = [5787000.0, 5787000.0, 11574000.0]\n",
    "test.loc[test['임대료'].isnull(), '임대료'] = [79980.0, 79980.0, 159960.0]\n",
    "print(f'Test Set: {test.shape}')"
   ]
  },
  {
   "cell_type": "code",
   "execution_count": 7,
   "metadata": {},
   "outputs": [
    {
     "name": "stdout",
     "output_type": "stream",
     "text": [
      "Test Set: (1008, 14)\n"
     ]
    }
   ],
   "source": [
    "# Test Data의 '단지코드' NA를 특정값으로 대체\n",
    "test.loc[(test['단지코드'] == 'C2411') & (test['자격유형'].isnull()), '자격유형'] = 'A'\n",
    "test.loc[(test['단지코드'] == 'C2253') & (test['자격유형'].isnull()), '자격유형'] = 'C'\n",
    "print(f'Test Set: {test.shape}')"
   ]
  },
  {
   "cell_type": "code",
   "execution_count": 8,
   "metadata": {},
   "outputs": [
    {
     "name": "stdout",
     "output_type": "stream",
     "text": [
      "Train Set: (2869, 15) | Test Set: (1008, 14)\n"
     ]
    }
   ],
   "source": [
    "# '도보 10분거리 내 지하철역 수(환승노선 수 반영)'의 NA를 0으로 대체\n",
    "train['도보 10분거리 내 지하철역 수(환승노선 수 반영)'] = train['도보 10분거리 내 지하철역 수(환승노선 수 반영)'].fillna(0)\n",
    "test['도보 10분거리 내 지하철역 수(환승노선 수 반영)'] = test['도보 10분거리 내 지하철역 수(환승노선 수 반영)'].fillna(0)\n",
    "print(f'Train Set: {train.shape} | Test Set: {test.shape}')"
   ]
  },
  {
   "cell_type": "code",
   "execution_count": 9,
   "metadata": {
    "scrolled": true
   },
   "outputs": [
    {
     "name": "stdout",
     "output_type": "stream",
     "text": [
      "Train Set NA: 0 | Test Set NA: 0\n"
     ]
    }
   ],
   "source": [
    "print(f'Train Set NA: {sum(train.isnull().sum())} | Test Set NA: {sum(test.isnull().sum())}')"
   ]
  },
  {
   "cell_type": "markdown",
   "metadata": {},
   "source": [
    "---"
   ]
  },
  {
   "cell_type": "code",
   "execution_count": 10,
   "metadata": {},
   "outputs": [
    {
     "name": "stdout",
     "output_type": "stream",
     "text": [
      "Train Set: (2869, 16) | Test Set: (1008, 15)\n",
      "Train Set: (2869, 17) | Test Set: (1008, 16)\n"
     ]
    }
   ],
   "source": [
    "# '전용면적별세대수합' 변수 생성\n",
    "noh_by_area = train.groupby('단지코드', as_index=False).agg({'전용면적별세대수':'sum'}).rename(columns={'전용면적별세대수':'전용면적별세대수합'})\n",
    "train = pd.merge(left=train, right=noh_by_area, how='left', on='단지코드')\n",
    "noh_by_area = test.groupby('단지코드', as_index=False).agg({'전용면적별세대수':'sum'}).rename(columns={'전용면적별세대수':'전용면적별세대수합'})\n",
    "test = pd.merge(left=test, right=noh_by_area, how='left', on='단지코드')\n",
    "print(f'Train Set: {train.shape} | Test Set: {test.shape}')\n",
    "\n",
    "# '전용면적별세대수합_myhome' 변수 생성\n",
    "train_myhome = train[train['공급유형']!='공공분양']\n",
    "noh_by_area = train_myhome.groupby('단지코드', as_index=False).agg({'전용면적별세대수':'sum'}).rename(columns={'전용면적별세대수':'전용면적별세대수합_myhome'})\n",
    "train = pd.merge(left=train, right=noh_by_area, how='left', on='단지코드')\n",
    "\n",
    "test_myhome = test[test['공급유형']!='공공분양']\n",
    "noh_by_area = test_myhome.groupby('단지코드', as_index=False).agg({'전용면적별세대수':'sum'}).rename(columns={'전용면적별세대수':'전용면적별세대수합_myhome'})\n",
    "test = pd.merge(left=test, right=noh_by_area, how='left', on='단지코드')\n",
    "print(f'Train Set: {train.shape} | Test Set: {test.shape}')"
   ]
  },
  {
   "cell_type": "code",
   "execution_count": 11,
   "metadata": {},
   "outputs": [
    {
     "name": "stdout",
     "output_type": "stream",
     "text": [
      "Train Set: (2869, 19) | Test Set: (1008, 18)\n"
     ]
    }
   ],
   "source": [
    "# '임대보증금가중평균', '임대료가중평균' 변수 생성\n",
    "train['임대보증금가중평균'] = round(train['임대보증금'] * train['전용면적별세대수'] / train['전용면적별세대수합'])\n",
    "rental_fee = train.groupby('단지코드', as_index=False).agg({'임대보증금가중평균':'sum'})\n",
    "train = pd.merge(train, rental_fee, how='left', on='단지코드').drop(['임대보증금가중평균_x'], axis=1).rename(columns={'임대보증금가중평균_y':'임대보증금가중평균'})\n",
    "train['임대료가중평균'] = round(train['임대료'] * train['전용면적별세대수'] / train['전용면적별세대수합'])\n",
    "rental_fee = train.groupby('단지코드', as_index=False).agg({'임대료가중평균':'sum'})\n",
    "train = pd.merge(train, rental_fee, how='left', on='단지코드').drop(['임대료가중평균_x'], axis=1).rename(columns={'임대료가중평균_y':'임대료가중평균'})\n",
    "test['임대보증금가중평균'] = round(test['임대보증금'] * test['전용면적별세대수'] / test['전용면적별세대수합'])\n",
    "rental_fee = test.groupby('단지코드', as_index=False).agg({'임대보증금가중평균':'sum'})\n",
    "test = pd.merge(test, rental_fee, how='left', on='단지코드').drop(['임대보증금가중평균_x'], axis=1).rename(columns={'임대보증금가중평균_y':'임대보증금가중평균'})\n",
    "test['임대료가중평균'] = round(test['임대료'] * test['전용면적별세대수'] / test['전용면적별세대수합'])\n",
    "rental_fee = test.groupby('단지코드', as_index=False).agg({'임대료가중평균':'sum'})\n",
    "test = pd.merge(test, rental_fee, how='left', on='단지코드').drop(['임대료가중평균_x'], axis=1).rename(columns={'임대료가중평균_y':'임대료가중평균'})\n",
    "print(f'Train Set: {train.shape} | Test Set: {test.shape}')"
   ]
  },
  {
   "cell_type": "code",
   "execution_count": 12,
   "metadata": {},
   "outputs": [
    {
     "name": "stdout",
     "output_type": "stream",
     "text": [
      "Train Set: (2869, 20) | Test Set: (1008, 19)\n"
     ]
    }
   ],
   "source": [
    "# '소형세대' 변수 생성\n",
    "train['세대구분'] = ['소형세대' if i < 40 else '기타세대' for i in train['전용면적']]\n",
    "household = train.groupby(['단지코드', '세대구분'], as_index=False).agg({'전용면적별세대수':'sum'}).pivot('단지코드', '세대구분', '전용면적별세대수').fillna(0).reset_index().drop(['기타세대'], axis=1)\n",
    "train = pd.merge(train, household, how='left').drop(['세대구분'], axis=1)\n",
    "train['소형세대'] = train['소형세대'] / train['전용면적별세대수합']\n",
    "test['세대구분'] = ['소형세대' if i < 40 else '기타세대' for i in test['전용면적']]\n",
    "household = test.groupby(['단지코드', '세대구분'], as_index=False).agg({'전용면적별세대수':'sum'}).pivot('단지코드', '세대구분', '전용면적별세대수').fillna(0).reset_index().drop(['기타세대'], axis=1)\n",
    "test = pd.merge(test, household, how='left').drop(['세대구분'], axis=1)\n",
    "test['소형세대'] = test['소형세대'] / test['전용면적별세대수합']\n",
    "print(f'Train Set: {train.shape} | Test Set: {test.shape}')"
   ]
  },
  {
   "cell_type": "code",
   "execution_count": 13,
   "metadata": {},
   "outputs": [
    {
     "name": "stdout",
     "output_type": "stream",
     "text": [
      "Train Set: (2869, 21) | Test Set: (1008, 20)\n"
     ]
    }
   ],
   "source": [
    "# '전용면적가중평균' 변수 생성\n",
    "train['전용면적가중평균'] = round(train['전용면적'] * train['전용면적별세대수'] / train['전용면적별세대수합'])\n",
    "rental_fee = train.groupby('단지코드', as_index=False).agg({'전용면적가중평균':'sum'})\n",
    "train = pd.merge(train, rental_fee, how='left', on='단지코드').drop(['전용면적가중평균_x'], axis=1).rename(columns={'전용면적가중평균_y':'전용면적가중평균'})\n",
    "test['전용면적가중평균'] = round(test['전용면적'] * test['전용면적별세대수'] / test['전용면적별세대수합'])\n",
    "rental_fee = test.groupby('단지코드', as_index=False).agg({'전용면적가중평균':'sum'})\n",
    "test = pd.merge(test, rental_fee, how='left', on='단지코드').drop(['전용면적가중평균_x'], axis=1).rename(columns={'전용면적가중평균_y':'전용면적가중평균'})\n",
    "print(f'Train Set: {train.shape} | Test Set: {test.shape}')"
   ]
  },
  {
   "cell_type": "code",
   "execution_count": 14,
   "metadata": {},
   "outputs": [
    {
     "name": "stdout",
     "output_type": "stream",
     "text": [
      "Train Set: (2869, 22) | Test Set: (1008, 21)\n"
     ]
    }
   ],
   "source": [
    "# '차량보유인구비율' 변수 생성\n",
    "age_gender_info = pd.read_csv('age_gender_info.csv')\n",
    "cars = pd.DataFrame(age_gender_info.iloc[:, [7, 8, 9, 10, 12, 14]].sum(axis=1), columns=['차량보유인구비율'])\n",
    "cars['지역'] = age_gender_info['지역']\n",
    "train = pd.merge(train, cars, how='left', on='지역')\n",
    "test = pd.merge(test, cars, how='left', on='지역')\n",
    "print(f'Train Set: {train.shape} | Test Set: {test.shape}')"
   ]
  },
  {
   "cell_type": "code",
   "execution_count": 15,
   "metadata": {},
   "outputs": [
    {
     "name": "stdout",
     "output_type": "stream",
     "text": [
      "Train Set: (2869, 23) | Test Set: (1008, 22)\n"
     ]
    }
   ],
   "source": [
    "# '차량미보유세대비율' 변수 생성\n",
    "noh_wo_cars = train[train['공급유형'].isin(['영구임대', '행복주택'])].groupby('단지코드', as_index=False).agg({'전용면적별세대수':'sum'}).rename(columns={'전용면적별세대수':'차량미보유세대비율'})\n",
    "train = pd.merge(train, noh_wo_cars, how='left')\n",
    "train['차량미보유세대비율'] = train['차량미보유세대비율'].fillna(0) / train['총세대수']\n",
    "noh_wo_cars = test[test['공급유형'].isin(['영구임대', '행복주택'])].groupby('단지코드', as_index=False).agg({'전용면적별세대수':'sum'}).rename(columns={'전용면적별세대수':'차량미보유세대비율'})\n",
    "test = pd.merge(test, noh_wo_cars, how='left')\n",
    "test['차량미보유세대비율'] = test['차량미보유세대비율'].fillna(0) / test['총세대수']\n",
    "print(f'Train Set: {train.shape} | Test Set: {test.shape}')"
   ]
  },
  {
   "cell_type": "code",
   "execution_count": 16,
   "metadata": {},
   "outputs": [
    {
     "name": "stdout",
     "output_type": "stream",
     "text": [
      "Train Set: (2869, 50) | Test Set: (1008, 49)\n"
     ]
    }
   ],
   "source": [
    "# 단지명, 주소, 위도, 경도, 준공일자 생성\n",
    "train = code_name(train)\n",
    "train = total_member(train)\n",
    "\n",
    "test = code_name(test)\n",
    "test = total_member(test)\n",
    "\n",
    "print(f'Train Set: {train.shape} | Test Set: {test.shape}')"
   ]
  },
  {
   "cell_type": "markdown",
   "metadata": {},
   "source": [
    "---"
   ]
  },
  {
   "cell_type": "markdown",
   "metadata": {},
   "source": [
    "**여기에 '준공후기간(월)' 변수 넣는 코드 추가하면 됨!**"
   ]
  },
  {
   "cell_type": "code",
   "execution_count": 17,
   "metadata": {},
   "outputs": [],
   "source": [
    "#준공후 현재까지의 시간 차이를 월단위로 계산한 '준공후기간(월)' 변수 생성\n",
    "def add_build_date(df):\n",
    "    #준공일자 글자길이 7이면 (ex. 2020-01 까지만 존재)'-01' 추가해주기\n",
    "    df.loc[df['준공일자'].str.len()==7, '준공일자'] = df.loc[df['준공일자'].str.len()==7, '준공일자']+str('-01')\n",
    "    #준공일자 글자길이 5이면 (ex. 2020- 까지만 존재)-01-01'추가해주기\n",
    "    df.loc[df['준공일자'].str.len()==5, '준공일자'] = df.loc[df['준공일자'].str.len()==5, '준공일자']+str('01-01')\n",
    "    df.loc[df['준공일자'].notnull(),'준공일자'] = df.loc[df['준공일자'].notnull(),'준공일자'].str.replace('-','').astype('int64')\n",
    "    #준공일자 지나치게 오래된것은 오류로 기입된 것이라 판단, NA로 대체.\n",
    "    df.loc[df['준공일자']<=19700101, '준공일자'] = np.nan\n",
    "    \n",
    "    df.loc[df['준공일자'].notnull(),'년'] = df.loc[df['준공일자'].notnull(),'준공일자']//10000\n",
    "    df.loc[df['준공일자'].notnull(),'월'] = df.loc[df['준공일자'].notnull(),'준공일자']//100 - df.loc[df['준공일자'].notnull(),'년']*100\n",
    "    df.loc[df['준공일자'].notnull(),'준공후기간(월)'] = 2021*12 + 7 -(df.loc[df['준공일자'].notnull(),'년']*12 + df.loc[df['준공일자'].notnull(),'월'])\n",
    "    df = df.drop(['준공일자', '년', '월'], axis=1)\n",
    "    return(df)"
   ]
  },
  {
   "cell_type": "code",
   "execution_count": 18,
   "metadata": {},
   "outputs": [
    {
     "name": "stdout",
     "output_type": "stream",
     "text": [
      "Train Set: (2869, 50) | Test Set: (1008, 49)\n"
     ]
    }
   ],
   "source": [
    "train = add_build_date(train)\n",
    "test = add_build_date(test)\n",
    "print(f'Train Set: {train.shape} | Test Set: {test.shape}')"
   ]
  },
  {
   "cell_type": "code",
   "execution_count": 19,
   "metadata": {},
   "outputs": [],
   "source": [
    "# '준공후기간(월)' 변수 NA값 대치 위해 '입주후기간(월)' 변수 생성\n",
    "# '입주후기간(월)' 변수 생성 위해 데이터 불러오기\n",
    "data = pd.read_csv('임대주택_단지_조회.csv')\n",
    "data.drop(['순번', '전체건수'], axis=1, inplace=True)\n",
    "data['전용면적'] = np.round(data['전용면적'], 2)\n",
    "data = data.rename(columns={'단지명': '단지명2'})\n",
    "data['지역'] = ['세종특별자치시' if i[0] == '세종시' else i[0] for i in data['지역'].str.split()]\n",
    "noh_by_area = data.groupby('단지명2', as_index=False).agg({'전용면적별세대수':'sum'})\n",
    "noh_by_area.columns = ['단지명2', '전용면적별세대수합']\n",
    "data = pd.merge(left=data, right=noh_by_area, how='left', on='단지명2')\n",
    "data.drop(['총세대수'], axis=1, inplace=True)\n",
    "\n",
    "in_date = data[['단지명2', '최초입주년월']].drop_duplicates().reset_index(drop=True)\n",
    "in_date.loc[(in_date['최초입주년월']<198001)|(in_date['최초입주년월']>=202107),'최초입주년월']=np.nan\n",
    "in_date.loc[in_date['최초입주년월'].notnull(), '년'] = in_date.loc[in_date['최초입주년월'].notnull(), '최초입주년월'] //100\n",
    "in_date.loc[in_date['최초입주년월'].notnull(), '월'] = in_date.loc[in_date['최초입주년월'].notnull(), '최초입주년월'] % 100\n",
    "in_date.loc[in_date['최초입주년월'].notnull(), '입주후기간(월)'] = 2021*12+ 7 - (in_date.loc[in_date['최초입주년월'].notnull(), '년']*12 + in_date.loc[in_date['최초입주년월'].notnull(), '월'])\n",
    "in_date = in_date.drop(['최초입주년월', '년', '월'], axis=1)\n",
    "in_date['입주후기간(월)'] = in_date['입주후기간(월)'].astype('float64')\n",
    "data = pd.merge(data, in_date, how='left', on='단지명2')"
   ]
  },
  {
   "cell_type": "code",
   "execution_count": 20,
   "metadata": {},
   "outputs": [],
   "source": [
    "#'입주후기간(월)' 변수 생성\n",
    "def add_in_date(df):\n",
    "    df_wo_dup = df.drop_duplicates(subset=['단지코드'])[['단지코드', '지역', '전용면적별세대수합']].reset_index(drop=True)\n",
    "    idx = np.column_stack([df.drop_duplicates(subset=['단지코드'])[['지역', '전용면적별세대수합']].reset_index(drop=True), range(len(df_wo_dup))])\n",
    "    df_wo_dup['단지명2'] = None\n",
    "    df_wo_dup['입주후기간(월)'] = None\n",
    "    for i, j, k in idx:\n",
    "        if data.loc[(data['지역'] == i) & (data['전용면적별세대수합'] == j), '단지명2'].nunique() == 1:\n",
    "            df_wo_dup.iloc[k, df_wo_dup.columns.get_loc('단지명2')] = data.loc[(data['지역'] == i) & (data['전용면적별세대수합'] == j), '단지명2'].unique()[0]\n",
    "            df_wo_dup.iloc[k, df_wo_dup.columns.get_loc('입주후기간(월)')] = data.loc[(data['지역'] == i) & (data['전용면적별세대수합'] == j), '입주후기간(월)'].unique()[0]\n",
    "    \n",
    "    null = df_wo_dup[df_wo_dup['단지명2'].isnull()].reset_index(drop=True) #단지명 안붙은애들 null로 저장\n",
    "    data_hhset = data[['단지명2', '전용면적']].groupby(['단지명2'])['전용면적'].apply(list) \n",
    "    data_hhset = pd.DataFrame(data_hhset)\n",
    "    data_hhset = pd.merge(data_hhset, data[['단지명2', '지역', '전용면적별세대수합', '입주후기간(월)']], on='단지명2')\n",
    "    data_hhset = data_hhset[['단지명2', '지역', '전용면적별세대수합', '전용면적','입주후기간(월)']]\n",
    "    data_hhset = data_hhset.drop_duplicates(['단지명2']).reset_index(drop=True)\n",
    "\n",
    "    idx = null['단지코드'].unique()\n",
    "    for i in range(len(idx)):\n",
    "        areaset_df = set(df.loc[df['단지코드'] == idx[i], '전용면적'])\n",
    "        region = null.loc[i, '지역']\n",
    "        total_hh2 = null.loc[i,'전용면적별세대수합']\n",
    "        same = data_hhset.loc[(data_hhset['지역'] == region) & (data_hhset['전용면적별세대수합'] == total_hh2)].reset_index(drop=True)\n",
    "        diff = []\n",
    "        if len(same.index) != 0:\n",
    "            for j in range(len(same)):\n",
    "                areaset_data = set(same.loc[j, '전용면적'])\n",
    "                diff.append(len(areaset_df - areaset_data))\n",
    "            null.loc[i, '단지명2'] = same.loc[np.argmin(diff), '단지명2']\n",
    "            null.loc[i, '입주후기간(월)'] = same.loc[np.argmin(diff), '입주후기간(월)']\n",
    "\n",
    "    for i in range(len(df_wo_dup)):\n",
    "        if df_wo_dup.iloc[i, df_wo_dup.columns.get_loc('단지명2')] == None:\n",
    "            df_wo_dup.iloc[i, df_wo_dup.columns.get_loc('단지명2')] = null.loc[null['단지코드'] == df_wo_dup.iloc[i, df_wo_dup.columns.get_loc('단지코드')], '단지명2']\n",
    "            df_wo_dup.iloc[i, df_wo_dup.columns.get_loc('입주후기간(월)')] = null.loc[null['단지코드'] == df_wo_dup.iloc[i, df_wo_dup.columns.get_loc('단지코드')], '입주후기간(월)']\n",
    "        else:\n",
    "            pass\n",
    "\n",
    "    df = pd.merge(df, df_wo_dup[['단지코드', '단지명2', '입주후기간(월)']], how='left', on='단지코드')\n",
    "\n",
    "    code_name = df['단지코드'].unique()\n",
    "    for i in range(len(code_name)):\n",
    "        dat = df.loc[df['단지코드'] == code_name[i],:]\n",
    "        if (dat.shape[0] != dat.단지명2.isnull().sum()) & (dat.shape[0] != dat.단지명2.notnull().sum()):\n",
    "            df.loc[df['단지코드'] == code_name[i],'단지명2'] = dat.loc[dat['단지명2'].notnull(),'단지명2']\n",
    "            df.loc[df['단지코드'] == code_name[i],'입주후기간(월)'] = dat.loc[dat['단지명2'].notnull(),'입주후기간(월)']\n",
    "        else:\n",
    "            pass\n",
    "    \n",
    "    df['입주후기간(월)'] = df['입주후기간(월)'].astype('float64')\n",
    "    df.reset_index(drop=True, inplace=True)\n",
    "    print(round(df.loc[df['단지명2'].isnull(), '단지코드'].nunique()/df['단지코드'].nunique(), 2)*100)\n",
    "    return(df)"
   ]
  },
  {
   "cell_type": "code",
   "execution_count": 21,
   "metadata": {},
   "outputs": [
    {
     "name": "stdout",
     "output_type": "stream",
     "text": [
      "17.0\n",
      "11.0\n",
      "Train Set: (2869, 52) | Test Set: (1008, 51)\n"
     ]
    }
   ],
   "source": [
    "train = add_in_date(train)\n",
    "test = add_in_date(test)\n",
    "print(f'Train Set: {train.shape} | Test Set: {test.shape}')"
   ]
  },
  {
   "cell_type": "code",
   "execution_count": 22,
   "metadata": {},
   "outputs": [
    {
     "data": {
      "image/png": "[encoded data removed]",
      "text/plain": [
       "<Figure size 432x288 with 1 Axes>"
      ]
     },
     "metadata": {
      "needs_background": "light"
     },
     "output_type": "display_data"
    }
   ],
   "source": [
    "# 준공후기간(월)과 입주후기간(월)이 대체로 일치하는 것을 확인할 수 있음\n",
    "sns.scatterplot(x ='준공후기간(월)', y = '입주후기간(월)', data = train)\n",
    "plt.show()"
   ]
  },
  {
   "cell_type": "code",
   "execution_count": 23,
   "metadata": {},
   "outputs": [
    {
     "name": "stdout",
     "output_type": "stream",
     "text": [
      "Train Set: (2869, 50) | Test Set: (1008, 49)\n"
     ]
    }
   ],
   "source": [
    "# 준공후기간(월)의 NA값들 입주후기간(월)로 imputation 후 필요없는 column들 제거\n",
    "train.loc[(train['준공후기간(월)'].isnull())&(train['입주후기간(월)'].notnull()), '준공후기간(월)']= train.loc[(train['준공후기간(월)'].isnull())&(train['입주후기간(월)'].notnull()), '입주후기간(월)']\n",
    "test.loc[(test['준공후기간(월)'].isnull())&(test['입주후기간(월)'].notnull()), '준공후기간(월)']= test.loc[(test['준공후기간(월)'].isnull())&(test['입주후기간(월)'].notnull()), '입주후기간(월)']\n",
    "train = train.drop(['단지명2', '입주후기간(월)'], axis=1)\n",
    "test = test.drop(['단지명2', '입주후기간(월)'], axis=1)\n",
    "print(f'Train Set: {train.shape} | Test Set: {test.shape}')"
   ]
  },
  {
   "cell_type": "code",
   "execution_count": 24,
   "metadata": {},
   "outputs": [],
   "source": [
    "# '준공후기간(월)' Imputation\n",
    "from impyute.imputation.cs import mice\n",
    "def date_impute(df):\n",
    "    df['준공후기간(월)']=df['준공후기간(월)'].astype('float64')\n",
    "    df_num = df.loc[:,df.dtypes!=object]\n",
    "    df_imp = mice(df_num.values)\n",
    "    df_imp = pd.DataFrame(df_imp)\n",
    "    df_imp.columns = df_num.columns\n",
    "    df['준공후기간(월)'] = df_imp['준공후기간(월)']\n",
    "    return(df)"
   ]
  },
  {
   "cell_type": "code",
   "execution_count": 25,
   "metadata": {},
   "outputs": [],
   "source": [
    "train = date_impute(train)\n",
    "test = date_impute(test)"
   ]
  },
  {
   "cell_type": "markdown",
   "metadata": {},
   "source": [
    "---"
   ]
  },
  {
   "cell_type": "code",
   "execution_count": 26,
   "metadata": {},
   "outputs": [
    {
     "name": "stdout",
     "output_type": "stream",
     "text": [
      "Train Set: (2869, 63) | Test Set: (1008, 62)\n"
     ]
    }
   ],
   "source": [
    "train.loc[train.공급유형.isin(['공공임대(5년)', '공공분양', '공공임대(10년)', '공공임대(분납)']), '공급유형'] = '공공임대(5년/10년/분납/분양)'\n",
    "test.loc[test.공급유형.isin(['공공임대(5년)', '공공분양', '공공임대(10년)', '공공임대(분납)']), '공급유형'] = '공공임대(5년/10년/분납/분양)'\n",
    "train.loc[train.공급유형.isin(['장기전세', '국민임대']), '공급유형'] = '국민임대/장기전세'\n",
    "test.loc[test.공급유형.isin(['장기전세', '국민임대']), '공급유형'] = '국민임대/장기전세'\n",
    "\n",
    "train.loc[train.자격유형.isin(['J', 'L', 'K', 'N', 'M', 'O']), '자격유형'] = '행복주택_공급대상'\n",
    "test.loc[test.자격유형.isin(['J', 'L', 'K', 'N', 'M', 'O']), '자격유형'] = '행복주택_공급대상'\n",
    "\n",
    "train.loc[train.자격유형.isin(['H', 'B', 'E', 'G']), '자격유형'] = '국민임대/장기전세_공급대상'\n",
    "test.loc[test.자격유형.isin(['H', 'B', 'E', 'G']), '자격유형'] = '국민임대/장기전세_공급대상'\n",
    "\n",
    "train.loc[train.자격유형.isin(['C', 'I', 'F']), '자격유형'] = '영구임대_공급대상'\n",
    "test.loc[test.자격유형.isin(['C', 'I', 'F']), '자격유형'] = '영구임대_공급대상'\n",
    "\n",
    "supply_type = train.groupby(['단지코드', '공급유형'], as_index=False).agg({'전용면적별세대수':'sum'}).pivot('단지코드', '공급유형', '전용면적별세대수').fillna(0).reset_index()\n",
    "supply_type.set_index('단지코드', inplace=True)\n",
    "supply_type[(supply_type != 0)] = 1\n",
    "supply_type.reset_index(inplace=True)\n",
    "\n",
    "qual_type = train.groupby(['단지코드', '자격유형'], as_index=False).agg({'전용면적별세대수':'sum'}).pivot('단지코드', '자격유형', '전용면적별세대수').fillna(0).reset_index()\n",
    "qual_type.set_index('단지코드', inplace=True)\n",
    "qual_type[(qual_type != 0)] = 1\n",
    "qual_type.reset_index(inplace=True)\n",
    "\n",
    "build_type = train.groupby(['단지코드', '임대건물구분'], as_index=False).agg({'전용면적별세대수':'sum'}).pivot('단지코드', '임대건물구분', '전용면적별세대수').fillna(0).reset_index()\n",
    "build_type.set_index('단지코드', inplace=True)\n",
    "build_type[(build_type != 0)] = 1\n",
    "build_type.reset_index(inplace=True)\n",
    "\n",
    "train = pd.merge(train, supply_type, how='left')\n",
    "train = pd.merge(train, qual_type, how='left')\n",
    "train = pd.merge(train, build_type, how='left')\n",
    "\n",
    "supply_type = test.groupby(['단지코드', '공급유형'], as_index=False).agg({'전용면적별세대수':'sum'}).pivot('단지코드', '공급유형', '전용면적별세대수').fillna(0).reset_index()\n",
    "supply_type.set_index('단지코드', inplace=True)\n",
    "supply_type[(supply_type != 0)] = 1\n",
    "supply_type.reset_index(inplace=True)\n",
    "\n",
    "qual_type = test.groupby(['단지코드', '자격유형'], as_index=False).agg({'전용면적별세대수':'sum'}).pivot('단지코드', '자격유형', '전용면적별세대수').fillna(0).reset_index()\n",
    "qual_type.set_index('단지코드', inplace=True)\n",
    "qual_type[(qual_type != 0)] = 1\n",
    "qual_type.reset_index(inplace=True)\n",
    "\n",
    "build_type = test.groupby(['단지코드', '임대건물구분'], as_index=False).agg({'전용면적별세대수':'sum'}).pivot('단지코드', '임대건물구분', '전용면적별세대수').fillna(0).reset_index()\n",
    "build_type.set_index('단지코드', inplace=True)\n",
    "build_type[(build_type != 0)] = 1\n",
    "build_type.reset_index(inplace=True)\n",
    "\n",
    "test = pd.merge(test, supply_type, how='left')\n",
    "test = pd.merge(test, qual_type, how='left')\n",
    "test = pd.merge(test, build_type, how='left')\n",
    "\n",
    "print(f'Train Set: {train.shape} | Test Set: {test.shape}')"
   ]
  },
  {
   "cell_type": "code",
   "execution_count": 27,
   "metadata": {},
   "outputs": [
    {
     "data": {
      "text/html": [
       "<div>\n",
       "<style scoped>\n",
       "    .dataframe tbody tr th:only-of-type {\n",
       "        vertical-align: middle;\n",
       "    }\n",
       "\n",
       "    .dataframe tbody tr th {\n",
       "        vertical-align: top;\n",
       "    }\n",
       "\n",
       "    .dataframe thead th {\n",
       "        text-align: right;\n",
       "    }\n",
       "</style>\n",
       "<table border=\"1\" class=\"dataframe\">\n",
       "  <thead>\n",
       "    <tr style=\"text-align: right;\">\n",
       "      <th></th>\n",
       "      <th>단지코드</th>\n",
       "      <th>총세대수</th>\n",
       "      <th>임대건물구분</th>\n",
       "      <th>지역</th>\n",
       "      <th>공급유형</th>\n",
       "      <th>전용면적</th>\n",
       "      <th>전용면적별세대수</th>\n",
       "      <th>공가수</th>\n",
       "      <th>자격유형</th>\n",
       "      <th>임대보증금</th>\n",
       "      <th>임대료</th>\n",
       "      <th>도보 10분거리 내 지하철역 수(환승노선 수 반영)</th>\n",
       "      <th>도보 10분거리 내 버스정류장 수</th>\n",
       "      <th>단지내주차면수</th>\n",
       "      <th>등록차량수</th>\n",
       "      <th>전용면적별세대수합</th>\n",
       "      <th>임대보증금가중평균</th>\n",
       "      <th>임대료가중평균</th>\n",
       "      <th>소형세대</th>\n",
       "      <th>전용면적가중평균</th>\n",
       "      <th>차량보유인구비율</th>\n",
       "      <th>차량미보유세대비율</th>\n",
       "      <th>단지명</th>\n",
       "      <th>주소</th>\n",
       "      <th>위도</th>\n",
       "      <th>경도</th>\n",
       "      <th>10대미만(여자)</th>\n",
       "      <th>10대미만(남자)</th>\n",
       "      <th>10대(여자)</th>\n",
       "      <th>10대(남자)</th>\n",
       "      <th>20대(여자)</th>\n",
       "      <th>20대(남자)</th>\n",
       "      <th>30대(여자)</th>\n",
       "      <th>30대(남자)</th>\n",
       "      <th>40대(여자)</th>\n",
       "      <th>40대(남자)</th>\n",
       "      <th>50대(여자)</th>\n",
       "      <th>50대(남자)</th>\n",
       "      <th>60대(여자)</th>\n",
       "      <th>60대(남자)</th>\n",
       "      <th>70대(여자)</th>\n",
       "      <th>70대(남자)</th>\n",
       "      <th>80대(여자)</th>\n",
       "      <th>80대(남자)</th>\n",
       "      <th>90대(여자)</th>\n",
       "      <th>90대(남자)</th>\n",
       "      <th>100대(여자)</th>\n",
       "      <th>100대(남자)</th>\n",
       "      <th>총입주민수</th>\n",
       "      <th>준공후기간(월)</th>\n",
       "      <th>공공임대(50년)</th>\n",
       "      <th>공공임대(5년/10년/분납/분양)</th>\n",
       "      <th>국민임대/장기전세</th>\n",
       "      <th>영구임대</th>\n",
       "      <th>임대상가</th>\n",
       "      <th>행복주택</th>\n",
       "      <th>A</th>\n",
       "      <th>D</th>\n",
       "      <th>국민임대/장기전세_공급대상</th>\n",
       "      <th>영구임대_공급대상</th>\n",
       "      <th>행복주택_공급대상</th>\n",
       "      <th>상가</th>\n",
       "      <th>아파트</th>\n",
       "    </tr>\n",
       "  </thead>\n",
       "  <tbody>\n",
       "    <tr>\n",
       "      <th>0</th>\n",
       "      <td>C2515</td>\n",
       "      <td>545</td>\n",
       "      <td>아파트</td>\n",
       "      <td>경상남도</td>\n",
       "      <td>국민임대/장기전세</td>\n",
       "      <td>33.48</td>\n",
       "      <td>276</td>\n",
       "      <td>17.0</td>\n",
       "      <td>A</td>\n",
       "      <td>9216000.0</td>\n",
       "      <td>82940.0</td>\n",
       "      <td>0.0</td>\n",
       "      <td>3.0</td>\n",
       "      <td>624.0</td>\n",
       "      <td>205.0</td>\n",
       "      <td>545</td>\n",
       "      <td>14035965.0</td>\n",
       "      <td>119432.0</td>\n",
       "      <td>0.653211</td>\n",
       "      <td>39.0</td>\n",
       "      <td>0.400787</td>\n",
       "      <td>0.0</td>\n",
       "      <td>미수휴먼시아</td>\n",
       "      <td>경상남도 통영시 미우지해안로 107</td>\n",
       "      <td>34.825605</td>\n",
       "      <td>128.395943</td>\n",
       "      <td>0.021739</td>\n",
       "      <td>0.025084</td>\n",
       "      <td>0.077759</td>\n",
       "      <td>0.069398</td>\n",
       "      <td>0.05602</td>\n",
       "      <td>0.068562</td>\n",
       "      <td>0.04097</td>\n",
       "      <td>0.038462</td>\n",
       "      <td>0.074415</td>\n",
       "      <td>0.061873</td>\n",
       "      <td>0.08612</td>\n",
       "      <td>0.070234</td>\n",
       "      <td>0.077759</td>\n",
       "      <td>0.099498</td>\n",
       "      <td>0.047659</td>\n",
       "      <td>0.035117</td>\n",
       "      <td>0.031773</td>\n",
       "      <td>0.010033</td>\n",
       "      <td>0.005853</td>\n",
       "      <td>0.001672</td>\n",
       "      <td>0.0</td>\n",
       "      <td>0.0</td>\n",
       "      <td>1196.0</td>\n",
       "      <td>133.0</td>\n",
       "      <td>0.0</td>\n",
       "      <td>0.0</td>\n",
       "      <td>1.0</td>\n",
       "      <td>0.0</td>\n",
       "      <td>0.0</td>\n",
       "      <td>0.0</td>\n",
       "      <td>1.0</td>\n",
       "      <td>0.0</td>\n",
       "      <td>0.0</td>\n",
       "      <td>0.0</td>\n",
       "      <td>0.0</td>\n",
       "      <td>0.0</td>\n",
       "      <td>1.0</td>\n",
       "    </tr>\n",
       "    <tr>\n",
       "      <th>1</th>\n",
       "      <td>C2515</td>\n",
       "      <td>545</td>\n",
       "      <td>아파트</td>\n",
       "      <td>경상남도</td>\n",
       "      <td>국민임대/장기전세</td>\n",
       "      <td>39.60</td>\n",
       "      <td>60</td>\n",
       "      <td>17.0</td>\n",
       "      <td>A</td>\n",
       "      <td>12672000.0</td>\n",
       "      <td>107130.0</td>\n",
       "      <td>0.0</td>\n",
       "      <td>3.0</td>\n",
       "      <td>624.0</td>\n",
       "      <td>205.0</td>\n",
       "      <td>545</td>\n",
       "      <td>14035965.0</td>\n",
       "      <td>119432.0</td>\n",
       "      <td>0.653211</td>\n",
       "      <td>39.0</td>\n",
       "      <td>0.400787</td>\n",
       "      <td>0.0</td>\n",
       "      <td>미수휴먼시아</td>\n",
       "      <td>경상남도 통영시 미우지해안로 107</td>\n",
       "      <td>34.825605</td>\n",
       "      <td>128.395943</td>\n",
       "      <td>0.021739</td>\n",
       "      <td>0.025084</td>\n",
       "      <td>0.077759</td>\n",
       "      <td>0.069398</td>\n",
       "      <td>0.05602</td>\n",
       "      <td>0.068562</td>\n",
       "      <td>0.04097</td>\n",
       "      <td>0.038462</td>\n",
       "      <td>0.074415</td>\n",
       "      <td>0.061873</td>\n",
       "      <td>0.08612</td>\n",
       "      <td>0.070234</td>\n",
       "      <td>0.077759</td>\n",
       "      <td>0.099498</td>\n",
       "      <td>0.047659</td>\n",
       "      <td>0.035117</td>\n",
       "      <td>0.031773</td>\n",
       "      <td>0.010033</td>\n",
       "      <td>0.005853</td>\n",
       "      <td>0.001672</td>\n",
       "      <td>0.0</td>\n",
       "      <td>0.0</td>\n",
       "      <td>1196.0</td>\n",
       "      <td>133.0</td>\n",
       "      <td>0.0</td>\n",
       "      <td>0.0</td>\n",
       "      <td>1.0</td>\n",
       "      <td>0.0</td>\n",
       "      <td>0.0</td>\n",
       "      <td>0.0</td>\n",
       "      <td>1.0</td>\n",
       "      <td>0.0</td>\n",
       "      <td>0.0</td>\n",
       "      <td>0.0</td>\n",
       "      <td>0.0</td>\n",
       "      <td>0.0</td>\n",
       "      <td>1.0</td>\n",
       "    </tr>\n",
       "    <tr>\n",
       "      <th>2</th>\n",
       "      <td>C2515</td>\n",
       "      <td>545</td>\n",
       "      <td>아파트</td>\n",
       "      <td>경상남도</td>\n",
       "      <td>국민임대/장기전세</td>\n",
       "      <td>39.60</td>\n",
       "      <td>20</td>\n",
       "      <td>17.0</td>\n",
       "      <td>A</td>\n",
       "      <td>12672000.0</td>\n",
       "      <td>107130.0</td>\n",
       "      <td>0.0</td>\n",
       "      <td>3.0</td>\n",
       "      <td>624.0</td>\n",
       "      <td>205.0</td>\n",
       "      <td>545</td>\n",
       "      <td>14035965.0</td>\n",
       "      <td>119432.0</td>\n",
       "      <td>0.653211</td>\n",
       "      <td>39.0</td>\n",
       "      <td>0.400787</td>\n",
       "      <td>0.0</td>\n",
       "      <td>미수휴먼시아</td>\n",
       "      <td>경상남도 통영시 미우지해안로 107</td>\n",
       "      <td>34.825605</td>\n",
       "      <td>128.395943</td>\n",
       "      <td>0.021739</td>\n",
       "      <td>0.025084</td>\n",
       "      <td>0.077759</td>\n",
       "      <td>0.069398</td>\n",
       "      <td>0.05602</td>\n",
       "      <td>0.068562</td>\n",
       "      <td>0.04097</td>\n",
       "      <td>0.038462</td>\n",
       "      <td>0.074415</td>\n",
       "      <td>0.061873</td>\n",
       "      <td>0.08612</td>\n",
       "      <td>0.070234</td>\n",
       "      <td>0.077759</td>\n",
       "      <td>0.099498</td>\n",
       "      <td>0.047659</td>\n",
       "      <td>0.035117</td>\n",
       "      <td>0.031773</td>\n",
       "      <td>0.010033</td>\n",
       "      <td>0.005853</td>\n",
       "      <td>0.001672</td>\n",
       "      <td>0.0</td>\n",
       "      <td>0.0</td>\n",
       "      <td>1196.0</td>\n",
       "      <td>133.0</td>\n",
       "      <td>0.0</td>\n",
       "      <td>0.0</td>\n",
       "      <td>1.0</td>\n",
       "      <td>0.0</td>\n",
       "      <td>0.0</td>\n",
       "      <td>0.0</td>\n",
       "      <td>1.0</td>\n",
       "      <td>0.0</td>\n",
       "      <td>0.0</td>\n",
       "      <td>0.0</td>\n",
       "      <td>0.0</td>\n",
       "      <td>0.0</td>\n",
       "      <td>1.0</td>\n",
       "    </tr>\n",
       "    <tr>\n",
       "      <th>3</th>\n",
       "      <td>C2515</td>\n",
       "      <td>545</td>\n",
       "      <td>아파트</td>\n",
       "      <td>경상남도</td>\n",
       "      <td>국민임대/장기전세</td>\n",
       "      <td>46.90</td>\n",
       "      <td>38</td>\n",
       "      <td>17.0</td>\n",
       "      <td>A</td>\n",
       "      <td>18433000.0</td>\n",
       "      <td>149760.0</td>\n",
       "      <td>0.0</td>\n",
       "      <td>3.0</td>\n",
       "      <td>624.0</td>\n",
       "      <td>205.0</td>\n",
       "      <td>545</td>\n",
       "      <td>14035965.0</td>\n",
       "      <td>119432.0</td>\n",
       "      <td>0.653211</td>\n",
       "      <td>39.0</td>\n",
       "      <td>0.400787</td>\n",
       "      <td>0.0</td>\n",
       "      <td>미수휴먼시아</td>\n",
       "      <td>경상남도 통영시 미우지해안로 107</td>\n",
       "      <td>34.825605</td>\n",
       "      <td>128.395943</td>\n",
       "      <td>0.021739</td>\n",
       "      <td>0.025084</td>\n",
       "      <td>0.077759</td>\n",
       "      <td>0.069398</td>\n",
       "      <td>0.05602</td>\n",
       "      <td>0.068562</td>\n",
       "      <td>0.04097</td>\n",
       "      <td>0.038462</td>\n",
       "      <td>0.074415</td>\n",
       "      <td>0.061873</td>\n",
       "      <td>0.08612</td>\n",
       "      <td>0.070234</td>\n",
       "      <td>0.077759</td>\n",
       "      <td>0.099498</td>\n",
       "      <td>0.047659</td>\n",
       "      <td>0.035117</td>\n",
       "      <td>0.031773</td>\n",
       "      <td>0.010033</td>\n",
       "      <td>0.005853</td>\n",
       "      <td>0.001672</td>\n",
       "      <td>0.0</td>\n",
       "      <td>0.0</td>\n",
       "      <td>1196.0</td>\n",
       "      <td>133.0</td>\n",
       "      <td>0.0</td>\n",
       "      <td>0.0</td>\n",
       "      <td>1.0</td>\n",
       "      <td>0.0</td>\n",
       "      <td>0.0</td>\n",
       "      <td>0.0</td>\n",
       "      <td>1.0</td>\n",
       "      <td>0.0</td>\n",
       "      <td>0.0</td>\n",
       "      <td>0.0</td>\n",
       "      <td>0.0</td>\n",
       "      <td>0.0</td>\n",
       "      <td>1.0</td>\n",
       "    </tr>\n",
       "    <tr>\n",
       "      <th>4</th>\n",
       "      <td>C2515</td>\n",
       "      <td>545</td>\n",
       "      <td>아파트</td>\n",
       "      <td>경상남도</td>\n",
       "      <td>국민임대/장기전세</td>\n",
       "      <td>46.90</td>\n",
       "      <td>19</td>\n",
       "      <td>17.0</td>\n",
       "      <td>A</td>\n",
       "      <td>18433000.0</td>\n",
       "      <td>149760.0</td>\n",
       "      <td>0.0</td>\n",
       "      <td>3.0</td>\n",
       "      <td>624.0</td>\n",
       "      <td>205.0</td>\n",
       "      <td>545</td>\n",
       "      <td>14035965.0</td>\n",
       "      <td>119432.0</td>\n",
       "      <td>0.653211</td>\n",
       "      <td>39.0</td>\n",
       "      <td>0.400787</td>\n",
       "      <td>0.0</td>\n",
       "      <td>미수휴먼시아</td>\n",
       "      <td>경상남도 통영시 미우지해안로 107</td>\n",
       "      <td>34.825605</td>\n",
       "      <td>128.395943</td>\n",
       "      <td>0.021739</td>\n",
       "      <td>0.025084</td>\n",
       "      <td>0.077759</td>\n",
       "      <td>0.069398</td>\n",
       "      <td>0.05602</td>\n",
       "      <td>0.068562</td>\n",
       "      <td>0.04097</td>\n",
       "      <td>0.038462</td>\n",
       "      <td>0.074415</td>\n",
       "      <td>0.061873</td>\n",
       "      <td>0.08612</td>\n",
       "      <td>0.070234</td>\n",
       "      <td>0.077759</td>\n",
       "      <td>0.099498</td>\n",
       "      <td>0.047659</td>\n",
       "      <td>0.035117</td>\n",
       "      <td>0.031773</td>\n",
       "      <td>0.010033</td>\n",
       "      <td>0.005853</td>\n",
       "      <td>0.001672</td>\n",
       "      <td>0.0</td>\n",
       "      <td>0.0</td>\n",
       "      <td>1196.0</td>\n",
       "      <td>133.0</td>\n",
       "      <td>0.0</td>\n",
       "      <td>0.0</td>\n",
       "      <td>1.0</td>\n",
       "      <td>0.0</td>\n",
       "      <td>0.0</td>\n",
       "      <td>0.0</td>\n",
       "      <td>1.0</td>\n",
       "      <td>0.0</td>\n",
       "      <td>0.0</td>\n",
       "      <td>0.0</td>\n",
       "      <td>0.0</td>\n",
       "      <td>0.0</td>\n",
       "      <td>1.0</td>\n",
       "    </tr>\n",
       "  </tbody>\n",
       "</table>\n",
       "</div>"
      ],
      "text/plain": [
       "    단지코드  총세대수 임대건물구분    지역       공급유형   전용면적  전용면적별세대수   공가수 자격유형  \\\n",
       "0  C2515   545    아파트  경상남도  국민임대/장기전세  33.48       276  17.0    A   \n",
       "1  C2515   545    아파트  경상남도  국민임대/장기전세  39.60        60  17.0    A   \n",
       "2  C2515   545    아파트  경상남도  국민임대/장기전세  39.60        20  17.0    A   \n",
       "3  C2515   545    아파트  경상남도  국민임대/장기전세  46.90        38  17.0    A   \n",
       "4  C2515   545    아파트  경상남도  국민임대/장기전세  46.90        19  17.0    A   \n",
       "\n",
       "        임대보증금       임대료  도보 10분거리 내 지하철역 수(환승노선 수 반영)  도보 10분거리 내 버스정류장 수  \\\n",
       "0   9216000.0   82940.0                           0.0                 3.0   \n",
       "1  12672000.0  107130.0                           0.0                 3.0   \n",
       "2  12672000.0  107130.0                           0.0                 3.0   \n",
       "3  18433000.0  149760.0                           0.0                 3.0   \n",
       "4  18433000.0  149760.0                           0.0                 3.0   \n",
       "\n",
       "   단지내주차면수  등록차량수  전용면적별세대수합   임대보증금가중평균   임대료가중평균      소형세대  전용면적가중평균  \\\n",
       "0    624.0  205.0        545  14035965.0  119432.0  0.653211      39.0   \n",
       "1    624.0  205.0        545  14035965.0  119432.0  0.653211      39.0   \n",
       "2    624.0  205.0        545  14035965.0  119432.0  0.653211      39.0   \n",
       "3    624.0  205.0        545  14035965.0  119432.0  0.653211      39.0   \n",
       "4    624.0  205.0        545  14035965.0  119432.0  0.653211      39.0   \n",
       "\n",
       "   차량보유인구비율  차량미보유세대비율     단지명                   주소         위도          경도  \\\n",
       "0  0.400787        0.0  미수휴먼시아  경상남도 통영시 미우지해안로 107  34.825605  128.395943   \n",
       "1  0.400787        0.0  미수휴먼시아  경상남도 통영시 미우지해안로 107  34.825605  128.395943   \n",
       "2  0.400787        0.0  미수휴먼시아  경상남도 통영시 미우지해안로 107  34.825605  128.395943   \n",
       "3  0.400787        0.0  미수휴먼시아  경상남도 통영시 미우지해안로 107  34.825605  128.395943   \n",
       "4  0.400787        0.0  미수휴먼시아  경상남도 통영시 미우지해안로 107  34.825605  128.395943   \n",
       "\n",
       "   10대미만(여자)  10대미만(남자)   10대(여자)   10대(남자)  20대(여자)   20대(남자)  30대(여자)  \\\n",
       "0   0.021739   0.025084  0.077759  0.069398  0.05602  0.068562  0.04097   \n",
       "1   0.021739   0.025084  0.077759  0.069398  0.05602  0.068562  0.04097   \n",
       "2   0.021739   0.025084  0.077759  0.069398  0.05602  0.068562  0.04097   \n",
       "3   0.021739   0.025084  0.077759  0.069398  0.05602  0.068562  0.04097   \n",
       "4   0.021739   0.025084  0.077759  0.069398  0.05602  0.068562  0.04097   \n",
       "\n",
       "    30대(남자)   40대(여자)   40대(남자)  50대(여자)   50대(남자)   60대(여자)   60대(남자)  \\\n",
       "0  0.038462  0.074415  0.061873  0.08612  0.070234  0.077759  0.099498   \n",
       "1  0.038462  0.074415  0.061873  0.08612  0.070234  0.077759  0.099498   \n",
       "2  0.038462  0.074415  0.061873  0.08612  0.070234  0.077759  0.099498   \n",
       "3  0.038462  0.074415  0.061873  0.08612  0.070234  0.077759  0.099498   \n",
       "4  0.038462  0.074415  0.061873  0.08612  0.070234  0.077759  0.099498   \n",
       "\n",
       "    70대(여자)   70대(남자)   80대(여자)   80대(남자)   90대(여자)   90대(남자)  100대(여자)  \\\n",
       "0  0.047659  0.035117  0.031773  0.010033  0.005853  0.001672       0.0   \n",
       "1  0.047659  0.035117  0.031773  0.010033  0.005853  0.001672       0.0   \n",
       "2  0.047659  0.035117  0.031773  0.010033  0.005853  0.001672       0.0   \n",
       "3  0.047659  0.035117  0.031773  0.010033  0.005853  0.001672       0.0   \n",
       "4  0.047659  0.035117  0.031773  0.010033  0.005853  0.001672       0.0   \n",
       "\n",
       "   100대(남자)   총입주민수  준공후기간(월)  공공임대(50년)  공공임대(5년/10년/분납/분양)  국민임대/장기전세  영구임대  \\\n",
       "0       0.0  1196.0     133.0        0.0                 0.0        1.0   0.0   \n",
       "1       0.0  1196.0     133.0        0.0                 0.0        1.0   0.0   \n",
       "2       0.0  1196.0     133.0        0.0                 0.0        1.0   0.0   \n",
       "3       0.0  1196.0     133.0        0.0                 0.0        1.0   0.0   \n",
       "4       0.0  1196.0     133.0        0.0                 0.0        1.0   0.0   \n",
       "\n",
       "   임대상가  행복주택    A    D  국민임대/장기전세_공급대상  영구임대_공급대상  행복주택_공급대상   상가  아파트  \n",
       "0   0.0   0.0  1.0  0.0             0.0        0.0        0.0  0.0  1.0  \n",
       "1   0.0   0.0  1.0  0.0             0.0        0.0        0.0  0.0  1.0  \n",
       "2   0.0   0.0  1.0  0.0             0.0        0.0        0.0  0.0  1.0  \n",
       "3   0.0   0.0  1.0  0.0             0.0        0.0        0.0  0.0  1.0  \n",
       "4   0.0   0.0  1.0  0.0             0.0        0.0        0.0  0.0  1.0  "
      ]
     },
     "execution_count": 27,
     "metadata": {},
     "output_type": "execute_result"
    }
   ],
   "source": [
    "train.head()"
   ]
  },
  {
   "cell_type": "markdown",
   "metadata": {},
   "source": [
    "**여기까지 작업 완료**"
   ]
  },
  {
   "cell_type": "markdown",
   "metadata": {},
   "source": [
    "---"
   ]
  },
  {
   "cell_type": "code",
   "execution_count": 28,
   "metadata": {},
   "outputs": [
    {
     "ename": "NameError",
     "evalue": "name 'X_train' is not defined",
     "output_type": "error",
     "traceback": [
      "\u001b[1;31m---------------------------------------------------------------------------\u001b[0m",
      "\u001b[1;31mNameError\u001b[0m                                 Traceback (most recent call last)",
      "\u001b[1;32m<ipython-input-28-1012cb84d1ca>\u001b[0m in \u001b[0;36m<module>\u001b[1;34m\u001b[0m\n\u001b[1;32m----> 1\u001b[1;33m \u001b[0mX_train\u001b[0m \u001b[1;33m=\u001b[0m \u001b[0mX_train\u001b[0m\u001b[1;33m.\u001b[0m\u001b[0mset_index\u001b[0m\u001b[1;33m(\u001b[0m\u001b[1;34m'단지코드'\u001b[0m\u001b[1;33m)\u001b[0m\u001b[1;33m\u001b[0m\u001b[1;33m\u001b[0m\u001b[0m\n\u001b[0m\u001b[0;32m      2\u001b[0m \u001b[0mX_test\u001b[0m \u001b[1;33m=\u001b[0m \u001b[0mX_test\u001b[0m\u001b[1;33m.\u001b[0m\u001b[0mset_index\u001b[0m\u001b[1;33m(\u001b[0m\u001b[1;34m'단지코드'\u001b[0m\u001b[1;33m)\u001b[0m\u001b[1;33m\u001b[0m\u001b[1;33m\u001b[0m\u001b[0m\n",
      "\u001b[1;31mNameError\u001b[0m: name 'X_train' is not defined"
     ]
    }
   ],
   "source": [
    "X_train = X_train.set_index('단지코드')\n",
    "X_test = X_test.set_index('단지코드')"
   ]
  },
  {
   "cell_type": "code",
   "execution_count": null,
   "metadata": {},
   "outputs": [],
   "source": [
    "print(X_train.shape)\n",
    "print(X_test.shape)"
   ]
  },
  {
   "cell_type": "code",
   "execution_count": null,
   "metadata": {},
   "outputs": [],
   "source": [
    "X_train = X_train.drop(columns = ['임대건물구분_아파트'])\n",
    "X_test = X_test.drop(columns = ['임대건물구분_아파트'])"
   ]
  },
  {
   "cell_type": "code",
   "execution_count": null,
   "metadata": {},
   "outputs": [],
   "source": [
    "print(X_train.shape); print(X_test.shape)"
   ]
  },
  {
   "cell_type": "code",
   "execution_count": null,
   "metadata": {},
   "outputs": [],
   "source": [
    "X_train = X_train[X_train['도보 10분거리 내 지하철역 수(환승노선 수 반영)'] != 3]"
   ]
  },
  {
   "cell_type": "code",
   "execution_count": null,
   "metadata": {},
   "outputs": [],
   "source": [
    "print(X_train.shape); print(X_test.shape)"
   ]
  },
  {
   "cell_type": "code",
   "execution_count": null,
   "metadata": {},
   "outputs": [],
   "source": [
    "%%time\n",
    "encoding_features = ['지역', '도보 10분거리 내 지하철역 수(환승노선 수 반영)']\n",
    "for f in encoding_features:\n",
    "    mapping = X_train.groupby([f])['등록차량수'].agg(['mean','median','std'])\n",
    "    mapping_values = []\n",
    "    for l in X_train[f].values:\n",
    "        mapping_values.extend([mapping.loc[l].values])\n",
    "    bincount = pd.DataFrame(mapping_values, columns = [f+'_mean', f+'_median', f+'_std', ], index = X_train.index)\n",
    "    X_train = pd.concat([X_train,bincount], axis= 1).drop(columns = [f])\n",
    "\n",
    "    mapping_values = []\n",
    "    for l in X_test[f].values:\n",
    "        mapping_values.extend([mapping.loc[l].values])\n",
    "    bincount = pd.DataFrame(mapping_values, columns = [f+'_mean', f+'_median', f+'_std', ], index = X_test.index)\n",
    "    X_test = pd.concat([X_test,bincount], axis= 1).drop(columns = [f])"
   ]
  },
  {
   "cell_type": "code",
   "execution_count": null,
   "metadata": {},
   "outputs": [],
   "source": [
    "scailing_features = ['총세대수',\n",
    "                     '공가수',\n",
    "                     '도보 10분거리 내 버스정류장 수',\n",
    "                     '단지내주차면수',\n",
    "                     '차량보유인구비율', '전용면적', '차량미보유세대비율', '소형세대', '임대료', '총입주민수', '준공후기간(월)',\n",
    "                     '지역_mean', \n",
    "                     '지역_median',\n",
    "                     '지역_std', \n",
    "                     '도보 10분거리 내 지하철역 수(환승노선 수 반영)_mean',\n",
    "                   '도보 10분거리 내 지하철역 수(환승노선 수 반영)_median',\n",
    "                   '도보 10분거리 내 지하철역 수(환승노선 수 반영)_std']"
   ]
  },
  {
   "cell_type": "code",
   "execution_count": null,
   "metadata": {},
   "outputs": [],
   "source": [
    "# 도보 10분거리 std는 그림상 의미가 없기에 Drop\n",
    "X_train = X_train.iloc[:,:-1]\n",
    "X_test = X_test.iloc[:,:-1]"
   ]
  },
  {
   "cell_type": "code",
   "execution_count": null,
   "metadata": {},
   "outputs": [],
   "source": [
    "# 지역은  Scailing\n",
    "\n",
    "scaler = RobustScaler()\n",
    "loc_f = [    '지역_mean', \n",
    "             '지역_median',\n",
    "             '지역_std', ]\n",
    "X_train.loc[:, loc_f] = scaler.fit_transform(X_train[loc_f])\n",
    "X_test.loc[:, loc_f] = scaler.transform(X_test[loc_f])"
   ]
  },
  {
   "cell_type": "code",
   "execution_count": null,
   "metadata": {},
   "outputs": [],
   "source": [
    "# 나머지 Scailing\n",
    "scailing_features = ['총세대수',\n",
    "                     '공가수',\n",
    "                     '도보 10분거리 내 버스정류장 수',\n",
    "                     '단지내주차면수',\n",
    "                     '차량보유인구비율', '전용면적', '차량미보유세대비율', '소형세대', '임대료', '총입주민수', '준공후기간(월)',\n",
    "                     '도보 10분거리 내 지하철역 수(환승노선 수 반영)_mean',\n",
    "                       '도보 10분거리 내 지하철역 수(환승노선 수 반영)_median',\n",
    "                    ]\n",
    "\n",
    "scaler = StandardScaler()\n",
    "X_train.loc[:, scailing_features] = scaler.fit_transform(X_train[scailing_features])\n",
    "X_test.loc[:, scailing_features] = scaler.transform(X_test[scailing_features])"
   ]
  },
  {
   "cell_type": "code",
   "execution_count": null,
   "metadata": {},
   "outputs": [],
   "source": [
    "X = X_train.drop(columns = ['등록차량수'])\n",
    "y = X_train['등록차량수']"
   ]
  },
  {
   "cell_type": "markdown",
   "metadata": {},
   "source": [
    "# Modeling"
   ]
  },
  {
   "cell_type": "code",
   "execution_count": null,
   "metadata": {},
   "outputs": [],
   "source": [
    "def objective(trial: Trial) -> float:\n",
    "    params_cat = {\n",
    "        \"random_state\": 42,\n",
    "        \"learning_rate\": 0.05,\n",
    "        \"n_estimators\": 10000,\n",
    "        \"verbose\" : 1,\n",
    "        \"objective\" : \"MAE\",\n",
    "        \"max_depth\": trial.suggest_int(\"max_depth\", 1, 16),\n",
    "        \"colsample_bylevel\": trial.suggest_float(\"colsample_bylevel\", 0.8, 1.0),\n",
    "        \"subsample\": trial.suggest_float(\"subsample\", 0.3, 1.0),\n",
    "        \"min_child_samples\": trial.suggest_int(\"min_child_samples\", 5, 100),\n",
    "        \"max_bin\": trial.suggest_int(\"max_bin\", 200, 500),\n",
    "    }\n",
    "    \n",
    "    X_tr, X_val, y_tr, y_val = train_test_split(X, y, test_size=0.2)\n",
    "\n",
    "    model = CatBoostRegressor(**params_cat)\n",
    "    model.fit(\n",
    "        X_tr,\n",
    "        y_tr,\n",
    "        eval_set=[(X_tr, y_tr), (X_val, y_val)],\n",
    "        early_stopping_rounds=10,\n",
    "        verbose=False,\n",
    "    )\n",
    "\n",
    "    cat_pred = model.predict(X_val)\n",
    "    log_score = mean_absolute_error(y_val, cat_pred)\n",
    "    \n",
    "    return log_score"
   ]
  },
  {
   "cell_type": "code",
   "execution_count": null,
   "metadata": {},
   "outputs": [],
   "source": [
    "sampler = TPESampler(seed=42)\n",
    "study = optuna.create_study(\n",
    "    study_name=\"cat_opt\",\n",
    "    direction=\"minimize\",\n",
    "    sampler=sampler,\n",
    ")\n",
    "study.optimize(objective, n_trials=10)\n",
    "print(\"Best Score:\", study.best_value)\n",
    "print(\"Best trial:\", study.best_trial.params)"
   ]
  },
  {
   "cell_type": "code",
   "execution_count": null,
   "metadata": {},
   "outputs": [],
   "source": [
    "cat_p = study.best_trial.params\n",
    "cat = CatBoostRegressor(**cat_p)"
   ]
  },
  {
   "cell_type": "code",
   "execution_count": null,
   "metadata": {},
   "outputs": [],
   "source": [
    "cat.fit(X, y, verbose = 0)\n",
    "pred = cat.predict(X_test)"
   ]
  },
  {
   "cell_type": "code",
   "execution_count": null,
   "metadata": {},
   "outputs": [],
   "source": [
    "submission = pd.DataFrame(columns=['code', 'num'])\n",
    "submission['code']= X_test.index\n",
    "submission['num']= pred\n",
    "error = pd.DataFrame(np.array([['C2675', 0], ['C2335', 0], ['C1327', 0]]), columns=['code', 'num'])\n",
    "submission = pd.concat([submission, error]).reset_index(drop=True)"
   ]
  },
  {
   "cell_type": "code",
   "execution_count": null,
   "metadata": {},
   "outputs": [],
   "source": [
    "submission['num'] = submission['num'].astype('float64')\n",
    "submission.loc[submission['num']<0,'num'] = 0\n",
    "submission.to_csv('submission_cat6.csv', index=False)"
   ]
  },
  {
   "cell_type": "code",
   "execution_count": null,
   "metadata": {},
   "outputs": [],
   "source": [
    "from catboost import Pool\n",
    "train_pool = Pool(X, y)"
   ]
  },
  {
   "cell_type": "code",
   "execution_count": null,
   "metadata": {},
   "outputs": [],
   "source": [
    "data = pd.DataFrame({'feature_importance': cat.get_feature_importance(train_pool), \n",
    "              'feature_names': X.columns}).sort_values(by=['feature_importance'], \n",
    "                                                       ascending=False)"
   ]
  },
  {
   "cell_type": "code",
   "execution_count": null,
   "metadata": {},
   "outputs": [],
   "source": [
    "from sklearn.model_selection import KFold\n",
    "from sklearn.model_selection import cross_val_score\n",
    "kfold = KFold(n_splits=10, shuffle=True, random_state=10)\n",
    "score = cross_val_score(cat, X, y, cv=kfold, scoring='neg_mean_absolute_error')"
   ]
  },
  {
   "cell_type": "code",
   "execution_count": null,
   "metadata": {},
   "outputs": [],
   "source": [
    "print(f'평균: {-score.mean()} | 표준편차: {score.std()}')"
   ]
  },
  {
   "cell_type": "code",
   "execution_count": null,
   "metadata": {},
   "outputs": [],
   "source": [
    "X.shape"
   ]
  },
  {
   "cell_type": "markdown",
   "metadata": {},
   "source": [
    "#### feature selection 안한 ver. public score :87.2994749246\n",
    "\n",
    "---\n",
    "---"
   ]
  }
 ],
 "metadata": {
  "interpreter": {
   "hash": "082e9a3bcad0a290d0001e938aa60b99250c6c2ef33a923c00b70f9826caf4b7"
  },
  "kernelspec": {
   "display_name": "Python 3",
   "language": "python",
   "name": "python3"
  },
  "language_info": {
   "codemirror_mode": {
    "name": "ipython",
    "version": 3
   },
   "file_extension": ".py",
   "mimetype": "text/x-python",
   "name": "python",
   "nbconvert_exporter": "python",
   "pygments_lexer": "ipython3",
   "version": "3.8.5"
  }
 },
 "nbformat": 4,
 "nbformat_minor": 4
}
