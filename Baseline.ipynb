{
 "cells": [
  {
   "cell_type": "markdown",
   "id": "901db59d",
   "metadata": {},
   "source": [
    "# Train Data Preprocessing"
   ]
  },
  {
   "cell_type": "code",
   "execution_count": 1,
   "id": "e41d8774",
   "metadata": {},
   "outputs": [],
   "source": [
    "import numpy as np\n",
    "import pandas as pd\n",
    "import matplotlib as mpl ; mpl.rcParams['axes.unicode_minus'] = False\n",
    "import matplotlib.pyplot as plt ; plt.rcParams['font.family'] = 'AppleGothic'\n",
    "import seaborn as sns"
   ]
  },
  {
   "cell_type": "code",
   "execution_count": 2,
   "id": "d30eb8fc",
   "metadata": {},
   "outputs": [],
   "source": [
    "train = pd.read_csv('train.csv')"
   ]
  },
  {
   "cell_type": "code",
   "execution_count": 3,
   "id": "8ef687d2",
   "metadata": {},
   "outputs": [],
   "source": [
    "# '임대보증금', '임대료'의 '-'를 0으로 변환\n",
    "train['임대보증금'].replace([np.nan, '-'], 0, inplace=True)\n",
    "train['임대보증금'] = train['임대보증금'].astype('int64')\n",
    "train['임대보증금'].replace(0, np.nan, inplace=True)\n",
    "train['임대료'].replace([np.nan, '-'], 0, inplace=True)\n",
    "train['임대료'] = train['임대료'].astype('int64')\n",
    "train['임대료'].replace(0, np.nan, inplace=True)"
   ]
  },
  {
   "cell_type": "code",
   "execution_count": 4,
   "id": "4bc7fe2d",
   "metadata": {},
   "outputs": [],
   "source": [
    "# '지역 == 서울특별시' 데이터 제거\n",
    "train = train[train['지역'] != '서울특별시'].reset_index(drop=True)"
   ]
  },
  {
   "cell_type": "code",
   "execution_count": 5,
   "id": "e1641271",
   "metadata": {},
   "outputs": [],
   "source": [
    "# '공급유형 == 공공임대(5년) or 공공임대(10년)' 데이터 제거\n",
    "train = train[(train['공급유형'] != '공공임대(5년)') & (train['공급유형'] != '공공임대(10년)') & (train['공급유형'] != '장기전세')].reset_index(drop=True)"
   ]
  },
  {
   "cell_type": "code",
   "execution_count": 6,
   "id": "004d70b1",
   "metadata": {},
   "outputs": [],
   "source": [
    "# '상가수' 변수 생성\n",
    "store = train[train['임대건물구분'] == '상가'].groupby(['단지코드'], as_index=False).agg({'임대건물구분':'count'})\n",
    "store.columns = ['단지코드', '상가수']\n",
    "train = pd.merge(train, store, how='left', on='단지코드')\n",
    "train['상가수'] = train['상가수'].fillna(0)"
   ]
  },
  {
   "cell_type": "code",
   "execution_count": 7,
   "id": "f89c3a49",
   "metadata": {},
   "outputs": [],
   "source": [
    "# '단지내주차면수', '등록차량수'에서 '상가수'만큼 제외\n",
    "train['단지내주차면수'] = train['단지내주차면수'] - train['상가수']\n",
    "train['등록차량수'] = train['등록차량수'] - train['상가수']"
   ]
  },
  {
   "cell_type": "code",
   "execution_count": 8,
   "id": "fbc76bda",
   "metadata": {},
   "outputs": [],
   "source": [
    "# '임대건물구분 == 상가' 데이터 제거\n",
    "train = train[train['임대건물구분'] != '상가'].reset_index(drop=True)"
   ]
  },
  {
   "cell_type": "code",
   "execution_count": 9,
   "id": "93da8e9b",
   "metadata": {},
   "outputs": [],
   "source": [
    "# '총세대수 = SUM(전용면적별세대수)' 변수 재생성\n",
    "noh_by_area = train.groupby('단지코드', as_index=False).agg({'전용면적별세대수':'sum'})\n",
    "noh_by_area.columns = ['단지코드', '총세대수']\n",
    "train = pd.merge(left=train, right=noh_by_area, how='left', on='단지코드')\n",
    "train.drop(['총세대수_x'], axis=1, inplace=True)\n",
    "train.rename(columns={'총세대수_y':'총세대수'}, inplace=True)"
   ]
  },
  {
   "cell_type": "code",
   "execution_count": 10,
   "id": "d72657ad",
   "metadata": {},
   "outputs": [
    {
     "name": "stdout",
     "output_type": "stream",
     "text": [
      "5.0\n"
     ]
    }
   ],
   "source": [
    "# '단지명' 변수 생성\n",
    "data = pd.read_csv('임대주택_단지_조회.csv')\n",
    "data.drop(['순번', '전체건수', '최초입주년월'], axis=1, inplace=True)\n",
    "data['전용면적'] = np.round(data['전용면적'], 2)\n",
    "data['지역'] = ['세종특별자치시' if i[0] == '세종시' else i[0] for i in data['지역'].str.split()]\n",
    "\n",
    "noh_by_area = data.groupby('단지명', as_index=False).agg({'전용면적별세대수':'sum'})\n",
    "noh_by_area.columns = ['단지명', '총세대수']\n",
    "data = pd.merge(left=data, right=noh_by_area, how='left', on='단지명')\n",
    "data.drop(['총세대수_x'], axis=1, inplace=True)\n",
    "data.rename(columns={'총세대수_y':'총세대수'}, inplace=True)\n",
    "\n",
    "train_wo_dup = train.drop_duplicates(subset=['단지코드'])[['단지코드', '지역', '총세대수']].reset_index(drop=True)\n",
    "idx = np.column_stack([train.drop_duplicates(subset=['단지코드'])[['지역', '총세대수']].reset_index(drop=True), range(len(train_wo_dup))])\n",
    "\n",
    "train_wo_dup['단지명'] = None\n",
    "for i, j, k in idx:\n",
    "    if data.loc[(data['지역'] == i) & (data['총세대수'] == j), '단지명'].nunique() == 1:\n",
    "        train_wo_dup.iloc[k, train_wo_dup.columns.get_loc('단지명')] = data.loc[(data['지역'] == i) & (data['총세대수'] == j), '단지명'].unique()[0]\n",
    "\n",
    "null = train_wo_dup[train_wo_dup['단지명'].isnull()].reset_index(drop=True)\n",
    "data_hhset = data[['단지명', '전용면적']].groupby(['단지명'])['전용면적'].apply(list)\n",
    "data_hhset = pd.DataFrame(data_hhset)\n",
    "data_hhset = pd.merge(data_hhset, data[['단지명', '지역', '총세대수']], on='단지명')\n",
    "data_hhset = data_hhset[['단지명', '지역', '총세대수', '전용면적']]\n",
    "data_hhset = data_hhset.drop_duplicates(['단지명']).reset_index(drop=True)\n",
    "\n",
    "idx = null['단지코드'].unique()\n",
    "for i in range(len(idx)):\n",
    "    areaset_train = set(train.loc[train['단지코드'] == idx[i], '전용면적'])\n",
    "    region = null.loc[i, '지역']\n",
    "    total_hh2 = null.loc[i,'총세대수']\n",
    "    same = data_hhset.loc[(data_hhset['지역'] == region) & (data_hhset['총세대수'] == total_hh2)].reset_index(drop=True)\n",
    "    diff = []\n",
    "    if len(same.index) != 0:\n",
    "        for j in range(len(same)):\n",
    "            areaset_data = set(same.loc[j, '전용면적'])\n",
    "            diff.append(len(areaset_train - areaset_data))\n",
    "        null.loc[i, '단지명'] = same.loc[np.argmin(diff), '단지명']\n",
    "\n",
    "\n",
    "for i in range(len(train_wo_dup)):\n",
    "    if train_wo_dup.iloc[i, train_wo_dup.columns.get_loc('단지명')] == None:\n",
    "        train_wo_dup.iloc[i, train_wo_dup.columns.get_loc('단지명')] = null.loc[null['단지코드'] == train_wo_dup.iloc[i, train_wo_dup.columns.get_loc('단지코드')], '단지명']\n",
    "    else:\n",
    "        pass\n",
    "\n",
    "train = pd.merge(train, train_wo_dup[['단지코드', '단지명']], how='left', on='단지코드')\n",
    "\n",
    "code_name = train['단지코드'].unique()\n",
    "for i in range(len(code_name)):\n",
    "    dat = train.loc[train['단지코드'] == code_name[i],:]\n",
    "    if (dat.shape[0] != dat.단지명.isnull().sum()) & (dat.shape[0] != dat.단지명.notnull().sum()):\n",
    "        train.loc[train['단지코드'] == code_name[i],'단지명'] = dat.loc[dat['단지명'].notnull(),'단지명']\n",
    "    else:\n",
    "        pass\n",
    "\n",
    "train.reset_index(drop=True, inplace=True)\n",
    "\n",
    "print(round(train.loc[train['단지명'].isnull(), '단지코드'].nunique()/train['단지코드'].nunique(), 2)*100)"
   ]
  },
  {
   "cell_type": "code",
   "execution_count": 11,
   "id": "97bd8dde",
   "metadata": {},
   "outputs": [],
   "source": [
    "# '자격유형', '공급유형' 변수 재생성 (Major Voting)\n",
    "max_code = train[['단지코드', '전용면적별세대수']].groupby(['단지코드']).max()\n",
    "max_code = pd.merge(max_code, train, on=['단지코드', '전용면적별세대수'])\n",
    "\n",
    "code_name = train['단지코드'].unique()\n",
    "qualify = train['자격유형'].unique()\n",
    "result_qualify = pd.DataFrame(columns=['단지코드', '자격유형'])\n",
    "result_qualify['단지코드'] = train['단지코드'].unique()\n",
    "\n",
    "for i in range(len(code_name)):\n",
    "    dat = train[train['단지코드'] == code_name[i]]\n",
    "    num_qualified = [0, 0, 0, 0, 0, 0, 0, 0, 0, 0, 0, 0, 0, 0, 0]\n",
    "    \n",
    "    for j in range(len(qualify)):\n",
    "        num_qualified[j] = sum(dat.loc[dat['자격유형'] == qualify[j],'전용면적별세대수'])\n",
    "    \n",
    "    result_qualify.loc[result_qualify['단지코드'] == code_name[i],'자격유형'] = qualify[num_qualified.index(max(num_qualified))]\n",
    "\n",
    "code_name = train.단지코드.unique()\n",
    "supply = train.공급유형.unique()\n",
    "result_supply = pd.DataFrame(columns=['단지코드', '공급유형'])\n",
    "result_supply['단지코드'] = train.단지코드.unique()\n",
    "\n",
    "for i in range(len(code_name)):\n",
    "    dat= train[train['단지코드'] == code_name[i]]\n",
    "    num_supplied=[0, 0, 0, 0, 0, 0, 0, 0, 0, 0]\n",
    "    \n",
    "    for j in range(len(supply)):\n",
    "        num_supplied[j] = sum(dat.loc[dat['공급유형'] == supply[j],'전용면적별세대수'])\n",
    "\n",
    "    result_supply.loc[result_supply['단지코드'] == code_name[i],'공급유형'] = supply[num_supplied.index(max(num_supplied))]\n",
    "\n",
    "result = pd.merge(result_supply, result_qualify, on='단지코드')\n",
    "train = pd.merge(train, result, on='단지코드')\n",
    "train.drop(['공급유형_x', '자격유형_x'], axis=1, inplace=True)\n",
    "train.rename(columns={'공급유형_y':'공급유형', '자격유형_y':'자격유형'}, inplace=True)"
   ]
  },
  {
   "cell_type": "code",
   "execution_count": 12,
   "id": "86734a06",
   "metadata": {},
   "outputs": [],
   "source": [
    "# '등록차량수/총세대수' 기준 Outlier 제거\n",
    "train['세대별차량'] = train['등록차량수'] / train['총세대수']\n",
    "\n",
    "def det_out(lower, upper):\n",
    "    return(set(train['단지코드'][train['세대별차량'] < lower]).union(set(train['단지코드'][train['세대별차량'] > upper])))\n",
    "\n",
    "train = train[~train['단지코드'].isin(det_out(0.1,3))] # lower=0.1, upper=3 가정\n",
    "train.drop(['세대별차량'], axis=1, inplace=True)"
   ]
  },
  {
   "cell_type": "code",
   "execution_count": 13,
   "id": "b4a264e8",
   "metadata": {},
   "outputs": [],
   "source": [
    "train.reset_index(inplace=True, drop=True)"
   ]
  },
  {
   "cell_type": "code",
   "execution_count": 14,
   "id": "c33773f8",
   "metadata": {},
   "outputs": [],
   "source": [
    "# '임대료' Imputation\n",
    "from impyute.imputation.cs import mice\n",
    "train['임대료']=train['임대료'].astype('float64')\n",
    "train_num = train.loc[:,train.dtypes!=object]\n",
    "train_imp = mice(train_num.values)\n",
    "train_imp = pd.DataFrame(train_imp)\n",
    "train_imp.columns = train_num.columns\n",
    "train['임대료'] = train_imp['임대료']"
   ]
  },
  {
   "cell_type": "code",
   "execution_count": 15,
   "id": "f59182ca",
   "metadata": {},
   "outputs": [],
   "source": [
    "# '소형세대', '중형세대', '대형세대' 변수 생성\n",
    "size= pd.DataFrame(columns=['단지코드', '소형세대', '중형세대', '대형세대'])\n",
    "size['단지코드'] = train.단지코드.unique()\n",
    "code=size['단지코드']\n",
    "\n",
    "for i in range(len(code)):\n",
    "    house = train[train['단지코드'] == code[i]]\n",
    "    size.loc[i, '소형세대'] = sum(house.loc[house['전용면적'] < 40,'전용면적별세대수'])\n",
    "    size.loc[i, '중형세대'] = sum(house.loc[(house['전용면적'] >= 40) & (house['전용면적'] < 80) ,'전용면적별세대수'])\n",
    "    size.loc[i, '대형세대'] = sum(house.loc[house['전용면적'] >= 80,'전용면적별세대수'])\n",
    "\n",
    "size['소형세대'] = size['소형세대'].astype('int64')\n",
    "size['중형세대'] = size['중형세대'].astype('int64')\n",
    "size['대형세대'] = size['대형세대'].astype('int64')\n",
    "\n",
    "train = pd.merge(train, size, on='단지코드', how='left')\n",
    "train['소형세대'] = train['소형세대'] / train['총세대수']\n",
    "train['중형세대'] = train['중형세대'] / train['총세대수']\n",
    "train['대형세대'] = train['대형세대'] / train['총세대수']"
   ]
  },
  {
   "cell_type": "code",
   "execution_count": 16,
   "id": "142027cc",
   "metadata": {},
   "outputs": [],
   "source": [
    "# '임대료' 변수 재생성 (전용면적별세대수 고려)\n",
    "train['임대료'] = train['전용면적별세대수'] * train['임대료']\n",
    "rental_fee = train.groupby('단지코드', as_index=False).agg({'임대료':'sum'})\n",
    "train = pd.merge(train, rental_fee, on='단지코드')\n",
    "train.drop(['임대료_x'], axis=1, inplace=True)\n",
    "train.rename(columns={'임대료_y':'임대료'}, inplace=True)\n",
    "train['임대료'] = round(train['임대료']/train['총세대수'], 2)"
   ]
  },
  {
   "cell_type": "code",
   "execution_count": 17,
   "id": "cf83b958",
   "metadata": {},
   "outputs": [],
   "source": [
    "train['도보 10분거리 내 지하철역 수(환승노선 수 반영)'] = train['도보 10분거리 내 지하철역 수(환승노선 수 반영)'].fillna(0)"
   ]
  },
  {
   "cell_type": "code",
   "execution_count": 18,
   "id": "c5107b93",
   "metadata": {
    "scrolled": true
   },
   "outputs": [],
   "source": [
    "train.drop(['임대건물구분', '전용면적', '전용면적별세대수', '임대보증금'], axis=1, inplace=True)"
   ]
  },
  {
   "cell_type": "code",
   "execution_count": 19,
   "id": "ab165a74",
   "metadata": {},
   "outputs": [],
   "source": [
    "train = train.drop_duplicates().reset_index(drop=True)"
   ]
  },
  {
   "cell_type": "code",
   "execution_count": 20,
   "id": "7ac535f9",
   "metadata": {},
   "outputs": [
    {
     "data": {
      "text/html": [
       "<div>\n",
       "<style scoped>\n",
       "    .dataframe tbody tr th:only-of-type {\n",
       "        vertical-align: middle;\n",
       "    }\n",
       "\n",
       "    .dataframe tbody tr th {\n",
       "        vertical-align: top;\n",
       "    }\n",
       "\n",
       "    .dataframe thead th {\n",
       "        text-align: right;\n",
       "    }\n",
       "</style>\n",
       "<table border=\"1\" class=\"dataframe\">\n",
       "  <thead>\n",
       "    <tr style=\"text-align: right;\">\n",
       "      <th></th>\n",
       "      <th>단지코드</th>\n",
       "      <th>지역</th>\n",
       "      <th>공가수</th>\n",
       "      <th>도보 10분거리 내 지하철역 수(환승노선 수 반영)</th>\n",
       "      <th>도보 10분거리 내 버스정류장 수</th>\n",
       "      <th>단지내주차면수</th>\n",
       "      <th>등록차량수</th>\n",
       "      <th>상가수</th>\n",
       "      <th>총세대수</th>\n",
       "      <th>단지명</th>\n",
       "      <th>공급유형</th>\n",
       "      <th>자격유형</th>\n",
       "      <th>소형세대</th>\n",
       "      <th>중형세대</th>\n",
       "      <th>대형세대</th>\n",
       "      <th>임대료</th>\n",
       "    </tr>\n",
       "  </thead>\n",
       "  <tbody>\n",
       "    <tr>\n",
       "      <th>0</th>\n",
       "      <td>C2483</td>\n",
       "      <td>경상북도</td>\n",
       "      <td>38.0</td>\n",
       "      <td>0.0</td>\n",
       "      <td>3.0</td>\n",
       "      <td>1425.0</td>\n",
       "      <td>1015.0</td>\n",
       "      <td>0.0</td>\n",
       "      <td>900</td>\n",
       "      <td>포항장량 1단지</td>\n",
       "      <td>국민임대</td>\n",
       "      <td>A</td>\n",
       "      <td>0.165556</td>\n",
       "      <td>0.834444</td>\n",
       "      <td>0.0</td>\n",
       "      <td>173838.88</td>\n",
       "    </tr>\n",
       "    <tr>\n",
       "      <th>1</th>\n",
       "      <td>C2515</td>\n",
       "      <td>경상남도</td>\n",
       "      <td>17.0</td>\n",
       "      <td>0.0</td>\n",
       "      <td>3.0</td>\n",
       "      <td>624.0</td>\n",
       "      <td>205.0</td>\n",
       "      <td>0.0</td>\n",
       "      <td>545</td>\n",
       "      <td>통영미수2단지</td>\n",
       "      <td>국민임대</td>\n",
       "      <td>A</td>\n",
       "      <td>0.653211</td>\n",
       "      <td>0.346789</td>\n",
       "      <td>0.0</td>\n",
       "      <td>119431.27</td>\n",
       "    </tr>\n",
       "    <tr>\n",
       "      <th>2</th>\n",
       "      <td>C1407</td>\n",
       "      <td>대전광역시</td>\n",
       "      <td>13.0</td>\n",
       "      <td>1.0</td>\n",
       "      <td>1.0</td>\n",
       "      <td>1285.0</td>\n",
       "      <td>1064.0</td>\n",
       "      <td>0.0</td>\n",
       "      <td>1216</td>\n",
       "      <td>대전도안서남부4bl(06,기) 4단지</td>\n",
       "      <td>국민임대</td>\n",
       "      <td>A</td>\n",
       "      <td>0.320724</td>\n",
       "      <td>0.679276</td>\n",
       "      <td>0.0</td>\n",
       "      <td>171132.24</td>\n",
       "    </tr>\n",
       "    <tr>\n",
       "      <th>3</th>\n",
       "      <td>C1945</td>\n",
       "      <td>경기도</td>\n",
       "      <td>6.0</td>\n",
       "      <td>1.0</td>\n",
       "      <td>3.0</td>\n",
       "      <td>734.0</td>\n",
       "      <td>730.0</td>\n",
       "      <td>0.0</td>\n",
       "      <td>755</td>\n",
       "      <td>남양주호평6단지</td>\n",
       "      <td>국민임대</td>\n",
       "      <td>B</td>\n",
       "      <td>0.317881</td>\n",
       "      <td>0.682119</td>\n",
       "      <td>0.0</td>\n",
       "      <td>187414.21</td>\n",
       "    </tr>\n",
       "    <tr>\n",
       "      <th>4</th>\n",
       "      <td>C1470</td>\n",
       "      <td>전라북도</td>\n",
       "      <td>14.0</td>\n",
       "      <td>0.0</td>\n",
       "      <td>2.0</td>\n",
       "      <td>645.0</td>\n",
       "      <td>553.0</td>\n",
       "      <td>0.0</td>\n",
       "      <td>696</td>\n",
       "      <td>익산장신(03,주2) 1단지</td>\n",
       "      <td>국민임대</td>\n",
       "      <td>A</td>\n",
       "      <td>0.364943</td>\n",
       "      <td>0.635057</td>\n",
       "      <td>0.0</td>\n",
       "      <td>125449.22</td>\n",
       "    </tr>\n",
       "  </tbody>\n",
       "</table>\n",
       "</div>"
      ],
      "text/plain": [
       "    단지코드     지역   공가수  도보 10분거리 내 지하철역 수(환승노선 수 반영)  도보 10분거리 내 버스정류장 수  \\\n",
       "0  C2483   경상북도  38.0                           0.0                 3.0   \n",
       "1  C2515   경상남도  17.0                           0.0                 3.0   \n",
       "2  C1407  대전광역시  13.0                           1.0                 1.0   \n",
       "3  C1945    경기도   6.0                           1.0                 3.0   \n",
       "4  C1470   전라북도  14.0                           0.0                 2.0   \n",
       "\n",
       "   단지내주차면수   등록차량수  상가수  총세대수                   단지명  공급유형 자격유형      소형세대  \\\n",
       "0   1425.0  1015.0  0.0   900              포항장량 1단지  국민임대    A  0.165556   \n",
       "1    624.0   205.0  0.0   545               통영미수2단지  국민임대    A  0.653211   \n",
       "2   1285.0  1064.0  0.0  1216  대전도안서남부4bl(06,기) 4단지  국민임대    A  0.320724   \n",
       "3    734.0   730.0  0.0   755              남양주호평6단지  국민임대    B  0.317881   \n",
       "4    645.0   553.0  0.0   696       익산장신(03,주2) 1단지  국민임대    A  0.364943   \n",
       "\n",
       "       중형세대  대형세대        임대료  \n",
       "0  0.834444   0.0  173838.88  \n",
       "1  0.346789   0.0  119431.27  \n",
       "2  0.679276   0.0  171132.24  \n",
       "3  0.682119   0.0  187414.21  \n",
       "4  0.635057   0.0  125449.22  "
      ]
     },
     "execution_count": 20,
     "metadata": {},
     "output_type": "execute_result"
    }
   ],
   "source": [
    "train.head()"
   ]
  },
  {
   "cell_type": "markdown",
   "id": "b6b8d7d3",
   "metadata": {},
   "source": [
    "---"
   ]
  },
  {
   "cell_type": "markdown",
   "id": "13f5803e",
   "metadata": {},
   "source": [
    "# Test Data Preprocessing"
   ]
  },
  {
   "cell_type": "code",
   "execution_count": 21,
   "id": "56b83786",
   "metadata": {},
   "outputs": [],
   "source": [
    "test = pd.read_csv('test.csv')"
   ]
  },
  {
   "cell_type": "code",
   "execution_count": 22,
   "id": "3c5549da",
   "metadata": {},
   "outputs": [],
   "source": [
    "# '임대보증금', '임대료'의 '-'를 0으로 변환\n",
    "test['임대보증금'].replace([np.nan, '-'], 0, inplace=True)\n",
    "test['임대보증금'] = test['임대보증금'].astype('int64')\n",
    "test['임대보증금'].replace(0, np.nan, inplace=True)\n",
    "test['임대료'].replace([np.nan, '-'], 0, inplace=True)\n",
    "test['임대료'] = test['임대료'].astype('int64')\n",
    "test['임대료'].replace(0, np.nan, inplace=True)"
   ]
  },
  {
   "cell_type": "code",
   "execution_count": 23,
   "id": "c1665da6",
   "metadata": {},
   "outputs": [],
   "source": [
    "# '상가수' 변수 생성\n",
    "store = test[test['임대건물구분'] == '상가'].groupby(['단지코드'], as_index=False).agg({'임대건물구분':'count'})\n",
    "store.columns = ['단지코드', '상가수']\n",
    "test = pd.merge(test, store, how='left', on='단지코드')\n",
    "test['상가수'] = test['상가수'].fillna(0)"
   ]
  },
  {
   "cell_type": "code",
   "execution_count": 24,
   "id": "7ea6cd5d",
   "metadata": {},
   "outputs": [],
   "source": [
    "# '단지내주차면수', '등록차량수'에서 '상가수'만큼 제외\n",
    "test['단지내주차면수'] = test['단지내주차면수'] - test['상가수']"
   ]
  },
  {
   "cell_type": "code",
   "execution_count": 25,
   "id": "27d026a9",
   "metadata": {},
   "outputs": [],
   "source": [
    "# '임대건물구분 == 상가' 데이터 제거\n",
    "test = test[test['임대건물구분'] != '상가'].reset_index(drop=True)"
   ]
  },
  {
   "cell_type": "code",
   "execution_count": 26,
   "id": "c0450ae9",
   "metadata": {},
   "outputs": [],
   "source": [
    "# '총세대수 = SUM(전용면적별세대수)' 변수 재생성\n",
    "noh_by_area = test.groupby('단지코드', as_index=False).agg({'전용면적별세대수':'sum'})\n",
    "noh_by_area.columns = ['단지코드', '총세대수']\n",
    "test = pd.merge(left=test, right=noh_by_area, how='left', on='단지코드')\n",
    "test.drop(['총세대수_x'], axis=1, inplace=True)\n",
    "test.rename(columns={'총세대수_y':'총세대수'}, inplace=True)"
   ]
  },
  {
   "cell_type": "code",
   "execution_count": 27,
   "id": "b1df69fe",
   "metadata": {},
   "outputs": [
    {
     "name": "stdout",
     "output_type": "stream",
     "text": [
      "7.000000000000001\n"
     ]
    }
   ],
   "source": [
    "# '단지명' 변수 생성\n",
    "data = pd.read_csv('임대주택_단지_조회.csv')\n",
    "data.drop(['순번', '전체건수', '최초입주년월'], axis=1, inplace=True)\n",
    "data['전용면적'] = np.round(data['전용면적'], 2)\n",
    "data['지역'] = ['세종특별자치시' if i[0] == '세종시' else i[0] for i in data['지역'].str.split()]\n",
    "\n",
    "noh_by_area = data.groupby('단지명', as_index=False).agg({'전용면적별세대수':'sum'})\n",
    "noh_by_area.columns = ['단지명', '총세대수']\n",
    "data = pd.merge(left=data, right=noh_by_area, how='left', on='단지명')\n",
    "data.drop(['총세대수_x'], axis=1, inplace=True)\n",
    "data.rename(columns={'총세대수_y':'총세대수'}, inplace=True)\n",
    "\n",
    "test_wo_dup = test.drop_duplicates(subset=['단지코드'])[['단지코드', '지역', '총세대수']].reset_index(drop=True)\n",
    "idx = np.column_stack([test.drop_duplicates(subset=['단지코드'])[['지역', '총세대수']].reset_index(drop=True), range(len(test_wo_dup))])\n",
    "\n",
    "test_wo_dup['단지명'] = None\n",
    "for i, j, k in idx:\n",
    "    if data.loc[(data['지역'] == i) & (data['총세대수'] == j), '단지명'].nunique() == 1:\n",
    "        test_wo_dup.iloc[k, test_wo_dup.columns.get_loc('단지명')] = data.loc[(data['지역'] == i) & (data['총세대수'] == j), '단지명'].unique()[0]\n",
    "\n",
    "null = test_wo_dup[test_wo_dup['단지명'].isnull()].reset_index(drop=True)\n",
    "data_hhset = data[['단지명', '전용면적']].groupby(['단지명'])['전용면적'].apply(list)\n",
    "data_hhset = pd.DataFrame(data_hhset)\n",
    "data_hhset = pd.merge(data_hhset, data[['단지명', '지역', '총세대수']], on='단지명')\n",
    "data_hhset = data_hhset[['단지명', '지역', '총세대수', '전용면적']]\n",
    "data_hhset = data_hhset.drop_duplicates(['단지명']).reset_index(drop=True)\n",
    "\n",
    "idx = null['단지코드'].unique()\n",
    "for i in range(len(idx)):\n",
    "    areaset_test = set(test.loc[test['단지코드'] == idx[i], '전용면적'])\n",
    "    region = null.loc[i, '지역']\n",
    "    total_hh2 = null.loc[i,'총세대수']\n",
    "    same = data_hhset.loc[(data_hhset['지역'] == region) & (data_hhset['총세대수'] == total_hh2)].reset_index(drop=True)\n",
    "    diff = []\n",
    "    if len(same.index) != 0:\n",
    "        for j in range(len(same)):\n",
    "            areaset_data = set(same.loc[j, '전용면적'])\n",
    "            diff.append(len(areaset_test - areaset_data))\n",
    "        null.loc[i, '단지명'] = same.loc[np.argmin(diff), '단지명']\n",
    "\n",
    "\n",
    "for i in range(len(test_wo_dup)):\n",
    "    if test_wo_dup.iloc[i, test_wo_dup.columns.get_loc('단지명')] == None:\n",
    "        test_wo_dup.iloc[i, test_wo_dup.columns.get_loc('단지명')] = null.loc[null['단지코드'] == test_wo_dup.iloc[i, test_wo_dup.columns.get_loc('단지코드')], '단지명']\n",
    "    else:\n",
    "        pass\n",
    "\n",
    "test = pd.merge(test, test_wo_dup[['단지코드', '단지명']], how='left', on='단지코드')\n",
    "\n",
    "code_name = test['단지코드'].unique()\n",
    "for i in range(len(code_name)):\n",
    "    dat = test.loc[test['단지코드'] == code_name[i],:]\n",
    "    if (dat.shape[0] != dat.단지명.isnull().sum()) & (dat.shape[0] != dat.단지명.notnull().sum()):\n",
    "        test.loc[test['단지코드'] == code_name[i],'단지명'] = dat.loc[dat['단지명'].notnull(),'단지명']\n",
    "    else:\n",
    "        pass\n",
    "\n",
    "test.reset_index(drop=True, inplace=True)\n",
    "\n",
    "print(round(test.loc[test['단지명'].isnull(), '단지코드'].nunique()/test['단지코드'].nunique(), 2)*100)"
   ]
  },
  {
   "cell_type": "code",
   "execution_count": 28,
   "id": "6cb85611",
   "metadata": {},
   "outputs": [],
   "source": [
    "# '자격유형', '공급유형' 변수 재생성 (Major Voting)\n",
    "max_code = test[['단지코드', '전용면적별세대수']].groupby(['단지코드']).max()\n",
    "max_code = pd.merge(max_code, test, on=['단지코드', '전용면적별세대수'])\n",
    "\n",
    "code_name = test['단지코드'].unique()\n",
    "qualify = test['자격유형'].unique()\n",
    "result_qualify = pd.DataFrame(columns=['단지코드', '자격유형'])\n",
    "result_qualify['단지코드'] = test['단지코드'].unique()\n",
    "\n",
    "for i in range(len(code_name)):\n",
    "    dat= test[test['단지코드']==code_name[i]]\n",
    "    num_qualified=[0,0,0,0,0, 0,0,0,0,0, 0,0,0,0,0]\n",
    "    \n",
    "    for j in range(len(qualify)):\n",
    "        num_qualified[j]=sum(dat.loc[dat['자격유형']==qualify[j],'전용면적별세대수'])\n",
    "    \n",
    "    result_qualify.loc[result_qualify['단지코드']== code_name[i],'자격유형']=qualify[num_qualified.index(max(num_qualified))]\n",
    "\n",
    "code_name= test.단지코드.unique()\n",
    "supply= test.공급유형.unique()\n",
    "result_supply = pd.DataFrame( columns=['단지코드', '공급유형'])\n",
    "result_supply['단지코드']=test.단지코드.unique()\n",
    "\n",
    "for i in range(len(code_name)):\n",
    "    dat= test[test['단지코드']==code_name[i]]\n",
    "    num_supplied=[0,0,0,0,0, 0,0,0,0,0]\n",
    "    \n",
    "    for j in range(len(supply)):\n",
    "        num_supplied[j]=sum(dat.loc[dat['공급유형']==supply[j],'전용면적별세대수'])\n",
    "\n",
    "    result_supply.loc[result_supply['단지코드']== code_name[i],'공급유형']=supply[num_supplied.index(max(num_supplied))]\n",
    "\n",
    "result = pd.merge(result_supply, result_qualify, on='단지코드')\n",
    "test = pd.merge(test, result, on='단지코드')\n",
    "test.drop(['공급유형_x', '자격유형_x'], axis=1, inplace=True)\n",
    "test.rename(columns={'공급유형_y':'공급유형', '자격유형_y':'자격유형'}, inplace=True)"
   ]
  },
  {
   "cell_type": "code",
   "execution_count": 29,
   "id": "9bf73fdd",
   "metadata": {},
   "outputs": [],
   "source": [
    "test.reset_index(inplace=True, drop=True)"
   ]
  },
  {
   "cell_type": "code",
   "execution_count": 30,
   "id": "55be2001",
   "metadata": {},
   "outputs": [],
   "source": [
    "# '임대료' Imputation\n",
    "from impyute.imputation.cs import mice\n",
    "test['임대료']=test['임대료'].astype('float64')\n",
    "test_num = test.loc[:,test.dtypes!=object]\n",
    "test_imp = mice(test_num.values)\n",
    "test_imp = pd.DataFrame(test_imp)\n",
    "test_imp.columns = test_num.columns\n",
    "test['임대료'] = test_imp['임대료']"
   ]
  },
  {
   "cell_type": "code",
   "execution_count": 31,
   "id": "8e32551e",
   "metadata": {},
   "outputs": [],
   "source": [
    "# '소형세대', '중형세대', '대형세대' 변수 생성\n",
    "size = pd.DataFrame(columns=['단지코드','소형세대', '중형세대','대형세대'])\n",
    "size['단지코드'] = test.단지코드.unique()\n",
    "code = size['단지코드']\n",
    "\n",
    "for i in range(len(code)):\n",
    "    house = test[test['단지코드'] == code[i]]\n",
    "    size.loc[i, '소형세대'] = sum(house.loc[house['전용면적'] < 40,'전용면적별세대수'])\n",
    "    size.loc[i, '중형세대'] = sum(house.loc[(house['전용면적'] >= 40) & (house['전용면적'] < 80) ,'전용면적별세대수'])\n",
    "    size.loc[i, '대형세대'] = sum(house.loc[house['전용면적'] >= 80,'전용면적별세대수'])\n",
    "\n",
    "size['소형세대'] = size['소형세대'].astype('int64')\n",
    "size['중형세대'] = size['중형세대'].astype('int64')\n",
    "size['대형세대'] = size['대형세대'].astype('int64')\n",
    "\n",
    "test = pd.merge(test, size, on='단지코드', how='left')\n",
    "test['소형세대'] = test['소형세대'] / test['총세대수']\n",
    "test['중형세대'] = test['중형세대'] / test['총세대수']\n",
    "test['대형세대'] = test['대형세대'] / test['총세대수']"
   ]
  },
  {
   "cell_type": "code",
   "execution_count": 32,
   "id": "18245e2d",
   "metadata": {},
   "outputs": [],
   "source": [
    "# '임대료' 변수 재생성 (전용면적별세대수 고려)\n",
    "test['임대료'] = test['전용면적별세대수'] * test['임대료']\n",
    "rental_fee = test.groupby('단지코드', as_index=False).agg({'임대료':'sum'})\n",
    "test = pd.merge(test, rental_fee, on='단지코드')\n",
    "test.drop(['임대료_x'], axis=1, inplace=True)\n",
    "test.rename(columns={'임대료_y':'임대료'}, inplace=True)\n",
    "test['임대료'] = round(test['임대료']/test['총세대수'], 2)"
   ]
  },
  {
   "cell_type": "code",
   "execution_count": 33,
   "id": "2cb59a07",
   "metadata": {},
   "outputs": [],
   "source": [
    "test['도보 10분거리 내 지하철역 수(환승노선 수 반영)'] = test['도보 10분거리 내 지하철역 수(환승노선 수 반영)'].fillna(0)"
   ]
  },
  {
   "cell_type": "code",
   "execution_count": 34,
   "id": "e0d64ab8",
   "metadata": {
    "scrolled": true
   },
   "outputs": [],
   "source": [
    "test.drop(['임대건물구분', '전용면적', '전용면적별세대수', '임대보증금'], axis=1, inplace=True)"
   ]
  },
  {
   "cell_type": "code",
   "execution_count": 35,
   "id": "022dfe9f",
   "metadata": {},
   "outputs": [],
   "source": [
    "test = test.drop_duplicates().reset_index(drop=True)"
   ]
  },
  {
   "cell_type": "code",
   "execution_count": 36,
   "id": "9e244b61",
   "metadata": {
    "scrolled": true
   },
   "outputs": [
    {
     "data": {
      "text/html": [
       "<div>\n",
       "<style scoped>\n",
       "    .dataframe tbody tr th:only-of-type {\n",
       "        vertical-align: middle;\n",
       "    }\n",
       "\n",
       "    .dataframe tbody tr th {\n",
       "        vertical-align: top;\n",
       "    }\n",
       "\n",
       "    .dataframe thead th {\n",
       "        text-align: right;\n",
       "    }\n",
       "</style>\n",
       "<table border=\"1\" class=\"dataframe\">\n",
       "  <thead>\n",
       "    <tr style=\"text-align: right;\">\n",
       "      <th></th>\n",
       "      <th>단지코드</th>\n",
       "      <th>지역</th>\n",
       "      <th>공가수</th>\n",
       "      <th>도보 10분거리 내 지하철역 수(환승노선 수 반영)</th>\n",
       "      <th>도보 10분거리 내 버스정류장 수</th>\n",
       "      <th>단지내주차면수</th>\n",
       "      <th>상가수</th>\n",
       "      <th>총세대수</th>\n",
       "      <th>단지명</th>\n",
       "      <th>공급유형</th>\n",
       "      <th>자격유형</th>\n",
       "      <th>소형세대</th>\n",
       "      <th>중형세대</th>\n",
       "      <th>대형세대</th>\n",
       "      <th>임대료</th>\n",
       "    </tr>\n",
       "  </thead>\n",
       "  <tbody>\n",
       "    <tr>\n",
       "      <th>0</th>\n",
       "      <td>C1072</td>\n",
       "      <td>경기도</td>\n",
       "      <td>14.0</td>\n",
       "      <td>0.0</td>\n",
       "      <td>2.0</td>\n",
       "      <td>683.0</td>\n",
       "      <td>0.0</td>\n",
       "      <td>754</td>\n",
       "      <td>광명역세권(03,택) 2단지</td>\n",
       "      <td>국민임대</td>\n",
       "      <td>H</td>\n",
       "      <td>0.153846</td>\n",
       "      <td>0.846154</td>\n",
       "      <td>0.0</td>\n",
       "      <td>264048.25</td>\n",
       "    </tr>\n",
       "    <tr>\n",
       "      <th>1</th>\n",
       "      <td>C1128</td>\n",
       "      <td>경기도</td>\n",
       "      <td>9.0</td>\n",
       "      <td>0.0</td>\n",
       "      <td>3.0</td>\n",
       "      <td>1216.0</td>\n",
       "      <td>0.0</td>\n",
       "      <td>1354</td>\n",
       "      <td>광명역세권(03,택) 1단지</td>\n",
       "      <td>국민임대</td>\n",
       "      <td>H</td>\n",
       "      <td>0.310192</td>\n",
       "      <td>0.689808</td>\n",
       "      <td>0.0</td>\n",
       "      <td>251290.04</td>\n",
       "    </tr>\n",
       "    <tr>\n",
       "      <th>2</th>\n",
       "      <td>C1456</td>\n",
       "      <td>부산광역시</td>\n",
       "      <td>18.0</td>\n",
       "      <td>0.0</td>\n",
       "      <td>16.0</td>\n",
       "      <td>547.0</td>\n",
       "      <td>0.0</td>\n",
       "      <td>619</td>\n",
       "      <td>부산안락3(06,주)4단지 4단지</td>\n",
       "      <td>국민임대</td>\n",
       "      <td>A</td>\n",
       "      <td>0.399031</td>\n",
       "      <td>0.600969</td>\n",
       "      <td>0.0</td>\n",
       "      <td>224706.19</td>\n",
       "    </tr>\n",
       "    <tr>\n",
       "      <th>3</th>\n",
       "      <td>C1840</td>\n",
       "      <td>전라북도</td>\n",
       "      <td>7.0</td>\n",
       "      <td>0.0</td>\n",
       "      <td>3.0</td>\n",
       "      <td>543.0</td>\n",
       "      <td>0.0</td>\n",
       "      <td>593</td>\n",
       "      <td>익산장신(03,주2) 3단지</td>\n",
       "      <td>국민임대</td>\n",
       "      <td>A</td>\n",
       "      <td>0.564924</td>\n",
       "      <td>0.435076</td>\n",
       "      <td>0.0</td>\n",
       "      <td>120287.54</td>\n",
       "    </tr>\n",
       "    <tr>\n",
       "      <th>4</th>\n",
       "      <td>C1332</td>\n",
       "      <td>경기도</td>\n",
       "      <td>11.0</td>\n",
       "      <td>0.0</td>\n",
       "      <td>2.0</td>\n",
       "      <td>1112.0</td>\n",
       "      <td>0.0</td>\n",
       "      <td>1297</td>\n",
       "      <td>성남판교 봇들 6단지 (A18-2BL)</td>\n",
       "      <td>국민임대</td>\n",
       "      <td>H</td>\n",
       "      <td>0.327679</td>\n",
       "      <td>0.672321</td>\n",
       "      <td>0.0</td>\n",
       "      <td>284193.62</td>\n",
       "    </tr>\n",
       "  </tbody>\n",
       "</table>\n",
       "</div>"
      ],
      "text/plain": [
       "    단지코드     지역   공가수  도보 10분거리 내 지하철역 수(환승노선 수 반영)  도보 10분거리 내 버스정류장 수  \\\n",
       "0  C1072    경기도  14.0                           0.0                 2.0   \n",
       "1  C1128    경기도   9.0                           0.0                 3.0   \n",
       "2  C1456  부산광역시  18.0                           0.0                16.0   \n",
       "3  C1840   전라북도   7.0                           0.0                 3.0   \n",
       "4  C1332    경기도  11.0                           0.0                 2.0   \n",
       "\n",
       "   단지내주차면수  상가수  총세대수                    단지명  공급유형 자격유형      소형세대      중형세대  \\\n",
       "0    683.0  0.0   754        광명역세권(03,택) 2단지  국민임대    H  0.153846  0.846154   \n",
       "1   1216.0  0.0  1354        광명역세권(03,택) 1단지  국민임대    H  0.310192  0.689808   \n",
       "2    547.0  0.0   619     부산안락3(06,주)4단지 4단지  국민임대    A  0.399031  0.600969   \n",
       "3    543.0  0.0   593        익산장신(03,주2) 3단지  국민임대    A  0.564924  0.435076   \n",
       "4   1112.0  0.0  1297  성남판교 봇들 6단지 (A18-2BL)  국민임대    H  0.327679  0.672321   \n",
       "\n",
       "   대형세대        임대료  \n",
       "0   0.0  264048.25  \n",
       "1   0.0  251290.04  \n",
       "2   0.0  224706.19  \n",
       "3   0.0  120287.54  \n",
       "4   0.0  284193.62  "
      ]
     },
     "execution_count": 36,
     "metadata": {},
     "output_type": "execute_result"
    }
   ],
   "source": [
    "test.head()"
   ]
  },
  {
   "cell_type": "markdown",
   "id": "713e5f24",
   "metadata": {},
   "source": [
    "---"
   ]
  },
  {
   "cell_type": "markdown",
   "id": "ddb4daca",
   "metadata": {},
   "source": [
    "# Baseline"
   ]
  },
  {
   "cell_type": "code",
   "execution_count": 37,
   "id": "d74c0fe9",
   "metadata": {},
   "outputs": [],
   "source": [
    "train_dummy = pd.get_dummies(train, columns=['지역'], drop_first=True)"
   ]
  },
  {
   "cell_type": "code",
   "execution_count": 38,
   "id": "36be8f82",
   "metadata": {},
   "outputs": [
    {
     "name": "stderr",
     "output_type": "stream",
     "text": [
      "/Library/Frameworks/Python.framework/Versions/3.9/lib/python3.9/site-packages/pandas/core/frame.py:4308: SettingWithCopyWarning: \n",
      "A value is trying to be set on a copy of a slice from a DataFrame\n",
      "\n",
      "See the caveats in the documentation: https://pandas.pydata.org/pandas-docs/stable/user_guide/indexing.html#returning-a-view-versus-a-copy\n",
      "  return super().drop(\n"
     ]
    }
   ],
   "source": [
    "X = train_dummy.drop(['단지코드', '단지명', '등록차량수', '공급유형', '자격유형'], axis=1)\n",
    "y = train_dummy['등록차량수']\n",
    "\n",
    "from sklearn.model_selection import train_test_split\n",
    "X_train, X_test, y_train, y_test = train_test_split(X, y, test_size=0.3, random_state=0)\n",
    "store = X_test['상가수']\n",
    "X_train.drop(['상가수'], axis=1, inplace=True)\n",
    "X_test.drop(['상가수'], axis=1, inplace=True)"
   ]
  },
  {
   "cell_type": "code",
   "execution_count": 39,
   "id": "39ac2a97",
   "metadata": {},
   "outputs": [],
   "source": [
    "from sklearn.ensemble import RandomForestRegressor\n",
    "rf = RandomForestRegressor(random_state=0)\n",
    "rf.fit(X_train, y_train)\n",
    "y_pred = rf.predict(X_test) + store"
   ]
  },
  {
   "cell_type": "code",
   "execution_count": 40,
   "id": "f7a3bbbc",
   "metadata": {},
   "outputs": [
    {
     "data": {
      "text/plain": [
       "121.06927927927929"
      ]
     },
     "execution_count": 40,
     "metadata": {},
     "output_type": "execute_result"
    }
   ],
   "source": [
    "from sklearn.metrics import mean_absolute_error as mae\n",
    "mae(y_test, y_pred)"
   ]
  }
 ],
 "metadata": {
  "kernelspec": {
   "display_name": "Python 3",
   "language": "python",
   "name": "python3"
  },
  "language_info": {
   "codemirror_mode": {
    "name": "ipython",
    "version": 3
   },
   "file_extension": ".py",
   "mimetype": "text/x-python",
   "name": "python",
   "nbconvert_exporter": "python",
   "pygments_lexer": "ipython3",
   "version": "3.9.5"
  }
 },
 "nbformat": 4,
 "nbformat_minor": 5
}
