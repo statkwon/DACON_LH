{
 "cells": [
  {
   "cell_type": "code",
   "execution_count": 1,
   "id": "3b4f6d25",
   "metadata": {},
   "outputs": [],
   "source": [
    "import numpy as np\n",
    "import pandas as pd\n",
    "import matplotlib as mpl ; mpl.rcParams['axes.unicode_minus'] = False\n",
    "import matplotlib.pyplot as plt ; plt.rcParams['font.family'] = 'AppleGothic'\n",
    "import seaborn as sns"
   ]
  },
  {
   "cell_type": "markdown",
   "id": "0fdeef27",
   "metadata": {},
   "source": [
    "---"
   ]
  },
  {
   "cell_type": "code",
   "execution_count": 2,
   "id": "1fe4aff1",
   "metadata": {},
   "outputs": [
    {
     "name": "stdout",
     "output_type": "stream",
     "text": [
      "(2869, 15)\n"
     ]
    }
   ],
   "source": [
    "# Train Data 불러오기 및 오류 데이터 제거\n",
    "train = pd.read_csv('train.csv')\n",
    "train_error = ['C2085', 'C1397', 'C2431', 'C1649', 'C1036', 'C1095', 'C2051', 'C1218', 'C1894', 'C2483', 'C1502', 'C1988']\n",
    "train = train[~train['단지코드'].isin(train_error)].reset_index(drop=True)\n",
    "print(train.shape)"
   ]
  },
  {
   "cell_type": "code",
   "execution_count": 3,
   "id": "f5532740",
   "metadata": {},
   "outputs": [
    {
     "name": "stdout",
     "output_type": "stream",
     "text": [
      "(1008, 14)\n"
     ]
    }
   ],
   "source": [
    "# Test Data 불러오기 및 오류 데이터 제거\n",
    "test = pd.read_csv('test.csv')\n",
    "test_error = ['C2675', 'C2335', 'C1327']\n",
    "test = test[~test['단지코드'].isin(test_error)].reset_index(drop=True)\n",
    "print(test.shape)"
   ]
  },
  {
   "cell_type": "markdown",
   "id": "026b4cf5",
   "metadata": {},
   "source": [
    "---"
   ]
  },
  {
   "cell_type": "code",
   "execution_count": 4,
   "id": "de7b5bbe",
   "metadata": {
    "scrolled": true
   },
   "outputs": [
    {
     "name": "stdout",
     "output_type": "stream",
     "text": [
      "[1]\n"
     ]
    }
   ],
   "source": [
    "print(train.loc[train['임대건물구분'] == '상가', '전용면적별세대수'].unique())"
   ]
  },
  {
   "cell_type": "markdown",
   "id": "483152e6",
   "metadata": {},
   "source": [
    "$\\Rightarrow$ 임대건물구분이 '상가'인 경우는 무조건 한 세대"
   ]
  },
  {
   "cell_type": "code",
   "execution_count": 5,
   "id": "0dd4a38c",
   "metadata": {},
   "outputs": [
    {
     "name": "stdout",
     "output_type": "stream",
     "text": [
      "(2307, 15)\n"
     ]
    }
   ],
   "source": [
    "# Train Data의 '임대건물구분 == 상가' 데이터 제거\n",
    "train = train[train['임대건물구분'] != '상가'].reset_index(drop=True)\n",
    "print(train.shape)"
   ]
  },
  {
   "cell_type": "code",
   "execution_count": 6,
   "id": "8aa687c7",
   "metadata": {},
   "outputs": [
    {
     "name": "stdout",
     "output_type": "stream",
     "text": [
      "(831, 14)\n"
     ]
    }
   ],
   "source": [
    "# Test Data의 '임대건물구분 == 상가' 데이터 제거\n",
    "test = test[test['임대건물구분'] != '상가'].reset_index(drop=True)\n",
    "print(test.shape)"
   ]
  },
  {
   "cell_type": "markdown",
   "id": "83b2cff6",
   "metadata": {},
   "source": [
    "---"
   ]
  },
  {
   "cell_type": "code",
   "execution_count": 7,
   "id": "93e9c304",
   "metadata": {},
   "outputs": [
    {
     "name": "stdout",
     "output_type": "stream",
     "text": [
      "(2307, 16)\n"
     ]
    }
   ],
   "source": [
    "# Train Data의 '전용면적별세대수합' 변수 생성\n",
    "noh_by_area = train.groupby('단지코드', as_index=False).agg({'전용면적별세대수':'sum'}).rename(columns={'전용면적별세대수':'전용면적별세대수합'})\n",
    "train = pd.merge(left=train, right=noh_by_area, how='left', on='단지코드')\n",
    "print(train.shape)"
   ]
  },
  {
   "cell_type": "code",
   "execution_count": 8,
   "id": "01f93ead",
   "metadata": {},
   "outputs": [
    {
     "name": "stdout",
     "output_type": "stream",
     "text": [
      "(831, 15)\n"
     ]
    }
   ],
   "source": [
    "# Test Data의 '전용면적별세대수합' 변수 생성\n",
    "noh_by_area = test.groupby('단지코드', as_index=False).agg({'전용면적별세대수':'sum'}).rename(columns={'전용면적별세대수':'전용면적별세대수합'})\n",
    "test = pd.merge(left=test, right=noh_by_area, how='left', on='단지코드')\n",
    "print(test.shape)"
   ]
  },
  {
   "cell_type": "markdown",
   "id": "69b1ebb3",
   "metadata": {},
   "source": [
    "---"
   ]
  },
  {
   "cell_type": "code",
   "execution_count": 9,
   "id": "a28a6523",
   "metadata": {},
   "outputs": [
    {
     "name": "stdout",
     "output_type": "stream",
     "text": [
      "{'서울특별시'}\n",
      "{'O', 'F', 'B'}\n",
      "{'공공임대(5년)', '장기전세', '공공분양'}\n"
     ]
    }
   ],
   "source": [
    "print(set(train['지역'].unique()) - set(test['지역'].unique()))\n",
    "print(set(train['자격유형'].unique()) - set(test['자격유형'].unique()))\n",
    "print(set(train['공급유형'].unique()) - set(test['공급유형'].unique()))"
   ]
  },
  {
   "cell_type": "code",
   "execution_count": 10,
   "id": "fb94ec7f",
   "metadata": {},
   "outputs": [
    {
     "name": "stdout",
     "output_type": "stream",
     "text": [
      "(2222, 16)\n"
     ]
    }
   ],
   "source": [
    "# Test Data에 없는 카테고리 Train Data에서 제거\n",
    "train = train[train['지역'] != '서울특별시'].reset_index(drop=True)\n",
    "train = train[~train['자격유형'].isin(['F', 'O', 'B'])].reset_index(drop=True)\n",
    "train = train[~train['공급유형'].isin(['공공임대(5년)', '공공분양', '장기전세'])].reset_index(drop=True)\n",
    "print(train.shape)"
   ]
  },
  {
   "cell_type": "markdown",
   "id": "5578239a",
   "metadata": {},
   "source": [
    "---"
   ]
  },
  {
   "cell_type": "code",
   "execution_count": 11,
   "id": "3d710028",
   "metadata": {},
   "outputs": [],
   "source": [
    "# Train Data의 '임대보증금', '임대료'의 '-'를 0으로 변환\n",
    "train['임대보증금'] = train['임대보증금'].replace('-', 0).astype('float64')\n",
    "train['임대료'] = train['임대료'].replace('-', 0).astype('float64')"
   ]
  },
  {
   "cell_type": "code",
   "execution_count": 12,
   "id": "18339e1d",
   "metadata": {},
   "outputs": [],
   "source": [
    "# Test Data의 '임대보증금', '임대료'의 '-'를 0으로 변환\n",
    "test['임대보증금'] = test['임대보증금'].replace('-', 0).astype('float64')\n",
    "test['임대료'] = test['임대료'].replace('-', 0).astype('float64')"
   ]
  },
  {
   "cell_type": "markdown",
   "id": "7a05bbe0",
   "metadata": {},
   "source": [
    "---"
   ]
  },
  {
   "cell_type": "code",
   "execution_count": 13,
   "id": "a22f061d",
   "metadata": {},
   "outputs": [],
   "source": [
    "# Train Data의 '도보 10분거리 내 지하철역 수(환승노선 수 반영)' NA 0으로 대체\n",
    "train['도보 10분거리 내 지하철역 수(환승노선 수 반영)'] = train['도보 10분거리 내 지하철역 수(환승노선 수 반영)'].fillna(0)"
   ]
  },
  {
   "cell_type": "code",
   "execution_count": 14,
   "id": "026ba65a",
   "metadata": {},
   "outputs": [],
   "source": [
    "# Test Data의 '도보 10분거리 내 지하철역 수(환승노선 수 반영)' NA 0으로 대체\n",
    "test['도보 10분거리 내 지하철역 수(환승노선 수 반영)'] = test['도보 10분거리 내 지하철역 수(환승노선 수 반영)'].fillna(0)"
   ]
  },
  {
   "cell_type": "markdown",
   "id": "28220456",
   "metadata": {},
   "source": [
    "---"
   ]
  },
  {
   "cell_type": "code",
   "execution_count": 15,
   "id": "ccb625cc",
   "metadata": {},
   "outputs": [],
   "source": [
    "# Test Data의 '단지코드' NA 특정값으로 대체\n",
    "test.loc[test['단지코드'] == 'C2411', '자격유형'] = 'A'\n",
    "test.loc[test['단지코드'] == 'C2253', '자격유형'] = 'D'"
   ]
  },
  {
   "cell_type": "markdown",
   "id": "e6c4e39b",
   "metadata": {},
   "source": [
    "---"
   ]
  },
  {
   "cell_type": "code",
   "execution_count": 16,
   "id": "7fb31f01",
   "metadata": {},
   "outputs": [],
   "source": [
    "# Test Data의 '임대보증금', '임대료' NA 특정값으로 대체\n",
    "test.loc[test['임대보증금'].isnull(), '임대보증금'] = [5787000.0, 5787000.0, 11574000.0]\n",
    "test.loc[test['임대료'].isnull(), '임대료'] = [79980.0, 79980.0, 159960.0]"
   ]
  },
  {
   "cell_type": "markdown",
   "id": "e3673bb1",
   "metadata": {},
   "source": [
    "---"
   ]
  },
  {
   "cell_type": "code",
   "execution_count": 26,
   "id": "81e08346",
   "metadata": {},
   "outputs": [
    {
     "data": {
      "text/html": [
       "<div>\n",
       "<style scoped>\n",
       "    .dataframe tbody tr th:only-of-type {\n",
       "        vertical-align: middle;\n",
       "    }\n",
       "\n",
       "    .dataframe tbody tr th {\n",
       "        vertical-align: top;\n",
       "    }\n",
       "\n",
       "    .dataframe thead th {\n",
       "        text-align: right;\n",
       "    }\n",
       "</style>\n",
       "<table border=\"1\" class=\"dataframe\">\n",
       "  <thead>\n",
       "    <tr style=\"text-align: right;\">\n",
       "      <th></th>\n",
       "      <th>단지코드</th>\n",
       "      <th>총세대수</th>\n",
       "      <th>임대건물구분</th>\n",
       "      <th>지역</th>\n",
       "      <th>공급유형</th>\n",
       "      <th>전용면적</th>\n",
       "      <th>전용면적별세대수</th>\n",
       "      <th>공가수</th>\n",
       "      <th>자격유형</th>\n",
       "      <th>임대보증금</th>\n",
       "      <th>임대료</th>\n",
       "      <th>도보 10분거리 내 지하철역 수(환승노선 수 반영)</th>\n",
       "      <th>도보 10분거리 내 버스정류장 수</th>\n",
       "      <th>단지내주차면수</th>\n",
       "      <th>등록차량수</th>\n",
       "      <th>전용면적별세대수합</th>\n",
       "    </tr>\n",
       "  </thead>\n",
       "  <tbody>\n",
       "    <tr>\n",
       "      <th>0</th>\n",
       "      <td>C2515</td>\n",
       "      <td>545</td>\n",
       "      <td>아파트</td>\n",
       "      <td>경상남도</td>\n",
       "      <td>국민임대</td>\n",
       "      <td>33.48</td>\n",
       "      <td>276</td>\n",
       "      <td>17.0</td>\n",
       "      <td>A</td>\n",
       "      <td>9216000.0</td>\n",
       "      <td>82940.0</td>\n",
       "      <td>0.0</td>\n",
       "      <td>3.0</td>\n",
       "      <td>624.0</td>\n",
       "      <td>205.0</td>\n",
       "      <td>545</td>\n",
       "    </tr>\n",
       "    <tr>\n",
       "      <th>1</th>\n",
       "      <td>C2515</td>\n",
       "      <td>545</td>\n",
       "      <td>아파트</td>\n",
       "      <td>경상남도</td>\n",
       "      <td>국민임대</td>\n",
       "      <td>39.60</td>\n",
       "      <td>60</td>\n",
       "      <td>17.0</td>\n",
       "      <td>A</td>\n",
       "      <td>12672000.0</td>\n",
       "      <td>107130.0</td>\n",
       "      <td>0.0</td>\n",
       "      <td>3.0</td>\n",
       "      <td>624.0</td>\n",
       "      <td>205.0</td>\n",
       "      <td>545</td>\n",
       "    </tr>\n",
       "    <tr>\n",
       "      <th>2</th>\n",
       "      <td>C2515</td>\n",
       "      <td>545</td>\n",
       "      <td>아파트</td>\n",
       "      <td>경상남도</td>\n",
       "      <td>국민임대</td>\n",
       "      <td>39.60</td>\n",
       "      <td>20</td>\n",
       "      <td>17.0</td>\n",
       "      <td>A</td>\n",
       "      <td>12672000.0</td>\n",
       "      <td>107130.0</td>\n",
       "      <td>0.0</td>\n",
       "      <td>3.0</td>\n",
       "      <td>624.0</td>\n",
       "      <td>205.0</td>\n",
       "      <td>545</td>\n",
       "    </tr>\n",
       "    <tr>\n",
       "      <th>3</th>\n",
       "      <td>C2515</td>\n",
       "      <td>545</td>\n",
       "      <td>아파트</td>\n",
       "      <td>경상남도</td>\n",
       "      <td>국민임대</td>\n",
       "      <td>46.90</td>\n",
       "      <td>38</td>\n",
       "      <td>17.0</td>\n",
       "      <td>A</td>\n",
       "      <td>18433000.0</td>\n",
       "      <td>149760.0</td>\n",
       "      <td>0.0</td>\n",
       "      <td>3.0</td>\n",
       "      <td>624.0</td>\n",
       "      <td>205.0</td>\n",
       "      <td>545</td>\n",
       "    </tr>\n",
       "    <tr>\n",
       "      <th>4</th>\n",
       "      <td>C2515</td>\n",
       "      <td>545</td>\n",
       "      <td>아파트</td>\n",
       "      <td>경상남도</td>\n",
       "      <td>국민임대</td>\n",
       "      <td>46.90</td>\n",
       "      <td>19</td>\n",
       "      <td>17.0</td>\n",
       "      <td>A</td>\n",
       "      <td>18433000.0</td>\n",
       "      <td>149760.0</td>\n",
       "      <td>0.0</td>\n",
       "      <td>3.0</td>\n",
       "      <td>624.0</td>\n",
       "      <td>205.0</td>\n",
       "      <td>545</td>\n",
       "    </tr>\n",
       "  </tbody>\n",
       "</table>\n",
       "</div>"
      ],
      "text/plain": [
       "    단지코드  총세대수 임대건물구분    지역  공급유형   전용면적  전용면적별세대수   공가수 자격유형       임대보증금  \\\n",
       "0  C2515   545    아파트  경상남도  국민임대  33.48       276  17.0    A   9216000.0   \n",
       "1  C2515   545    아파트  경상남도  국민임대  39.60        60  17.0    A  12672000.0   \n",
       "2  C2515   545    아파트  경상남도  국민임대  39.60        20  17.0    A  12672000.0   \n",
       "3  C2515   545    아파트  경상남도  국민임대  46.90        38  17.0    A  18433000.0   \n",
       "4  C2515   545    아파트  경상남도  국민임대  46.90        19  17.0    A  18433000.0   \n",
       "\n",
       "        임대료  도보 10분거리 내 지하철역 수(환승노선 수 반영)  도보 10분거리 내 버스정류장 수  단지내주차면수  등록차량수  \\\n",
       "0   82940.0                           0.0                 3.0    624.0  205.0   \n",
       "1  107130.0                           0.0                 3.0    624.0  205.0   \n",
       "2  107130.0                           0.0                 3.0    624.0  205.0   \n",
       "3  149760.0                           0.0                 3.0    624.0  205.0   \n",
       "4  149760.0                           0.0                 3.0    624.0  205.0   \n",
       "\n",
       "   전용면적별세대수합  \n",
       "0        545  \n",
       "1        545  \n",
       "2        545  \n",
       "3        545  \n",
       "4        545  "
      ]
     },
     "execution_count": 26,
     "metadata": {},
     "output_type": "execute_result"
    }
   ],
   "source": [
    "train.head()"
   ]
  },
  {
   "cell_type": "code",
   "execution_count": 18,
   "id": "411b69c9",
   "metadata": {},
   "outputs": [
    {
     "data": {
      "text/plain": [
       "단지코드                            0\n",
       "총세대수                            0\n",
       "임대건물구분                          0\n",
       "지역                              0\n",
       "공급유형                            0\n",
       "전용면적                            0\n",
       "전용면적별세대수                        0\n",
       "공가수                             0\n",
       "자격유형                            0\n",
       "임대보증금                           0\n",
       "임대료                             0\n",
       "도보 10분거리 내 지하철역 수(환승노선 수 반영)    0\n",
       "도보 10분거리 내 버스정류장 수              0\n",
       "단지내주차면수                         0\n",
       "등록차량수                           0\n",
       "전용면적별세대수합                       0\n",
       "dtype: int64"
      ]
     },
     "execution_count": 18,
     "metadata": {},
     "output_type": "execute_result"
    }
   ],
   "source": [
    "train.isnull().sum()"
   ]
  },
  {
   "cell_type": "code",
   "execution_count": 19,
   "id": "eccad3f8",
   "metadata": {},
   "outputs": [
    {
     "data": {
      "text/html": [
       "<div>\n",
       "<style scoped>\n",
       "    .dataframe tbody tr th:only-of-type {\n",
       "        vertical-align: middle;\n",
       "    }\n",
       "\n",
       "    .dataframe tbody tr th {\n",
       "        vertical-align: top;\n",
       "    }\n",
       "\n",
       "    .dataframe thead th {\n",
       "        text-align: right;\n",
       "    }\n",
       "</style>\n",
       "<table border=\"1\" class=\"dataframe\">\n",
       "  <thead>\n",
       "    <tr style=\"text-align: right;\">\n",
       "      <th></th>\n",
       "      <th>단지코드</th>\n",
       "      <th>총세대수</th>\n",
       "      <th>임대건물구분</th>\n",
       "      <th>지역</th>\n",
       "      <th>공급유형</th>\n",
       "      <th>전용면적</th>\n",
       "      <th>전용면적별세대수</th>\n",
       "      <th>공가수</th>\n",
       "      <th>자격유형</th>\n",
       "      <th>임대보증금</th>\n",
       "      <th>임대료</th>\n",
       "      <th>도보 10분거리 내 지하철역 수(환승노선 수 반영)</th>\n",
       "      <th>도보 10분거리 내 버스정류장 수</th>\n",
       "      <th>단지내주차면수</th>\n",
       "      <th>전용면적별세대수합</th>\n",
       "    </tr>\n",
       "  </thead>\n",
       "  <tbody>\n",
       "    <tr>\n",
       "      <th>0</th>\n",
       "      <td>C1072</td>\n",
       "      <td>754</td>\n",
       "      <td>아파트</td>\n",
       "      <td>경기도</td>\n",
       "      <td>국민임대</td>\n",
       "      <td>39.79</td>\n",
       "      <td>116</td>\n",
       "      <td>14.0</td>\n",
       "      <td>H</td>\n",
       "      <td>22830000.0</td>\n",
       "      <td>189840.0</td>\n",
       "      <td>0.0</td>\n",
       "      <td>2.0</td>\n",
       "      <td>683.0</td>\n",
       "      <td>754</td>\n",
       "    </tr>\n",
       "    <tr>\n",
       "      <th>1</th>\n",
       "      <td>C1072</td>\n",
       "      <td>754</td>\n",
       "      <td>아파트</td>\n",
       "      <td>경기도</td>\n",
       "      <td>국민임대</td>\n",
       "      <td>46.81</td>\n",
       "      <td>30</td>\n",
       "      <td>14.0</td>\n",
       "      <td>A</td>\n",
       "      <td>36048000.0</td>\n",
       "      <td>249930.0</td>\n",
       "      <td>0.0</td>\n",
       "      <td>2.0</td>\n",
       "      <td>683.0</td>\n",
       "      <td>754</td>\n",
       "    </tr>\n",
       "    <tr>\n",
       "      <th>2</th>\n",
       "      <td>C1072</td>\n",
       "      <td>754</td>\n",
       "      <td>아파트</td>\n",
       "      <td>경기도</td>\n",
       "      <td>국민임대</td>\n",
       "      <td>46.90</td>\n",
       "      <td>112</td>\n",
       "      <td>14.0</td>\n",
       "      <td>H</td>\n",
       "      <td>36048000.0</td>\n",
       "      <td>249930.0</td>\n",
       "      <td>0.0</td>\n",
       "      <td>2.0</td>\n",
       "      <td>683.0</td>\n",
       "      <td>754</td>\n",
       "    </tr>\n",
       "    <tr>\n",
       "      <th>3</th>\n",
       "      <td>C1072</td>\n",
       "      <td>754</td>\n",
       "      <td>아파트</td>\n",
       "      <td>경기도</td>\n",
       "      <td>국민임대</td>\n",
       "      <td>46.90</td>\n",
       "      <td>120</td>\n",
       "      <td>14.0</td>\n",
       "      <td>H</td>\n",
       "      <td>36048000.0</td>\n",
       "      <td>249930.0</td>\n",
       "      <td>0.0</td>\n",
       "      <td>2.0</td>\n",
       "      <td>683.0</td>\n",
       "      <td>754</td>\n",
       "    </tr>\n",
       "    <tr>\n",
       "      <th>4</th>\n",
       "      <td>C1072</td>\n",
       "      <td>754</td>\n",
       "      <td>아파트</td>\n",
       "      <td>경기도</td>\n",
       "      <td>국민임대</td>\n",
       "      <td>51.46</td>\n",
       "      <td>60</td>\n",
       "      <td>14.0</td>\n",
       "      <td>H</td>\n",
       "      <td>43497000.0</td>\n",
       "      <td>296780.0</td>\n",
       "      <td>0.0</td>\n",
       "      <td>2.0</td>\n",
       "      <td>683.0</td>\n",
       "      <td>754</td>\n",
       "    </tr>\n",
       "  </tbody>\n",
       "</table>\n",
       "</div>"
      ],
      "text/plain": [
       "    단지코드  총세대수 임대건물구분   지역  공급유형   전용면적  전용면적별세대수   공가수 자격유형       임대보증금  \\\n",
       "0  C1072   754    아파트  경기도  국민임대  39.79       116  14.0    H  22830000.0   \n",
       "1  C1072   754    아파트  경기도  국민임대  46.81        30  14.0    A  36048000.0   \n",
       "2  C1072   754    아파트  경기도  국민임대  46.90       112  14.0    H  36048000.0   \n",
       "3  C1072   754    아파트  경기도  국민임대  46.90       120  14.0    H  36048000.0   \n",
       "4  C1072   754    아파트  경기도  국민임대  51.46        60  14.0    H  43497000.0   \n",
       "\n",
       "        임대료  도보 10분거리 내 지하철역 수(환승노선 수 반영)  도보 10분거리 내 버스정류장 수  단지내주차면수  \\\n",
       "0  189840.0                           0.0                 2.0    683.0   \n",
       "1  249930.0                           0.0                 2.0    683.0   \n",
       "2  249930.0                           0.0                 2.0    683.0   \n",
       "3  249930.0                           0.0                 2.0    683.0   \n",
       "4  296780.0                           0.0                 2.0    683.0   \n",
       "\n",
       "   전용면적별세대수합  \n",
       "0        754  \n",
       "1        754  \n",
       "2        754  \n",
       "3        754  \n",
       "4        754  "
      ]
     },
     "execution_count": 19,
     "metadata": {},
     "output_type": "execute_result"
    }
   ],
   "source": [
    "test.head()"
   ]
  },
  {
   "cell_type": "code",
   "execution_count": 20,
   "id": "0e5bb6ce",
   "metadata": {},
   "outputs": [
    {
     "data": {
      "text/plain": [
       "단지코드                            0\n",
       "총세대수                            0\n",
       "임대건물구분                          0\n",
       "지역                              0\n",
       "공급유형                            0\n",
       "전용면적                            0\n",
       "전용면적별세대수                        0\n",
       "공가수                             0\n",
       "자격유형                            0\n",
       "임대보증금                           0\n",
       "임대료                             0\n",
       "도보 10분거리 내 지하철역 수(환승노선 수 반영)    0\n",
       "도보 10분거리 내 버스정류장 수              0\n",
       "단지내주차면수                         0\n",
       "전용면적별세대수합                       0\n",
       "dtype: int64"
      ]
     },
     "execution_count": 20,
     "metadata": {},
     "output_type": "execute_result"
    }
   ],
   "source": [
    "test.isnull().sum()"
   ]
  },
  {
   "cell_type": "code",
   "execution_count": 27,
   "id": "b092d751",
   "metadata": {},
   "outputs": [
    {
     "name": "stdout",
     "output_type": "stream",
     "text": [
      "(2222, 16) (831, 15)\n"
     ]
    }
   ],
   "source": [
    "print(train.shape, test.shape)"
   ]
  }
 ],
 "metadata": {
  "kernelspec": {
   "display_name": "Python 3",
   "language": "python",
   "name": "python3"
  },
  "language_info": {
   "codemirror_mode": {
    "name": "ipython",
    "version": 3
   },
   "file_extension": ".py",
   "mimetype": "text/x-python",
   "name": "python",
   "nbconvert_exporter": "python",
   "pygments_lexer": "ipython3",
   "version": "3.9.5"
  }
 },
 "nbformat": 4,
 "nbformat_minor": 5
}
